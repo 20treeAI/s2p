{
 "metadata": {
  "name": "experiments_miss_decembre_2013"
 }, 
 "nbformat": 2, 
 "worksheets": [
  {
   "cells": [
    {
     "cell_type": "code", 
     "collapsed": false, 
     "input": [
      "cd /home/carlo/code/s2p"
     ], 
     "language": "python", 
     "outputs": [
      {
       "output_type": "stream", 
       "stream": "stdout", 
       "text": [
        "/home/carlo/code/s2p"
       ]
      }
     ], 
     "prompt_number": 1
    }, 
    {
     "cell_type": "code", 
     "collapsed": true, 
     "input": [
      "import main_script", 
      "import tile_composer", 
      "from python import rpc_model, rpc_utils, common", 
      "import numpy as np"
     ], 
     "language": "python", 
     "outputs": [], 
     "prompt_number": 2
    }, 
    {
     "cell_type": "code", 
     "collapsed": false, 
     "input": [
      "reload(main_script)"
     ], 
     "language": "python", 
     "outputs": [
      {
       "output_type": "pyout", 
       "prompt_number": 32, 
       "text": [
        "<module 'main_script' from 'main_script.py'>"
       ]
      }
     ], 
     "prompt_number": 32
    }, 
    {
     "cell_type": "code", 
     "collapsed": true, 
     "input": [
      "img_name = 'cannes'"
     ], 
     "language": "python", 
     "outputs": [], 
     "prompt_number": 38
    }, 
    {
     "cell_type": "code", 
     "collapsed": true, 
     "input": [
      "im1 = 'pleiades_data/images/%s/im01.tif' % img_name", 
      "im2 = 'pleiades_data/images/%s/im02.tif' % img_name", 
      "im3 = 'pleiades_data/images/%s/im03.tif' % img_name", 
      "rpc1 = 'pleiades_data/rpc/%s/rpc01.xml' % img_name", 
      "rpc2 = 'pleiades_data/rpc/%s/rpc02.xml' % img_name", 
      "rpc3 = 'pleiades_data/rpc/%s/rpc03.xml' % img_name", 
      "prev2 = 'pleiades_data/images/%s/prev02.jpg' % img_name"
     ], 
     "language": "python", 
     "outputs": [], 
     "prompt_number": 39
    }, 
    {
     "cell_type": "code", 
     "collapsed": false, 
     "input": [
      "RPC1 = rpc_model.RPCModel(rpc1)", 
      "RPC2 = rpc_model.RPCModel(rpc2)", 
      "RPC3 = rpc_model.RPCModel(rpc3)"
     ], 
     "language": "python", 
     "outputs": [], 
     "prompt_number": 40
    }, 
    {
     "cell_type": "code", 
     "collapsed": false, 
     "input": [
      "x, y, w, h = common.get_roi_coordinates(RPC2, prev2)", 
      "crop = common.image_crop_TIFF(im2, x, y, w, h)", 
      "common.run('v %s &' % crop)"
     ], 
     "language": "python", 
     "outputs": [
      {
       "output_type": "stream", 
       "stream": "stdout", 
       "text": [
        "imprintf \"%w %h\" 'pleiades_data/images/cannes/prev02.jpg' > /tmp/s2p_j0RotQ.txt", 
        "/home/carlo/code/s2p/python/viewGL.py 'pleiades_data/images/cannes/prev02.jpg' > /tmp/s2p_DFN0X9.txt", 
        "gdal_translate -srcwin 17339 22090 704 792 'pleiades_data/images/cannes/im02.tif' '/tmp/s2p_iEkejw.tif'"
       ]
      }, 
      {
       "output_type": "stream", 
       "stream": "stdout", 
       "text": [
        "", 
        "tiffcp /tmp/s2p_iEkejw.tif /tmp/s2p_xFgHGe.tif 2> /dev/null"
       ]
      }, 
      {
       "output_type": "stream", 
       "stream": "stdout", 
       "text": [
        "", 
        "v /tmp/s2p_xFgHGe.tif &"
       ]
      }
     ], 
     "prompt_number": 43
    }, 
    {
     "cell_type": "markdown", 
     "source": [
      "### Saint-Sernin"
     ]
    }, 
    {
     "cell_type": "code", 
     "collapsed": false, 
     "input": [
      "exp_name = 'saint_sernin'", 
      "x, y, w, h = 19451, 14072, 572, 527"
     ], 
     "language": "python", 
     "outputs": [], 
     "prompt_number": 36
    }, 
    {
     "cell_type": "code", 
     "collapsed": true, 
     "input": [
      "height_map = main_script.process_triplet(img_name, exp_name, x, y, w, h)", 
      "main_script.generate_cloud(img_name, exp_name, x, y, w, h, height_map, 2)", 
      "common.run('CloudCompare /tmp/%s/cloud.ply &' % exp_name)"
     ], 
     "language": "python", 
     "outputs": [
      {
       "output_type": "stream", 
       "stream": "stdout", 
       "text": [
        "ROI x, y, w, h = 19451, 14072, 572, 527", 
        "mkdir /tmp/saint_sernin", 
        "mkdir /tmp/saint_sernin/saint_sernin_left", 
        "ROI x, y, w, h = 19451, 14072, 572, 527", 
        "gdal_translate -srcwin 19451 14072 572 527 'pleiades_data/images/toulouse/im02.tif' '/tmp/s2p_j6T7vO.tif'"
       ]
      }, 
      {
       "output_type": "stream", 
       "stream": "stdout", 
       "text": [
        "", 
        "tiffcp /tmp/s2p_j6T7vO.tif /tmp/s2p_JXvidT.tif 2> /dev/null"
       ]
      }, 
      {
       "output_type": "stream", 
       "stream": "stdout", 
       "text": [
        "", 
        "gdal_translate -srcwin 19459 13305 573 591 'pleiades_data/images/toulouse/im01.tif' '/tmp/s2p_F4N3zT.tif'", 
        "tiffcp /tmp/s2p_F4N3zT.tif /tmp/s2p_RRU6PD.tif 2> /dev/null"
       ]
      }, 
      {
       "output_type": "stream", 
       "stream": "stdout", 
       "text": [
        "", 
        "qauto /tmp/s2p_JXvidT.tif /tmp/s2p_EKEmvc.png 2> /dev/null", 
        "sift_keypoints /tmp/s2p_EKEmvc.png /tmp/s2p_mimJ2t.txt"
       ]
      }, 
      {
       "output_type": "stream", 
       "stream": "stdout", 
       "text": [
        "", 
        "awk '{if (NR!=1) {print}}' /tmp/s2p_mimJ2t.txt > /tmp/s2p_IzsOX1.txt"
       ]
      }, 
      {
       "output_type": "stream", 
       "stream": "stdout", 
       "text": [
        "", 
        "cp /tmp/s2p_IzsOX1.txt /tmp/s2p_mimJ2t.txt", 
        "qauto /tmp/s2p_RRU6PD.tif /tmp/s2p_nn9sO4.png 2> /dev/null", 
        "sift_keypoints /tmp/s2p_nn9sO4.png /tmp/s2p_bYIe8Y.txt"
       ]
      }, 
      {
       "output_type": "stream", 
       "stream": "stdout", 
       "text": [
        "", 
        "awk '{if (NR!=1) {print}}' /tmp/s2p_bYIe8Y.txt > /tmp/s2p_PpMPPQ.txt"
       ]
      }, 
      {
       "output_type": "stream", 
       "stream": "stdout", 
       "text": [
        "", 
        "cp /tmp/s2p_PpMPPQ.txt /tmp/s2p_bYIe8Y.txt", 
        "matching /tmp/s2p_mimJ2t.txt /tmp/s2p_bYIe8Y.txt 1 0.400000 4 8 36 > /tmp/s2p_LpISrQ.txt", 
        "ransac fmn 1000 .3 7 /tmp/s2p_9D09Ub.txt < /tmp/s2p_HGE4q5.txt"
       ]
      }, 
      {
       "output_type": "stream", 
       "stream": "stdout", 
       "text": [
        "", 
        "running optimization using 151 matches", 
        "[  1.19664478e-32   6.44387497e-01   1.23688108e-01   6.17340322e-33]"
       ]
      }, 
      {
       "output_type": "stream", 
       "stream": "stdout", 
       "text": [
        " 21.0634777251 {'warnflag': 0, 'task': 'CONVERGENCE: REL_REDUCTION_OF_F <= FACTR*EPSMCH', 'grad': array([-0.04128218,  0.48738009, -0.46813398, -0.0413813 ]), 'funcalls': 59}", 
        "step 1: find matches, and center them ------------------------------", 
        "applying pointing error correction"
       ]
      }, 
      {
       "output_type": "stream", 
       "stream": "stdout", 
       "text": [
        "", 
        "step 2: estimate F (8-points algorithm) ----------------------------", 
        "step 3: compute rectifying homographies (loop-zhang algorithm) -----", 
        "rectify_mindistortion /tmp/s2p_r2kJa_.txt 572 527 /tmp/s2p_iwvwoz.txt /tmp/s2p_dkjQFA.txt > /dev/null", 
        "max, min, mean rectification error on rpc matches ------------------"
       ]
      }, 
      {
       "output_type": "stream", 
       "stream": "stdout", 
       "text": [
        "", 
        "0.00440788203065 6.59018411397e-06 0.00128218387565", 
        "step 4: pull back top-left corner of the ROI in the origin ---------", 
        "step 5: horizontal registration ------------------------------------", 
        "gdal_translate -srcwin 19451 14072 572 527 'pleiades_data/images/toulouse/im02.tif' '/tmp/s2p_dmzPZ2.tif'"
       ]
      }, 
      {
       "output_type": "stream", 
       "stream": "stdout", 
       "text": [
        "", 
        "tiffcp /tmp/s2p_dmzPZ2.tif /tmp/s2p_2ToMTO.tif 2> /dev/null", 
        "gdal_translate -srcwin 19459 13305 573 591 'pleiades_data/images/toulouse/im01.tif' '/tmp/s2p_YPBd7s.tif'"
       ]
      }, 
      {
       "output_type": "stream", 
       "stream": "stdout", 
       "text": [
        "", 
        "tiffcp /tmp/s2p_YPBd7s.tif /tmp/s2p_TCra5c.tif 2> /dev/null", 
        "qauto /tmp/s2p_2ToMTO.tif /tmp/s2p_9_UIsF.png 2> /dev/null", 
        "sift_keypoints /tmp/s2p_9_UIsF.png /tmp/s2p_3Nz7Xu.txt"
       ]
      }, 
      {
       "output_type": "stream", 
       "stream": "stdout", 
       "text": [
        "", 
        "awk '{if (NR!=1) {print}}' /tmp/s2p_3Nz7Xu.txt > /tmp/s2p_UBtqls.txt"
       ]
      }, 
      {
       "output_type": "stream", 
       "stream": "stdout", 
       "text": [
        "", 
        "cp /tmp/s2p_UBtqls.txt /tmp/s2p_3Nz7Xu.txt", 
        "qauto /tmp/s2p_TCra5c.tif /tmp/s2p_ZYjaRh.png 2> /dev/null", 
        "sift_keypoints /tmp/s2p_ZYjaRh.png /tmp/s2p_Ie4iT7.txt"
       ]
      }, 
      {
       "output_type": "stream", 
       "stream": "stdout", 
       "text": [
        "", 
        "awk '{if (NR!=1) {print}}' /tmp/s2p_Ie4iT7.txt > /tmp/s2p_uRIaTj.txt"
       ]
      }, 
      {
       "output_type": "stream", 
       "stream": "stdout", 
       "text": [
        "", 
        "cp /tmp/s2p_uRIaTj.txt /tmp/s2p_Ie4iT7.txt", 
        "matching /tmp/s2p_3Nz7Xu.txt /tmp/s2p_Ie4iT7.txt 1 0.400000 4 8 36 > /tmp/s2p_YQZDI3.txt", 
        "remaining sift matches"
       ]
      }, 
      {
       "output_type": "stream", 
       "stream": "stdout", 
       "text": [
        " 183", 
        "Residual vertical disparities: max, min, mean. Should be zero ------", 
        "0.497141668702 -0.48125063925 0.00842537459172", 
        "gdal_translate -srcwin 19352 13964 770 742 'pleiades_data/images/toulouse/im02.tif' '/tmp/s2p_wcH0mz.tif'", 
        "tiffcp /tmp/s2p_wcH0mz.tif /tmp/s2p_UjaZCb.tif 2> /dev/null", 
        "imprintf \"%c\" '/tmp/s2p_UjaZCb.tif' > /tmp/s2p_lYM4r0.txt"
       ]
      }, 
      {
       "output_type": "stream", 
       "stream": "stdout", 
       "text": [
        "", 
        "zoom_zeropadding /tmp/s2p_UjaZCb.tif /home/carlo/code/s2p/python/../pleiades_data/idata_0009_MTF_89x89.tif /tmp/s2p_xN0P_p.tif", 
        "fftconvolve /tmp/s2p_xN0P_p.tif /tmp/s2p_UjaZCb.tif /tmp/s2p_pKvS12.tif"
       ]
      }, 
      {
       "output_type": "stream", 
       "stream": "stdout", 
       "text": [
        "", 
        "homography /tmp/s2p_pKvS12.tif /tmp/s2p_IGNAAk.txt /tmp/s2p_pnA8c9.png /tmp/saint_sernin/saint_sernin_left/2.tif 0 624 660"
       ]
      }, 
      {
       "output_type": "stream", 
       "stream": "stdout", 
       "text": [
        "", 
        "gdal_translate -srcwin 19362 13231 760 766 'pleiades_data/images/toulouse/im01.tif' '/tmp/s2p_Oor3e1.tif'"
       ]
      }, 
      {
       "output_type": "stream", 
       "stream": "stdout", 
       "text": [
        "", 
        "tiffcp /tmp/s2p_Oor3e1.tif /tmp/s2p_QIRSiX.tif 2> /dev/null", 
        "imprintf \"%c\" '/tmp/s2p_QIRSiX.tif' > /tmp/s2p_HKDtR5.txt"
       ]
      }, 
      {
       "output_type": "stream", 
       "stream": "stdout", 
       "text": [
        "", 
        "zoom_zeropadding /tmp/s2p_QIRSiX.tif /home/carlo/code/s2p/python/../pleiades_data/idata_0009_MTF_89x89.tif /tmp/s2p_0Pjm96.tif", 
        "fftconvolve /tmp/s2p_0Pjm96.tif /tmp/s2p_QIRSiX.tif /tmp/s2p_BO5VFW.tif"
       ]
      }, 
      {
       "output_type": "stream", 
       "stream": "stdout", 
       "text": [
        "", 
        "homography /tmp/s2p_BO5VFW.tif /tmp/s2p_bWX3Sh.txt /tmp/s2p_6qFsg5.png /tmp/saint_sernin/saint_sernin_left/1.tif 0 624 660"
       ]
      }, 
      {
       "output_type": "stream", 
       "stream": "stdout", 
       "text": [
        "", 
        "/home/carlo/code/s2p/python/../3rdparty/stereo_hirschmuller_2008/callSGBM.sh /tmp/saint_sernin/saint_sernin_left/2.tif /tmp/saint_sernin/saint_sernin_left/1.tif /tmp/saint_sernin/saint_sernin_left/disp.pgm /tmp/saint_sernin/saint_sernin_left/mask.png -6 4 "
       ]
      }, 
      {
       "output_type": "stream", 
       "stream": "stdout", 
       "text": [
        "", 
        "disp_to_h pleiades_data/rpc/toulouse/rpc02.xml pleiades_data/rpc/toulouse/rpc01.xml /tmp/s2p_4XGvlp.txt /tmp/s2p_mNP5FJ.txt /tmp/saint_sernin/saint_sernin_left/disp.pgm /tmp/saint_sernin/saint_sernin_left/mask.png /tmp/saint_sernin/saint_sernin_left/height.tif /tmp/saint_sernin/saint_sernin_left/rpc_err.tif"
       ]
      }, 
      {
       "output_type": "stream", 
       "stream": "stdout", 
       "text": [
        "", 
        "gdal_translate -srcwin 19451 14072 572 527 'pleiades_data/images/toulouse/im02.tif' '/tmp/s2p_k2R9SC.tif'"
       ]
      }, 
      {
       "output_type": "stream", 
       "stream": "stdout", 
       "text": [
        "", 
        "tiffcp /tmp/s2p_k2R9SC.tif /tmp/s2p_f82MBM.tif 2> /dev/null", 
        "synflow hom \"0.19021199999999999 -0.97927500000000001 516.0779249999996 0.97927500000000001 0.19021199999999999 0.0 0.0 0.0 1.0\" /tmp/s2p_f82MBM.tif /dev/null - | BILINEAR=1 backflow - /tmp/saint_sernin/saint_sernin_left/height.tif /tmp/saint_sernin/saint_sernin_left/height_unrect.tif", 
        "synflow hom \"0.19021199999999999 -0.97927500000000001 516.0779249999996 0.97927500000000001 0.19021199999999999 0.0 0.0 0.0 1.0\" /tmp/s2p_f82MBM.tif /dev/null - | BILINEAR=1 backflow - /tmp/saint_sernin/saint_sernin_left/mask.png /tmp/saint_sernin/saint_sernin_left/mask_unrect.png"
       ]
      }, 
      {
       "output_type": "stream", 
       "stream": "stdout", 
       "text": [
        "", 
        "v /tmp/saint_sernin/saint_sernin_left/2.tif /tmp/saint_sernin/saint_sernin_left/1.tif /tmp/saint_sernin/saint_sernin_left/disp.pgm /tmp/saint_sernin/saint_sernin_left/mask.png"
       ]
      }, 
      {
       "output_type": "stream", 
       "stream": "stdout", 
       "text": [
        "", 
        "mkdir /tmp/saint_sernin/saint_sernin_right", 
        "ROI x, y, w, h = 19451, 14072, 572, 527", 
        "gdal_translate -srcwin 19451 14072 572 527 'pleiades_data/images/toulouse/im02.tif' '/tmp/s2p_UhOEs1.tif'"
       ]
      }, 
      {
       "output_type": "stream", 
       "stream": "stdout", 
       "text": [
        "", 
        "tiffcp /tmp/s2p_UhOEs1.tif /tmp/s2p_GyGOk0.tif 2> /dev/null", 
        "gdal_translate -srcwin 19439 14212 583 583 'pleiades_data/images/toulouse/im03.tif' '/tmp/s2p_w45VEV.tif'", 
        "tiffcp /tmp/s2p_w45VEV.tif /tmp/s2p_heeMO8.tif 2> /dev/null"
       ]
      }, 
      {
       "output_type": "stream", 
       "stream": "stdout", 
       "text": [
        "", 
        "qauto /tmp/s2p_GyGOk0.tif /tmp/s2p_2UcF3x.png 2> /dev/null", 
        "sift_keypoints /tmp/s2p_2UcF3x.png /tmp/s2p_oIChzE.txt"
       ]
      }, 
      {
       "output_type": "stream", 
       "stream": "stdout", 
       "text": [
        "", 
        "awk '{if (NR!=1) {print}}' /tmp/s2p_oIChzE.txt > /tmp/s2p_f8S56U.txt"
       ]
      }, 
      {
       "output_type": "stream", 
       "stream": "stdout", 
       "text": [
        "", 
        "cp /tmp/s2p_f8S56U.txt /tmp/s2p_oIChzE.txt", 
        "qauto /tmp/s2p_heeMO8.tif /tmp/s2p_QzVXmn.png 2> /dev/null", 
        "sift_keypoints /tmp/s2p_QzVXmn.png /tmp/s2p_1InGCs.txt"
       ]
      }, 
      {
       "output_type": "stream", 
       "stream": "stdout", 
       "text": [
        "", 
        "awk '{if (NR!=1) {print}}' /tmp/s2p_1InGCs.txt > /tmp/s2p_pRuHdr.txt"
       ]
      }, 
      {
       "output_type": "stream", 
       "stream": "stdout", 
       "text": [
        "", 
        "cp /tmp/s2p_pRuHdr.txt /tmp/s2p_1InGCs.txt", 
        "matching /tmp/s2p_oIChzE.txt /tmp/s2p_1InGCs.txt 1 0.400000 4 8 36 > /tmp/s2p_eGodJq.txt", 
        "ransac fmn 1000 .3 7 /tmp/s2p_1czmmx.txt < /tmp/s2p_ZhByeM.txt"
       ]
      }, 
      {
       "output_type": "stream", 
       "stream": "stdout", 
       "text": [
        "", 
        "running optimization using 112 matches", 
        "[  4.63997406e-28  -5.70393963e-01  -1.10091631e-01   4.89518351e-28]"
       ]
      }, 
      {
       "output_type": "stream", 
       "stream": "stdout", 
       "text": [
        " 15.1723795432 {'warnflag': 0, 'task': 'CONVERGENCE: REL_REDUCTION_OF_F <= FACTR*EPSMCH', 'grad': array([ 0.01629825,  0.02203979,  0.11922339,  0.02630589]), 'funcalls': 34}", 
        "step 1: find matches, and center them ------------------------------", 
        "applying pointing error correction"
       ]
      }, 
      {
       "output_type": "stream", 
       "stream": "stdout", 
       "text": [
        "", 
        "step 2: estimate F (8-points algorithm) ----------------------------", 
        "step 3: compute rectifying homographies (loop-zhang algorithm) -----", 
        "rectify_mindistortion /tmp/s2p_cOnMSH.txt 572 527 /tmp/s2p_CLrD8H.txt /tmp/s2p_L9aii2.txt > /dev/null", 
        "max, min, mean rectification error on rpc matches ------------------"
       ]
      }, 
      {
       "output_type": "stream", 
       "stream": "stdout", 
       "text": [
        "", 
        "0.0039834399029 9.84526458581e-06 0.00103593024702", 
        "step 4: pull back top-left corner of the ROI in the origin ---------", 
        "step 5: horizontal registration ------------------------------------", 
        "gdal_translate -srcwin 19451 14072 572 527 'pleiades_data/images/toulouse/im02.tif' '/tmp/s2p_p7ikTa.tif'"
       ]
      }, 
      {
       "output_type": "stream", 
       "stream": "stdout", 
       "text": [
        "", 
        "tiffcp /tmp/s2p_p7ikTa.tif /tmp/s2p_H7kclb.tif 2> /dev/null", 
        "gdal_translate -srcwin 19439 14212 583 583 'pleiades_data/images/toulouse/im03.tif' '/tmp/s2p_SpVZtm.tif'"
       ]
      }, 
      {
       "output_type": "stream", 
       "stream": "stdout", 
       "text": [
        "", 
        "tiffcp /tmp/s2p_SpVZtm.tif /tmp/s2p_bLMFF2.tif 2> /dev/null", 
        "qauto /tmp/s2p_H7kclb.tif /tmp/s2p_HKg_fV.png 2> /dev/null", 
        "sift_keypoints /tmp/s2p_HKg_fV.png /tmp/s2p_jTiseI.txt"
       ]
      }, 
      {
       "output_type": "stream", 
       "stream": "stdout", 
       "text": [
        "", 
        "awk '{if (NR!=1) {print}}' /tmp/s2p_jTiseI.txt > /tmp/s2p_90Snyu.txt"
       ]
      }, 
      {
       "output_type": "stream", 
       "stream": "stdout", 
       "text": [
        "", 
        "cp /tmp/s2p_90Snyu.txt /tmp/s2p_jTiseI.txt", 
        "qauto /tmp/s2p_bLMFF2.tif /tmp/s2p_T9GN_9.png 2> /dev/null", 
        "sift_keypoints /tmp/s2p_T9GN_9.png /tmp/s2p_LrRrD3.txt"
       ]
      }, 
      {
       "output_type": "stream", 
       "stream": "stdout", 
       "text": [
        "", 
        "awk '{if (NR!=1) {print}}' /tmp/s2p_LrRrD3.txt > /tmp/s2p_m9GRwB.txt"
       ]
      }, 
      {
       "output_type": "stream", 
       "stream": "stdout", 
       "text": [
        "", 
        "cp /tmp/s2p_m9GRwB.txt /tmp/s2p_LrRrD3.txt", 
        "matching /tmp/s2p_jTiseI.txt /tmp/s2p_LrRrD3.txt 1 0.400000 4 8 36 > /tmp/s2p_SErnOJ.txt", 
        "remaining sift matches"
       ]
      }, 
      {
       "output_type": "stream", 
       "stream": "stdout", 
       "text": [
        " 138", 
        "Residual vertical disparities: max, min, mean. Should be zero ------", 
        "0.469696078495 -0.493336389343 0.0218541389391", 
        "gdal_translate -srcwin 19354 13966 766 738 'pleiades_data/images/toulouse/im02.tif' '/tmp/s2p_2w6NqX.tif'", 
        "tiffcp /tmp/s2p_2w6NqX.tif /tmp/s2p_utQfM2.tif 2> /dev/null", 
        "imprintf \"%c\" '/tmp/s2p_utQfM2.tif' > /tmp/s2p_WAVhh4.txt"
       ]
      }, 
      {
       "output_type": "stream", 
       "stream": "stdout", 
       "text": [
        "", 
        "zoom_zeropadding /tmp/s2p_utQfM2.tif /home/carlo/code/s2p/python/../pleiades_data/idata_0009_MTF_89x89.tif /tmp/s2p_Jel9RS.tif", 
        "fftconvolve /tmp/s2p_Jel9RS.tif /tmp/s2p_utQfM2.tif /tmp/s2p_wqoadm.tif"
       ]
      }, 
      {
       "output_type": "stream", 
       "stream": "stdout", 
       "text": [
        "", 
        "homography /tmp/s2p_wqoadm.tif /tmp/s2p_5XsH5w.txt /tmp/s2p_JhKjEg.png /tmp/saint_sernin/saint_sernin_right/2.tif 0 623 659"
       ]
      }, 
      {
       "output_type": "stream", 
       "stream": "stdout", 
       "text": [
        "", 
        "gdal_translate -srcwin 19349 14137 770 707 'pleiades_data/images/toulouse/im03.tif' '/tmp/s2p_oxBtQ2.tif'"
       ]
      }, 
      {
       "output_type": "stream", 
       "stream": "stdout", 
       "text": [
        "", 
        "tiffcp /tmp/s2p_oxBtQ2.tif /tmp/s2p_LMBtGT.tif 2> /dev/null", 
        "imprintf \"%c\" '/tmp/s2p_LMBtGT.tif' > /tmp/s2p_08fHVB.txt"
       ]
      }, 
      {
       "output_type": "stream", 
       "stream": "stdout", 
       "text": [
        "zoom_zeropadding /tmp/s2p_LMBtGT.tif /home/carlo/code/s2p/python/../pleiades_data/idata_0009_MTF_89x89.tif /tmp/s2p_cjmhrA.tif", 
        "fftconvolve /tmp/s2p_cjmhrA.tif /tmp/s2p_LMBtGT.tif /tmp/s2p__x3g9r.tif"
       ]
      }, 
      {
       "output_type": "stream", 
       "stream": "stdout", 
       "text": [
        "", 
        "homography /tmp/s2p__x3g9r.tif /tmp/s2p_Fk72qI.txt /tmp/s2p_KzIXPY.png /tmp/saint_sernin/saint_sernin_right/3.tif 0 623 659"
       ]
      }, 
      {
       "output_type": "stream", 
       "stream": "stdout", 
       "text": [
        "", 
        "/home/carlo/code/s2p/python/../3rdparty/stereo_hirschmuller_2008/callSGBM.sh /tmp/saint_sernin/saint_sernin_right/2.tif /tmp/saint_sernin/saint_sernin_right/3.tif /tmp/saint_sernin/saint_sernin_right/disp.pgm /tmp/saint_sernin/saint_sernin_right/mask.png -6 6 "
       ]
      }, 
      {
       "output_type": "stream", 
       "stream": "stdout", 
       "text": [
        "", 
        "disp_to_h pleiades_data/rpc/toulouse/rpc02.xml pleiades_data/rpc/toulouse/rpc03.xml /tmp/s2p_rL0NO2.txt /tmp/s2p_NhQ_b9.txt /tmp/saint_sernin/saint_sernin_right/disp.pgm /tmp/saint_sernin/saint_sernin_right/mask.png /tmp/saint_sernin/saint_sernin_right/height.tif /tmp/saint_sernin/saint_sernin_right/rpc_err.tif"
       ]
      }, 
      {
       "output_type": "stream", 
       "stream": "stdout", 
       "text": [
        "", 
        "gdal_translate -srcwin 19451 14072 572 527 'pleiades_data/images/toulouse/im02.tif' '/tmp/s2p_yRP94e.tif'"
       ]
      }, 
      {
       "output_type": "stream", 
       "stream": "stdout", 
       "text": [
        "", 
        "tiffcp /tmp/s2p_yRP94e.tif /tmp/s2p_CDKzAo.tif 2> /dev/null", 
        "synflow hom \"0.18668799999999999 -0.98042300000000004 516.68292099999962 0.98042300000000004 0.18668799999999999 0.0 0.0 0.0 1.0\" /tmp/s2p_CDKzAo.tif /dev/null - | BILINEAR=1 backflow - /tmp/saint_sernin/saint_sernin_right/height.tif /tmp/saint_sernin/saint_sernin_right/height_unrect.tif", 
        "synflow hom \"0.18668799999999999 -0.98042300000000004 516.68292099999962 0.98042300000000004 0.18668799999999999 0.0 0.0 0.0 1.0\" /tmp/s2p_CDKzAo.tif /dev/null - | BILINEAR=1 backflow - /tmp/saint_sernin/saint_sernin_right/mask.png /tmp/saint_sernin/saint_sernin_right/mask_unrect.png"
       ]
      }, 
      {
       "output_type": "stream", 
       "stream": "stdout", 
       "text": [
        "", 
        "v /tmp/saint_sernin/saint_sernin_right/2.tif /tmp/saint_sernin/saint_sernin_right/3.tif /tmp/saint_sernin/saint_sernin_right/disp.pgm /tmp/saint_sernin/saint_sernin_right/mask.png"
       ]
      }, 
      {
       "output_type": "stream", 
       "stream": "stdout", 
       "text": [
        "", 
        "downsa e 4 /tmp/saint_sernin/saint_sernin_left/height_unrect.tif /tmp/s2p_6zZ8pz.tif", 
        "downsa e 4 /tmp/saint_sernin/saint_sernin_right/height_unrect.tif /tmp/s2p_F6_siS.tif", 
        "(18733,)"
       ]
      }, 
      {
       "output_type": "stream", 
       "stream": "stdout", 
       "text": [
        "", 
        "(18203,)", 
        "plambda /tmp/saint_sernin/saint_sernin_right/height_unrect.tif \"x 1.956924 +\" > /tmp/s2p__HskiW.tif", 
        "", 
        "        plambda /tmp/saint_sernin/saint_sernin_left/height_unrect.tif /tmp/s2p__HskiW.tif \"x isfinite y isfinite x y - fabs 3.000000 < x y + 2 / nan if x", 
        "        if y if\" > /tmp/saint_sernin/merged_height.tif", 
        "        "
       ]
      }, 
      {
       "output_type": "stream", 
       "stream": "stdout", 
       "text": [
        "", 
        "rm /tmp/s2p__HskiW.tif"
       ]
      }, 
      {
       "output_type": "stream", 
       "stream": "stdout", 
       "text": [
        "", 
        "rm /tmp/s2p_F6_siS.tif", 
        "rm /tmp/s2p_6zZ8pz.tif", 
        "rm /tmp/s2p_CDKzAo.tif", 
        "rm /tmp/s2p_yRP94e.tif", 
        "rm /tmp/s2p_NhQ_b9.txt", 
        "rm /tmp/s2p_rL0NO2.txt", 
        "rm /tmp/s2p_KzIXPY.png", 
        "rm /tmp/s2p_Fk72qI.txt", 
        "rm /tmp/s2p__x3g9r.tif"
       ]
      }, 
      {
       "output_type": "stream", 
       "stream": "stdout", 
       "text": [
        "", 
        "rm /tmp/s2p_cjmhrA.tif", 
        "rm /tmp/s2p_08fHVB.txt", 
        "rm /tmp/s2p_LMBtGT.tif", 
        "rm /tmp/s2p_oxBtQ2.tif", 
        "rm /tmp/s2p_JhKjEg.png", 
        "rm /tmp/s2p_5XsH5w.txt", 
        "rm /tmp/s2p_wqoadm.tif", 
        "rm /tmp/s2p_Jel9RS.tif"
       ]
      }, 
      {
       "output_type": "stream", 
       "stream": "stdout", 
       "text": [
        "", 
        "rm /tmp/s2p_WAVhh4.txt", 
        "rm /tmp/s2p_utQfM2.tif", 
        "rm /tmp/s2p_2w6NqX.tif", 
        "rm /tmp/s2p_SErnOJ.txt", 
        "rm /tmp/s2p_m9GRwB.txt", 
        "rm /tmp/s2p_T9GN_9.png", 
        "rm /tmp/s2p_LrRrD3.txt", 
        "rm /tmp/s2p_90Snyu.txt"
       ]
      }, 
      {
       "output_type": "stream", 
       "stream": "stdout", 
       "text": [
        "", 
        "rm /tmp/s2p_HKg_fV.png", 
        "rm /tmp/s2p_jTiseI.txt", 
        "rm /tmp/s2p_bLMFF2.tif", 
        "rm /tmp/s2p_SpVZtm.tif", 
        "rm /tmp/s2p_H7kclb.tif", 
        "rm /tmp/s2p_p7ikTa.tif", 
        "rm /tmp/s2p_2ZqGFC.txt", 
        "rm /tmp/s2p_IAHOsj.txt", 
        "rm /tmp/s2p_L9aii2.txt"
       ]
      }, 
      {
       "output_type": "stream", 
       "stream": "stdout", 
       "text": [
        "", 
        "rm /tmp/s2p_CLrD8H.txt", 
        "rm /tmp/s2p_cOnMSH.txt", 
        "rm /tmp/s2p_qjxCFF.txt", 
        "rm /tmp/s2p_SCesrh.txt", 
        "rm /tmp/s2p_1czmmx.txt", 
        "rm /tmp/s2p_ZhByeM.txt", 
        "rm /tmp/s2p_eGodJq.txt", 
        "rm /tmp/s2p_pRuHdr.txt", 
        "rm /tmp/s2p_QzVXmn.png"
       ]
      }, 
      {
       "output_type": "stream", 
       "stream": "stdout", 
       "text": [
        "", 
        "rm /tmp/s2p_1InGCs.txt", 
        "rm /tmp/s2p_f8S56U.txt", 
        "rm /tmp/s2p_2UcF3x.png", 
        "rm /tmp/s2p_oIChzE.txt", 
        "rm /tmp/s2p_heeMO8.tif", 
        "rm /tmp/s2p_w45VEV.tif", 
        "rm /tmp/s2p_GyGOk0.tif", 
        "rm /tmp/s2p_UhOEs1.tif", 
        "rm /tmp/s2p_sG0pgX.txt"
       ]
      }, 
      {
       "output_type": "stream", 
       "stream": "stdout", 
       "text": [
        "", 
        "rm /tmp/s2p_NL2rFZ.txt", 
        "rm /tmp/s2p_f82MBM.tif", 
        "rm /tmp/s2p_k2R9SC.tif", 
        "rm /tmp/s2p_mNP5FJ.txt", 
        "rm /tmp/s2p_4XGvlp.txt", 
        "rm /tmp/s2p_6qFsg5.png", 
        "rm /tmp/s2p_bWX3Sh.txt", 
        "rm /tmp/s2p_BO5VFW.tif", 
        "rm /tmp/s2p_0Pjm96.tif"
       ]
      }, 
      {
       "output_type": "stream", 
       "stream": "stdout", 
       "text": [
        "", 
        "rm /tmp/s2p_HKDtR5.txt", 
        "rm /tmp/s2p_QIRSiX.tif", 
        "rm /tmp/s2p_Oor3e1.tif", 
        "rm /tmp/s2p_pnA8c9.png", 
        "rm /tmp/s2p_IGNAAk.txt", 
        "rm /tmp/s2p_pKvS12.tif", 
        "rm /tmp/s2p_xN0P_p.tif", 
        "rm /tmp/s2p_lYM4r0.txt"
       ]
      }, 
      {
       "output_type": "stream", 
       "stream": "stdout", 
       "text": [
        "", 
        "rm /tmp/s2p_UjaZCb.tif", 
        "rm /tmp/s2p_wcH0mz.tif", 
        "rm /tmp/s2p_YQZDI3.txt", 
        "rm /tmp/s2p_uRIaTj.txt", 
        "rm /tmp/s2p_ZYjaRh.png", 
        "rm /tmp/s2p_Ie4iT7.txt", 
        "rm /tmp/s2p_UBtqls.txt", 
        "rm /tmp/s2p_9_UIsF.png", 
        "rm /tmp/s2p_3Nz7Xu.txt"
       ]
      }, 
      {
       "output_type": "stream", 
       "stream": "stdout", 
       "text": [
        "", 
        "rm /tmp/s2p_TCra5c.tif", 
        "rm /tmp/s2p_YPBd7s.tif", 
        "rm /tmp/s2p_2ToMTO.tif", 
        "rm /tmp/s2p_dmzPZ2.tif", 
        "rm /tmp/s2p_zPuZAB.txt", 
        "rm /tmp/s2p_aKFe2_.txt", 
        "rm /tmp/s2p_dkjQFA.txt", 
        "rm /tmp/s2p_iwvwoz.txt"
       ]
      }, 
      {
       "output_type": "stream", 
       "stream": "stdout", 
       "text": [
        "", 
        "rm /tmp/s2p_r2kJa_.txt", 
        "rm /tmp/s2p_UIW8jp.txt", 
        "rm /tmp/s2p_Ak99_8.txt", 
        "rm /tmp/s2p_9D09Ub.txt", 
        "rm /tmp/s2p_HGE4q5.txt", 
        "rm /tmp/s2p_LpISrQ.txt", 
        "rm /tmp/s2p_PpMPPQ.txt", 
        "rm /tmp/s2p_nn9sO4.png", 
        "rm /tmp/s2p_bYIe8Y.txt"
       ]
      }, 
      {
       "output_type": "stream", 
       "stream": "stdout", 
       "text": [
        "", 
        "rm /tmp/s2p_IzsOX1.txt", 
        "rm /tmp/s2p_EKEmvc.png", 
        "rm /tmp/s2p_mimJ2t.txt", 
        "rm /tmp/s2p_RRU6PD.tif", 
        "rm /tmp/s2p_F4N3zT.tif", 
        "rm /tmp/s2p_JXvidT.tif", 
        "rm /tmp/s2p_j6T7vO.tif", 
        "rm /tmp/s2p_t5r2qT.txt"
       ]
      }, 
      {
       "output_type": "stream", 
       "stream": "stdout", 
       "text": [
        "", 
        "rm /tmp/s2p_B3uzFi.txt", 
        "rm /tmp/s2p_t8yFUX.png", 
        "rm /tmp/s2p_lbwZcn.png", 
        "rm /tmp/s2p_d7ZI66.tif", 
        "rm /tmp/s2p_attCnx.txt", 
        "rm /tmp/s2p_1yHKZC.txt", 
        "rm /tmp/s2p_UUXelW.tif", 
        "rm /tmp/s2p_5_sza5.txt"
       ]
      }, 
      {
       "output_type": "stream", 
       "stream": "stdout", 
       "text": [
        "", 
        "rm /tmp/s2p_FCJM1B.tif", 
        "rm /tmp/s2p_ko89pU.tif", 
        "rm /tmp/s2p_0Mqym7.tif", 
        "rm /tmp/s2p_nM16sw.txt", 
        "rm /tmp/s2p_BIUgYZ.tif", 
        "rm /tmp/s2p_cUmMmZ.tif", 
        "rm /tmp/s2p_tEwyMg.txt", 
        "gdal_translate -srcwin 19451 14072 572 527 'pleiades_data/images/toulouse/im02.tif' '/tmp/s2p_1caXuK.tif'"
       ]
      }, 
      {
       "output_type": "stream", 
       "stream": "stdout", 
       "text": [
        "", 
        "tiffcp /tmp/s2p_1caXuK.tif /tmp/s2p_5p5KU9.tif 2> /dev/null", 
        "cp /tmp/s2p_5p5KU9.tif /tmp/saint_sernin/roi_ref02.tif"
       ]
      }, 
      {
       "output_type": "stream", 
       "stream": "stdout", 
       "text": [
        "", 
        "imprintf \"%w %h\" '/tmp/saint_sernin/roi_ref02.tif' > /tmp/s2p_12IzGu.txt", 
        "gdal_translate -srcwin 4863 3518 144 132 'pleiades_data/images/toulouse/im02_color.tif' '/tmp/s2p_e5RHQU.tif'", 
        "tiffcp /tmp/s2p_e5RHQU.tif /tmp/s2p_SzBepB.tif 2> /dev/null"
       ]
      }, 
      {
       "output_type": "stream", 
       "stream": "stdout", 
       "text": [
        "", 
        "imprintf \"%w %h\" '/tmp/s2p_SzBepB.tif' > /tmp/s2p_YoSa3u.txt", 
        "zoom_2d /tmp/s2p_SzBepB.tif /tmp/s2p_g51Tnj.tif 576 528", 
        "crop /tmp/s2p_g51Tnj.tif /tmp/s2p_lIv4eM.tif -1 0 572 527"
       ]
      }, 
      {
       "output_type": "stream", 
       "stream": "stdout", 
       "text": [
        "", 
        "imprintf \"%w %h\" '/tmp/saint_sernin/roi_ref02.tif' > /tmp/s2p_2kZHJn.txt"
       ]
      }, 
      {
       "output_type": "stream", 
       "stream": "stdout", 
       "text": [
        "", 
        "imprintf \"%w %h\" '/tmp/s2p_lIv4eM.tif' > /tmp/s2p_kpiKiW.txt", 
        "plambda /tmp/s2p_lIv4eM.tif \"x[0] x[1] 0.9 * x[3] 0.1 * + x[2] join3\" | iion - /tmp/s2p_sCirxr.tif"
       ]
      }, 
      {
       "output_type": "stream", 
       "stream": "stdout", 
       "text": [
        "", 
        "qauto /tmp/s2p_sCirxr.tif /tmp/s2p_RACs2H.png 2> /dev/null"
       ]
      }, 
      {
       "output_type": "stream", 
       "stream": "stdout", 
       "text": [
        "", 
        "qauto /tmp/saint_sernin/roi_ref02.tif /tmp/s2p_AQFYhy.png 2> /dev/null"
       ]
      }, 
      {
       "output_type": "stream", 
       "stream": "stdout", 
       "text": [
        "", 
        "plambda /tmp/s2p_AQFYhy.png /tmp/s2p_RACs2H.png \"dup split + + / *\" | qeasy 0 85 - /tmp/saint_sernin/roi_color_ref02.tif"
       ]
      }, 
      {
       "output_type": "stream", 
       "stream": "stdout", 
       "text": [
        "", 
        "colormesh /tmp/saint_sernin/roi_color_ref02.tif /tmp/saint_sernin/merged_height.tif pleiades_data/rpc/toulouse/rpc02.xml /tmp/s2p_BtUPte.txt /tmp/saint_sernin/cloud.ply 143868 5386304"
       ]
      }, 
      {
       "output_type": "stream", 
       "stream": "stdout", 
       "text": [
        "", 
        "v /tmp/saint_sernin/roi_ref02.tif /tmp/saint_sernin/roi_color_ref02.tif /tmp/saint_sernin/merged_height.tif"
       ]
      }, 
      {
       "output_type": "stream", 
       "stream": "stdout", 
       "text": [
        "", 
        "open /tmp/saint_sernin/cloud.ply", 
        "CloudCompare /tmp/saint_sernin/cloud.ply &"
       ]
      }
     ], 
     "prompt_number": 37
    }, 
    {
     "cell_type": "markdown", 
     "source": [
      "### Cannes"
     ]
    }, 
    {
     "cell_type": "code", 
     "collapsed": true, 
     "input": [
      "exp_name = 'cannes'", 
      "x, y, w, h = 19451, 14072, 572, 527"
     ], 
     "language": "python", 
     "outputs": []
    }
   ]
  }
 ]
}