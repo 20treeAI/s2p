{
 "metadata": {
  "name": "experiments_miss_decembre_2013"
 },
 "nbformat": 3,
 "nbformat_minor": 0,
 "worksheets": [
  {
   "cells": [
    {
     "cell_type": "code",
     "collapsed": false,
     "input": [
      "cd ~/code/s2p"
     ],
     "language": "python",
     "metadata": {},
     "outputs": [
      {
       "output_type": "stream",
       "stream": "stdout",
       "text": [
        "/Users/carlo/code/s2p\n"
       ]
      }
     ],
     "prompt_number": 30
    },
    {
     "cell_type": "code",
     "collapsed": true,
     "input": [
      "import main_script\n",
      "import tile_composer\n",
      "from python import rpc_model, rpc_utils, common\n",
      "import numpy as np"
     ],
     "language": "python",
     "metadata": {},
     "outputs": [],
     "prompt_number": 31
    },
    {
     "cell_type": "code",
     "collapsed": false,
     "input": [
      "reload(main_script), reload(tile_composer)"
     ],
     "language": "python",
     "metadata": {},
     "outputs": [
      {
       "output_type": "pyout",
       "prompt_number": 32,
       "text": [
        "(<module 'main_script' from 'main_script.pyc'>,\n",
        " <module 'tile_composer' from 'tile_composer.pyc'>)"
       ]
      }
     ],
     "prompt_number": 32
    },
    {
     "cell_type": "code",
     "collapsed": true,
     "input": [
      "img_name = 'cannes'"
     ],
     "language": "python",
     "metadata": {},
     "outputs": [],
     "prompt_number": 35
    },
    {
     "cell_type": "code",
     "collapsed": true,
     "input": [
      "im1 = 'pleiades_data/images/%s/im01.tif' % img_name\n",
      "im2 = 'pleiades_data/images/%s/im02.tif' % img_name\n",
      "im3 = 'pleiades_data/images/%s/im03.tif' % img_name\n",
      "rpc1 = 'pleiades_data/rpc/%s/rpc01.xml' % img_name\n",
      "rpc2 = 'pleiades_data/rpc/%s/rpc02.xml' % img_name\n",
      "rpc3 = 'pleiades_data/rpc/%s/rpc03.xml' % img_name\n",
      "prev2 = 'pleiades_data/images/%s/prev02.jpg' % img_name"
     ],
     "language": "python",
     "metadata": {},
     "outputs": [],
     "prompt_number": 36
    },
    {
     "cell_type": "code",
     "collapsed": false,
     "input": [
      "RPC1 = rpc_model.RPCModel(rpc1)\n",
      "RPC2 = rpc_model.RPCModel(rpc2)\n",
      "RPC3 = rpc_model.RPCModel(rpc3)"
     ],
     "language": "python",
     "metadata": {},
     "outputs": [],
     "prompt_number": 37
    },
    {
     "cell_type": "code",
     "collapsed": false,
     "input": [
      "x, y, w, h = common.get_roi_coordinates(RPC2, prev2)\n",
      "crop = common.image_crop_TIFF(im2, x, y, w, h)\n",
      "common.run('v %s &' % crop)\n",
      "print x, y, w, h"
     ],
     "language": "python",
     "metadata": {},
     "outputs": [
      {
       "output_type": "stream",
       "stream": "stdout",
       "text": [
        "imprintf \"%w %h\" 'pleiades_data/images/cannes/prev02.jpg' > /tmp/s2p_mD1BER.txt"
       ]
      },
      {
       "output_type": "stream",
       "stream": "stdout",
       "text": [
        "\n",
        "/Users/carlo/code/s2p/python/viewGL.py 'pleiades_data/images/cannes/prev02.jpg' > /tmp/s2p_X5zSkf.txt"
       ]
      },
      {
       "output_type": "stream",
       "stream": "stdout",
       "text": [
        "\n",
        "gdal_translate -srcwin 15755 21870 1232 1232 'pleiades_data/images/cannes/im02.tif' '/tmp/s2p_pwMg_g.tif'"
       ]
      },
      {
       "output_type": "stream",
       "stream": "stdout",
       "text": [
        "\n",
        "tiffcp /tmp/s2p_pwMg_g.tif /tmp/s2p_CpbrTz.tif 2> /dev/null"
       ]
      },
      {
       "output_type": "stream",
       "stream": "stdout",
       "text": [
        "\n",
        "v /tmp/s2p_CpbrTz.tif &\n"
       ]
      }
     ],
     "prompt_number": 15
    },
    {
     "cell_type": "markdown",
     "metadata": {},
     "source": [
      "### Toulouse"
     ]
    },
    {
     "cell_type": "code",
     "collapsed": false,
     "input": [
      "exp_name = 'saint_sernin'\n",
      "x, y, w, h = 19451, 14072, 572, 527\n",
      "main_script.global_params.subsampling_factor = 1"
     ],
     "language": "python",
     "metadata": {},
     "outputs": [],
     "prompt_number": 28
    },
    {
     "cell_type": "code",
     "collapsed": true,
     "input": [
      "tile_composer.process_pair(img_name, exp_name, x, y, w, h, 350, 600, 50, 2, 1)"
     ],
     "language": "python",
     "metadata": {},
     "outputs": [
      {
       "output_type": "stream",
       "stream": "stdout",
       "text": [
        "gdal_translate -srcwin 19451 14072 572 527 'pleiades_data/images/toulouse/im02.tif' '/tmp/s2p_jOk5Zf.tif'\n",
        "tiffcp /tmp/s2p_jOk5Zf.tif /tmp/s2p_eLUWJa.tif 2> /dev/null"
       ]
      },
      {
       "output_type": "stream",
       "stream": "stdout",
       "text": [
        "\n",
        "gdal_translate -srcwin 19459 13305 573 591 'pleiades_data/images/toulouse/im01.tif' '/tmp/s2p_wvXhuK.tif'\n",
        "tiffcp /tmp/s2p_wvXhuK.tif /tmp/s2p_3oURdd.tif 2> /dev/null"
       ]
      },
      {
       "output_type": "stream",
       "stream": "stdout",
       "text": [
        "\n",
        "qauto /tmp/s2p_eLUWJa.tif /tmp/s2p_RmkbBd.png 2> /dev/null\n",
        "sift_keypoints /tmp/s2p_RmkbBd.png /tmp/s2p_9DoRRL.txt"
       ]
      },
      {
       "output_type": "stream",
       "stream": "stdout",
       "text": [
        "\n",
        "awk '{if (NR!=1) {print}}' /tmp/s2p_9DoRRL.txt > /tmp/s2p_mKkmSX.txt"
       ]
      },
      {
       "output_type": "stream",
       "stream": "stdout",
       "text": [
        "\n",
        "cp /tmp/s2p_mKkmSX.txt /tmp/s2p_9DoRRL.txt"
       ]
      },
      {
       "output_type": "stream",
       "stream": "stdout",
       "text": [
        "\n",
        "qauto /tmp/s2p_3oURdd.tif /tmp/s2p_0ywuDO.png 2> /dev/null\n",
        "sift_keypoints /tmp/s2p_0ywuDO.png /tmp/s2p_dPSjJi.txt"
       ]
      },
      {
       "output_type": "stream",
       "stream": "stdout",
       "text": [
        "\n",
        "awk '{if (NR!=1) {print}}' /tmp/s2p_dPSjJi.txt > /tmp/s2p_WQjhiV.txt"
       ]
      },
      {
       "output_type": "stream",
       "stream": "stdout",
       "text": [
        "\n",
        "cp /tmp/s2p_WQjhiV.txt /tmp/s2p_dPSjJi.txt"
       ]
      },
      {
       "output_type": "stream",
       "stream": "stdout",
       "text": [
        "\n",
        "matching /tmp/s2p_9DoRRL.txt /tmp/s2p_dPSjJi.txt 1 0.400000 4 8 36 > /tmp/s2p_DyKjyj.txt\n",
        "ransac fmn 1000 .3 7 /tmp/s2p_J8qJv9.txt < /tmp/s2p_DDBdNS.txt"
       ]
      },
      {
       "output_type": "stream",
       "stream": "stdout",
       "text": [
        "\n",
        "running optimization using 153 matches"
       ]
      },
      {
       "output_type": "stream",
       "stream": "stdout",
       "text": [
        "\n",
        "[ -1.96769606e-28   6.50530691e-01   1.26133356e-01   3.51148383e-29]"
       ]
      },
      {
       "output_type": "stream",
       "stream": "stdout",
       "text": [
        " 19.545111866 {'warnflag': 0, 'task': 'CONVERGENCE: REL_REDUCTION_OF_F_<=_FACTR*EPSMCH', 'grad': array([-0.04759357, -0.94211146, -0.29009577, -0.01596838]), 'nit': 20, 'funcalls': 70}\n",
        "[19451 19751]\n",
        "[14072]\n",
        "mkdir /tmp//saint_sernin_19451_14072\n",
        "ROI x, y, w, h = 19451, 14072, 350, 600\n",
        "gdal_translate -srcwin 19451 14072 350 600 'pleiades_data/images/toulouse/im02.tif' '/tmp/s2p_kwcuZf.tif'"
       ]
      },
      {
       "output_type": "stream",
       "stream": "stdout",
       "text": [
        "\n",
        "tiffcp /tmp/s2p_kwcuZf.tif /tmp/s2p_NPh3Pt.tif 2> /dev/null\n",
        "gdal_translate -srcwin 19459 13305 354 654 'pleiades_data/images/toulouse/im01.tif' '/tmp/s2p_G6x995.tif'"
       ]
      },
      {
       "output_type": "stream",
       "stream": "stdout",
       "text": [
        "\n",
        "tiffcp /tmp/s2p_G6x995.tif /tmp/s2p_yKlhQD.tif 2> /dev/null\n",
        "qauto /tmp/s2p_NPh3Pt.tif /tmp/s2p_kla84y.png 2> /dev/null"
       ]
      },
      {
       "output_type": "stream",
       "stream": "stdout",
       "text": [
        "\n",
        "sift_keypoints /tmp/s2p_kla84y.png /tmp/s2p_OOCqwL.txt"
       ]
      },
      {
       "output_type": "stream",
       "stream": "stdout",
       "text": [
        "\n",
        "awk '{if (NR!=1) {print}}' /tmp/s2p_OOCqwL.txt > /tmp/s2p_OYDzMO.txt"
       ]
      },
      {
       "output_type": "stream",
       "stream": "stdout",
       "text": [
        "\n",
        "cp /tmp/s2p_OYDzMO.txt /tmp/s2p_OOCqwL.txt\n",
        "qauto /tmp/s2p_yKlhQD.tif /tmp/s2p_4tdSW0.png 2> /dev/null"
       ]
      },
      {
       "output_type": "stream",
       "stream": "stdout",
       "text": [
        "\n",
        "sift_keypoints /tmp/s2p_4tdSW0.png /tmp/s2p_H2XX7s.txt"
       ]
      },
      {
       "output_type": "stream",
       "stream": "stdout",
       "text": [
        "\n",
        "awk '{if (NR!=1) {print}}' /tmp/s2p_H2XX7s.txt > /tmp/s2p_VNMHKh.txt"
       ]
      },
      {
       "output_type": "stream",
       "stream": "stdout",
       "text": [
        "\n",
        "cp /tmp/s2p_VNMHKh.txt /tmp/s2p_H2XX7s.txt\n",
        "matching /tmp/s2p_OOCqwL.txt /tmp/s2p_H2XX7s.txt 1 0.400000 4 8 36 > /tmp/s2p_wXm7D7.txt"
       ]
      },
      {
       "output_type": "stream",
       "stream": "stdout",
       "text": [
        "\n",
        "ransac fmn 1000 .3 7 /tmp/s2p_aCpH1m.txt < /tmp/s2p_YA2xWK.txt"
       ]
      },
      {
       "output_type": "stream",
       "stream": "stdout",
       "text": [
        "\n",
        "running optimization using 132 matches\n",
        "[  2.71017274e-28   6.35518509e-01   1.22488194e-01   5.33505119e-29]"
       ]
      },
      {
       "output_type": "stream",
       "stream": "stdout",
       "text": [
        " 16.4679390866 {'warnflag': 0, 'task': 'CONVERGENCE: REL_REDUCTION_OF_F_<=_FACTR*EPSMCH', 'grad': array([ 0.03985754, -0.11885462, -0.01069473, -0.00979199]), 'nit': 15, 'funcalls': 47}\n",
        "step 1: find matches, and center them ------------------------------\n",
        "applying pointing error correction"
       ]
      },
      {
       "output_type": "stream",
       "stream": "stdout",
       "text": [
        "\n",
        "step 2: estimate F (8-points algorithm) ----------------------------\n",
        "step 3: compute rectifying homographies (loop-zhang algorithm) -----\n",
        "rectify_mindistortion /tmp/s2p_Gwt8E7.txt 350 600 /tmp/s2p_UJmyPH.txt /tmp/s2p_5FXMWb.txt > /dev/null\n",
        "max, min, mean rectification error on rpc matches ------------------"
       ]
      },
      {
       "output_type": "stream",
       "stream": "stdout",
       "text": [
        "\n",
        "0.00407910081097 1.64572046515e-05 0.00125897526092\n",
        "step 4: pull back top-left corner of the ROI in the origin ---------\n",
        "step 5: horizontal registration ------------------------------------\n",
        "gdal_translate -srcwin 19451 14072 350 600 'pleiades_data/images/toulouse/im02.tif' '/tmp/s2p_Jn_003.tif'"
       ]
      },
      {
       "output_type": "stream",
       "stream": "stdout",
       "text": [
        "\n",
        "tiffcp /tmp/s2p_Jn_003.tif /tmp/s2p_5je6WE.tif 2> /dev/null\n",
        "gdal_translate -srcwin 19459 13305 354 654 'pleiades_data/images/toulouse/im01.tif' '/tmp/s2p_xxTEVi.tif'"
       ]
      },
      {
       "output_type": "stream",
       "stream": "stdout",
       "text": [
        "\n",
        "tiffcp /tmp/s2p_xxTEVi.tif /tmp/s2p_dcTewA.tif 2> /dev/null\n",
        "qauto /tmp/s2p_5je6WE.tif /tmp/s2p_WJSdS8.png 2> /dev/null"
       ]
      },
      {
       "output_type": "stream",
       "stream": "stdout",
       "text": [
        "\n",
        "sift_keypoints /tmp/s2p_WJSdS8.png /tmp/s2p_cHm8xk.txt"
       ]
      },
      {
       "output_type": "stream",
       "stream": "stdout",
       "text": [
        "\n",
        "awk '{if (NR!=1) {print}}' /tmp/s2p_cHm8xk.txt > /tmp/s2p_ElFd71.txt"
       ]
      },
      {
       "output_type": "stream",
       "stream": "stdout",
       "text": [
        "\n",
        "cp /tmp/s2p_ElFd71.txt /tmp/s2p_cHm8xk.txt\n",
        "qauto /tmp/s2p_dcTewA.tif /tmp/s2p_vzMC2D.png 2> /dev/null\n",
        "sift_keypoints /tmp/s2p_vzMC2D.png /tmp/s2p_C4TDCW.txt"
       ]
      },
      {
       "output_type": "stream",
       "stream": "stdout",
       "text": [
        "\n",
        "awk '{if (NR!=1) {print}}' /tmp/s2p_C4TDCW.txt > /tmp/s2p_MKr6uW.txt"
       ]
      },
      {
       "output_type": "stream",
       "stream": "stdout",
       "text": [
        "\n",
        "cp /tmp/s2p_MKr6uW.txt /tmp/s2p_C4TDCW.txt\n",
        "matching /tmp/s2p_cHm8xk.txt /tmp/s2p_C4TDCW.txt 1 0.400000 4 8 36 > /tmp/s2p_kDHgsr.txt"
       ]
      },
      {
       "output_type": "stream",
       "stream": "stdout",
       "text": [
        "\n",
        "remaining sift matches"
       ]
      },
      {
       "output_type": "stream",
       "stream": "stdout",
       "text": [
        " 154\n",
        "Residual vertical disparities: max, min, mean. Should be zero ------\n",
        "0.467217474477 -0.493403932626 -0.0146975152814\n",
        "gdal_translate -srcwin 19338 14006 575 732 'pleiades_data/images/toulouse/im02.tif' '/tmp/s2p_QDDiXs.tif'\n",
        "tiffcp /tmp/s2p_QDDiXs.tif /tmp/s2p_sMD2Vn.tif 2> /dev/null"
       ]
      },
      {
       "output_type": "stream",
       "stream": "stdout",
       "text": [
        "\n",
        "imprintf \"%c\" '/tmp/s2p_sMD2Vn.tif' > /tmp/s2p_PSXTds.txt\n",
        "zoom_zeropadding /tmp/s2p_sMD2Vn.tif /Users/carlo/code/s2p/python/../pleiades_data/idata_0009_MTF_89x89.tif /tmp/s2p_fDPVil.tif\n",
        "fftconvolve /tmp/s2p_fDPVil.tif /tmp/s2p_sMD2Vn.tif /tmp/s2p_6DcAhB.tif"
       ]
      },
      {
       "output_type": "stream",
       "stream": "stdout",
       "text": [
        "\n",
        "homography /tmp/s2p_6DcAhB.tif /tmp/s2p_rfPJET.txt /tmp/s2p_SyWjc5.png /tmp//saint_sernin_19451_14072/2.tif 0 654 456"
       ]
      },
      {
       "output_type": "stream",
       "stream": "stdout",
       "text": [
        "\n",
        "gdal_translate -srcwin 19349 13272 568 748 'pleiades_data/images/toulouse/im01.tif' '/tmp/s2p_t4RS0j.tif'"
       ]
      },
      {
       "output_type": "stream",
       "stream": "stdout",
       "text": [
        "\n",
        "tiffcp /tmp/s2p_t4RS0j.tif /tmp/s2p_9QjSEJ.tif 2> /dev/null"
       ]
      },
      {
       "output_type": "stream",
       "stream": "stdout",
       "text": [
        "\n",
        "imprintf \"%c\" '/tmp/s2p_9QjSEJ.tif' > /tmp/s2p_SgcVPM.txt\n",
        "zoom_zeropadding /tmp/s2p_9QjSEJ.tif /Users/carlo/code/s2p/python/../pleiades_data/idata_0009_MTF_89x89.tif /tmp/s2p_jzE2yN.tif\n",
        "fftconvolve /tmp/s2p_jzE2yN.tif /tmp/s2p_9QjSEJ.tif /tmp/s2p_uculRu.tif"
       ]
      },
      {
       "output_type": "stream",
       "stream": "stdout",
       "text": [
        "\n",
        "homography /tmp/s2p_uculRu.tif /tmp/s2p_H5otrt.txt /tmp/s2p_n2nLC2.png /tmp//saint_sernin_19451_14072/1.tif 0 654 456"
       ]
      },
      {
       "output_type": "stream",
       "stream": "stdout",
       "text": [
        "\n",
        "/Users/carlo/code/s2p/python/../3rdparty/stereo_hirschmuller_2008/callSGBM.sh /tmp//saint_sernin_19451_14072/2.tif /tmp//saint_sernin_19451_14072/1.tif /tmp//saint_sernin_19451_14072/disp.pgm /tmp//saint_sernin_19451_14072/mask.png -7 4 "
       ]
      },
      {
       "output_type": "stream",
       "stream": "stdout",
       "text": [
        "\n",
        "disp_to_h pleiades_data/rpc/toulouse/rpc02.xml pleiades_data/rpc/toulouse/rpc01.xml /tmp/s2p_8OuDoi.txt /tmp/s2p_NkFcKL.txt /tmp//saint_sernin_19451_14072/disp.pgm /tmp//saint_sernin_19451_14072/mask.png /tmp//saint_sernin_19451_14072/height.tif /tmp//saint_sernin_19451_14072/rpc_err.tif"
       ]
      },
      {
       "output_type": "stream",
       "stream": "stdout",
       "text": [
        "\n",
        "gdal_translate -srcwin 19451 14072 350 600 'pleiades_data/images/toulouse/im02.tif' '/tmp/s2p_aIPPxq.tif'"
       ]
      },
      {
       "output_type": "stream",
       "stream": "stdout",
       "text": [
        "\n",
        "tiffcp /tmp/s2p_aIPPxq.tif /tmp/s2p_xUSnLM.tif 2> /dev/null\n",
        "synflow hom \"0.1902615503310747 -0.97925310382650954 587.55186229590572 0.9792725483323631 0.19020578304371488 0.0 5.9308999999999999e-08 -1.14767e-07 1.0000240504839439\" /tmp/s2p_xUSnLM.tif /dev/null - | BILINEAR=1 backflow - /tmp//saint_sernin_19451_14072/height.tif /tmp//saint_sernin_19451_14072/height_unrect.tif"
       ]
      },
      {
       "output_type": "stream",
       "stream": "stdout",
       "text": [
        "\n",
        "synflow hom \"0.1902615503310747 -0.97925310382650954 587.55186229590572 0.9792725483323631 0.19020578304371488 0.0 5.9308999999999999e-08 -1.14767e-07 1.0000240504839439\" /tmp/s2p_xUSnLM.tif /dev/null - | BILINEAR=1 backflow - /tmp//saint_sernin_19451_14072/mask.png /tmp//saint_sernin_19451_14072/mask_unrect.png"
       ]
      },
      {
       "output_type": "stream",
       "stream": "stdout",
       "text": [
        "\n",
        "v /tmp//saint_sernin_19451_14072/2.tif /tmp//saint_sernin_19451_14072/1.tif /tmp//saint_sernin_19451_14072/disp.pgm /tmp//saint_sernin_19451_14072/mask.png"
       ]
      },
      {
       "output_type": "stream",
       "stream": "stdout",
       "text": [
        "\n",
        "mkdir /tmp//saint_sernin_19751_14072\n",
        "ROI x, y, w, h = 19751, 14072, 350, 600\n",
        "gdal_translate -srcwin 19751 14072 350 600 'pleiades_data/images/toulouse/im02.tif' '/tmp/s2p_sbyU86.tif'"
       ]
      },
      {
       "output_type": "stream",
       "stream": "stdout",
       "text": [
        "\n",
        "tiffcp /tmp/s2p_sbyU86.tif /tmp/s2p_NUQmms.tif 2> /dev/null\n",
        "gdal_translate -srcwin 19755 13318 354 655 'pleiades_data/images/toulouse/im01.tif' '/tmp/s2p_YxO7lf.tif'"
       ]
      },
      {
       "output_type": "stream",
       "stream": "stdout",
       "text": [
        "\n",
        "tiffcp /tmp/s2p_YxO7lf.tif /tmp/s2p_op615u.tif 2> /dev/null\n",
        "qauto /tmp/s2p_NUQmms.tif /tmp/s2p_dI5sK7.png 2> /dev/null"
       ]
      },
      {
       "output_type": "stream",
       "stream": "stdout",
       "text": [
        "\n",
        "sift_keypoints /tmp/s2p_dI5sK7.png /tmp/s2p_OY_H2T.txt"
       ]
      },
      {
       "output_type": "stream",
       "stream": "stdout",
       "text": [
        "\n",
        "awk '{if (NR!=1) {print}}' /tmp/s2p_OY_H2T.txt > /tmp/s2p_9_Q4nY.txt"
       ]
      },
      {
       "output_type": "stream",
       "stream": "stdout",
       "text": [
        "\n",
        "cp /tmp/s2p_9_Q4nY.txt /tmp/s2p_OY_H2T.txt\n",
        "qauto /tmp/s2p_op615u.tif /tmp/s2p_t01GYJ.png 2> /dev/null"
       ]
      },
      {
       "output_type": "stream",
       "stream": "stdout",
       "text": [
        "\n",
        "sift_keypoints /tmp/s2p_t01GYJ.png /tmp/s2p_2PX_Zq.txt"
       ]
      },
      {
       "output_type": "stream",
       "stream": "stdout",
       "text": [
        "\n",
        "awk '{if (NR!=1) {print}}' /tmp/s2p_2PX_Zq.txt > /tmp/s2p_40aI0W.txt"
       ]
      },
      {
       "output_type": "stream",
       "stream": "stdout",
       "text": [
        "\n",
        "cp /tmp/s2p_40aI0W.txt /tmp/s2p_2PX_Zq.txt"
       ]
      },
      {
       "output_type": "stream",
       "stream": "stdout",
       "text": [
        "\n",
        "matching /tmp/s2p_OY_H2T.txt /tmp/s2p_2PX_Zq.txt 1 0.400000 4 8 36 > /tmp/s2p_Q7rZjc.txt\n",
        "ransac fmn 1000 .3 7 /tmp/s2p_ToODLs.txt < /tmp/s2p_LRJZuL.txt"
       ]
      },
      {
       "output_type": "stream",
       "stream": "stdout",
       "text": [
        "\n",
        "running optimization using 101 matches\n",
        "[  6.14439859e-24   6.41142200e-01   1.23292998e-01   5.86195610e-24]"
       ]
      },
      {
       "output_type": "stream",
       "stream": "stdout",
       "text": [
        " 17.0022514658 {'warnflag': 2, 'task': 'ABNORMAL_TERMINATION_IN_LNSRCH', 'grad': array([ 0.04667733,  0.98013331,  0.02743867,  0.04606378]), 'nit': 8, 'funcalls': 88}\n",
        "step 1: find matches, and center them ------------------------------\n",
        "applying pointing error correction"
       ]
      },
      {
       "output_type": "stream",
       "stream": "stdout",
       "text": [
        "\n",
        "step 2: estimate F (8-points algorithm) ----------------------------\n",
        "step 3: compute rectifying homographies (loop-zhang algorithm) -----\n",
        "rectify_mindistortion /tmp/s2p_3gVVPs.txt 350 600 /tmp/s2p_Emhgjz.txt /tmp/s2p_mMCfOV.txt > /dev/null\n",
        "max, min, mean rectification error on rpc matches ------------------"
       ]
      },
      {
       "output_type": "stream",
       "stream": "stdout",
       "text": [
        "\n",
        "0.00415558314559 3.86059194568e-06 0.00129529341942\n",
        "step 4: pull back top-left corner of the ROI in the origin ---------\n",
        "step 5: horizontal registration ------------------------------------\n",
        "gdal_translate -srcwin 19751 14072 350 600 'pleiades_data/images/toulouse/im02.tif' '/tmp/s2p_fos_dE.tif'"
       ]
      },
      {
       "output_type": "stream",
       "stream": "stdout",
       "text": [
        "\n",
        "tiffcp /tmp/s2p_fos_dE.tif /tmp/s2p_DJVXNz.tif 2> /dev/null\n",
        "gdal_translate -srcwin 19755 13318 354 655 'pleiades_data/images/toulouse/im01.tif' '/tmp/s2p_mnfozm.tif'"
       ]
      },
      {
       "output_type": "stream",
       "stream": "stdout",
       "text": [
        "\n",
        "tiffcp /tmp/s2p_mnfozm.tif /tmp/s2p_r8R2rM.tif 2> /dev/null\n",
        "qauto /tmp/s2p_DJVXNz.tif /tmp/s2p_iB727Z.png 2> /dev/null"
       ]
      },
      {
       "output_type": "stream",
       "stream": "stdout",
       "text": [
        "\n",
        "sift_keypoints /tmp/s2p_iB727Z.png /tmp/s2p_VLW0Hn.txt"
       ]
      },
      {
       "output_type": "stream",
       "stream": "stdout",
       "text": [
        "\n",
        "awk '{if (NR!=1) {print}}' /tmp/s2p_VLW0Hn.txt > /tmp/s2p_zVJU8L.txt"
       ]
      },
      {
       "output_type": "stream",
       "stream": "stdout",
       "text": [
        "\n",
        "cp /tmp/s2p_zVJU8L.txt /tmp/s2p_VLW0Hn.txt\n",
        "qauto /tmp/s2p_r8R2rM.tif /tmp/s2p_dfdgiJ.png 2> /dev/null"
       ]
      },
      {
       "output_type": "stream",
       "stream": "stdout",
       "text": [
        "\n",
        "sift_keypoints /tmp/s2p_dfdgiJ.png /tmp/s2p_tVadDk.txt"
       ]
      },
      {
       "output_type": "stream",
       "stream": "stdout",
       "text": [
        "\n",
        "awk '{if (NR!=1) {print}}' /tmp/s2p_tVadDk.txt > /tmp/s2p_69Lxgq.txt"
       ]
      },
      {
       "output_type": "stream",
       "stream": "stdout",
       "text": [
        "\n",
        "cp /tmp/s2p_69Lxgq.txt /tmp/s2p_tVadDk.txt\n",
        "matching /tmp/s2p_VLW0Hn.txt /tmp/s2p_tVadDk.txt 1 0.400000 4 8 36 > /tmp/s2p_LCQHFE.txt"
       ]
      },
      {
       "output_type": "stream",
       "stream": "stdout",
       "text": [
        "\n",
        "remaining sift matches"
       ]
      },
      {
       "output_type": "stream",
       "stream": "stdout",
       "text": [
        " 126\n",
        "Residual vertical disparities: max, min, mean. Should be zero ------\n",
        "0.449625865211 -0.445434844696 -0.0111557446298\n",
        "gdal_translate -srcwin 19638 14006 575 732 'pleiades_data/images/toulouse/im02.tif' '/tmp/s2p_8dknMW.tif'\n",
        "tiffcp /tmp/s2p_8dknMW.tif /tmp/s2p_F3RuA4.tif 2> /dev/null\n",
        "imprintf \"%c\" '/tmp/s2p_F3RuA4.tif' > /tmp/s2p_XND5iy.txt"
       ]
      },
      {
       "output_type": "stream",
       "stream": "stdout",
       "text": [
        "\n",
        "zoom_zeropadding /tmp/s2p_F3RuA4.tif /Users/carlo/code/s2p/python/../pleiades_data/idata_0009_MTF_89x89.tif /tmp/s2p_lUFuip.tif\n",
        "fftconvolve /tmp/s2p_lUFuip.tif /tmp/s2p_F3RuA4.tif /tmp/s2p_wLnbY6.tif"
       ]
      },
      {
       "output_type": "stream",
       "stream": "stdout",
       "text": [
        "\n",
        "homography /tmp/s2p_wLnbY6.tif /tmp/s2p_JCjOq5.txt /tmp/s2p_QpyT8c.png /tmp//saint_sernin_19751_14072/2.tif 0 654 456"
       ]
      },
      {
       "output_type": "stream",
       "stream": "stdout",
       "text": [
        "\n",
        "gdal_translate -srcwin 19645 13285 568 746 'pleiades_data/images/toulouse/im01.tif' '/tmp/s2p_BUzg6H.tif'"
       ]
      },
      {
       "output_type": "stream",
       "stream": "stdout",
       "text": [
        "\n",
        "tiffcp /tmp/s2p_BUzg6H.tif /tmp/s2p_4Mb2Or.tif 2> /dev/null\n",
        "imprintf \"%c\" '/tmp/s2p_4Mb2Or.tif' > /tmp/s2p_kkoQBP.txt"
       ]
      },
      {
       "output_type": "stream",
       "stream": "stdout",
       "text": [
        "\n",
        "zoom_zeropadding /tmp/s2p_4Mb2Or.tif /Users/carlo/code/s2p/python/../pleiades_data/idata_0009_MTF_89x89.tif /tmp/s2p_izSRoj.tif\n",
        "fftconvolve /tmp/s2p_izSRoj.tif /tmp/s2p_4Mb2Or.tif /tmp/s2p_7StqZI.tif"
       ]
      },
      {
       "output_type": "stream",
       "stream": "stdout",
       "text": [
        "\n",
        "homography /tmp/s2p_7StqZI.tif /tmp/s2p_ItTFPr.txt /tmp/s2p_oJxiWE.png /tmp//saint_sernin_19751_14072/1.tif 0 654 456"
       ]
      },
      {
       "output_type": "stream",
       "stream": "stdout",
       "text": [
        "\n",
        "/Users/carlo/code/s2p/python/../3rdparty/stereo_hirschmuller_2008/callSGBM.sh /tmp//saint_sernin_19751_14072/2.tif /tmp//saint_sernin_19751_14072/1.tif /tmp//saint_sernin_19751_14072/disp.pgm /tmp//saint_sernin_19751_14072/mask.png -8 6 "
       ]
      },
      {
       "output_type": "stream",
       "stream": "stdout",
       "text": [
        "\n",
        "disp_to_h pleiades_data/rpc/toulouse/rpc02.xml pleiades_data/rpc/toulouse/rpc01.xml /tmp/s2p_Dal7H2.txt /tmp/s2p_7SfJvk.txt /tmp//saint_sernin_19751_14072/disp.pgm /tmp//saint_sernin_19751_14072/mask.png /tmp//saint_sernin_19751_14072/height.tif /tmp//saint_sernin_19751_14072/rpc_err.tif"
       ]
      },
      {
       "output_type": "stream",
       "stream": "stdout",
       "text": [
        "\n",
        "gdal_translate -srcwin 19751 14072 350 600 'pleiades_data/images/toulouse/im02.tif' '/tmp/s2p_VjtMPB.tif'"
       ]
      },
      {
       "output_type": "stream",
       "stream": "stdout",
       "text": [
        "\n",
        "tiffcp /tmp/s2p_VjtMPB.tif /tmp/s2p_y_YS64.tif 2> /dev/null\n",
        "synflow hom \"0.19023761270621917 -0.97926121896458973 587.55673137875601 0.97928049292179586 0.19018088538962633 0.0 5.9068000000000003e-08 -1.14322e-07 1.0000239591706386\" /tmp/s2p_y_YS64.tif /dev/null - | BILINEAR=1 backflow - /tmp//saint_sernin_19751_14072/height.tif /tmp//saint_sernin_19751_14072/height_unrect.tif\n",
        "synflow hom \"0.19023761270621917 -0.97926121896458973 587.55673137875601 0.97928049292179586 0.19018088538962633 0.0 5.9068000000000003e-08 -1.14322e-07 1.0000239591706386\" /tmp/s2p_y_YS64.tif /dev/null - | BILINEAR=1 backflow - /tmp//saint_sernin_19751_14072/mask.png /tmp//saint_sernin_19751_14072/mask_unrect.png"
       ]
      },
      {
       "output_type": "stream",
       "stream": "stdout",
       "text": [
        "\n",
        "v /tmp//saint_sernin_19751_14072/2.tif /tmp//saint_sernin_19751_14072/1.tif /tmp//saint_sernin_19751_14072/disp.pgm /tmp//saint_sernin_19751_14072/mask.png"
       ]
      },
      {
       "output_type": "stream",
       "stream": "stdout",
       "text": [
        "\n",
        "plambda zero:572x527 \"nan\" > /tmp//saint_sernin_height_full.tif\n",
        "crop /tmp//saint_sernin_19451_14072/height_unrect.tif /tmp//saint_sernin_19451_14072/height_to_compose.tif 0 0 572 527"
       ]
      },
      {
       "output_type": "stream",
       "stream": "stdout",
       "text": [
        "\n",
        "veco med /tmp//saint_sernin_height_full.tif /tmp//saint_sernin_19451_14072/height_to_compose.tif | iion - /tmp//saint_sernin_height_full.tif\n",
        "crop /tmp//saint_sernin_19751_14072/height_unrect.tif /tmp//saint_sernin_19751_14072/height_to_compose.tif -300 0 572 527"
       ]
      },
      {
       "output_type": "stream",
       "stream": "stdout",
       "text": [
        "\n",
        "veco med /tmp//saint_sernin_height_full.tif /tmp//saint_sernin_19751_14072/height_to_compose.tif | iion - /tmp//saint_sernin_height_full.tif\n",
        "rm /tmp/s2p_y_YS64.tif"
       ]
      },
      {
       "output_type": "stream",
       "stream": "stdout",
       "text": [
        "\n",
        "rm /tmp/s2p_VjtMPB.tif\n",
        "rm /tmp/s2p_7SfJvk.txt\n",
        "rm /tmp/s2p_Dal7H2.txt\n",
        "rm /tmp/s2p_oJxiWE.png\n",
        "rm /tmp/s2p_ItTFPr.txt\n",
        "rm /tmp/s2p_7StqZI.tif\n",
        "rm /tmp/s2p_izSRoj.tif"
       ]
      },
      {
       "output_type": "stream",
       "stream": "stdout",
       "text": [
        "\n",
        "rm /tmp/s2p_kkoQBP.txt\n",
        "rm /tmp/s2p_4Mb2Or.tif\n",
        "rm /tmp/s2p_BUzg6H.tif\n",
        "rm /tmp/s2p_QpyT8c.png\n",
        "rm /tmp/s2p_JCjOq5.txt\n",
        "rm /tmp/s2p_wLnbY6.tif"
       ]
      },
      {
       "output_type": "stream",
       "stream": "stdout",
       "text": [
        "\n",
        "rm /tmp/s2p_lUFuip.tif\n",
        "rm /tmp/s2p_XND5iy.txt\n",
        "rm /tmp/s2p_F3RuA4.tif\n",
        "rm /tmp/s2p_8dknMW.tif\n",
        "rm /tmp/s2p_LCQHFE.txt\n",
        "rm /tmp/s2p_69Lxgq.txt"
       ]
      },
      {
       "output_type": "stream",
       "stream": "stdout",
       "text": [
        "\n",
        "rm /tmp/s2p_dfdgiJ.png\n",
        "rm /tmp/s2p_tVadDk.txt\n",
        "rm /tmp/s2p_zVJU8L.txt\n",
        "rm /tmp/s2p_iB727Z.png\n",
        "rm /tmp/s2p_VLW0Hn.txt\n",
        "rm /tmp/s2p_r8R2rM.tif"
       ]
      },
      {
       "output_type": "stream",
       "stream": "stdout",
       "text": [
        "\n",
        "rm /tmp/s2p_mnfozm.tif\n",
        "rm /tmp/s2p_DJVXNz.tif\n",
        "rm /tmp/s2p_fos_dE.tif\n",
        "rm /tmp/s2p_NEIn07.txt\n",
        "rm /tmp/s2p_ejs39u.txt\n",
        "rm /tmp/s2p_mMCfOV.txt"
       ]
      },
      {
       "output_type": "stream",
       "stream": "stdout",
       "text": [
        "\n",
        "rm /tmp/s2p_Emhgjz.txt\n",
        "rm /tmp/s2p_3gVVPs.txt\n",
        "rm /tmp/s2p_lqQw8E.txt\n",
        "rm /tmp/s2p_yrtu66.txt\n",
        "rm /tmp/s2p_ToODLs.txt\n",
        "rm /tmp/s2p_LRJZuL.txt"
       ]
      },
      {
       "output_type": "stream",
       "stream": "stdout",
       "text": [
        "\n",
        "rm /tmp/s2p_Q7rZjc.txt\n",
        "rm /tmp/s2p_40aI0W.txt\n",
        "rm /tmp/s2p_t01GYJ.png\n",
        "rm /tmp/s2p_2PX_Zq.txt\n",
        "rm /tmp/s2p_9_Q4nY.txt\n",
        "rm /tmp/s2p_dI5sK7.png"
       ]
      },
      {
       "output_type": "stream",
       "stream": "stdout",
       "text": [
        "\n",
        "rm /tmp/s2p_OY_H2T.txt\n",
        "rm /tmp/s2p_op615u.tif\n",
        "rm /tmp/s2p_YxO7lf.tif\n",
        "rm /tmp/s2p_NUQmms.tif\n",
        "rm /tmp/s2p_sbyU86.tif\n",
        "rm /tmp/s2p_TMNQss.txt"
       ]
      },
      {
       "output_type": "stream",
       "stream": "stdout",
       "text": [
        "\n",
        "rm /tmp/s2p_DpWnYu.txt\n",
        "rm /tmp/s2p_xUSnLM.tif\n",
        "rm /tmp/s2p_aIPPxq.tif\n",
        "rm /tmp/s2p_NkFcKL.txt\n",
        "rm /tmp/s2p_8OuDoi.txt\n",
        "rm /tmp/s2p_n2nLC2.png"
       ]
      },
      {
       "output_type": "stream",
       "stream": "stdout",
       "text": [
        "\n",
        "rm /tmp/s2p_H5otrt.txt\n",
        "rm /tmp/s2p_uculRu.tif\n",
        "rm /tmp/s2p_jzE2yN.tif\n",
        "rm /tmp/s2p_SgcVPM.txt\n",
        "rm /tmp/s2p_9QjSEJ.tif\n",
        "rm /tmp/s2p_t4RS0j.tif"
       ]
      },
      {
       "output_type": "stream",
       "stream": "stdout",
       "text": [
        "\n",
        "rm /tmp/s2p_SyWjc5.png\n",
        "rm /tmp/s2p_rfPJET.txt\n",
        "rm /tmp/s2p_6DcAhB.tif\n",
        "rm /tmp/s2p_fDPVil.tif\n",
        "rm /tmp/s2p_PSXTds.txt\n",
        "rm /tmp/s2p_sMD2Vn.tif"
       ]
      },
      {
       "output_type": "stream",
       "stream": "stdout",
       "text": [
        "\n",
        "rm /tmp/s2p_QDDiXs.tif\n",
        "rm /tmp/s2p_kDHgsr.txt\n",
        "rm /tmp/s2p_MKr6uW.txt\n",
        "rm /tmp/s2p_vzMC2D.png\n",
        "rm /tmp/s2p_C4TDCW.txt\n",
        "rm /tmp/s2p_ElFd71.txt"
       ]
      },
      {
       "output_type": "stream",
       "stream": "stdout",
       "text": [
        "\n",
        "rm /tmp/s2p_WJSdS8.png\n",
        "rm /tmp/s2p_cHm8xk.txt\n",
        "rm /tmp/s2p_dcTewA.tif\n",
        "rm /tmp/s2p_xxTEVi.tif\n",
        "rm /tmp/s2p_5je6WE.tif\n",
        "rm /tmp/s2p_Jn_003.tif"
       ]
      },
      {
       "output_type": "stream",
       "stream": "stdout",
       "text": [
        "\n",
        "rm /tmp/s2p_ido1Ut.txt\n",
        "rm /tmp/s2p_7aF40M.txt\n",
        "rm /tmp/s2p_5FXMWb.txt\n",
        "rm /tmp/s2p_UJmyPH.txt\n",
        "rm /tmp/s2p_Gwt8E7.txt\n",
        "rm /tmp/s2p_vYqyGb.txt"
       ]
      },
      {
       "output_type": "stream",
       "stream": "stdout",
       "text": [
        "\n",
        "rm /tmp/s2p_1pjnPA.txt\n",
        "rm /tmp/s2p_aCpH1m.txt\n",
        "rm /tmp/s2p_YA2xWK.txt\n",
        "rm /tmp/s2p_wXm7D7.txt\n",
        "rm /tmp/s2p_VNMHKh.txt\n",
        "rm /tmp/s2p_4tdSW0.png"
       ]
      },
      {
       "output_type": "stream",
       "stream": "stdout",
       "text": [
        "\n",
        "rm /tmp/s2p_H2XX7s.txt\n",
        "rm /tmp/s2p_OYDzMO.txt\n",
        "rm /tmp/s2p_kla84y.png\n",
        "rm /tmp/s2p_OOCqwL.txt\n",
        "rm /tmp/s2p_yKlhQD.tif\n",
        "rm /tmp/s2p_G6x995.tif"
       ]
      },
      {
       "output_type": "stream",
       "stream": "stdout",
       "text": [
        "\n",
        "rm /tmp/s2p_NPh3Pt.tif\n",
        "rm /tmp/s2p_kwcuZf.tif\n",
        "rm /tmp/s2p_Z1kYFa.txt\n",
        "rm /tmp/s2p_J35L5p.txt\n",
        "rm /tmp/s2p_J8qJv9.txt\n",
        "rm /tmp/s2p_DDBdNS.txt"
       ]
      },
      {
       "output_type": "stream",
       "stream": "stdout",
       "text": [
        "\n",
        "rm /tmp/s2p_DyKjyj.txt\n",
        "rm /tmp/s2p_WQjhiV.txt\n",
        "rm /tmp/s2p_0ywuDO.png\n",
        "rm /tmp/s2p_dPSjJi.txt\n",
        "rm /tmp/s2p_mKkmSX.txt\n",
        "rm /tmp/s2p_RmkbBd.png"
       ]
      },
      {
       "output_type": "stream",
       "stream": "stdout",
       "text": [
        "\n",
        "rm /tmp/s2p_9DoRRL.txt\n",
        "rm /tmp/s2p_3oURdd.tif\n",
        "rm /tmp/s2p_wvXhuK.tif\n",
        "rm /tmp/s2p_eLUWJa.tif\n",
        "rm /tmp/s2p_jOk5Zf.tif\n",
        "rm /tmp/s2p_sTcWzQ.txt"
       ]
      },
      {
       "output_type": "stream",
       "stream": "stdout",
       "text": [
        "\n",
        "rm /tmp/s2p_VVETnI.txt\n",
        "rm /tmp/s2p_Yi_RRz.txt\n",
        "rm /tmp/s2p_Jdt3Cc.txt\n",
        "rm /tmp/s2p_DhaThZ.txt\n",
        "rm /tmp/s2p_k5x90C.txt\n",
        "rm /tmp/s2p_cqB1mL.png"
       ]
      },
      {
       "output_type": "stream",
       "stream": "stdout",
       "text": [
        "\n",
        "rm /tmp/s2p__0OfGE.txt\n",
        "rm /tmp/s2p_24mlDJ.txt\n",
        "rm /tmp/s2p_0r5JOc.png\n",
        "rm /tmp/s2p_7prMVI.txt\n",
        "rm /tmp/s2p_oLwJAh.tif\n",
        "rm /tmp/s2p_WXZ47x.tif\n",
        "rm /tmp/s2p_DgzCs7.tif"
       ]
      },
      {
       "output_type": "stream",
       "stream": "stdout",
       "text": [
        "\n",
        "rm /tmp/s2p_5bPcWR.tif\n",
        "rm /tmp/s2p_GmCM3k.txt\n",
        "rm /tmp/s2p_1s0dJ7.txt\n",
        "rm /tmp/s2p_A5Lt2Y.png\n",
        "rm /tmp/s2p_t1xaIh.png\n",
        "rm /tmp/s2p_QmyIm1.tif"
       ]
      },
      {
       "output_type": "stream",
       "stream": "stdout",
       "text": [
        "\n",
        "rm /tmp/s2p_7q_8QF.txt\n",
        "rm /tmp/s2p_FUlq6y.txt\n",
        "rm /tmp/s2p_kXFQOv.tif\n",
        "rm /tmp/s2p_6JiQqb.txt\n",
        "rm /tmp/s2p_3N2sNW.tif\n",
        "rm /tmp/s2p_Z4SA8U.tif\n",
        "rm /tmp/s2p_LBGkfb.tif"
       ]
      },
      {
       "output_type": "stream",
       "stream": "stdout",
       "text": [
        "\n",
        "rm /tmp/s2p_EUGepj.txt\n",
        "rm /tmp/s2p_i6DY1e.tif\n",
        "rm /tmp/s2p_zVkCmS.tif\n",
        "rm /tmp/s2p_rWvnuJ.txt\n",
        "rm /tmp/s2p_nrl2HM.png\n",
        "rm /tmp/s2p_eMNlad.png"
       ]
      },
      {
       "output_type": "stream",
       "stream": "stdout",
       "text": [
        "\n",
        "rm /tmp/s2p_jV7WPU.tif\n",
        "rm /tmp/s2p_AtDzWX.txt\n",
        "rm /tmp/s2p_CU0ay4.txt\n",
        "rm /tmp/s2p__DN3t9.tif\n",
        "rm /tmp/s2p_MDx0sh.txt\n",
        "rm /tmp/s2p_csyl6o.tif"
       ]
      },
      {
       "output_type": "stream",
       "stream": "stdout",
       "text": [
        "\n",
        "rm /tmp/s2p_oYlYF2.tif\n",
        "rm /tmp/s2p_pV9lGQ.tif\n",
        "rm /tmp/s2p_ZzPF8_.txt\n",
        "rm /tmp/s2p_uvkSQ0.tif\n",
        "rm /tmp/s2p_nKq1u4.tif\n",
        "rm /tmp/s2p_cYLm27.txt"
       ]
      },
      {
       "output_type": "stream",
       "stream": "stdout",
       "text": [
        "\n",
        "rm /tmp/s2p_j1qdSB.png\n",
        "rm /tmp/s2p_3wiXqQ.png\n",
        "rm /tmp/s2p_dCCmjz.tif\n",
        "rm /tmp/s2p_2jP9DV.txt\n",
        "rm /tmp/s2p_Ahmu4n.txt\n",
        "rm /tmp/s2p_5AU1ND.tif\n",
        "rm /tmp/s2p_FKW3oJ.txt"
       ]
      },
      {
       "output_type": "stream",
       "stream": "stdout",
       "text": [
        "\n",
        "rm /tmp/s2p_O6SINC.tif\n",
        "rm /tmp/s2p_74O6fG.tif\n",
        "rm /tmp/s2p_QAVxKJ.tif\n",
        "rm /tmp/s2p_yyAaFw.txt\n",
        "rm /tmp/s2p_YnZNTJ.tif\n",
        "rm /tmp/s2p_ZygO5j.tif"
       ]
      },
      {
       "output_type": "stream",
       "stream": "stdout",
       "text": [
        "\n",
        "rm /tmp/s2p_zQOPkI.txt\n",
        "rm /tmp/s2p_21Ozmp.png\n",
        "rm /tmp/s2p_XsB7R3.png\n",
        "rm /tmp/s2p_lQ5xGN.tif\n",
        "rm /tmp/s2p_S_FYBM.txt\n",
        "rm /tmp/s2p_T7sPHq.txt"
       ]
      },
      {
       "output_type": "stream",
       "stream": "stdout",
       "text": [
        "\n",
        "rm /tmp/s2p_NN6wd9.tif\n",
        "rm /tmp/s2p_63GkYy.txt\n",
        "rm /tmp/s2p_DJgKxh.tif\n",
        "rm /tmp/s2p_SX97JZ.tif\n",
        "rm /tmp/s2p_l_gLT4.tif\n",
        "rm /tmp/s2p_2pME8U.txt"
       ]
      },
      {
       "output_type": "stream",
       "stream": "stdout",
       "text": [
        "\n",
        "rm /tmp/s2p_5qFWhH.tif\n",
        "rm /tmp/s2p_7ly6HH.tif\n",
        "rm /tmp/s2p_OW4YYP.txt\n",
        "rm /tmp/s2p_nv0EYr.txt\n",
        "rm /tmp/s2p_fusBmf.tif\n",
        "rm /tmp/s2p_NQrOA9.tif"
       ]
      },
      {
       "output_type": "stream",
       "stream": "stdout",
       "text": [
        "\n",
        "rm /tmp/s2p_xYXlzr.txt\n",
        "rm /tmp/s2p_nYFaxD.png\n",
        "rm /tmp/s2p_1T7Zmj.png\n",
        "rm /tmp/s2p_fbDTOp.tif\n",
        "rm /tmp/s2p_rKbYsO.txt\n",
        "rm /tmp/s2p_tPFyvy.txt"
       ]
      },
      {
       "output_type": "stream",
       "stream": "stdout",
       "text": [
        "\n",
        "rm /tmp/s2p_CyQgT7.tif\n",
        "rm /tmp/s2p_VAu8yP.txt\n",
        "rm /tmp/s2p_KrMN2z.tif\n",
        "rm /tmp/s2p_bZ_t_I.tif\n",
        "rm /tmp/s2p_KxJyhM.tif\n",
        "rm /tmp/s2p_Ild1Ce.txt"
       ]
      },
      {
       "output_type": "stream",
       "stream": "stdout",
       "text": [
        "\n",
        "rm /tmp/s2p_KIxUuJ.tif\n",
        "rm /tmp/s2p_wRba32.tif\n",
        "rm /tmp/s2p_RoYEp4.txt\n"
       ]
      },
      {
       "output_type": "pyout",
       "prompt_number": 29,
       "text": [
        "'/tmp//saint_sernin_height_full.tif'"
       ]
      }
     ],
     "prompt_number": 29
    },
    {
     "cell_type": "markdown",
     "metadata": {},
     "source": [
      "### Cannes"
     ]
    },
    {
     "cell_type": "code",
     "collapsed": false,
     "input": [
      "exp_name = 'festival_msmw'\n",
      "x, y, w, h = 17450, 22100, 600, 700\n",
      "main_script.global_params.subsampling_factor = 1\n",
      "main_script.global_params.matching_algorithm = 'msmw'"
     ],
     "language": "python",
     "metadata": {},
     "outputs": [],
     "prompt_number": 38
    },
    {
     "cell_type": "code",
     "collapsed": false,
     "input": [
      "exp_name = 'castre'\n",
      "x, y, w, h = 15800, 21930, 1000, 820\n",
      "main_script.global_params.subsampling_factor = 1"
     ],
     "language": "python",
     "metadata": {},
     "outputs": [],
     "prompt_number": 18
    },
    {
     "cell_type": "code",
     "collapsed": false,
     "input": [
      "exp_name = 'theoule'\n",
      "x, y, w, h = 3250, 30650, 840, 560\n",
      "main_script.global_params.subsampling_factor = 1"
     ],
     "language": "python",
     "metadata": {},
     "outputs": [],
     "prompt_number": 21
    },
    {
     "cell_type": "markdown",
     "metadata": {},
     "source": [
      "### Calanques\n",
      "Il semble y avoir une incoh\u00e9rence entre les paths des images, des rpcs et des previews, car le crop effectu\u00e9 en correspond pas \u00e0 la zone s\u00e9lectionn\u00e9e sur le preview. Pourtant les paths semblent corrects..."
     ]
    },
    {
     "cell_type": "markdown",
     "metadata": {},
     "source": [
      "### Lenclio\n",
      "Attention, l'image centrale est la 1"
     ]
    },
    {
     "cell_type": "code",
     "collapsed": false,
     "input": [
      "exp_name = 'champs'\n",
      "x, y, w, h = 30365, 43956, 1300, 850\n",
      "main_script.global_params.subsampling_factor = 1"
     ],
     "language": "python",
     "metadata": {},
     "outputs": [],
     "prompt_number": 45
    },
    {
     "cell_type": "code",
     "collapsed": false,
     "input": [
      "exp_name = 'champs_z4_sgbm'\n",
      "x, y, w, h = 28365, 41956, 4000, 4000\n",
      "main_script.global_params.subsampling_factor = 4"
     ],
     "language": "python",
     "metadata": {},
     "outputs": [],
     "prompt_number": 48
    },
    {
     "cell_type": "code",
     "collapsed": false,
     "input": [
      "crop = common.image_crop_TIFF(im1, x, y, w, h)\n",
      "common.run('v %s &' % crop)"
     ],
     "language": "python",
     "metadata": {},
     "outputs": [
      {
       "output_type": "stream",
       "stream": "stdout",
       "text": [
        "gdal_translate -srcwin 28365 41956 4000 4000 'pleiades_data/images/lenclio/im01.tif' '/tmp/s2p__Zat_3.tif'\n",
        "tiffcp /tmp/s2p__Zat_3.tif /tmp/s2p_Y7Hh5V.tif 2> /dev/null"
       ]
      },
      {
       "output_type": "stream",
       "stream": "stdout",
       "text": [
        "\n",
        "v /tmp/s2p_Y7Hh5V.tif &"
       ]
      },
      {
       "output_type": "stream",
       "stream": "stdout",
       "text": [
        "\n"
       ]
      }
     ],
     "prompt_number": 49
    },
    {
     "cell_type": "markdown",
     "metadata": {},
     "source": [
      "## Run the experiment"
     ]
    },
    {
     "cell_type": "code",
     "collapsed": true,
     "input": [
      "height_map = main_script.process_triplet(img_name, exp_name, x, y, w, h, 2, 1, 3)\n",
      "main_script.generate_cloud(img_name, exp_name, x, y, w, h, height_map, 2)"
     ],
     "language": "python",
     "metadata": {},
     "outputs": [
      {
       "output_type": "stream",
       "stream": "stdout",
       "text": [
        "ROI x, y, w, h = 17450, 22100, 600, 700\n",
        "mkdir /tmp/festival_msmw\n",
        "mkdir /tmp/festival_msmw/festival_msmw_left\n",
        "ROI x, y, w, h = 17450, 22100, 600, 700\n",
        "gdal_translate -srcwin 17450 22100 600 700 'pleiades_data/images/cannes/im02.tif' '/tmp/s2p_uexzno.tif'"
       ]
      },
      {
       "output_type": "stream",
       "stream": "stdout",
       "text": [
        "\n",
        "tiffcp /tmp/s2p_uexzno.tif /tmp/s2p_IQc6xe.tif 2> /dev/null"
       ]
      },
      {
       "output_type": "stream",
       "stream": "stdout",
       "text": [
        "\n",
        "gdal_translate -srcwin 17414 22372 639 852 'pleiades_data/images/cannes/im01.tif' '/tmp/s2p_GT3taJ.tif'\n",
        "tiffcp /tmp/s2p_GT3taJ.tif /tmp/s2p_pW7_Wz.tif 2> /dev/null"
       ]
      },
      {
       "output_type": "stream",
       "stream": "stdout",
       "text": [
        "\n",
        "qauto /tmp/s2p_IQc6xe.tif /tmp/s2p_GZH6Z5.png 2> /dev/null\n",
        "sift_keypoints /tmp/s2p_GZH6Z5.png /tmp/s2p_jQMIu7.txt"
       ]
      },
      {
       "output_type": "stream",
       "stream": "stdout",
       "text": [
        "\n",
        "awk '{if (NR!=1) {print}}' /tmp/s2p_jQMIu7.txt > /tmp/s2p_gZ2nyJ.txt"
       ]
      },
      {
       "output_type": "stream",
       "stream": "stdout",
       "text": [
        "\n",
        "cp /tmp/s2p_gZ2nyJ.txt /tmp/s2p_jQMIu7.txt\n",
        "qauto /tmp/s2p_pW7_Wz.tif /tmp/s2p_MXDXBN.png 2> /dev/null"
       ]
      },
      {
       "output_type": "stream",
       "stream": "stdout",
       "text": [
        "\n",
        "sift_keypoints /tmp/s2p_MXDXBN.png /tmp/s2p_9vz5dp.txt"
       ]
      },
      {
       "output_type": "stream",
       "stream": "stdout",
       "text": [
        "\n",
        "awk '{if (NR!=1) {print}}' /tmp/s2p_9vz5dp.txt > /tmp/s2p_pAPoOE.txt"
       ]
      },
      {
       "output_type": "stream",
       "stream": "stdout",
       "text": [
        "\n",
        "cp /tmp/s2p_pAPoOE.txt /tmp/s2p_9vz5dp.txt\n",
        "matching /tmp/s2p_jQMIu7.txt /tmp/s2p_9vz5dp.txt 1 0.400000 4 8 36 > /tmp/s2p_t2GyHm.txt"
       ]
      },
      {
       "output_type": "stream",
       "stream": "stdout",
       "text": [
        "\n",
        "ransac fmn 1000 .3 7 /tmp/s2p_e2Bpxi.txt < /tmp/s2p_YuX7nX.txt"
       ]
      },
      {
       "output_type": "stream",
       "stream": "stdout",
       "text": [
        "\n",
        "running optimization using 168 matches\n",
        "[  5.65224448e-30   4.33191874e+00   1.12783009e+00   2.96080341e-30]"
       ]
      },
      {
       "output_type": "stream",
       "stream": "stdout",
       "text": [
        " 19.1955180018 {'warnflag': 0, 'task': 'CONVERGENCE: REL_REDUCTION_OF_F_<=_FACTR*EPSMCH', 'grad': array([-0.00981757, -0.18477948, -0.17587674, -0.00853753]), 'nit': 12, 'funcalls': 37}\n",
        "step 1: find matches, and center them ------------------------------\n",
        "applying pointing error correction"
       ]
      },
      {
       "output_type": "stream",
       "stream": "stdout",
       "text": [
        "\n",
        "step 2: estimate F (8-points algorithm) ----------------------------\n",
        "step 3: compute rectifying homographies (loop-zhang algorithm) -----\n",
        "rectify_mindistortion /tmp/s2p_9MK9ov.txt 600 700 /tmp/s2p_Kuuu2o.txt /tmp/s2p_2hzIli.txt > /dev/null\n",
        "max, min, mean rectification error on rpc matches ------------------"
       ]
      },
      {
       "output_type": "stream",
       "stream": "stdout",
       "text": [
        "\n",
        "0.00292890617993 3.87582031181e-06 0.00082832815812\n",
        "step 4: pull back top-left corner of the ROI in the origin ---------\n",
        "step 5: horizontal registration ------------------------------------\n",
        "gdal_translate -srcwin 17450 22100 600 700 'pleiades_data/images/cannes/im02.tif' '/tmp/s2p_vRB9Mp.tif'"
       ]
      },
      {
       "output_type": "stream",
       "stream": "stdout",
       "text": [
        "\n",
        "tiffcp /tmp/s2p_vRB9Mp.tif /tmp/s2p_DVtAOA.tif 2> /dev/null\n",
        "gdal_translate -srcwin 17414 22372 639 852 'pleiades_data/images/cannes/im01.tif' '/tmp/s2p_gKQy2o.tif'"
       ]
      },
      {
       "output_type": "stream",
       "stream": "stdout",
       "text": [
        "\n",
        "tiffcp /tmp/s2p_gKQy2o.tif /tmp/s2p_MFaTvK.tif 2> /dev/null\n",
        "qauto /tmp/s2p_DVtAOA.tif /tmp/s2p_CsnwwD.png 2> /dev/null"
       ]
      },
      {
       "output_type": "stream",
       "stream": "stdout",
       "text": [
        "\n",
        "sift_keypoints /tmp/s2p_CsnwwD.png /tmp/s2p_3G_QD4.txt"
       ]
      },
      {
       "output_type": "stream",
       "stream": "stdout",
       "text": [
        "\n",
        "awk '{if (NR!=1) {print}}' /tmp/s2p_3G_QD4.txt > /tmp/s2p_x4c2Nd.txt"
       ]
      },
      {
       "output_type": "stream",
       "stream": "stdout",
       "text": [
        "\n",
        "cp /tmp/s2p_x4c2Nd.txt /tmp/s2p_3G_QD4.txt\n",
        "qauto /tmp/s2p_MFaTvK.tif /tmp/s2p_TJ1CyN.png 2> /dev/null\n",
        "sift_keypoints /tmp/s2p_TJ1CyN.png /tmp/s2p_l4oV0U.txt"
       ]
      },
      {
       "output_type": "stream",
       "stream": "stdout",
       "text": [
        "\n",
        "awk '{if (NR!=1) {print}}' /tmp/s2p_l4oV0U.txt > /tmp/s2p_vh60ZS.txt"
       ]
      },
      {
       "output_type": "stream",
       "stream": "stdout",
       "text": [
        "\n",
        "cp /tmp/s2p_vh60ZS.txt /tmp/s2p_l4oV0U.txt\n",
        "matching /tmp/s2p_3G_QD4.txt /tmp/s2p_l4oV0U.txt 1 0.400000 4 8 36 > /tmp/s2p_c3tC4X.txt"
       ]
      },
      {
       "output_type": "stream",
       "stream": "stdout",
       "text": [
        "\n",
        "remaining sift matches"
       ]
      },
      {
       "output_type": "stream",
       "stream": "stdout",
       "text": [
        " 198\n",
        "Residual vertical disparities: max, min, mean. Should be zero ------\n",
        "0.468034486389 -0.497509728719 -0.0100909003229\n",
        "gdal_translate -srcwin 17280 21954 940 992 'pleiades_data/images/cannes/im02.tif' '/tmp/s2p_wVpYrg.tif'\n",
        "tiffcp /tmp/s2p_wVpYrg.tif /tmp/s2p_alzyu3.tif 2> /dev/null"
       ]
      },
      {
       "output_type": "stream",
       "stream": "stdout",
       "text": [
        "\n",
        "imprintf \"%c\" '/tmp/s2p_alzyu3.tif' > /tmp/s2p_qXDUIw.txt\n",
        "zoom_zeropadding /tmp/s2p_alzyu3.tif /Users/carlo/code/s2p/python/../pleiades_data/idata_0009_MTF_89x89.tif /tmp/s2p_gtNmL6.tif\n",
        "fftconvolve /tmp/s2p_gtNmL6.tif /tmp/s2p_alzyu3.tif /tmp/s2p_1Txs0n.tif"
       ]
      },
      {
       "output_type": "stream",
       "stream": "stdout",
       "text": [
        "\n",
        "homography /tmp/s2p_1Txs0n.tif /tmp/s2p_ZuCz4u.txt /tmp/s2p_gAhdXR.png /tmp/festival_msmw/festival_msmw_left/2.tif 0 826 754"
       ]
      },
      {
       "output_type": "stream",
       "stream": "stdout",
       "text": [
        "\n",
        "gdal_translate -srcwin 17280 22224 936 994 'pleiades_data/images/cannes/im01.tif' '/tmp/s2p_N59qzo.tif'"
       ]
      },
      {
       "output_type": "stream",
       "stream": "stdout",
       "text": [
        "\n",
        "tiffcp /tmp/s2p_N59qzo.tif /tmp/s2p_52uugs.tif 2> /dev/null"
       ]
      },
      {
       "output_type": "stream",
       "stream": "stdout",
       "text": [
        "\n",
        "imprintf \"%c\" '/tmp/s2p_52uugs.tif' > /tmp/s2p_uNsSlh.txt\n",
        "zoom_zeropadding /tmp/s2p_52uugs.tif /Users/carlo/code/s2p/python/../pleiades_data/idata_0009_MTF_89x89.tif /tmp/s2p_ajpAll.tif\n",
        "fftconvolve /tmp/s2p_ajpAll.tif /tmp/s2p_52uugs.tif /tmp/s2p_g77v99.tif"
       ]
      },
      {
       "output_type": "stream",
       "stream": "stdout",
       "text": [
        "\n",
        "homography /tmp/s2p_g77v99.tif /tmp/s2p_UUcoxE.txt /tmp/s2p_9lvAdo.png /tmp/festival_msmw/festival_msmw_left/1.tif 0 826 754"
       ]
      },
      {
       "output_type": "stream",
       "stream": "stdout",
       "text": [
        "\n",
        "/Users/carlo/code/s2p/python/../3rdparty/msmw/build/libstereo/iip_stereo_correlation_multi_win2 -i 1 -n 4 -p 4 -W 5 -x 9 -y 9 -r 1 -d 1 -t -1 -s 0 -b 0 -o 0.25 -f 0 -P 32 -m -12 -M 12 /tmp/festival_msmw/festival_msmw_left/2.tif /tmp/festival_msmw/festival_msmw_left/1.tif /tmp/festival_msmw/festival_msmw_left/disp.pgm /tmp/festival_msmw/festival_msmw_left/mask.png"
       ]
      },
      {
       "output_type": "stream",
       "stream": "stdout",
       "text": [
        "\n",
        "disp_to_h pleiades_data/rpc/cannes/rpc02.xml pleiades_data/rpc/cannes/rpc01.xml /tmp/s2p_mgXeZE.txt /tmp/s2p_vqZMJS.txt /tmp/festival_msmw/festival_msmw_left/disp.pgm /tmp/festival_msmw/festival_msmw_left/mask.png /tmp/festival_msmw/festival_msmw_left/height.tif /tmp/festival_msmw/festival_msmw_left/rpc_err.tif"
       ]
      },
      {
       "output_type": "stream",
       "stream": "stdout",
       "text": [
        "\n",
        "gdal_translate -srcwin 17450 22100 600 700 'pleiades_data/images/cannes/im02.tif' '/tmp/s2p_IUWV24.tif'"
       ]
      },
      {
       "output_type": "stream",
       "stream": "stdout",
       "text": [
        "\n",
        "tiffcp /tmp/s2p_IUWV24.tif /tmp/s2p_DpAQyU.tif 2> /dev/null"
       ]
      },
      {
       "output_type": "stream",
       "stream": "stdout",
       "text": [
        "\n",
        "synflow hom \"-0.25019000000000002 0.96643000000000001 150.1140000000014 -0.96643000000000001 -0.25019000000000002 754.99099999999817 0.0 0.0 1.0\" /tmp/s2p_DpAQyU.tif /dev/null - | BILINEAR=1 backflow - /tmp/festival_msmw/festival_msmw_left/height.tif /tmp/festival_msmw/festival_msmw_left/height_unrect.tif\n",
        "synflow hom \"-0.25019000000000002 0.96643000000000001 150.1140000000014 -0.96643000000000001 -0.25019000000000002 754.99099999999817 0.0 0.0 1.0\" /tmp/s2p_DpAQyU.tif /dev/null - | BILINEAR=1 backflow - /tmp/festival_msmw/festival_msmw_left/mask.png /tmp/festival_msmw/festival_msmw_left/mask_unrect.png"
       ]
      },
      {
       "output_type": "stream",
       "stream": "stdout",
       "text": [
        "\n",
        "v /tmp/festival_msmw/festival_msmw_left/2.tif /tmp/festival_msmw/festival_msmw_left/1.tif /tmp/festival_msmw/festival_msmw_left/disp.pgm /tmp/festival_msmw/festival_msmw_left/mask.png"
       ]
      },
      {
       "output_type": "stream",
       "stream": "stdout",
       "text": [
        "\n",
        "mkdir /tmp/festival_msmw/festival_msmw_right\n",
        "ROI x, y, w, h = 17450, 22100, 600, 700\n",
        "gdal_translate -srcwin 17450 22100 600 700 'pleiades_data/images/cannes/im02.tif' '/tmp/s2p_lQAep9.tif'"
       ]
      },
      {
       "output_type": "stream",
       "stream": "stdout",
       "text": [
        "\n",
        "tiffcp /tmp/s2p_lQAep9.tif /tmp/s2p_WwE9GZ.tif 2> /dev/null\n",
        "gdal_translate -srcwin 17489 21751 634 835 'pleiades_data/images/cannes/im03.tif' '/tmp/s2p_ZLkUHq.tif'\n",
        "tiffcp /tmp/s2p_ZLkUHq.tif /tmp/s2p_qTTnUP.tif 2> /dev/null"
       ]
      },
      {
       "output_type": "stream",
       "stream": "stdout",
       "text": [
        "\n",
        "qauto /tmp/s2p_WwE9GZ.tif /tmp/s2p_J4tzwR.png 2> /dev/null\n",
        "sift_keypoints /tmp/s2p_J4tzwR.png /tmp/s2p__ndxTv.txt"
       ]
      },
      {
       "output_type": "stream",
       "stream": "stdout",
       "text": [
        "\n",
        "awk '{if (NR!=1) {print}}' /tmp/s2p__ndxTv.txt > /tmp/s2p_JzHQSX.txt"
       ]
      },
      {
       "output_type": "stream",
       "stream": "stdout",
       "text": [
        "\n",
        "cp /tmp/s2p_JzHQSX.txt /tmp/s2p__ndxTv.txt\n",
        "qauto /tmp/s2p_qTTnUP.tif /tmp/s2p_8oY9IN.png 2> /dev/null"
       ]
      },
      {
       "output_type": "stream",
       "stream": "stdout",
       "text": [
        "\n",
        "sift_keypoints /tmp/s2p_8oY9IN.png /tmp/s2p_J0aNbD.txt"
       ]
      },
      {
       "output_type": "stream",
       "stream": "stdout",
       "text": [
        "\n",
        "awk '{if (NR!=1) {print}}' /tmp/s2p_J0aNbD.txt > /tmp/s2p_6TCYKC.txt"
       ]
      },
      {
       "output_type": "stream",
       "stream": "stdout",
       "text": [
        "\n",
        "cp /tmp/s2p_6TCYKC.txt /tmp/s2p_J0aNbD.txt\n",
        "matching /tmp/s2p__ndxTv.txt /tmp/s2p_J0aNbD.txt 1 0.400000 4 8 36 > /tmp/s2p_PvDyoc.txt"
       ]
      },
      {
       "output_type": "stream",
       "stream": "stdout",
       "text": [
        "\n",
        "ransac fmn 1000 .3 7 /tmp/s2p_PrEyLg.txt < /tmp/s2p_aiUPu1.txt"
       ]
      },
      {
       "output_type": "stream",
       "stream": "stdout",
       "text": [
        "\n",
        "running optimization using 132 matches\n",
        "[  8.59060217e-26  -1.44514756e+00  -3.82560168e-01   1.67038024e-26]"
       ]
      },
      {
       "output_type": "stream",
       "stream": "stdout",
       "text": [
        " 16.7363551415 {'warnflag': 2, 'task': 'ABNORMAL_TERMINATION_IN_LNSRCH', 'grad': array([ -6.44746478e-03,   2.13194689e+00,   4.66306460e-01,\n",
        "        -1.32658329e-03]), 'nit': 13, 'funcalls': 140}\n",
        "step 1: find matches, and center them ------------------------------\n",
        "applying pointing error correction"
       ]
      },
      {
       "output_type": "stream",
       "stream": "stdout",
       "text": [
        "\n",
        "step 2: estimate F (8-points algorithm) ----------------------------\n",
        "step 3: compute rectifying homographies (loop-zhang algorithm) -----\n",
        "rectify_mindistortion /tmp/s2p_o22Myw.txt 600 700 /tmp/s2p_aJNn20.txt /tmp/s2p_7sK6JX.txt > /dev/null\n",
        "max, min, mean rectification error on rpc matches ------------------"
       ]
      },
      {
       "output_type": "stream",
       "stream": "stdout",
       "text": [
        "\n",
        "0.00197986558788 1.86016978034e-05 0.000795626569818\n",
        "step 4: pull back top-left corner of the ROI in the origin ---------\n",
        "step 5: horizontal registration ------------------------------------\n",
        "gdal_translate -srcwin 17450 22100 600 700 'pleiades_data/images/cannes/im02.tif' '/tmp/s2p_1iYz9Y.tif'"
       ]
      },
      {
       "output_type": "stream",
       "stream": "stdout",
       "text": [
        "\n",
        "tiffcp /tmp/s2p_1iYz9Y.tif /tmp/s2p_GVowcL.tif 2> /dev/null"
       ]
      },
      {
       "output_type": "stream",
       "stream": "stdout",
       "text": [
        "\n",
        "gdal_translate -srcwin 17489 21751 634 835 'pleiades_data/images/cannes/im03.tif' '/tmp/s2p_ZOtL0B.tif'\n",
        "tiffcp /tmp/s2p_ZOtL0B.tif /tmp/s2p_KH2Anl.tif 2> /dev/null"
       ]
      },
      {
       "output_type": "stream",
       "stream": "stdout",
       "text": [
        "\n",
        "qauto /tmp/s2p_GVowcL.tif /tmp/s2p_IFVe0V.png 2> /dev/null\n",
        "sift_keypoints /tmp/s2p_IFVe0V.png /tmp/s2p_iyvQRw.txt"
       ]
      },
      {
       "output_type": "stream",
       "stream": "stdout",
       "text": [
        "\n",
        "awk '{if (NR!=1) {print}}' /tmp/s2p_iyvQRw.txt > /tmp/s2p_u6KGgr.txt"
       ]
      },
      {
       "output_type": "stream",
       "stream": "stdout",
       "text": [
        "\n",
        "cp /tmp/s2p_u6KGgr.txt /tmp/s2p_iyvQRw.txt\n",
        "qauto /tmp/s2p_KH2Anl.tif /tmp/s2p_vpwmXb.png 2> /dev/null"
       ]
      },
      {
       "output_type": "stream",
       "stream": "stdout",
       "text": [
        "\n",
        "sift_keypoints /tmp/s2p_vpwmXb.png /tmp/s2p_lsNhCi.txt"
       ]
      },
      {
       "output_type": "stream",
       "stream": "stdout",
       "text": [
        "\n",
        "awk '{if (NR!=1) {print}}' /tmp/s2p_lsNhCi.txt > /tmp/s2p_1hyTxc.txt"
       ]
      },
      {
       "output_type": "stream",
       "stream": "stdout",
       "text": [
        "\n",
        "cp /tmp/s2p_1hyTxc.txt /tmp/s2p_lsNhCi.txt\n",
        "matching /tmp/s2p_iyvQRw.txt /tmp/s2p_lsNhCi.txt 1 0.400000 4 8 36 > /tmp/s2p__GXqtF.txt\n",
        "remaining sift matches"
       ]
      },
      {
       "output_type": "stream",
       "stream": "stdout",
       "text": [
        " 161\n",
        "Residual vertical disparities: max, min, mean. Should be zero ------\n",
        "0.480940476955 -0.403554731378 0.019484820944\n",
        "gdal_translate -srcwin 17279 21953 941 993 'pleiades_data/images/cannes/im02.tif' '/tmp/s2p_N50ZLf.tif'\n",
        "tiffcp /tmp/s2p_N50ZLf.tif /tmp/s2p_g65jaF.tif 2> /dev/null"
       ]
      },
      {
       "output_type": "stream",
       "stream": "stdout",
       "text": [
        "\n",
        "imprintf \"%c\" '/tmp/s2p_g65jaF.tif' > /tmp/s2p_vTDaJi.txt\n",
        "zoom_zeropadding /tmp/s2p_g65jaF.tif /Users/carlo/code/s2p/python/../pleiades_data/idata_0009_MTF_89x89.tif /tmp/s2p_Qe50UF.tif"
       ]
      },
      {
       "output_type": "stream",
       "stream": "stdout",
       "text": [
        "\n",
        "fftconvolve /tmp/s2p_Qe50UF.tif /tmp/s2p_g65jaF.tif /tmp/s2p__YQccD.tif"
       ]
      },
      {
       "output_type": "stream",
       "stream": "stdout",
       "text": [
        "\n",
        "homography /tmp/s2p__YQccD.tif /tmp/s2p_45rU2K.txt /tmp/s2p_9c2PKR.png /tmp/festival_msmw/festival_msmw_right/2.tif 0 824 753"
       ]
      },
      {
       "output_type": "stream",
       "stream": "stdout",
       "text": [
        "\n",
        "gdal_translate -srcwin 17321 21746 935 984 'pleiades_data/images/cannes/im03.tif' '/tmp/s2p_jgUS1m.tif'"
       ]
      },
      {
       "output_type": "stream",
       "stream": "stdout",
       "text": [
        "\n",
        "tiffcp /tmp/s2p_jgUS1m.tif /tmp/s2p_fxmE6u.tif 2> /dev/null"
       ]
      },
      {
       "output_type": "stream",
       "stream": "stdout",
       "text": [
        "\n",
        "imprintf \"%c\" '/tmp/s2p_fxmE6u.tif' > /tmp/s2p_czvoGp.txt\n",
        "zoom_zeropadding /tmp/s2p_fxmE6u.tif /Users/carlo/code/s2p/python/../pleiades_data/idata_0009_MTF_89x89.tif /tmp/s2p_zdYb2G.tif\n",
        "fftconvolve /tmp/s2p_zdYb2G.tif /tmp/s2p_fxmE6u.tif /tmp/s2p_GB6BQI.tif"
       ]
      },
      {
       "output_type": "stream",
       "stream": "stdout",
       "text": [
        "\n",
        "homography /tmp/s2p_GB6BQI.tif /tmp/s2p_a7M624.txt /tmp/s2p_kyac39.png /tmp/festival_msmw/festival_msmw_right/3.tif 0 824 753"
       ]
      },
      {
       "output_type": "stream",
       "stream": "stdout",
       "text": [
        "\n",
        "/Users/carlo/code/s2p/python/../3rdparty/msmw/build/libstereo/iip_stereo_correlation_multi_win2 -i 1 -n 4 -p 4 -W 5 -x 9 -y 9 -r 1 -d 1 -t -1 -s 0 -b 0 -o 0.25 -f 0 -P 32 -m -8 -M 7 /tmp/festival_msmw/festival_msmw_right/2.tif /tmp/festival_msmw/festival_msmw_right/3.tif /tmp/festival_msmw/festival_msmw_right/disp.pgm /tmp/festival_msmw/festival_msmw_right/mask.png"
       ]
      },
      {
       "output_type": "stream",
       "stream": "stdout",
       "text": [
        "\n",
        "disp_to_h pleiades_data/rpc/cannes/rpc02.xml pleiades_data/rpc/cannes/rpc03.xml /tmp/s2p_QRESHM.txt /tmp/s2p_mxfuRg.txt /tmp/festival_msmw/festival_msmw_right/disp.pgm /tmp/festival_msmw/festival_msmw_right/mask.png /tmp/festival_msmw/festival_msmw_right/height.tif /tmp/festival_msmw/festival_msmw_right/rpc_err.tif"
       ]
      },
      {
       "output_type": "stream",
       "stream": "stdout",
       "text": [
        "\n",
        "gdal_translate -srcwin 17450 22100 600 700 'pleiades_data/images/cannes/im02.tif' '/tmp/s2p_uWrR5p.tif'"
       ]
      },
      {
       "output_type": "stream",
       "stream": "stdout",
       "text": [
        "\n",
        "tiffcp /tmp/s2p_uWrR5p.tif /tmp/s2p_p9RuL8.tif 2> /dev/null"
       ]
      },
      {
       "output_type": "stream",
       "stream": "stdout",
       "text": [
        "\n",
        "synflow hom \"0.25046099999999999 -0.96381099999999997 674.66769999999997 0.96381099999999997 0.25046099999999999 0.0 0.0 0.0 1.0\" /tmp/s2p_p9RuL8.tif /dev/null - | BILINEAR=1 backflow - /tmp/festival_msmw/festival_msmw_right/height.tif /tmp/festival_msmw/festival_msmw_right/height_unrect.tif\n",
        "synflow hom \"0.25046099999999999 -0.96381099999999997 674.66769999999997 0.96381099999999997 0.25046099999999999 0.0 0.0 0.0 1.0\" /tmp/s2p_p9RuL8.tif /dev/null - | BILINEAR=1 backflow - /tmp/festival_msmw/festival_msmw_right/mask.png /tmp/festival_msmw/festival_msmw_right/mask_unrect.png"
       ]
      },
      {
       "output_type": "stream",
       "stream": "stdout",
       "text": [
        "\n",
        "v /tmp/festival_msmw/festival_msmw_right/2.tif /tmp/festival_msmw/festival_msmw_right/3.tif /tmp/festival_msmw/festival_msmw_right/disp.pgm /tmp/festival_msmw/festival_msmw_right/mask.png"
       ]
      },
      {
       "output_type": "stream",
       "stream": "stdout",
       "text": [
        "\n",
        "downsa e 4 /tmp/festival_msmw/festival_msmw_left/height_unrect.tif /tmp/s2p_shPM0j.tif\n",
        "downsa e 4 /tmp/festival_msmw/festival_msmw_right/height_unrect.tif /tmp/s2p_AOoi2S.tif"
       ]
      },
      {
       "output_type": "stream",
       "stream": "stdout",
       "text": [
        "\n",
        "(26250,)"
       ]
      },
      {
       "output_type": "stream",
       "stream": "stdout",
       "text": [
        "\n",
        "(14788,)\n",
        "plambda /tmp/festival_msmw/festival_msmw_right/height_unrect.tif \"x -9.325535 +\" > /tmp/s2p_xeb2ln.tif\n",
        "\n",
        "        plambda /tmp/festival_msmw/festival_msmw_left/height_unrect.tif /tmp/s2p_xeb2ln.tif \"x isfinite y isfinite x y - fabs 3.000000 < x y + 2 / nan if x\n",
        "        if y if\" > /tmp/festival_msmw/merged_height.tif\n",
        "        "
       ]
      },
      {
       "output_type": "stream",
       "stream": "stdout",
       "text": [
        "\n",
        "rm /tmp/s2p_xeb2ln.tif"
       ]
      },
      {
       "output_type": "stream",
       "stream": "stdout",
       "text": [
        "\n",
        "rm /tmp/s2p_AOoi2S.tif\n",
        "rm /tmp/s2p_shPM0j.tif\n",
        "rm /tmp/s2p_p9RuL8.tif\n",
        "rm /tmp/s2p_uWrR5p.tif\n",
        "rm /tmp/s2p_mxfuRg.txt"
       ]
      },
      {
       "output_type": "stream",
       "stream": "stdout",
       "text": [
        "\n",
        "rm /tmp/s2p_QRESHM.txt\n",
        "rm /tmp/s2p_kyac39.png\n",
        "rm /tmp/s2p_a7M624.txt\n",
        "rm /tmp/s2p_GB6BQI.tif"
       ]
      },
      {
       "output_type": "stream",
       "stream": "stdout",
       "text": [
        "\n",
        "rm /tmp/s2p_zdYb2G.tif\n",
        "rm /tmp/s2p_czvoGp.txt\n",
        "rm /tmp/s2p_fxmE6u.tif\n",
        "rm /tmp/s2p_jgUS1m.tif"
       ]
      },
      {
       "output_type": "stream",
       "stream": "stdout",
       "text": [
        "\n",
        "rm /tmp/s2p_9c2PKR.png\n",
        "rm /tmp/s2p_45rU2K.txt\n",
        "rm /tmp/s2p__YQccD.tif\n",
        "rm /tmp/s2p_Qe50UF.tif"
       ]
      },
      {
       "output_type": "stream",
       "stream": "stdout",
       "text": [
        "\n",
        "rm /tmp/s2p_vTDaJi.txt\n",
        "rm /tmp/s2p_g65jaF.tif\n",
        "rm /tmp/s2p_N50ZLf.tif\n",
        "rm /tmp/s2p__GXqtF.txt"
       ]
      },
      {
       "output_type": "stream",
       "stream": "stdout",
       "text": [
        "\n",
        "rm /tmp/s2p_1hyTxc.txt\n",
        "rm /tmp/s2p_vpwmXb.png\n",
        "rm /tmp/s2p_lsNhCi.txt\n",
        "rm /tmp/s2p_u6KGgr.txt"
       ]
      },
      {
       "output_type": "stream",
       "stream": "stdout",
       "text": [
        "\n",
        "rm /tmp/s2p_IFVe0V.png\n",
        "rm /tmp/s2p_iyvQRw.txt\n",
        "rm /tmp/s2p_KH2Anl.tif\n",
        "rm /tmp/s2p_ZOtL0B.tif"
       ]
      },
      {
       "output_type": "stream",
       "stream": "stdout",
       "text": [
        "\n",
        "rm /tmp/s2p_GVowcL.tif\n",
        "rm /tmp/s2p_1iYz9Y.tif\n",
        "rm /tmp/s2p_Dzpu7I.txt\n",
        "rm /tmp/s2p_7sK6JX.txt\n",
        "rm /tmp/s2p_aJNn20.txt"
       ]
      },
      {
       "output_type": "stream",
       "stream": "stdout",
       "text": [
        "\n",
        "rm /tmp/s2p_o22Myw.txt\n",
        "rm /tmp/s2p_8v3v1t.txt\n",
        "rm /tmp/s2p_PrEyLg.txt\n",
        "rm /tmp/s2p_aiUPu1.txt\n",
        "rm /tmp/s2p_PvDyoc.txt"
       ]
      },
      {
       "output_type": "stream",
       "stream": "stdout",
       "text": [
        "\n",
        "rm /tmp/s2p_6TCYKC.txt\n",
        "rm /tmp/s2p_8oY9IN.png\n",
        "rm /tmp/s2p_J0aNbD.txt\n",
        "rm /tmp/s2p_JzHQSX.txt\n",
        "rm /tmp/s2p_J4tzwR.png\n",
        "rm /tmp/s2p__ndxTv.txt"
       ]
      },
      {
       "output_type": "stream",
       "stream": "stdout",
       "text": [
        "\n",
        "rm /tmp/s2p_qTTnUP.tif\n",
        "rm /tmp/s2p_ZLkUHq.tif\n",
        "rm /tmp/s2p_WwE9GZ.tif\n",
        "rm /tmp/s2p_lQAep9.tif\n",
        "rm /tmp/s2p_wmX9P6.txt\n",
        "rm /tmp/s2p_DpAQyU.tif\n",
        "rm /tmp/s2p_IUWV24.tif"
       ]
      },
      {
       "output_type": "stream",
       "stream": "stdout",
       "text": [
        "\n",
        "rm /tmp/s2p_vqZMJS.txt\n",
        "rm /tmp/s2p_mgXeZE.txt\n",
        "rm /tmp/s2p_9lvAdo.png\n",
        "rm /tmp/s2p_UUcoxE.txt\n",
        "rm /tmp/s2p_g77v99.tif\n",
        "rm /tmp/s2p_ajpAll.tif\n",
        "rm /tmp/s2p_uNsSlh.txt"
       ]
      },
      {
       "output_type": "stream",
       "stream": "stdout",
       "text": [
        "\n",
        "rm /tmp/s2p_52uugs.tif\n",
        "rm /tmp/s2p_N59qzo.tif\n",
        "rm /tmp/s2p_gAhdXR.png\n",
        "rm /tmp/s2p_ZuCz4u.txt\n",
        "rm /tmp/s2p_1Txs0n.tif\n",
        "rm /tmp/s2p_gtNmL6.tif\n",
        "rm /tmp/s2p_qXDUIw.txt"
       ]
      },
      {
       "output_type": "stream",
       "stream": "stdout",
       "text": [
        "\n",
        "rm /tmp/s2p_alzyu3.tif\n",
        "rm /tmp/s2p_wVpYrg.tif\n",
        "rm /tmp/s2p_c3tC4X.txt\n",
        "rm /tmp/s2p_vh60ZS.txt\n",
        "rm /tmp/s2p_TJ1CyN.png\n",
        "rm /tmp/s2p_l4oV0U.txt"
       ]
      },
      {
       "output_type": "stream",
       "stream": "stdout",
       "text": [
        "\n",
        "rm /tmp/s2p_x4c2Nd.txt\n",
        "rm /tmp/s2p_CsnwwD.png\n",
        "rm /tmp/s2p_3G_QD4.txt\n",
        "rm /tmp/s2p_MFaTvK.tif\n",
        "rm /tmp/s2p_gKQy2o.tif"
       ]
      },
      {
       "output_type": "stream",
       "stream": "stdout",
       "text": [
        "\n",
        "rm /tmp/s2p_DVtAOA.tif\n",
        "rm /tmp/s2p_vRB9Mp.tif\n",
        "rm /tmp/s2p_eketqg.txt\n",
        "rm /tmp/s2p_2hzIli.txt"
       ]
      },
      {
       "output_type": "stream",
       "stream": "stdout",
       "text": [
        "\n",
        "rm /tmp/s2p_Kuuu2o.txt\n",
        "rm /tmp/s2p_9MK9ov.txt\n",
        "rm /tmp/s2p_Tfe2ue.txt\n",
        "rm /tmp/s2p_e2Bpxi.txt"
       ]
      },
      {
       "output_type": "stream",
       "stream": "stdout",
       "text": [
        "\n",
        "rm /tmp/s2p_YuX7nX.txt\n",
        "rm /tmp/s2p_t2GyHm.txt\n",
        "rm /tmp/s2p_pAPoOE.txt\n",
        "rm /tmp/s2p_MXDXBN.png"
       ]
      },
      {
       "output_type": "stream",
       "stream": "stdout",
       "text": [
        "\n",
        "rm /tmp/s2p_9vz5dp.txt\n",
        "rm /tmp/s2p_gZ2nyJ.txt\n",
        "rm /tmp/s2p_GZH6Z5.png\n",
        "rm /tmp/s2p_jQMIu7.txt\n",
        "rm /tmp/s2p_pW7_Wz.tif"
       ]
      },
      {
       "output_type": "stream",
       "stream": "stdout",
       "text": [
        "\n",
        "rm /tmp/s2p_GT3taJ.tif\n",
        "rm /tmp/s2p_IQc6xe.tif\n",
        "rm /tmp/s2p_uexzno.tif\n",
        "rm /tmp/s2p_iBWo54.txt\n",
        "rm /tmp/s2p_ns5E8j.tif"
       ]
      },
      {
       "output_type": "stream",
       "stream": "stdout",
       "text": [
        "\n",
        "rm /tmp/s2p_cbuu_G.tif\n",
        "rm /tmp/s2p_1Bsys4.txt\n",
        "rm /tmp/s2p_rsnNJ1.tif\n",
        "rm /tmp/s2p_YMrM0w.tif\n",
        "rm /tmp/s2p_ZWnNia.txt\n",
        "mkdir /tmp/festival_msmw"
       ]
      },
      {
       "output_type": "stream",
       "stream": "stdout",
       "text": [
        "\n",
        "gdal_translate -srcwin 17450 22100 600 700 'pleiades_data/images/cannes/im02.tif' '/tmp/s2p_9GjEHA.tif'\n",
        "tiffcp /tmp/s2p_9GjEHA.tif /tmp/s2p_IdaZy9.tif 2> /dev/null"
       ]
      },
      {
       "output_type": "stream",
       "stream": "stdout",
       "text": [
        "\n",
        "cp /tmp/s2p_IdaZy9.tif /tmp/festival_msmw/roi_ref02.tif\n",
        "imprintf \"%w %h\" '/tmp/festival_msmw/roi_ref02.tif' > /tmp/s2p_YIwcvY.txt\n",
        "gdal_translate -srcwin 4363 5525 151 175 'pleiades_data/images/cannes/im02_color.tif' '/tmp/s2p_LxqgiL.tif'\n",
        "tiffcp /tmp/s2p_LxqgiL.tif /tmp/s2p_Or_zMh.tif 2> /dev/null"
       ]
      },
      {
       "output_type": "stream",
       "stream": "stdout",
       "text": [
        "\n",
        "imprintf \"%w %h\" '/tmp/s2p_Or_zMh.tif' > /tmp/s2p_ZHwU16.txt\n",
        "zoom_2d /tmp/s2p_Or_zMh.tif /tmp/s2p_wg02w5.tif 604 700\n",
        "crop /tmp/s2p_wg02w5.tif /tmp/s2p_ubLams.tif -2 0 600 700"
       ]
      },
      {
       "output_type": "stream",
       "stream": "stdout",
       "text": [
        "\n",
        "imprintf \"%w %h\" '/tmp/festival_msmw/roi_ref02.tif' > /tmp/s2p_ExJhLT.txt"
       ]
      },
      {
       "output_type": "stream",
       "stream": "stdout",
       "text": [
        "\n",
        "imprintf \"%w %h\" '/tmp/s2p_ubLams.tif' > /tmp/s2p_xOrcIQ.txt\n",
        "plambda /tmp/s2p_ubLams.tif \"x[0] x[1] 0.9 * x[3] 0.1 * + x[2] join3\" | iion - /tmp/s2p_BXY83U.tif"
       ]
      },
      {
       "output_type": "stream",
       "stream": "stdout",
       "text": [
        "\n",
        "qauto /tmp/s2p_BXY83U.tif /tmp/s2p_EL1fzl.png 2> /dev/null"
       ]
      },
      {
       "output_type": "stream",
       "stream": "stdout",
       "text": [
        "\n",
        "qauto /tmp/festival_msmw/roi_ref02.tif /tmp/s2p_XQcS1m.png 2> /dev/null"
       ]
      },
      {
       "output_type": "stream",
       "stream": "stdout",
       "text": [
        "\n",
        "plambda /tmp/s2p_XQcS1m.png /tmp/s2p_EL1fzl.png \"dup split + + / *\" | qeasy 0 85 - /tmp/festival_msmw/roi_color_ref02.tif"
       ]
      },
      {
       "output_type": "stream",
       "stream": "stdout",
       "text": [
        "\n",
        "colormesh /tmp/festival_msmw/roi_color_ref02.tif /tmp/festival_msmw/merged_height.tif pleiades_data/rpc/cannes/rpc02.xml /tmp/s2p_Gq_8Qb.txt /tmp/festival_msmw/cloud.ply 769137 5383822"
       ]
      },
      {
       "output_type": "stream",
       "stream": "stdout",
       "text": [
        "\n",
        "v /tmp/festival_msmw/roi_ref02.tif /tmp/festival_msmw/roi_color_ref02.tif /tmp/festival_msmw/merged_height.tif"
       ]
      },
      {
       "output_type": "stream",
       "stream": "stdout",
       "text": [
        "\n",
        "open /tmp/festival_msmw/cloud.ply\n"
       ]
      }
     ],
     "prompt_number": 41
    },
    {
     "cell_type": "code",
     "collapsed": false,
     "input": [
      "common.run('open /tmp/%s/cloud.ply' % exp_name)"
     ],
     "language": "python",
     "metadata": {},
     "outputs": [
      {
       "output_type": "stream",
       "stream": "stdout",
       "text": [
        "open /tmp/festival_msmw/cloud.ply\n"
       ]
      }
     ],
     "prompt_number": 42
    },
    {
     "cell_type": "code",
     "collapsed": false,
     "input": [
      "main_script.generate_cloud(img_name, '21', x, y, w, h, '/tmp/saint_sernin/saint_sernin_left/height_unrect.tif', 2)\n",
      "main_script.generate_cloud(img_name, '23', x, y, w, h, '/tmp/saint_sernin/saint_sernin_right/height_unrect.tif', 2)"
     ],
     "language": "python",
     "metadata": {},
     "outputs": [
      {
       "output_type": "stream",
       "stream": "stdout",
       "text": [
        "gdal_translate -srcwin 19451 14072 572 527 'pleiades_data/images/toulouse/im02.tif' '/tmp/s2p_nKq1u4.tif'\n",
        "tiffcp /tmp/s2p_nKq1u4.tif /tmp/s2p_uvkSQ0.tif 2> /dev/null"
       ]
      },
      {
       "output_type": "stream",
       "stream": "stdout",
       "text": [
        "\n",
        "cp /tmp/s2p_uvkSQ0.tif /tmp/21/roi_ref02.tif\n",
        "imprintf \"%w %h\" '/tmp/21/roi_ref02.tif' > /tmp/s2p_ZzPF8_.txt\n",
        "gdal_translate -srcwin 4863 3518 144 132 'pleiades_data/images/toulouse/im02_color.tif' '/tmp/s2p_pV9lGQ.tif'"
       ]
      },
      {
       "output_type": "stream",
       "stream": "stdout",
       "text": [
        "\n",
        "tiffcp /tmp/s2p_pV9lGQ.tif /tmp/s2p_oYlYF2.tif 2> /dev/null"
       ]
      },
      {
       "output_type": "stream",
       "stream": "stdout",
       "text": [
        "\n",
        "imprintf \"%w %h\" '/tmp/s2p_oYlYF2.tif' > /tmp/s2p_MDx0sh.txt\n",
        "zoom_2d /tmp/s2p_oYlYF2.tif /tmp/s2p_csyl6o.tif 576 528\n",
        "crop /tmp/s2p_csyl6o.tif /tmp/s2p__DN3t9.tif -1 0 572 527"
       ]
      },
      {
       "output_type": "stream",
       "stream": "stdout",
       "text": [
        "\n",
        "imprintf \"%w %h\" '/tmp/21/roi_ref02.tif' > /tmp/s2p_CU0ay4.txt"
       ]
      },
      {
       "output_type": "stream",
       "stream": "stdout",
       "text": [
        "\n",
        "imprintf \"%w %h\" '/tmp/s2p__DN3t9.tif' > /tmp/s2p_AtDzWX.txt\n",
        "plambda /tmp/s2p__DN3t9.tif \"x[0] x[1] 0.9 * x[3] 0.1 * + x[2] join3\" | iion - /tmp/s2p_jV7WPU.tif"
       ]
      },
      {
       "output_type": "stream",
       "stream": "stdout",
       "text": [
        "\n",
        "qauto /tmp/s2p_jV7WPU.tif /tmp/s2p_eMNlad.png 2> /dev/null"
       ]
      },
      {
       "output_type": "stream",
       "stream": "stdout",
       "text": [
        "\n",
        "qauto /tmp/21/roi_ref02.tif /tmp/s2p_nrl2HM.png 2> /dev/null"
       ]
      },
      {
       "output_type": "stream",
       "stream": "stdout",
       "text": [
        "\n",
        "plambda /tmp/s2p_nrl2HM.png /tmp/s2p_eMNlad.png \"dup split + + / *\" | qeasy 0 85 - /tmp/21/roi_color_ref02.tif"
       ]
      },
      {
       "output_type": "stream",
       "stream": "stdout",
       "text": [
        "\n",
        "colormesh /tmp/21/roi_color_ref02.tif /tmp/saint_sernin/saint_sernin_left/height_unrect.tif pleiades_data/rpc/toulouse/rpc02.xml /tmp/s2p_cYLm27.txt /tmp/21/cloud.ply 143868 5386304"
       ]
      },
      {
       "output_type": "stream",
       "stream": "stdout",
       "text": [
        "\n",
        "v /tmp/21/roi_ref02.tif /tmp/21/roi_color_ref02.tif /tmp/saint_sernin/saint_sernin_left/height_unrect.tif"
       ]
      },
      {
       "output_type": "stream",
       "stream": "stdout",
       "text": [
        "\n",
        "open /tmp/21/cloud.ply\n",
        "gdal_translate -srcwin 19451 14072 572 527 'pleiades_data/images/toulouse/im02.tif' '/tmp/s2p_zVkCmS.tif'\n",
        "tiffcp /tmp/s2p_zVkCmS.tif /tmp/s2p_i6DY1e.tif 2> /dev/null"
       ]
      },
      {
       "output_type": "stream",
       "stream": "stdout",
       "text": [
        "\n",
        "cp /tmp/s2p_i6DY1e.tif /tmp/23/roi_ref02.tif\n",
        "imprintf \"%w %h\" '/tmp/23/roi_ref02.tif' > /tmp/s2p_EUGepj.txt\n",
        "gdal_translate -srcwin 4863 3518 144 132 'pleiades_data/images/toulouse/im02_color.tif' '/tmp/s2p_LBGkfb.tif'"
       ]
      },
      {
       "output_type": "stream",
       "stream": "stdout",
       "text": [
        "\n",
        "tiffcp /tmp/s2p_LBGkfb.tif /tmp/s2p_Z4SA8U.tif 2> /dev/null"
       ]
      },
      {
       "output_type": "stream",
       "stream": "stdout",
       "text": [
        "\n",
        "imprintf \"%w %h\" '/tmp/s2p_Z4SA8U.tif' > /tmp/s2p_6JiQqb.txt\n",
        "zoom_2d /tmp/s2p_Z4SA8U.tif /tmp/s2p_3N2sNW.tif 576 528\n",
        "crop /tmp/s2p_3N2sNW.tif /tmp/s2p_kXFQOv.tif -1 0 572 527"
       ]
      },
      {
       "output_type": "stream",
       "stream": "stdout",
       "text": [
        "\n",
        "imprintf \"%w %h\" '/tmp/23/roi_ref02.tif' > /tmp/s2p_FUlq6y.txt"
       ]
      },
      {
       "output_type": "stream",
       "stream": "stdout",
       "text": [
        "\n",
        "imprintf \"%w %h\" '/tmp/s2p_kXFQOv.tif' > /tmp/s2p_7q_8QF.txt\n",
        "plambda /tmp/s2p_kXFQOv.tif \"x[0] x[1] 0.9 * x[3] 0.1 * + x[2] join3\" | iion - /tmp/s2p_QmyIm1.tif"
       ]
      },
      {
       "output_type": "stream",
       "stream": "stdout",
       "text": [
        "\n",
        "qauto /tmp/s2p_QmyIm1.tif /tmp/s2p_t1xaIh.png 2> /dev/null"
       ]
      },
      {
       "output_type": "stream",
       "stream": "stdout",
       "text": [
        "\n",
        "qauto /tmp/23/roi_ref02.tif /tmp/s2p_A5Lt2Y.png 2> /dev/null"
       ]
      },
      {
       "output_type": "stream",
       "stream": "stdout",
       "text": [
        "\n",
        "plambda /tmp/s2p_A5Lt2Y.png /tmp/s2p_t1xaIh.png \"dup split + + / *\" | qeasy 0 85 - /tmp/23/roi_color_ref02.tif"
       ]
      },
      {
       "output_type": "stream",
       "stream": "stdout",
       "text": [
        "\n",
        "colormesh /tmp/23/roi_color_ref02.tif /tmp/saint_sernin/saint_sernin_right/height_unrect.tif pleiades_data/rpc/toulouse/rpc02.xml /tmp/s2p_rWvnuJ.txt /tmp/23/cloud.ply 143868 5386304"
       ]
      },
      {
       "output_type": "stream",
       "stream": "stdout",
       "text": [
        "\n",
        "v /tmp/23/roi_ref02.tif /tmp/23/roi_color_ref02.tif /tmp/saint_sernin/saint_sernin_right/height_unrect.tif"
       ]
      },
      {
       "output_type": "stream",
       "stream": "stdout",
       "text": [
        "\n",
        "open /tmp/23/cloud.ply\n"
       ]
      }
     ],
     "prompt_number": 14
    },
    {
     "cell_type": "code",
     "collapsed": false,
     "input": [],
     "language": "python",
     "metadata": {},
     "outputs": []
    }
   ],
   "metadata": {}
  }
 ]
}