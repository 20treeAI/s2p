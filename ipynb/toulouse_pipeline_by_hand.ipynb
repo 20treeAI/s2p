{
 "metadata": {
  "name": "toulouse_pipeline_by_hand"
 },
 "nbformat": 3,
 "nbformat_minor": 0,
 "worksheets": [
  {
   "cells": [
    {
     "cell_type": "code",
     "collapsed": false,
     "input": [
      "cd ~/code/s2p/python"
     ],
     "language": "python",
     "metadata": {},
     "outputs": [
      {
       "output_type": "stream",
       "stream": "stdout",
       "text": [
        "/Users/carlo/code/s2p/python\n"
       ]
      }
     ],
     "prompt_number": 1
    },
    {
     "cell_type": "code",
     "collapsed": true,
     "input": [
      "import numpy as np\n",
      "import rpc_model, rectification, block_matching, triangulation, fusion\n",
      "import pointing_accuracy, common, visualisation"
     ],
     "language": "python",
     "metadata": {},
     "outputs": [],
     "prompt_number": 2
    },
    {
     "cell_type": "code",
     "collapsed": false,
     "input": [
      "reload(rectification), reload(rectification.homography_cropper), reload(block_matching), reload(triangulation),\n",
      "reload(triangulation.common), reload(pointing_accuracy), reload(pointing_accuracy.rpc_utils), reload(pointing_accuracy.evaluation), reload(pointing_accuracy.rectification)"
     ],
     "language": "python",
     "metadata": {},
     "outputs": [
      {
       "output_type": "pyout",
       "prompt_number": 10,
       "text": [
        "(<module 'common' from 'common.pyc'>,\n",
        " <module 'pointing_accuracy' from 'pointing_accuracy.py'>,\n",
        " <module 'rpc_utils' from 'rpc_utils.pyc'>,\n",
        " <module 'evaluation' from 'evaluation.pyc'>,\n",
        " <module 'rectification' from 'rectification.pyc'>)"
       ]
      }
     ],
     "prompt_number": 10
    },
    {
     "cell_type": "code",
     "collapsed": true,
     "input": [
      "place = 'toulouse'\n",
      "rpc1 = '../pleiades_data/rpc/%s/rpc01.xml' % (place)\n",
      "rpc2 = '../pleiades_data/rpc/%s/rpc02.xml' % (place)\n",
      "rpc3 = '../pleiades_data/rpc/%s/rpc03.xml' % (place)\n",
      "im1 = '../pleiades_data/images/%s/im01.tif' % (place)\n",
      "im2 = '../pleiades_data/images/%s/im02.tif' % (place)\n",
      "im3 = '../pleiades_data/images/%s/im03.tif' % (place)\n",
      "prev2 = '../pleiades_data/images/%s/prev02.jpg' % (place)\n",
      "im2_color = '../pleiades_data/images/%s/im02_color.tif' % (place)\n",
      "# read rpcs\n",
      "RPC1 = rpc_model.RPCModel(rpc1)\n",
      "RPC2 = rpc_model.RPCModel(rpc2)\n",
      "RPC3 = rpc_model.RPCModel(rpc3)\n",
      "\n",
      "x = 20380\n",
      "y = 18600\n",
      "w = 320\n",
      "h = 300\n",
      "\n",
      "x = 20240\n",
      "y = 18560\n",
      "w = 700\n",
      "h = 700"
     ],
     "language": "python",
     "metadata": {},
     "outputs": [],
     "prompt_number": 15
    },
    {
     "cell_type": "code",
     "collapsed": false,
     "input": [
      "x, y, w, h = common.get_roi_coordinates(rpc2, prev2)\n",
      "print x, y, w, h"
     ],
     "language": "python",
     "metadata": {},
     "outputs": [
      {
       "output_type": "stream",
       "stream": "stdout",
       "text": [
        "imprintf \"%w %h\" '../pleiades_data/images/toulouse/prev02.jpg' > /tmp/s2p_0VQeJt.txt\n",
        "/Users/carlo/code/s2p/python/viewGL.py '../pleiades_data/images/toulouse/prev02.jpg' > /tmp/s2p_LQckrY.txt"
       ]
      },
      {
       "output_type": "stream",
       "stream": "stdout",
       "text": [
        "\n"
       ]
      }
     ],
     "prompt_number": 252
    },
    {
     "cell_type": "markdown",
     "metadata": {},
     "source": [
      "### Pointing error correction"
     ]
    },
    {
     "cell_type": "code",
     "collapsed": true,
     "input": [
      "#m21 = pointing_accuracy.filtered_sift_matches_full_img(im2, im1, RPC2, RPC1, 'automatic', None, 1000, None)\n",
      "m21 = pointing_accuracy.filtered_sift_matches_roi(im2, im1, RPC2, RPC1, x, y, w, h)\n",
      "#m23 = pointing_accuracy.filtered_sift_matches_roi(im2, im3, RPC2, RPC3, x, y, w, h)\n",
      "print np.shape(m21)\n",
      "#print np.shape(m23)"
     ],
     "language": "python",
     "metadata": {},
     "outputs": [
      {
       "output_type": "stream",
       "stream": "stdout",
       "text": [
        "gdal_translate -co profile=baseline -srcwin 20240 18560 700 700 '../pleiades_data/images/toulouse/im02.tif' '/tmp/s2p_02rTsH.tif'\n",
        "gdal_translate -co profile=baseline -srcwin 20239 17820 699 770 '../pleiades_data/images/toulouse/im01.tif' '/tmp/s2p_sNN0bt.tif'"
       ]
      },
      {
       "output_type": "stream",
       "stream": "stdout",
       "text": [
        "\n",
        "qauto /tmp/s2p_02rTsH.tif /tmp/s2p_EW5qPG.png 2> /dev/null"
       ]
      },
      {
       "output_type": "stream",
       "stream": "stdout",
       "text": [
        "\n",
        "sift_keypoints /tmp/s2p_EW5qPG.png /tmp/s2p_dsPTtL.txt"
       ]
      },
      {
       "output_type": "stream",
       "stream": "stdout",
       "text": [
        "\n",
        "awk '{if (NR!=1) {print}}' /tmp/s2p_dsPTtL.txt > /tmp/s2p_MkwDLg.txt"
       ]
      },
      {
       "output_type": "stream",
       "stream": "stdout",
       "text": [
        "\n",
        "cp /tmp/s2p_MkwDLg.txt /tmp/s2p_dsPTtL.txt"
       ]
      },
      {
       "output_type": "stream",
       "stream": "stdout",
       "text": [
        "\n",
        "qauto /tmp/s2p_sNN0bt.tif /tmp/s2p_DtSj7c.png 2> /dev/null\n",
        "sift_keypoints /tmp/s2p_DtSj7c.png /tmp/s2p_zbIq1H.txt"
       ]
      },
      {
       "output_type": "stream",
       "stream": "stdout",
       "text": [
        "\n",
        "awk '{if (NR!=1) {print}}' /tmp/s2p_zbIq1H.txt > /tmp/s2p_pR3CgQ.txt"
       ]
      },
      {
       "output_type": "stream",
       "stream": "stdout",
       "text": [
        "\n",
        "cp /tmp/s2p_pR3CgQ.txt /tmp/s2p_zbIq1H.txt"
       ]
      },
      {
       "output_type": "stream",
       "stream": "stdout",
       "text": [
        "\n",
        "matching /tmp/s2p_dsPTtL.txt /tmp/s2p_zbIq1H.txt 1 0.400000 4 8 36 > /tmp/s2p_BdjRHT.txt\n",
        "ransac fmn 1000 .3 7 /tmp/s2p_QAXc2a.txt < /tmp/s2p_EIsgQU.txt"
       ]
      },
      {
       "output_type": "stream",
       "stream": "stdout",
       "text": [
        "\n",
        "(222, 4)"
       ]
      },
      {
       "output_type": "stream",
       "stream": "stdout",
       "text": [
        "\n"
       ]
      }
     ],
     "prompt_number": 16
    },
    {
     "cell_type": "code",
     "collapsed": false,
     "input": [
      "visualisation.plot_matches_pleiades(im2, im1, m21)\n",
      "#visualisation.plot_matches_pleiades(im2, im3, m23)"
     ],
     "language": "python",
     "metadata": {},
     "outputs": [
      {
       "output_type": "stream",
       "stream": "stdout",
       "text": [
        "gdal_translate -co profile=baseline -srcwin 20237 18548 713 712 '../pleiades_data/images/toulouse/im02.tif' '/tmp/s2p_gcZ2Uk.tif'\n",
        "gdal_translate -co profile=baseline -srcwin 20237 17859 704 712 '../pleiades_data/images/toulouse/im01.tif' '/tmp/s2p_gDzirn.tif'"
       ]
      },
      {
       "output_type": "stream",
       "stream": "stdout",
       "text": [
        "\n",
        "v /tmp/s2p_hlWUzi.tif"
       ]
      },
      {
       "output_type": "stream",
       "stream": "stdout",
       "text": [
        "\n"
       ]
      }
     ],
     "prompt_number": 17
    },
    {
     "cell_type": "code",
     "collapsed": true,
     "input": [
      "%time A21 = pointing_accuracy.optimize_pair(im2, im1, RPC2, RPC1, None, m21)\n",
      "#print A21\n",
      "#A23 = pointing_accuracy.optimize_pair(im2, im3, RPC2, RPC3, None, m23)\n",
      "#print A23"
     ],
     "language": "python",
     "metadata": {},
     "outputs": [
      {
       "output_type": "stream",
       "stream": "stdout",
       "text": [
        "running optimization using 222 matches\n",
        "[ -2.61373519e-29   8.69790085e-01   1.68965485e-01  -2.62931155e-29]"
       ]
      },
      {
       "output_type": "stream",
       "stream": "stdout",
       "text": [
        " 31.0809402012 {'warnflag': 0, 'task': 'CONVERGENCE: REL_REDUCTION_OF_F_<=_FACTR*EPSMCH', 'grad': array([ 0.05090719,  0.06297398,  0.06039862,  0.03029257]), 'nit': 15, 'funcalls': 38}\n",
        "CPU times: user 5.47 s, sys: 0.31 s, total: 5.79 s\n",
        "Wall time: 5.58 s\n"
       ]
      }
     ],
     "prompt_number": 20
    },
    {
     "cell_type": "code",
     "collapsed": false,
     "input": [
      "%time A21 = pointing_accuracy.optimize_pair_simplified(im2, im1, RPC2, RPC1, None, m21)"
     ],
     "language": "python",
     "metadata": {},
     "outputs": [
      {
       "output_type": "stream",
       "stream": "stdout",
       "text": [
        "running simplified optimization using 222 matches\n",
        "Optimization terminated successfully."
       ]
      },
      {
       "output_type": "stream",
       "stream": "stdout",
       "text": [
        "\n",
        "         Current function value: 31.080940\n",
        "         Iterations: 51\n",
        "         Function evaluations: 95\n",
        "translation:  [ 0.87014482  0.16908181]\n",
        "CPU times: user 2.26 s, sys: 0.13 s, total: 2.39 s\n",
        "Wall time: 2.32 s\n"
       ]
      }
     ],
     "prompt_number": 21
    },
    {
     "cell_type": "code",
     "collapsed": false,
     "input": [
      "pointing_accuracy.cost_function(np.array([0, 0.4, 0, 0]), RPC2, RPC1, m21)"
     ],
     "language": "python",
     "metadata": {},
     "outputs": [
      {
       "output_type": "pyout",
       "prompt_number": 235,
       "text": [
        "484.18533769255885"
       ]
      }
     ],
     "prompt_number": 235
    },
    {
     "cell_type": "markdown",
     "metadata": {},
     "source": [
      "How better is it with the pointing correction enabled ?"
     ]
    },
    {
     "cell_type": "code",
     "collapsed": false,
     "input": [
      "#pointing_accuracy.evaluation_iterative(im2, im1, RPC2, RPC1, x, y, w, h)\n",
      "#pointing_accuracy.evaluation_iterative(im2, im1, RPC2, RPC1, x, y, w, h, A21)\n",
      "#pointing_accuracy.evaluation_iterative(im2, im3, RPC2, RPC3, x, y, w, h)\n",
      "#pointing_accuracy.evaluation_iterative(im2, im3, RPC2, RPC3, x, y, w, h, A23)\n",
      "print pointing_accuracy.evaluation_from_estimated_F(im2, im1, RPC2, RPC1, x, y, w, h)\n",
      "#print pointing_accuracy.evaluation_from_estimated_F(im2, im1, RPC2, RPC1, x, y, w, h, A21)\n",
      "#print pointing_accuracy.evaluation_from_estimated_F(im2, im3, RPC2, RPC3, x, y, w, h)\n",
      "#print pointing_accuracy.evaluation_from_estimated_F(im2, im3, RPC2, RPC3, x, y, w, h, A23)"
     ],
     "language": "python",
     "metadata": {},
     "outputs": [
      {
       "output_type": "stream",
       "stream": "stdout",
       "text": [
        "gdal_translate -srcwin 8097 28101 880 967 '../pleiades_data/images/toulouse/im02.tif' '/tmp/s2p_9gFObg.tif'\n",
        "tiffcp /tmp/s2p_9gFObg.tif /tmp/s2p_B37rfK.tif 2> /dev/null"
       ]
      },
      {
       "output_type": "stream",
       "stream": "stdout",
       "text": [
        "\n",
        "gdal_translate -srcwin 8264 26834 877 1044 '../pleiades_data/images/toulouse/im01.tif' '/tmp/s2p_TzyrYx.tif'\n",
        "tiffcp /tmp/s2p_TzyrYx.tif /tmp/s2p_64iUr4.tif 2> /dev/null"
       ]
      },
      {
       "output_type": "stream",
       "stream": "stdout",
       "text": [
        "\n",
        "qauto /tmp/s2p_B37rfK.tif /tmp/s2p_LZTlb7.png 2> /dev/null\n",
        "sift_keypoints /tmp/s2p_LZTlb7.png /tmp/s2p_oNVkbf.txt"
       ]
      },
      {
       "output_type": "stream",
       "stream": "stdout",
       "text": [
        "\n",
        "awk '{if (NR!=1) {print}}' /tmp/s2p_oNVkbf.txt > /tmp/s2p_aadkIz.txt"
       ]
      },
      {
       "output_type": "stream",
       "stream": "stdout",
       "text": [
        "\n",
        "cp /tmp/s2p_aadkIz.txt /tmp/s2p_oNVkbf.txt\n",
        "qauto /tmp/s2p_64iUr4.tif /tmp/s2p_NJpp6h.png 2> /dev/null"
       ]
      },
      {
       "output_type": "stream",
       "stream": "stdout",
       "text": [
        "\n",
        "sift_keypoints /tmp/s2p_NJpp6h.png /tmp/s2p_8gyx_i.txt"
       ]
      },
      {
       "output_type": "stream",
       "stream": "stdout",
       "text": [
        "\n",
        "awk '{if (NR!=1) {print}}' /tmp/s2p_8gyx_i.txt > /tmp/s2p_m4Xyaa.txt"
       ]
      },
      {
       "output_type": "stream",
       "stream": "stdout",
       "text": [
        "\n",
        "cp /tmp/s2p_m4Xyaa.txt /tmp/s2p_8gyx_i.txt"
       ]
      },
      {
       "output_type": "stream",
       "stream": "stdout",
       "text": [
        "\n",
        "matching /tmp/s2p_oNVkbf.txt /tmp/s2p_8gyx_i.txt 1 0.400000 4 8 36 > /tmp/s2p_raYSQV.txt\n",
        "ransac fmn 1000 .3 7 /tmp/s2p_jsSj_V.txt < /tmp/s2p_uVzaKr.txt"
       ]
      },
      {
       "output_type": "stream",
       "stream": "stdout",
       "text": [
        "\n",
        "237"
       ]
      },
      {
       "output_type": "stream",
       "stream": "stdout",
       "text": [
        "\n",
        "-0.319622760129\n"
       ]
      }
     ],
     "prompt_number": 253
    },
    {
     "cell_type": "markdown",
     "metadata": {},
     "source": [
      "There is an improvement by a factor ranging from 2 to 5: the mean error reduces from 0.9 to 0.02 pix for pair (2, 1), and from 0.2 to 0.02 for pair (2, 3). How does the rectification works with this correction ? It's definitely better."
     ]
    },
    {
     "cell_type": "markdown",
     "metadata": {},
     "source": [
      "### Stereo Rectification"
     ]
    },
    {
     "cell_type": "code",
     "collapsed": false,
     "input": [
      "pair21_ref = '/tmp/pair21_ref.tif'\n",
      "pair21_sec = '/tmp/pair21_sec.tif'\n",
      "hom21_ref = '/tmp/hom21_ref.txt'\n",
      "hom21_sec = '/tmp/hom21_sec.txt'\n",
      "H21_ref, H21_sec, disp_min_21, disp_max_21 = rectification.rectify_pair(im2, im1, rpc2, rpc1, x, y, w, h, pair21_ref, pair21_sec, A21)\n",
      "np.savetxt(hom21_ref, H21_ref)\n",
      "np.savetxt(hom21_sec, H21_sec)\n",
      "common.run(\"v %s %s &\" % (pair21_ref, pair21_sec))"
     ],
     "language": "python",
     "metadata": {},
     "outputs": [
      {
       "output_type": "stream",
       "stream": "stdout",
       "text": [
        "step 1: find matches, and center them ------------------------------\n",
        "applying pointing error correction"
       ]
      },
      {
       "output_type": "stream",
       "stream": "stdout",
       "text": [
        "\n",
        "step 2: estimate F (8-points algorithm) ----------------------------\n",
        "step 3: compute rectifying homographies (loop-zhang algorithm) -----\n",
        "rectify_mindistortion /tmp/s2p_A8Eu8x.txt 320 300 /tmp/s2p_jAEuuN.txt /tmp/s2p_TC9xM3.txt > /dev/null\n",
        "max, min, mean rectification error on rpc matches ------------------"
       ]
      },
      {
       "output_type": "stream",
       "stream": "stdout",
       "text": [
        "\n",
        "0.00368187444701 7.51065158511e-06 0.00154306721542\n",
        "step 4: pull back top-left corner of the ROI in the origin ---------\n",
        "step 5: horizontal registration ------------------------------------\n",
        "gdal_translate -srcwin 20380 18600 320 300 '../pleiades_data/images/toulouse/im02.tif' '/tmp/s2p_ys3iPz.tif'"
       ]
      },
      {
       "output_type": "stream",
       "stream": "stdout",
       "text": [
        "\n",
        "tiffcp /tmp/s2p_ys3iPz.tif /tmp/s2p_p1YJQU.tif 2> /dev/null"
       ]
      },
      {
       "output_type": "stream",
       "stream": "stdout",
       "text": [
        "\n",
        "gdal_translate -srcwin 20378 17865 324 354 '../pleiades_data/images/toulouse/im01.tif' '/tmp/s2p_7_gKjM.tif'\n",
        "tiffcp /tmp/s2p_7_gKjM.tif /tmp/s2p_CRCyRR.tif 2> /dev/null"
       ]
      },
      {
       "output_type": "stream",
       "stream": "stdout",
       "text": [
        "\n",
        "qauto /tmp/s2p_p1YJQU.tif /tmp/s2p_rVlqLS.png 2> /dev/null\n",
        "sift_keypoints /tmp/s2p_rVlqLS.png /tmp/s2p_lgfNJm.txt"
       ]
      },
      {
       "output_type": "stream",
       "stream": "stdout",
       "text": [
        "\n",
        "awk '{if (NR!=1) {print}}' /tmp/s2p_lgfNJm.txt > /tmp/s2p_BPw046.txt"
       ]
      },
      {
       "output_type": "stream",
       "stream": "stdout",
       "text": [
        "\n",
        "cp /tmp/s2p_BPw046.txt /tmp/s2p_lgfNJm.txt\n",
        "qauto /tmp/s2p_CRCyRR.tif /tmp/s2p_6h5RUb.png 2> /dev/null\n",
        "sift_keypoints /tmp/s2p_6h5RUb.png /tmp/s2p_qsMbQG.txt"
       ]
      },
      {
       "output_type": "stream",
       "stream": "stdout",
       "text": [
        "\n",
        "awk '{if (NR!=1) {print}}' /tmp/s2p_qsMbQG.txt > /tmp/s2p_izg2x0.txt"
       ]
      },
      {
       "output_type": "stream",
       "stream": "stdout",
       "text": [
        "\n",
        "cp /tmp/s2p_izg2x0.txt /tmp/s2p_qsMbQG.txt\n",
        "matching /tmp/s2p_lgfNJm.txt /tmp/s2p_qsMbQG.txt 1 0.400000 4 8 36 > /tmp/s2p_FnGlat.txt\n",
        "remaining sift matches"
       ]
      },
      {
       "output_type": "stream",
       "stream": "stdout",
       "text": [
        " 77\n",
        "Residual vertical disparities: max, min, mean. Should be zero ------\n",
        "0.471706542388 -0.389315897566 0.0226455764108\n",
        "gdal_translate -srcwin 20323 18539 434 421 '../pleiades_data/images/toulouse/im02.tif' '/tmp/s2p_oKKGN9.tif'\n",
        "tiffcp /tmp/s2p_oKKGN9.tif /tmp/s2p_ZCUWEv.tif 2> /dev/null"
       ]
      },
      {
       "output_type": "stream",
       "stream": "stdout",
       "text": [
        "\n",
        "imprintf \"%c\" '/tmp/s2p_ZCUWEv.tif' > /tmp/s2p_hTeYQ4.txt\n",
        "zoom_zeropadding /tmp/s2p_ZCUWEv.tif /Users/carlo/code/s2p/python/../pleiades_data/idata_0009_MTF_89x89.tif /tmp/s2p_wm9nvs.tif\n",
        "fftconvolve /tmp/s2p_wm9nvs.tif /tmp/s2p_ZCUWEv.tif /tmp/s2p_8O9jv7.tif"
       ]
      },
      {
       "output_type": "stream",
       "stream": "stdout",
       "text": [
        "\n",
        "homography /tmp/s2p_8O9jv7.tif /tmp/s2p_zl5KYj.txt /tmp/s2p_RVlmKe.png /tmp/pair21_ref.tif 0 355 370"
       ]
      },
      {
       "output_type": "stream",
       "stream": "stdout",
       "text": [
        "\n",
        "gdal_translate -srcwin 20322 17838 428 435 '../pleiades_data/images/toulouse/im01.tif' '/tmp/s2p_Yc2mTa.tif'"
       ]
      },
      {
       "output_type": "stream",
       "stream": "stdout",
       "text": [
        "\n",
        "tiffcp /tmp/s2p_Yc2mTa.tif /tmp/s2p_ywik8p.tif 2> /dev/null\n",
        "imprintf \"%c\" '/tmp/s2p_ywik8p.tif' > /tmp/s2p_yns2qH.txt"
       ]
      },
      {
       "output_type": "stream",
       "stream": "stdout",
       "text": [
        "\n",
        "zoom_zeropadding /tmp/s2p_ywik8p.tif /Users/carlo/code/s2p/python/../pleiades_data/idata_0009_MTF_89x89.tif /tmp/s2p_n5giDG.tif\n",
        "fftconvolve /tmp/s2p_n5giDG.tif /tmp/s2p_ywik8p.tif /tmp/s2p_b2RVnW.tif"
       ]
      },
      {
       "output_type": "stream",
       "stream": "stdout",
       "text": [
        "\n",
        "homography /tmp/s2p_b2RVnW.tif /tmp/s2p_PyIx8N.txt /tmp/s2p_Ks9DeX.png /tmp/pair21_sec.tif 0 355 370"
       ]
      },
      {
       "output_type": "stream",
       "stream": "stdout",
       "text": [
        "\n",
        "v /tmp/pair21_ref.tif /tmp/pair21_sec.tif &"
       ]
      },
      {
       "output_type": "stream",
       "stream": "stdout",
       "text": [
        "\n"
       ]
      }
     ],
     "prompt_number": 276
    },
    {
     "cell_type": "code",
     "collapsed": true,
     "input": [
      "pair23_ref = '/tmp/pair23_ref.tif'\n",
      "pair23_sec = '/tmp/pair23_sec.tif'\n",
      "hom23_ref = '/tmp/hom23_ref.txt'\n",
      "hom23_sec = '/tmp/hom23_sec.txt'\n",
      "H23_ref, H23_sec, disp_min_23, disp_max_23 = rectification.rectify_pair(im2, im3, rpc2, rpc3, x, y, w, h, pair23_ref, pair23_sec, A23)\n",
      "np.savetxt(hom23_ref, H23_ref)\n",
      "np.savetxt(hom23_sec, H23_sec)\n",
      "common.run(\"v %s %s &\" % (pair23_ref, pair23_sec))"
     ],
     "language": "python",
     "metadata": {},
     "outputs": [
      {
       "output_type": "stream",
       "stream": "stdout",
       "text": [
        "step 1: find matches, and center them ------------------------------\n",
        "applying pointing error correction"
       ]
      },
      {
       "output_type": "stream",
       "stream": "stdout",
       "text": [
        "\n",
        "step 2: estimate F (8-points algorithm) ----------------------------\n",
        "step 3: compute rectifying homographies (loop-zhang algorithm) -----\n",
        "rectify_mindistortion /tmp/s2p_ZtHTBn.txt 320 300 /tmp/s2p_kCHaAL.txt /tmp/s2p_Wt5hca.txt > /dev/null\n",
        "max, min, mean rectification error on rpc matches ------------------"
       ]
      },
      {
       "output_type": "stream",
       "stream": "stdout",
       "text": [
        "\n",
        "0.00191976611541 3.54760220489e-06 0.000427485636968\n",
        "step 4: pull back top-left corner of the ROI in the origin ---------\n",
        "step 5: horizontal registration ------------------------------------\n",
        "gdal_translate -srcwin 20380 18600 320 300 '../pleiades_data/images/toulouse/im02.tif' '/tmp/s2p_CF51QE.tif'"
       ]
      },
      {
       "output_type": "stream",
       "stream": "stdout",
       "text": [
        "\n",
        "tiffcp /tmp/s2p_CF51QE.tif /tmp/s2p_f4V6wn.tif 2> /dev/null\n",
        "gdal_translate -srcwin 20372 18638 330 350 '../pleiades_data/images/toulouse/im03.tif' '/tmp/s2p_R8YC0M.tif'\n",
        "tiffcp /tmp/s2p_R8YC0M.tif /tmp/s2p_4VCzWm.tif 2> /dev/null"
       ]
      },
      {
       "output_type": "stream",
       "stream": "stdout",
       "text": [
        "\n",
        "qauto /tmp/s2p_f4V6wn.tif /tmp/s2p_74xAzr.png 2> /dev/null\n",
        "sift_keypoints /tmp/s2p_74xAzr.png /tmp/s2p_PvkWi9.txt"
       ]
      },
      {
       "output_type": "stream",
       "stream": "stdout",
       "text": [
        "\n",
        "awk '{if (NR!=1) {print}}' /tmp/s2p_PvkWi9.txt > /tmp/s2p_Uaxj_m.txt"
       ]
      },
      {
       "output_type": "stream",
       "stream": "stdout",
       "text": [
        "\n",
        "cp /tmp/s2p_Uaxj_m.txt /tmp/s2p_PvkWi9.txt\n",
        "qauto /tmp/s2p_4VCzWm.tif /tmp/s2p_qiTpfU.png 2> /dev/null\n",
        "sift_keypoints /tmp/s2p_qiTpfU.png /tmp/s2p_eK7OgN.txt"
       ]
      },
      {
       "output_type": "stream",
       "stream": "stdout",
       "text": [
        "\n",
        "awk '{if (NR!=1) {print}}' /tmp/s2p_eK7OgN.txt > /tmp/s2p_HmcstQ.txt"
       ]
      },
      {
       "output_type": "stream",
       "stream": "stdout",
       "text": [
        "\n",
        "cp /tmp/s2p_HmcstQ.txt /tmp/s2p_eK7OgN.txt\n",
        "matching /tmp/s2p_PvkWi9.txt /tmp/s2p_eK7OgN.txt 1 0.400000 4 8 36 > /tmp/s2p_KRoz2A.txt\n",
        "remaining sift matches"
       ]
      },
      {
       "output_type": "stream",
       "stream": "stdout",
       "text": [
        " 76\n",
        "Residual vertical disparities: max, min, mean. Should be zero ------\n",
        "0.466317332903 -0.475750139574 -0.0132176013984\n",
        "gdal_translate -srcwin 20324 18540 431 419 '../pleiades_data/images/toulouse/im02.tif' '/tmp/s2p_zEu2Jw.tif'\n",
        "tiffcp /tmp/s2p_zEu2Jw.tif /tmp/s2p_xPexSI.tif 2> /dev/null"
       ]
      },
      {
       "output_type": "stream",
       "stream": "stdout",
       "text": [
        "\n",
        "imprintf \"%c\" '/tmp/s2p_xPexSI.tif' > /tmp/s2p_HQW1NT.txt\n",
        "zoom_zeropadding /tmp/s2p_xPexSI.tif /Users/carlo/code/s2p/python/../pleiades_data/idata_0009_MTF_89x89.tif /tmp/s2p_XzQvH_.tif\n",
        "fftconvolve /tmp/s2p_XzQvH_.tif /tmp/s2p_xPexSI.tif /tmp/s2p_xwzi4O.tif"
       ]
      },
      {
       "output_type": "stream",
       "stream": "stdout",
       "text": [
        "\n",
        "homography /tmp/s2p_xwzi4O.tif /tmp/s2p_t7ELvR.txt /tmp/s2p__rM_fB.png /tmp/pair23_ref.tif 0 354 370"
       ]
      },
      {
       "output_type": "stream",
       "stream": "stdout",
       "text": [
        "\n",
        "gdal_translate -srcwin 20323 18598 433 402 '../pleiades_data/images/toulouse/im03.tif' '/tmp/s2p_oaVCuZ.tif'"
       ]
      },
      {
       "output_type": "stream",
       "stream": "stdout",
       "text": [
        "\n",
        "tiffcp /tmp/s2p_oaVCuZ.tif /tmp/s2p_HFt2NH.tif 2> /dev/null\n",
        "imprintf \"%c\" '/tmp/s2p_HFt2NH.tif' > /tmp/s2p_GumQyh.txt"
       ]
      },
      {
       "output_type": "stream",
       "stream": "stdout",
       "text": [
        "\n",
        "zoom_zeropadding /tmp/s2p_HFt2NH.tif /Users/carlo/code/s2p/python/../pleiades_data/idata_0009_MTF_89x89.tif /tmp/s2p_PS9LZU.tif\n",
        "fftconvolve /tmp/s2p_PS9LZU.tif /tmp/s2p_HFt2NH.tif /tmp/s2p_6DnlGy.tif"
       ]
      },
      {
       "output_type": "stream",
       "stream": "stdout",
       "text": [
        "\n",
        "homography /tmp/s2p_6DnlGy.tif /tmp/s2p_Y1Oc5_.txt /tmp/s2p_5vcVER.png /tmp/pair23_sec.tif 0 354 370"
       ]
      },
      {
       "output_type": "stream",
       "stream": "stdout",
       "text": [
        "\n",
        "v /tmp/pair23_ref.tif /tmp/pair23_sec.tif &"
       ]
      },
      {
       "output_type": "stream",
       "stream": "stdout",
       "text": [
        "\n"
       ]
      }
     ],
     "prompt_number": 277
    },
    {
     "cell_type": "markdown",
     "metadata": {},
     "source": [
      "### Block-matching"
     ]
    },
    {
     "cell_type": "code",
     "collapsed": true,
     "input": [
      "disp21 = '/tmp/disp21.tif'\n",
      "mask21 = '/tmp/mask21.tif'\n",
      "block_matching.compute_disparity_map(pair21_ref, pair21_sec, disp21, mask21, 'hirschmuller08', disp_min_21, disp_max_21)\n",
      "common.run(\"v %s %s %s %s &\" % (pair21_ref, pair21_sec, disp21, mask21))"
     ],
     "language": "python",
     "metadata": {},
     "outputs": [
      {
       "output_type": "stream",
       "stream": "stdout",
       "text": [
        "/Users/carlo/code/s2p/python/../3rdparty/stereo_hirschmuller_2008/callSGBM.sh /tmp/pair21_ref.tif /tmp/pair21_sec.tif /tmp/disp21.tif /tmp/mask21.tif -3 3 \n",
        "v /tmp/pair21_ref.tif /tmp/pair21_sec.tif /tmp/disp21.tif /tmp/mask21.tif &"
       ]
      },
      {
       "output_type": "stream",
       "stream": "stdout",
       "text": [
        "\n"
       ]
      }
     ],
     "prompt_number": 365
    },
    {
     "cell_type": "code",
     "collapsed": true,
     "input": [
      "disp23 = '/tmp/disp23.tif'\n",
      "mask23 = '/tmp/mask23.tif'\n",
      "block_matching.compute_disparity_map(pair23_ref, pair23_sec, disp23, mask23, 'hirschmuller08', disp_min_23, disp_max_23)\n",
      "common.run(\"v %s %s %s %s &\" % (pair23_ref, pair23_sec, disp23, mask23))"
     ],
     "language": "python",
     "metadata": {},
     "outputs": [
      {
       "output_type": "stream",
       "stream": "stdout",
       "text": [
        "./../3rdparty/stereo_hirschmuller_2008/callSGBM.sh /tmp/pair23_ref.tif /tmp/pair23_sec.tif /tmp/disp23.tif /tmp/mask23.tif -4 4 \n",
        "v /tmp/pair23_ref.tif /tmp/pair23_sec.tif /tmp/disp23.tif /tmp/mask23.tif &"
       ]
      },
      {
       "output_type": "stream",
       "stream": "stdout",
       "text": [
        "\n"
       ]
      }
     ],
     "prompt_number": 330
    },
    {
     "cell_type": "markdown",
     "metadata": {},
     "source": [
      "### Triangulation"
     ]
    },
    {
     "cell_type": "code",
     "collapsed": false,
     "input": [
      "height21 = '/tmp/height21.tif'\n",
      "rpc_err21 = '/tmp/rpc_err21.tif'\n",
      "triangulation.compute_height_map(rpc2, rpc1, hom21_ref, hom21_sec, disp21, mask21, height21, rpc_err21)\n",
      "height23 = '/tmp/height23.tif'\n",
      "rpc_err23 = '/tmp/rpc_err23.tif'\n",
      "triangulation.compute_height_map(rpc2, rpc3, hom23_ref, hom23_sec, disp23, mask23, height23, rpc_err23)\n",
      "common.run(\"v %s %s &\" % (height21, height23))"
     ],
     "language": "python",
     "metadata": {},
     "outputs": [
      {
       "output_type": "stream",
       "stream": "stdout",
       "text": [
        "disp_to_h ../pleiades_data/rpc/toulouse/rpc02.xml ../pleiades_data/rpc/toulouse/rpc01.xml /tmp/hom21_ref.txt /tmp/hom21_sec.txt /tmp/disp21.tif /tmp/mask21.tif /tmp/height21.tif /tmp/rpc_err21.tif\n",
        "disp_to_h ../pleiades_data/rpc/toulouse/rpc02.xml ../pleiades_data/rpc/toulouse/rpc03.xml /tmp/hom23_ref.txt /tmp/hom23_sec.txt /tmp/disp23.tif /tmp/mask23.tif /tmp/height23.tif /tmp/rpc_err23.tif"
       ]
      },
      {
       "output_type": "stream",
       "stream": "stdout",
       "text": [
        "\n",
        "v /tmp/height21.tif /tmp/height23.tif &"
       ]
      },
      {
       "output_type": "stream",
       "stream": "stdout",
       "text": [
        "\n"
       ]
      }
     ],
     "prompt_number": 331
    },
    {
     "cell_type": "code",
     "collapsed": false,
     "input": [
      "zoom = 1\n",
      "ref_crop = common.image_crop_TIFF(im2, x, y, w, h)\n",
      "#ref_crop = common.image_safe_zoom_fft(ref_crop, zoom)\n",
      "\n",
      "height21_unrect = '/tmp/height21_unrect.tif'\n",
      "#mask21_unrect = '/tmp/mask21_unrect.tif'\n",
      "triangulation.transfer_map(height21, ref_crop, hom21_ref, x, y, zoom, height21_unrect)\n",
      "height23_unrect = '/tmp/height23_unrect.tif'\n",
      "#mask23_unrect = '/tmp/mask23_unrect.tif'\n",
      "triangulation.transfer_map(height23, ref_crop, hom23_ref, x, y, zoom, height23_unrect)\n",
      "common.run(\"v %s %s &\" % (height21_unrect, height23_unrect))"
     ],
     "language": "python",
     "metadata": {},
     "outputs": [
      {
       "output_type": "stream",
       "stream": "stdout",
       "text": [
        "gdal_translate -srcwin 20380 18600 320 300 '../pleiades_data/images/toulouse/im02.tif' '/tmp/s2p__DLSJM.tif'\n",
        "tiffcp /tmp/s2p__DLSJM.tif /tmp/s2p_BGoVNd.tif 2> /dev/null"
       ]
      },
      {
       "output_type": "stream",
       "stream": "stdout",
       "text": [
        "\n",
        "synflow hom \"-0.19159499999999999 0.97901300000000002 61.310399999999845 -0.97901300000000002 -0.19159499999999999 370.76265999999669 0.0 0.0 1.0\" /tmp/s2p_BGoVNd.tif /dev/null - | BILINEAR=1 backflow - /tmp/height21.tif /tmp/height21_unrect.tif\n",
        "synflow hom \"-0.18795799999999999 0.98019000000000001 60.146559999999226 -0.98019000000000001 -0.18795799999999999 370.04820000000473 0.0 0.0 1.0\" /tmp/s2p_BGoVNd.tif /dev/null - | BILINEAR=1 backflow - /tmp/height23.tif /tmp/height23_unrect.tif"
       ]
      },
      {
       "output_type": "stream",
       "stream": "stdout",
       "text": [
        "\n",
        "v /tmp/height21_unrect.tif /tmp/height23_unrect.tif &"
       ]
      },
      {
       "output_type": "stream",
       "stream": "stdout",
       "text": [
        "\n"
       ]
      }
     ],
     "prompt_number": 332
    },
    {
     "cell_type": "code",
     "collapsed": false,
     "input": [
      "common.run(\"v %s %s &\" % (height21_unrect, height23_unrect))\"\n",
      "common.run(\"v %s %s &\" % (height21, height23))"
     ],
     "language": "python",
     "metadata": {},
     "outputs": [
      {
       "output_type": "stream",
       "stream": "stdout",
       "text": [
        "v /tmp/height21_unrect.tif /tmp/height23_unrect.tif &\n",
        "v /tmp/height21.tif /tmp/height23.tif &\n"
       ]
      }
     ],
     "prompt_number": 319
    },
    {
     "cell_type": "markdown",
     "metadata": {},
     "source": [
      "### Fusion"
     ]
    },
    {
     "cell_type": "code",
     "collapsed": false,
     "input": [
      "reload(fusion)"
     ],
     "language": "python",
     "metadata": {},
     "outputs": [
      {
       "output_type": "pyout",
       "prompt_number": 357,
       "text": [
        "<module 'fusion' from 'fusion.py'>"
       ]
      }
     ],
     "prompt_number": 357
    },
    {
     "cell_type": "code",
     "collapsed": false,
     "input": [
      "height_merged = '/tmp/height_merged.tif'\n",
      "fusion.merge(height21_unrect, height23_unrect, 3, height_merged )\n",
      "common.run(\"v %s %s %s %s &\" % (ref_crop, height_merged, height21_unrect, height23_unrect))"
     ],
     "language": "python",
     "metadata": {},
     "outputs": [
      {
       "output_type": "stream",
       "stream": "stdout",
       "text": [
        "downsa e 4 /tmp/height21_unrect.tif /tmp/s2p_x65iYz.tif"
       ]
      },
      {
       "output_type": "stream",
       "stream": "stdout",
       "text": [
        "\n",
        "downsa e 4 /tmp/height23_unrect.tif /tmp/s2p_g90jez.tif\n",
        "(6000,)"
       ]
      },
      {
       "output_type": "stream",
       "stream": "stdout",
       "text": [
        "\n",
        "(5882,)\n",
        "plambda /tmp/height23_unrect.tif \"x 0.905915 * 16.408667 +\" > /tmp/s2p_fjzUFu.tif\n",
        "\n",
        "        plambda /tmp/height21_unrect.tif /tmp/s2p_fjzUFu.tif \"x isfinite y isfinite x y - fabs 3.000000 < x y + 2 / nan if x\n",
        "        if y if\" > /tmp/height_merged.tif\n",
        "        "
       ]
      },
      {
       "output_type": "stream",
       "stream": "stdout",
       "text": [
        "\n",
        "v /tmp/s2p_BGoVNd.tif /tmp/height_merged.tif /tmp/height21_unrect.tif /tmp/height23_unrect.tif &"
       ]
      },
      {
       "output_type": "stream",
       "stream": "stdout",
       "text": [
        "\n"
       ]
      }
     ],
     "prompt_number": 358
    },
    {
     "cell_type": "code",
     "collapsed": false,
     "input": [
      "from main_script import generate_cloud"
     ],
     "language": "python",
     "metadata": {},
     "outputs": [],
     "prompt_number": 296
    },
    {
     "cell_type": "code",
     "collapsed": false,
     "input": [
      "generate_cloud('toulouse', 'prison', x, y, w, h, height_merged, 2)\n",
      "#generate_cloud('toulouse', 'prison21', x, y, w, h, height21_unrect, 2)\n",
      "#generate_cloud('toulouse', 'prison23', x, y, w, h, height23_unrect, 2)"
     ],
     "language": "python",
     "metadata": {},
     "outputs": [
      {
       "output_type": "stream",
       "stream": "stdout",
       "text": [
        "gdal_translate -srcwin 20380 18600 320 300 'pleiades_data/images/toulouse/im02.tif' '/tmp/s2p_zoWsUX.tif'\n",
        "tiffcp /tmp/s2p_zoWsUX.tif /tmp/s2p_9XOUd0.tif 2> /dev/null\n",
        "imprintf \"%w %h\" '/tmp/s2p_9XOUd0.tif' > /tmp/s2p_3XHx6x.txt"
       ]
      },
      {
       "output_type": "stream",
       "stream": "stdout",
       "text": [
        "\n",
        "zoom_2d /tmp/s2p_9XOUd0.tif /tmp/s2p_aixUns.tif 320 300\n",
        "cp /tmp/s2p_aixUns.tif /tmp/prison_roi_ref02.tif"
       ]
      },
      {
       "output_type": "stream",
       "stream": "stdout",
       "text": [
        "\n",
        "imprintf \"%w %h\" '/tmp/prison_roi_ref02.tif' > /tmp/s2p_btvAtz.txt\n",
        "gdal_translate -srcwin 5096 4650 80 75 'pleiades_data/images/toulouse/im02_color.tif' '/tmp/s2p_NvaHet.tif'\n",
        "tiffcp /tmp/s2p_NvaHet.tif /tmp/s2p_BzJPxg.tif 2> /dev/null"
       ]
      },
      {
       "output_type": "stream",
       "stream": "stdout",
       "text": [
        "\n",
        "imprintf \"%c\" '/tmp/s2p_BzJPxg.tif' > /tmp/s2p_2pZdaZ.txt\n",
        "homography /tmp/s2p_BzJPxg.tif /tmp/s2p_HaQ6XK.txt /tmp/s2p_9tPTV2.png /tmp/s2p_omZLOq.tif 0 320 300\n",
        "plambda /tmp/s2p_omZLOq.tif \"x[0] x[1] 0.9 * x[3] 0.1 * + x[2] join3\" | iion - /tmp/s2p_fwmzhz.tif"
       ]
      },
      {
       "output_type": "stream",
       "stream": "stdout",
       "text": [
        "\n",
        "qauto /tmp/s2p_fwmzhz.tif /tmp/s2p_qNtbZ1.png 2> /dev/null"
       ]
      },
      {
       "output_type": "stream",
       "stream": "stdout",
       "text": [
        "\n",
        "qauto /tmp/prison_roi_ref02.tif /tmp/s2p_gP3ks4.png 2> /dev/null"
       ]
      },
      {
       "output_type": "stream",
       "stream": "stdout",
       "text": [
        "\n",
        "plambda /tmp/s2p_gP3ks4.png /tmp/s2p_qNtbZ1.png \"dup split + + / *\" | qeasy 0 85 - /tmp/prison_roi_color_ref02.tif\n",
        "colormesh /tmp/prison_roi_color_ref02.tif /tmp/height_merged.tif pleiades_data/rpc/toulouse/rpc02.xml /tmp/s2p_2wsdeW.txt /tmp/prison_cloud.ply"
       ]
      },
      {
       "output_type": "stream",
       "stream": "stdout",
       "text": [
        "\n",
        "v /tmp/prison_roi_ref02.tif /tmp/prison_roi_color_ref02.tif /tmp/height_merged.tif"
       ]
      },
      {
       "output_type": "stream",
       "stream": "stdout",
       "text": [
        "\n",
        "meshlab /tmp/prison_cloud.ply\n"
       ]
      }
     ],
     "prompt_number": 317
    },
    {
     "cell_type": "code",
     "collapsed": false,
     "input": [],
     "language": "python",
     "metadata": {},
     "outputs": []
    }
   ],
   "metadata": {}
  }
 ]
}