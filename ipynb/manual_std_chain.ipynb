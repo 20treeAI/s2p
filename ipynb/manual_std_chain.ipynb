{
 "metadata": {
  "name": "manual_std_chain"
 },
 "nbformat": 3,
 "nbformat_minor": 0,
 "worksheets": [
  {
   "cells": [
    {
     "cell_type": "code",
     "collapsed": false,
     "input": [
      "import main_script_pairs_std\n",
      "import numpy as np\n",
      "from python import common\n",
      "from python import projective_model\n",
      "from python import rectification_std as rectification\n",
      "from python import block_matching\n",
      "from python import triangulation\n",
      "\n",
      "from python import global_params\n",
      "\n",
      "global_params.subsampling_factor=4\n",
      "global_params.subsampling_factor_registration=4\n",
      "\n",
      "       # select matching algorithm: 'tvl1', 'msmw', 'hirschmuller08',\n",
      "       # hirschmuller08_laplacian'\n",
      "global_params.matching_algorithm='hirschmuller08'\n"
     ],
     "language": "python",
     "metadata": {},
     "outputs": [],
     "prompt_number": 10
    },
    {
     "cell_type": "code",
     "collapsed": false,
     "input": [
      "pwd"
     ],
     "language": "python",
     "metadata": {},
     "outputs": [
      {
       "output_type": "pyout",
       "prompt_number": 5,
       "text": [
        "u'/Users/facciolo/FROMLINUX/REAL/Work/code/s2p'"
       ]
      }
     ],
     "prompt_number": 5
    },
    {
     "cell_type": "code",
     "collapsed": false,
     "input": [
      "img_name = 'fountain324'\n",
      "#    exp_name = '32'\n",
      "#    main(img_name, exp_name, reference_image_id=3, secondary_image_id=2)\n",
      "exp_name = '34'\n",
      "reference_image_id=3\n",
      "secondary_image_id=4\n",
      "\n",
      "\n",
      "if 1:\n",
      "    im1 = 'data/%s/%04d.png' % (img_name, reference_image_id)\n",
      "    im2 = 'data/%s/%04d.png' % (img_name, secondary_image_id)\n",
      "    rpc1 = 'data/%s/%04d.png.P' % (img_name, reference_image_id)\n",
      "    rpc2 = 'data/%s/%04d.png.P' % (img_name, secondary_image_id)\n",
      "    im1_color = 'data/%s/%04d.png' % (img_name, reference_image_id)\n",
      "    prev1 = 'data/%s/%04d.png' % (img_name, reference_image_id)  ### GF: all the same image \n",
      "    pointing = 'data/%s/pointing_correction_%02d_%02d.txt' % (img_name, reference_image_id, secondary_image_id)\n",
      "\n",
      "    # output files\n",
      "    rect1 = '/tmp/%s%d.tif' % (exp_name, reference_image_id)\n",
      "    rect2 = '/tmp/%s%d.tif' % (exp_name, secondary_image_id)\n",
      "    hom1  = '/tmp/%s_hom%d.txt' % (exp_name, reference_image_id)\n",
      "    hom2  = '/tmp/%s_hom%d.txt' % (exp_name, secondary_image_id)\n",
      "    outrpc1 = '/tmp/%s_rpc%d.xml' % (exp_name, reference_image_id)\n",
      "    outrpc2 = '/tmp/%s_rpc%d.xml' % (exp_name, secondary_image_id)\n",
      "    crop1_color = '/tmp/%s%d_color.tif' % (exp_name, reference_image_id)\n",
      "    disp    = '/tmp/%s_disp.pgm'   % (exp_name)\n",
      "    mask    = '/tmp/%s_mask.png'   % (exp_name)\n",
      "    cloud   = '/tmp/%s_cloud.ply'  % (exp_name)\n",
      "    height  = '/tmp/%s_height.tif' % (exp_name)\n",
      "    rpc_err = '/tmp/%s_rpc_err.tif'% (exp_name)\n",
      "    height_unrect  = '/tmp/%s_height_unrect.tif' % (exp_name)\n",
      "    mask_unrect    = '/tmp/%s_mask_unrect.png'   % (exp_name)\n",
      "    subsampling_file = '/tmp/%s_subsampling.txt' % (exp_name)\n",
      "\n",
      "    x,y = 0,0\n",
      "    w,h = common.image_size(im1)\n",
      "    #    x, y, w, h = common.get_roi_coordinates(rpc1, prev1)    ### GF: ROI IS THE WHOLE IMAGE\n",
      "    print \"ROI x, y, w, h = %d, %d, %d, %d\" % (x, y, w, h)\n",
      "\n",
      "if 1:\n",
      "    from shutil import copyfile\n",
      "    copyfile(rpc1, outrpc1)\n",
      "    copyfile(rpc2, outrpc2)\n",
      "    np.savetxt(subsampling_file, np.array([global_params.subsampling_factor]))\n"
     ],
     "language": "python",
     "metadata": {},
     "outputs": [
      {
       "output_type": "stream",
       "stream": "stdout",
       "text": [
        "imprintf \"%w %h\" 'data/fountain324/0003.png' > /tmp/s2p_KX6QUQ.txt\n",
        "ROI x, y, w, h = 0, 0, 3072, 2048"
       ]
      },
      {
       "output_type": "stream",
       "stream": "stdout",
       "text": [
        "\n"
       ]
      }
     ],
     "prompt_number": 13
    },
    {
     "cell_type": "code",
     "collapsed": false,
     "input": [
      "reload(rectification)\n",
      "\n",
      "from python import global_params\n",
      "    \n",
      "global_params.subsampling_factor=1\n",
      "global_params.subsampling_factor_registration=1\n",
      "\n",
      "H1, H2, disp_min, disp_max = rectification.rectify_pair(im1, im2,\n",
      "        rpc1,rpc2, x, y, w, h, rect1, rect2)\n"
     ],
     "language": "python",
     "metadata": {},
     "outputs": [
      {
       "output_type": "stream",
       "stream": "stdout",
       "text": [
        "step 1: find matches, and center them ------------------------------\n",
        "[  710.19790069   452.87817176   708.63287576   455.26569478  2272.21158306\n",
        "  2033.98634414  2249.06124868  2014.22556451]\n",
        "[  345.98004735   347.17835757  1451.67764219  1448.26083149   419.13338067\n",
        "   419.93625317  1417.27621108  1414.31667116]\n",
        "/tmp/s2p_k4qGI7.tif"
       ]
      },
      {
       "output_type": "stream",
       "stream": "stdout",
       "text": [
        "\n",
        "[[  768.           512.           710.19790069   345.98004735]\n",
        " [  768.           512.           452.87817176   347.17835757]\n",
        " [  768.          1536.           708.63287576  1451.67764219]\n",
        " [  768.          1536.           455.26569478  1448.26083149]\n",
        " [ 2304.           512.          2272.21158306   419.13338067]\n",
        " [ 2304.           512.          2033.98634414   419.93625317]\n",
        " [ 2304.          1536.          2249.06124868  1417.27621108]\n",
        " [ 2304.          1536.          2014.22556451  1414.31667116]]\n",
        "step 2: estimate F (8-points algorithm) ----------------------------\n",
        "step 3: compute rectifying homographies (loop-zhang algorithm) -----\n",
        "rectify_mindistortion /tmp/s2p_tRtpyF.txt 3072 2048 /tmp/s2p_CHP8v6.txt /tmp/s2p_PI8vhq.txt > /dev/null\n",
        "min, max, mean rectification error on rpc matches ------------------"
       ]
      },
      {
       "output_type": "stream",
       "stream": "stdout",
       "text": [
        "\n",
        "0.00102346157246 0.10362248358 0.0478025711472\n",
        "step 4: pull back top-left corner of the ROI in the origin ---------\n",
        "step 5: horizontal registration ------------------------------------\n",
        "qauto data/fountain324/0003.png /tmp/s2p_aMzLcx.png 2> /dev/null\n",
        "sift_keypoints /tmp/s2p_aMzLcx.png /tmp/s2p_Cq_mLh.txt"
       ]
      },
      {
       "output_type": "stream",
       "stream": "stdout",
       "text": [
        "\n",
        "awk '{if (NR!=1) {print}}' /tmp/s2p_Cq_mLh.txt > /tmp/s2p_wqN663.txt"
       ]
      },
      {
       "output_type": "stream",
       "stream": "stdout",
       "text": [
        "\n",
        "cp /tmp/s2p_wqN663.txt /tmp/s2p_Cq_mLh.txt"
       ]
      },
      {
       "output_type": "stream",
       "stream": "stdout",
       "text": [
        "\n",
        "qauto data/fountain324/0004.png /tmp/s2p_43ts_b.png 2> /dev/null\n",
        "sift_keypoints /tmp/s2p_43ts_b.png /tmp/s2p_wFjEGa.txt"
       ]
      },
      {
       "output_type": "stream",
       "stream": "stdout",
       "text": [
        "\n",
        "awk '{if (NR!=1) {print}}' /tmp/s2p_wFjEGa.txt > /tmp/s2p_Cj5ujG.txt"
       ]
      },
      {
       "output_type": "stream",
       "stream": "stdout",
       "text": [
        "\n",
        "cp /tmp/s2p_Cj5ujG.txt /tmp/s2p_wFjEGa.txt"
       ]
      },
      {
       "output_type": "stream",
       "stream": "stdout",
       "text": [
        "\n",
        "matching /tmp/s2p_Cq_mLh.txt /tmp/s2p_wFjEGa.txt 1 0.400000 4 8 36 > /tmp/s2p_0WzQz9.txt\n",
        "Residual vertical disparities: min, max, mean. Should be zero ------"
       ]
      },
      {
       "output_type": "stream",
       "stream": "stdout",
       "text": [
        "\n",
        "1.74360703643 1.74360703643 -1.74360703643\n",
        "image_crop_LARGE: the input image must be tif or tiff\n",
        "crop data/fountain324/0003.png /tmp/s2p_nymI3n.tif -125 0 3197 2473\n",
        "imprintf \"%c\" '/tmp/s2p_nymI3n.tif' > /tmp/s2p_YuWM29.txt"
       ]
      },
      {
       "output_type": "stream",
       "stream": "stdout",
       "text": [
        "\n",
        "homography /tmp/s2p_nymI3n.tif /tmp/s2p_EZiGCf.txt /tmp/s2p_3gpCa6.png /tmp/343.tif 0 5126 3872"
       ]
      },
      {
       "output_type": "stream",
       "stream": "stdout",
       "text": [
        "\n",
        "image_crop_LARGE: the input image must be tif or tiff"
       ]
      },
      {
       "output_type": "stream",
       "stream": "stdout",
       "text": [
        "\n",
        "crop data/fountain324/0004.png /tmp/s2p_vZ01U3.tif 863 306 4683 113\n",
        "imprintf \"%c\" '/tmp/s2p_vZ01U3.tif' > /tmp/s2p_SHi7gz.txt"
       ]
      },
      {
       "output_type": "stream",
       "stream": "stdout",
       "text": [
        "\n",
        "homography /tmp/s2p_vZ01U3.tif /tmp/s2p_eg9JAf.txt /tmp/s2p_V33659.png /tmp/344.tif 0 5126 3872"
       ]
      },
      {
       "output_type": "stream",
       "stream": "stdout",
       "text": [
        "\n"
       ]
      }
     ],
     "prompt_number": 35
    },
    {
     "cell_type": "code",
     "collapsed": false,
     "input": [],
     "language": "python",
     "metadata": {},
     "outputs": [],
     "prompt_number": 23
    },
    {
     "cell_type": "code",
     "collapsed": false,
     "input": [],
     "language": "python",
     "metadata": {},
     "outputs": []
    }
   ],
   "metadata": {}
  }
 ]
}