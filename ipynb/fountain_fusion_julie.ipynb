{
 "metadata": {
  "name": "fountain_fusion_julie"
 }, 
 "nbformat": 2, 
 "worksheets": [
  {
   "cells": [
    {
     "cell_type": "code", 
     "collapsed": false, 
     "input": [
      "cd /home/carlo/code/s2p"
     ], 
     "language": "python", 
     "outputs": [
      {
       "output_type": "stream", 
       "stream": "stdout", 
       "text": [
        "/home/carlo/code/s2p"
       ]
      }
     ], 
     "prompt_number": 7
    }, 
    {
     "cell_type": "code", 
     "collapsed": false, 
     "input": [
      "import main_script_pairs_std", 
      "import numpy as np"
     ], 
     "language": "python", 
     "outputs": [], 
     "prompt_number": 8
    }, 
    {
     "cell_type": "markdown", 
     "source": [
      "Run the whole pipeline on pairs"
     ]
    }, 
    {
     "cell_type": "code", 
     "collapsed": false, 
     "input": [
      "dem43 = main_script_pairs_std.main('fountain', 'pair43_half_res', 500, 50, 1800, 2000, 4, 3)", 
      "dem34 = main_script_pairs_std.main('fountain', 'pair43_half_res', 500, 50, 1800, 2000, 3, 4)", 
      "dem45 = main_script_pairs_std.main('fountain', 'pair43_half_res', 500, 50, 1800, 2000, 4, 5)", 
      "dem54 = main_script_pairs_std.main('fountain', 'pair43_half_res', 500, 50, 1800, 2000, 5, 4)"
     ], 
     "language": "python", 
     "outputs": [
      {
       "output_type": "stream", 
       "stream": "stdout", 
       "text": [
        "ROI x, y, w, h = 500, 50, 1800, 2000", 
        "step 1: find matches, and center them ------------------------------", 
        "[  605.93870898  1228.79989097   598.85026083  1230.15615575  1401.37629743", 
        "  2107.88853141  1405.18308526  2122.55688204   992.88946249  1655.76161176", 
        "   991.92657661  1659.55147356   990.95039288  1663.3967189    602.41814565", 
        "  1229.47324219  1403.26627236  2115.16792654]", 
        "[  704.75828667   682.06220405  1617.53007415  1646.09951206   676.8895185", 
        "   651.21116311  1640.78805854  1672.45985977   691.20116918   667.07826168", 
        "  1156.8054282   1159.39033894  1628.8398689   1658.89687041  1158.09741175", 
        "  1160.68238297  1155.44103122  1158.0215728 ]", 
        "step 2: estimate F (8-points algorithm) ----------------------------", 
        "step 3: compute rectifying homographies (loop-zhang algorithm) -----", 
        "rectify_mindistortion /tmp/s2p_IfVIOX.txt 1800 2000 /tmp/s2p_qJWpll.txt /tmp/s2p_nTpcHj.txt > /dev/null", 
        "min, max, mean rectification error on rpc matches ------------------"
       ]
      }, 
      {
       "output_type": "stream", 
       "stream": "stdout", 
       "text": [
        "", 
        "0.000200388179564 0.000615677631686 0.000417901192154", 
        "step 5: horizontal registration ------------------------------------", 
        "qauto data/fountain/0004.png /tmp/s2p_eVpMQM.png 2> /dev/null", 
        "sift_keypoints /tmp/s2p_eVpMQM.png /tmp/s2p_1sjrzB.txt"
       ]
      }, 
      {
       "output_type": "stream", 
       "stream": "stdout", 
       "text": [
        "", 
        "awk '{if (NR!=1) {print}}' /tmp/s2p_1sjrzB.txt > /tmp/s2p_tmx3YD.txt"
       ]
      }, 
      {
       "output_type": "stream", 
       "stream": "stdout", 
       "text": [
        "", 
        "cp /tmp/s2p_tmx3YD.txt /tmp/s2p_1sjrzB.txt", 
        "qauto data/fountain/0003.png /tmp/s2p_LMdibo.png 2> /dev/null", 
        "sift_keypoints /tmp/s2p_LMdibo.png /tmp/s2p_M7xGXC.txt"
       ]
      }, 
      {
       "output_type": "stream", 
       "stream": "stdout", 
       "text": [
        "", 
        "awk '{if (NR!=1) {print}}' /tmp/s2p_M7xGXC.txt > /tmp/s2p_5g4F8B.txt"
       ]
      }, 
      {
       "output_type": "stream", 
       "stream": "stdout", 
       "text": [
        "", 
        "cp /tmp/s2p_5g4F8B.txt /tmp/s2p_M7xGXC.txt", 
        "matching /tmp/s2p_1sjrzB.txt /tmp/s2p_M7xGXC.txt 1 0.400000 4 8 36 > /tmp/s2p_67EFxj.txt", 
        "Residual vertical disparities: min, max, mean. Should be zero ------"
       ]
      }, 
      {
       "output_type": "stream", 
       "stream": "stdout", 
       "text": [
        "", 
        "-1.60516064209 1.07184596682 0.210792169696", 
        "plambda data/fountain/0004.png \"x 255\" | iion - /tmp/s2p_7sexzk.png", 
        "plambda data/fountain/0003.png \"x 255\" | iion - /tmp/s2p_ZcPqW7.png"
       ]
      }, 
      {
       "output_type": "stream", 
       "stream": "stdout", 
       "text": [
        "", 
        "image_crop_LARGE: the input image must be tif or tiff"
       ]
      }, 
      {
       "output_type": "stream", 
       "stream": "stdout", 
       "text": [
        "", 
        "crop /tmp/s2p_7sexzk.png /tmp/s2p_2cQUOF.tif 494 32 1841 2060", 
        "imprintf \"%c\" '/tmp/s2p_2cQUOF.tif' > /tmp/s2p_K4xHcz.txt"
       ]
      }, 
      {
       "output_type": "stream", 
       "stream": "stdout", 
       "text": [
        "", 
        "imprintf \"%w %h\" '/tmp/s2p_2cQUOF.tif' > /tmp/s2p_zNGizm.txt"
       ]
      }, 
      {
       "output_type": "stream", 
       "stream": "stdout", 
       "text": [
        "", 
        "crop /tmp/s2p_2cQUOF.tif /tmp/s2p_Tfpjjs.tif 0 0 1840 2060"
       ]
      }, 
      {
       "output_type": "stream", 
       "stream": "stdout", 
       "text": [
        "", 
        "imprintf \"%w %h\" '/tmp/s2p_Tfpjjs.tif' > /tmp/s2p_uSdWQ7.txt"
       ]
      }, 
      {
       "output_type": "stream", 
       "stream": "stdout", 
       "text": [
        "", 
        "zoom_2d /tmp/s2p_Tfpjjs.tif /tmp/s2p__bxQWg.tif 920 1030"
       ]
      }, 
      {
       "output_type": "stream", 
       "stream": "stdout", 
       "text": [
        "", 
        "homography /tmp/s2p__bxQWg.tif /tmp/s2p_v_nszD.txt /tmp/s2p_GOJB23.png /tmp/s2p_7sexzk.png 0 863 971"
       ]
      }, 
      {
       "output_type": "stream", 
       "stream": "stdout", 
       "text": [
        "", 
        "image_crop_LARGE: the input image must be tif or tiff"
       ]
      }, 
      {
       "output_type": "stream", 
       "stream": "stdout", 
       "text": [
        "", 
        "crop /tmp/s2p_ZcPqW7.png /tmp/s2p_7SQqqQ.tif 491 125 1792 2106", 
        "imprintf \"%c\" '/tmp/s2p_7SQqqQ.tif' > /tmp/s2p_QO2YWz.txt"
       ]
      }, 
      {
       "output_type": "stream", 
       "stream": "stdout", 
       "text": [
        "", 
        "imprintf \"%w %h\" '/tmp/s2p_7SQqqQ.tif' > /tmp/s2p_2EjrKE.txt"
       ]
      }, 
      {
       "output_type": "stream", 
       "stream": "stdout", 
       "text": [
        "", 
        "crop /tmp/s2p_7SQqqQ.tif /tmp/s2p_CeBSm4.tif 0 0 1792 2106"
       ]
      }, 
      {
       "output_type": "stream", 
       "stream": "stdout", 
       "text": [
        "", 
        "imprintf \"%w %h\" '/tmp/s2p_CeBSm4.tif' > /tmp/s2p_GAEQNl.txt"
       ]
      }, 
      {
       "output_type": "stream", 
       "stream": "stdout", 
       "text": [
        "", 
        "zoom_2d /tmp/s2p_CeBSm4.tif /tmp/s2p_fmJH0o.tif 896 1053"
       ]
      }, 
      {
       "output_type": "stream", 
       "stream": "stdout", 
       "text": [
        "", 
        "homography /tmp/s2p_fmJH0o.tif /tmp/s2p_Q1GzlM.txt /tmp/s2p_vTuLIq.png /tmp/s2p_ZcPqW7.png 0 863 971"
       ]
      }, 
      {
       "output_type": "stream", 
       "stream": "stdout", 
       "text": [
        "", 
        "image_crop_LARGE: the input image must be tif or tiff"
       ]
      }, 
      {
       "output_type": "stream", 
       "stream": "stdout", 
       "text": [
        "", 
        "crop data/fountain/0004.png /tmp/s2p_0IgwrL.tif 494 32 1841 2060", 
        "imprintf \"%c\" '/tmp/s2p_0IgwrL.tif' > /tmp/s2p_nXQcrH.txt"
       ]
      }, 
      {
       "output_type": "stream", 
       "stream": "stdout", 
       "text": [
        "", 
        "imprintf \"%w %h\" '/tmp/s2p_0IgwrL.tif' > /tmp/s2p_1Npaey.txt"
       ]
      }, 
      {
       "output_type": "stream", 
       "stream": "stdout", 
       "text": [
        "", 
        "crop /tmp/s2p_0IgwrL.tif /tmp/s2p_DkBKtw.tif 0 0 1840 2060"
       ]
      }, 
      {
       "output_type": "stream", 
       "stream": "stdout", 
       "text": [
        "", 
        "imprintf \"%w %h\" '/tmp/s2p_DkBKtw.tif' > /tmp/s2p_P1Dr3H.txt"
       ]
      }, 
      {
       "output_type": "stream", 
       "stream": "stdout", 
       "text": [
        "", 
        "zoom_2d /tmp/s2p_DkBKtw.tif /tmp/s2p_7cNwls.tif 920 1030"
       ]
      }, 
      {
       "output_type": "stream", 
       "stream": "stdout", 
       "text": [
        "", 
        "homography /tmp/s2p_7cNwls.tif /tmp/s2p_gwJ0av.txt /tmp/s2p_p19yEp.png /tmp/pair43_half_res4.tif 0 863 971"
       ]
      }, 
      {
       "output_type": "stream", 
       "stream": "stdout", 
       "text": [
        "", 
        "image_crop_LARGE: the input image must be tif or tiff"
       ]
      }, 
      {
       "output_type": "stream", 
       "stream": "stdout", 
       "text": [
        "", 
        "crop data/fountain/0003.png /tmp/s2p_V2QOIY.tif 491 125 1792 2106", 
        "imprintf \"%c\" '/tmp/s2p_V2QOIY.tif' > /tmp/s2p_qq6wsj.txt"
       ]
      }, 
      {
       "output_type": "stream", 
       "stream": "stdout", 
       "text": [
        "", 
        "imprintf \"%w %h\" '/tmp/s2p_V2QOIY.tif' > /tmp/s2p_6a0xmH.txt"
       ]
      }, 
      {
       "output_type": "stream", 
       "stream": "stdout", 
       "text": [
        "", 
        "crop /tmp/s2p_V2QOIY.tif /tmp/s2p_DJJ1EW.tif 0 0 1792 2106"
       ]
      }, 
      {
       "output_type": "stream", 
       "stream": "stdout", 
       "text": [
        "", 
        "imprintf \"%w %h\" '/tmp/s2p_DJJ1EW.tif' > /tmp/s2p_NxbnI_.txt"
       ]
      }, 
      {
       "output_type": "stream", 
       "stream": "stdout", 
       "text": [
        "", 
        "zoom_2d /tmp/s2p_DJJ1EW.tif /tmp/s2p_ATok9l.tif 896 1053"
       ]
      }, 
      {
       "output_type": "stream", 
       "stream": "stdout", 
       "text": [
        "", 
        "homography /tmp/s2p_ATok9l.tif /tmp/s2p_Wvwlua.txt /tmp/s2p_SMh1tx.png /tmp/pair43_half_res3.tif 0 863 971"
       ]
      }, 
      {
       "output_type": "stream", 
       "stream": "stdout", 
       "text": [
        "", 
        "plambda /tmp/s2p_7sexzk.png /tmp/pair43_half_res4.tif \"x 200 > y nan if\" | iion - /tmp/pair43_half_res4.tif"
       ]
      }, 
      {
       "output_type": "stream", 
       "stream": "stdout", 
       "text": [
        "", 
        "plambda /tmp/s2p_ZcPqW7.png /tmp/pair43_half_res3.tif \"x 200 > y nan if\" | iion - /tmp/pair43_half_res3.tif"
       ]
      }, 
      {
       "output_type": "stream", 
       "stream": "stdout", 
       "text": [
        "", 
        "/home/carlo/code/s2p/python/../3rdparty/stereo_hirschmuller_2008/callSGBM.sh /tmp/pair43_half_res4.tif /tmp/pair43_half_res3.tif /tmp/pair43_half_res_disp.pgm /tmp/pair43_half_res_mask.png -103 122 "
       ]
      }, 
      {
       "output_type": "stream", 
       "stream": "stdout", 
       "text": [
        "", 
        "disp_to_h_projective data/fountain/0004.png.P data/fountain/0003.png.P /tmp/pair43_half_res_hom4.txt /tmp/pair43_half_res_hom3.txt /tmp/pair43_half_res_disp.pgm /tmp/pair43_half_res_mask.png /tmp/pair43_half_res_height.tif /tmp/pair43_half_res_rpc_err.tif"
       ]
      }, 
      {
       "output_type": "stream", 
       "stream": "stdout", 
       "text": [
        "", 
        "gdal_translate -srcwin 500 50 1800 2000 'data/fountain/0004.png' '/tmp/s2p_koxthU.tif'"
       ]
      }, 
      {
       "output_type": "stream", 
       "stream": "stdout", 
       "text": [
        "", 
        "tiffcp /tmp/s2p_koxthU.tif /tmp/s2p_AWTVp6.tif 2> /dev/null"
       ]
      }
     ], 
     "prompt_number": "*"
    }, 
    {
     "cell_type": "code", 
     "collapsed": true, 
     "input": [], 
     "language": "python", 
     "outputs": []
    }
   ]
  }
 ]
}