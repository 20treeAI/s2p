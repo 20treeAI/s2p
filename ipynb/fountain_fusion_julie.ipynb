{
 "metadata": {
  "name": "fountain_fusion_julie"
 },
 "nbformat": 3,
 "nbformat_minor": 0,
 "worksheets": [
  {
   "cells": [
    {
     "cell_type": "code",
     "collapsed": false,
     "input": [
      "cd ~/code/s2p"
     ],
     "language": "python",
     "metadata": {},
     "outputs": [
      {
       "output_type": "stream",
       "stream": "stdout",
       "text": [
        "/Users/carlo/code/s2p\n"
       ]
      }
     ],
     "prompt_number": 1
    },
    {
     "cell_type": "code",
     "collapsed": false,
     "input": [
      "import main_script_pairs_std\n",
      "import numpy as np"
     ],
     "language": "python",
     "metadata": {},
     "outputs": [],
     "prompt_number": 2
    },
    {
     "cell_type": "code",
     "collapsed": false,
     "input": [
      "main_script_pairs_std.global_params.subsampling_factor"
     ],
     "language": "python",
     "metadata": {},
     "outputs": [
      {
       "output_type": "pyout",
       "prompt_number": 3,
       "text": [
        "1"
       ]
      }
     ],
     "prompt_number": 3
    },
    {
     "cell_type": "markdown",
     "metadata": {},
     "source": [
      "Run the whole pipeline on pairs"
     ]
    },
    {
     "cell_type": "code",
     "collapsed": false,
     "input": [
      "#dem43 = main_script_pairs_std.main('fountain', 'pair43_full_res', reference_image_id=4, secondary_image_id=3)\n",
      "dem43 = main_script_pairs_std.main('fountain', 'pair45_full_res', reference_image_id=4, secondary_image_id=5)\n",
      "dem43 = main_script_pairs_std.main('fountain', 'pair34_full_res', reference_image_id=3, secondary_image_id=4)\n",
      "dem43 = main_script_pairs_std.main('fountain', 'pair54_full_res', reference_image_id=5, secondary_image_id=4)"
     ],
     "language": "python",
     "metadata": {},
     "outputs": [
      {
       "output_type": "stream",
       "stream": "stdout",
       "text": [
        "imprintf \"%w %h\" 'data/fountain/0004.png' > /tmp/s2p_rpZzbj.txt\n",
        "ROI x, y, w, h = 0, 0, 3072, 2048"
       ]
      },
      {
       "output_type": "stream",
       "stream": "stdout",
       "text": [
        "\n",
        "step 1: find matches, and center them ------------------------------\n",
        "[ 1227.97827699   413.09765418  1222.9439844    408.69023102  2713.20211829\n",
        "  1983.97095466  2707.67929684  1978.95019072  2011.99139895  1242.31086814\n",
        "  2009.32934522  1239.92855524  2006.66922127  1237.54796886  1225.46016413\n",
        "   410.89309664  2710.43975915  1981.45971072]\n",
        "[  471.40876991   463.51138545  1576.5444665   1568.32864935   534.3396808\n",
        "   527.2596082   1522.79501561  1515.46019332   504.62844936   497.16201065\n",
        "  1026.58968497  1018.98117611  1548.17254002  1540.4221689   1024.18879979\n",
        "  1016.13207554  1028.73709124  1021.52955546]\n",
        "step 2: estimate F (8-points algorithm) ----------------------------\n",
        "step 3: compute rectifying homographies (loop-zhang algorithm) -----\n",
        "rectify_mindistortion /tmp/s2p_v2mT_E.txt 3072 2048 /tmp/s2p_T83B54.txt /tmp/s2p_CXM6GZ.txt > /dev/null\n",
        "min, max, mean rectification error on rpc matches ------------------"
       ]
      },
      {
       "output_type": "stream",
       "stream": "stdout",
       "text": [
        "\n",
        "0.00825187204418 0.0127589526852 0.0104218702799\n",
        "step 5: horizontal registration ------------------------------------\n",
        "qauto data/fountain/0004.png /tmp/s2p_N8nPvL.png 2> /dev/null\n",
        "sift_keypoints /tmp/s2p_N8nPvL.png /tmp/s2p_L0nmmM.txt"
       ]
      },
      {
       "output_type": "stream",
       "stream": "stdout",
       "text": [
        "\n",
        "awk '{if (NR!=1) {print}}' /tmp/s2p_L0nmmM.txt > /tmp/s2p_6jqFpM.txt"
       ]
      },
      {
       "output_type": "stream",
       "stream": "stdout",
       "text": [
        "\n",
        "cp /tmp/s2p_6jqFpM.txt /tmp/s2p_L0nmmM.txt"
       ]
      },
      {
       "output_type": "stream",
       "stream": "stdout",
       "text": [
        "\n",
        "qauto data/fountain/0005.png /tmp/s2p_EIgxu1.png 2> /dev/null\n",
        "sift_keypoints /tmp/s2p_EIgxu1.png /tmp/s2p_51KqBF.txt"
       ]
      },
      {
       "output_type": "stream",
       "stream": "stdout",
       "text": [
        "\n",
        "awk '{if (NR!=1) {print}}' /tmp/s2p_51KqBF.txt > /tmp/s2p_TrcgBB.txt"
       ]
      },
      {
       "output_type": "stream",
       "stream": "stdout",
       "text": [
        "\n",
        "cp /tmp/s2p_TrcgBB.txt /tmp/s2p_51KqBF.txt"
       ]
      },
      {
       "output_type": "stream",
       "stream": "stdout",
       "text": [
        "\n",
        "matching /tmp/s2p_L0nmmM.txt /tmp/s2p_51KqBF.txt 1 0.400000 4 8 36 > /tmp/s2p_H77fEc.txt\n",
        "Residual vertical disparities: min, max, mean. Should be zero ------"
       ]
      },
      {
       "output_type": "stream",
       "stream": "stdout",
       "text": [
        "\n",
        "-1.03975433566 1.81366469803 0.0568189136373\n",
        "plambda data/fountain/0004.png \"x 255\" | iion - /tmp/s2p_QuQKex.png\n",
        "plambda data/fountain/0005.png \"x 255\" | iion - /tmp/s2p_I8hKqc.png"
       ]
      },
      {
       "output_type": "stream",
       "stream": "stdout",
       "text": [
        "\n",
        "image_crop_LARGE: the input image must be tif or tiff"
       ]
      },
      {
       "output_type": "stream",
       "stream": "stdout",
       "text": [
        "\n",
        "crop /tmp/s2p_QuQKex.png /tmp/s2p_BesY6M.tif -15 -238 3101 2566\n",
        "imprintf \"%c\" '/tmp/s2p_BesY6M.tif' > /tmp/s2p_Sma5br.txt"
       ]
      },
      {
       "output_type": "stream",
       "stream": "stdout",
       "text": [
        "\n",
        "homography /tmp/s2p_BesY6M.tif /tmp/s2p_j5VOfQ.txt /tmp/s2p_1r2jba.png /tmp/s2p_QuQKex.png 0 3104 2320"
       ]
      },
      {
       "output_type": "stream",
       "stream": "stdout",
       "text": [
        "\n",
        "image_crop_LARGE: the input image must be tif or tiff"
       ]
      },
      {
       "output_type": "stream",
       "stream": "stdout",
       "text": [
        "\n",
        "crop /tmp/s2p_I8hKqc.png /tmp/s2p_VLi7M2.tif -219 -160 3309 2383\n",
        "imprintf \"%c\" '/tmp/s2p_VLi7M2.tif' > /tmp/s2p_dq7W8E.txt"
       ]
      },
      {
       "output_type": "stream",
       "stream": "stdout",
       "text": [
        "\n",
        "homography /tmp/s2p_VLi7M2.tif /tmp/s2p_PD7qwG.txt /tmp/s2p_mYMcTd.png /tmp/s2p_I8hKqc.png 0 3104 2320"
       ]
      },
      {
       "output_type": "stream",
       "stream": "stdout",
       "text": [
        "\n",
        "image_crop_LARGE: the input image must be tif or tiff"
       ]
      },
      {
       "output_type": "stream",
       "stream": "stdout",
       "text": [
        "\n",
        "crop data/fountain/0004.png /tmp/s2p_tmDMuk.tif -15 -238 3101 2566\n",
        "imprintf \"%c\" '/tmp/s2p_tmDMuk.tif' > /tmp/s2p__Iq3nR.txt"
       ]
      },
      {
       "output_type": "stream",
       "stream": "stdout",
       "text": [
        "\n",
        "homography /tmp/s2p_tmDMuk.tif /tmp/s2p_Gf_J06.txt /tmp/s2p_nCZsXf.png /tmp/pair45_full_res4.tif 0 3104 2320"
       ]
      },
      {
       "output_type": "stream",
       "stream": "stdout",
       "text": [
        "\n",
        "image_crop_LARGE: the input image must be tif or tiff"
       ]
      },
      {
       "output_type": "stream",
       "stream": "stdout",
       "text": [
        "\n",
        "crop data/fountain/0005.png /tmp/s2p_Kzc8X0.tif -219 -160 3309 2383\n",
        "imprintf \"%c\" '/tmp/s2p_Kzc8X0.tif' > /tmp/s2p_XwfLPv.txt"
       ]
      },
      {
       "output_type": "stream",
       "stream": "stdout",
       "text": [
        "\n",
        "homography /tmp/s2p_Kzc8X0.tif /tmp/s2p_Bb9Lcg.txt /tmp/s2p_ycWYEG.png /tmp/pair45_full_res5.tif 0 3104 2320"
       ]
      },
      {
       "output_type": "stream",
       "stream": "stdout",
       "text": [
        "\n",
        "plambda /tmp/s2p_QuQKex.png /tmp/pair45_full_res4.tif \"x 200 > y nan if\" | iion - /tmp/pair45_full_res4.tif"
       ]
      },
      {
       "output_type": "stream",
       "stream": "stdout",
       "text": [
        "\n",
        "plambda /tmp/s2p_I8hKqc.png /tmp/pair45_full_res5.tif \"x 200 > y nan if\" | iion - /tmp/pair45_full_res5.tif"
       ]
      },
      {
       "output_type": "stream",
       "stream": "stdout",
       "text": [
        "\n",
        "/Users/carlo/code/s2p/python/../3rdparty/stereo_hirschmuller_2008/callSGBM.sh /tmp/pair45_full_res4.tif /tmp/pair45_full_res5.tif /tmp/pair45_full_res_disp.pgm /tmp/pair45_full_res_mask.png -387 98 "
       ]
      },
      {
       "output_type": "stream",
       "stream": "stdout",
       "text": [
        "\n",
        "disp_to_h_projective data/fountain/0004.png.P data/fountain/0005.png.P /tmp/pair45_full_res_hom4.txt /tmp/pair45_full_res_hom5.txt /tmp/pair45_full_res_disp.pgm /tmp/pair45_full_res_mask.png /tmp/pair45_full_res_height.tif /tmp/pair45_full_res_rpc_err.tif"
       ]
      },
      {
       "output_type": "stream",
       "stream": "stdout",
       "text": [
        "\n",
        "gdal_translate -srcwin 0 0 3072 2048 'data/fountain/0004.png' '/tmp/s2p_26E4E_.tif'"
       ]
      },
      {
       "output_type": "stream",
       "stream": "stdout",
       "text": [
        "\n",
        "tiffcp /tmp/s2p_26E4E_.tif /tmp/s2p_rmcqTm.tif 2> /dev/null"
       ]
      },
      {
       "output_type": "stream",
       "stream": "stdout",
       "text": [
        "\n",
        "synflow hom \"-1.0066896465733501 -0.0060369657007498375 3104.914300028468 0.10349991210405302 -1.1329399889047318 2320.2610972768907 8.2191699999999994e-05 9.9981900000000004e-07 1.0\" /tmp/s2p_rmcqTm.tif /dev/null - | BILINEAR=1 backflow - /tmp/pair45_full_res_height.tif /tmp/pair45_full_res_height_unrect.tif"
       ]
      },
      {
       "output_type": "stream",
       "stream": "stdout",
       "text": [
        "\n",
        "synflow hom \"-1.0066896465733501 -0.0060369657007498375 3104.914300028468 0.10349991210405302 -1.1329399889047318 2320.2610972768907 8.2191699999999994e-05 9.9981900000000004e-07 1.0\" /tmp/s2p_rmcqTm.tif /dev/null - | BILINEAR=1 backflow - /tmp/pair45_full_res_mask.png /tmp/pair45_full_res_mask_unrect.png"
       ]
      },
      {
       "output_type": "stream",
       "stream": "stdout",
       "text": [
        "\n",
        "('fountain', 'pair45_full_res', 0, 0, 3072, 2048, '/tmp/pair45_full_res_height_unrect.tif')"
       ]
      },
      {
       "output_type": "stream",
       "stream": "stdout",
       "text": [
        "\n",
        "gdal_translate -srcwin 0 0 3072 2048 'data/fountain/0004.png' '/tmp/s2p_W9rzDy.tif'\n",
        "tiffcp /tmp/s2p_W9rzDy.tif /tmp/s2p_rcxehO.tif 2> /dev/null"
       ]
      },
      {
       "output_type": "stream",
       "stream": "stdout",
       "text": [
        "\n",
        "cp /tmp/s2p_rcxehO.tif /tmp/pair45_full_res_roi_ref04.tif"
       ]
      },
      {
       "output_type": "stream",
       "stream": "stdout",
       "text": [
        "\n",
        "imprintf \"%w %h\" '/tmp/pair45_full_res_roi_ref04.tif' > /tmp/s2p_Y8Aeyq.txt"
       ]
      },
      {
       "output_type": "stream",
       "stream": "stdout",
       "text": [
        "\n",
        "qauto /tmp/pair45_full_res_roi_ref04.tif /tmp/s2p_BcJ7Qn.png 2> /dev/null"
       ]
      },
      {
       "output_type": "stream",
       "stream": "stdout",
       "text": [
        "\n",
        "crop /tmp/pair45_full_res_height_unrect.tif /tmp/s2p_JPww46.tif 0 0 3072 2048"
       ]
      },
      {
       "output_type": "stream",
       "stream": "stdout",
       "text": [
        "\n",
        "colormesh_projective /tmp/s2p_BcJ7Qn.png /tmp/s2p_JPww46.tif data/fountain/0004.png.P /tmp/s2p_d8gxzV.txt /tmp/pair45_full_res_cloud.ply"
       ]
      },
      {
       "output_type": "stream",
       "stream": "stdout",
       "text": [
        "\n",
        "rm /tmp/s2p_JPww46.tif"
       ]
      },
      {
       "output_type": "stream",
       "stream": "stdout",
       "text": [
        "\n",
        "rm /tmp/s2p_BcJ7Qn.png\n",
        "rm /tmp/s2p_Y8Aeyq.txt\n",
        "rm /tmp/s2p_d8gxzV.txt\n",
        "rm /tmp/s2p_rcxehO.tif"
       ]
      },
      {
       "output_type": "stream",
       "stream": "stdout",
       "text": [
        "\n",
        "rm /tmp/s2p_W9rzDy.tif\n",
        "rm /tmp/s2p_rmcqTm.tif\n",
        "rm /tmp/s2p_26E4E_.tif\n",
        "rm /tmp/s2p_ycWYEG.png\n",
        "rm /tmp/s2p_Bb9Lcg.txt\n",
        "rm /tmp/s2p_XwfLPv.txt"
       ]
      },
      {
       "output_type": "stream",
       "stream": "stdout",
       "text": [
        "\n",
        "rm /tmp/s2p_Kzc8X0.tif\n",
        "rm /tmp/s2p_nCZsXf.png\n",
        "rm /tmp/s2p_Gf_J06.txt\n",
        "rm /tmp/s2p__Iq3nR.txt\n",
        "rm /tmp/s2p_tmDMuk.tif\n",
        "rm /tmp/s2p_mYMcTd.png\n",
        "rm /tmp/s2p_PD7qwG.txt"
       ]
      },
      {
       "output_type": "stream",
       "stream": "stdout",
       "text": [
        "\n",
        "rm /tmp/s2p_dq7W8E.txt\n",
        "rm /tmp/s2p_VLi7M2.tif\n",
        "rm /tmp/s2p_1r2jba.png\n",
        "rm /tmp/s2p_j5VOfQ.txt\n",
        "rm /tmp/s2p_Sma5br.txt\n",
        "rm /tmp/s2p_BesY6M.tif\n",
        "rm /tmp/s2p_I8hKqc.png"
       ]
      },
      {
       "output_type": "stream",
       "stream": "stdout",
       "text": [
        "\n",
        "rm /tmp/s2p_QuQKex.png\n",
        "rm /tmp/s2p_H77fEc.txt\n",
        "rm /tmp/s2p_TrcgBB.txt\n",
        "rm /tmp/s2p_EIgxu1.png\n",
        "rm /tmp/s2p_51KqBF.txt\n",
        "rm /tmp/s2p_6jqFpM.txt\n",
        "rm /tmp/s2p_N8nPvL.png\n",
        "rm /tmp/s2p_L0nmmM.txt"
       ]
      },
      {
       "output_type": "stream",
       "stream": "stdout",
       "text": [
        "\n",
        "rm /tmp/s2p_CXM6GZ.txt\n",
        "rm /tmp/s2p_T83B54.txt\n",
        "rm /tmp/s2p_v2mT_E.txt\n",
        "rm /tmp/s2p_rpZzbj.txt\n",
        "rm /tmp/s2p_ez0byK.png\n",
        "rm /tmp/s2p_Hmy0Ce.txt\n",
        "rm /tmp/s2p_tvAmA9.txt"
       ]
      },
      {
       "output_type": "stream",
       "stream": "stdout",
       "text": [
        "\n",
        "rm /tmp/s2p_3uPmjJ.txt\n",
        "rm /tmp/s2p_RlOCoJ.txt\n",
        "rm /tmp/s2p_6uqk8H.txt\n",
        "v /tmp/pair45_full_res_roi_ref04.tif /tmp/pair45_full_res_roi_color_ref04.tif /tmp/pair45_full_res_height_unrect.tif\n",
        "meshlab /tmp/pair45_full_res_cloud.ply\n",
        "imprintf \"%w %h\" 'data/fountain/0003.png' > /tmp/s2p_bKr51d.txt\n",
        "ROI x, y, w, h = 0, 0, 3072, 2048"
       ]
      },
      {
       "output_type": "stream",
       "stream": "stdout",
       "text": [
        "\n",
        "step 1: find matches, and center them ------------------------------\n",
        "[ 1231.43951668   452.87817176  1221.76703464   455.26569478  2754.17245775\n",
        "  2033.98634414  2724.08844675  2014.22556451  2032.23123517  1283.87692019\n",
        "  2021.66340388  1278.9239134   2011.25130624  1274.04303253  1226.5654312\n",
        "   454.08115727  2739.02425405  2024.03698968]\n",
        "[  343.55268138   347.17835757  1458.59756875  1448.26083149   417.50906442\n",
        "   419.93625317  1423.26278829  1414.31667116   382.44568584   385.41844843\n",
        "   915.16245548   911.75806852  1440.02880364  1430.4331056    905.43783875\n",
        "   901.97353352   923.93629162   920.59682586]\n",
        "step 2: estimate F (8-points algorithm) ----------------------------\n",
        "step 3: compute rectifying homographies (loop-zhang algorithm) -----\n",
        "rectify_mindistortion /tmp/s2p_GVKBdL.txt 3072 2048 /tmp/s2p_m6cwZx.txt /tmp/s2p_WcuBPy.txt > /dev/null\n",
        "min, max, mean rectification error on rpc matches ------------------"
       ]
      },
      {
       "output_type": "stream",
       "stream": "stdout",
       "text": [
        "\n",
        "4.43383136144e-05 0.000906963121452 0.000387852842253\n",
        "step 5: horizontal registration ------------------------------------\n",
        "qauto data/fountain/0003.png /tmp/s2p_FEavBk.png 2> /dev/null\n",
        "sift_keypoints /tmp/s2p_FEavBk.png /tmp/s2p_32zeMn.txt"
       ]
      },
      {
       "output_type": "stream",
       "stream": "stdout",
       "text": [
        "\n",
        "awk '{if (NR!=1) {print}}' /tmp/s2p_32zeMn.txt > /tmp/s2p_15Wk0U.txt"
       ]
      },
      {
       "output_type": "stream",
       "stream": "stdout",
       "text": [
        "\n",
        "cp /tmp/s2p_15Wk0U.txt /tmp/s2p_32zeMn.txt"
       ]
      },
      {
       "output_type": "stream",
       "stream": "stdout",
       "text": [
        "\n",
        "qauto data/fountain/0004.png /tmp/s2p_eRD7LW.png 2> /dev/null\n",
        "sift_keypoints /tmp/s2p_eRD7LW.png /tmp/s2p_OFNp5U.txt"
       ]
      },
      {
       "output_type": "stream",
       "stream": "stdout",
       "text": [
        "\n",
        "awk '{if (NR!=1) {print}}' /tmp/s2p_OFNp5U.txt > /tmp/s2p_s9BAxg.txt"
       ]
      },
      {
       "output_type": "stream",
       "stream": "stdout",
       "text": [
        "\n",
        "cp /tmp/s2p_s9BAxg.txt /tmp/s2p_OFNp5U.txt"
       ]
      },
      {
       "output_type": "stream",
       "stream": "stdout",
       "text": [
        "\n",
        "matching /tmp/s2p_32zeMn.txt /tmp/s2p_OFNp5U.txt 1 0.400000 4 8 36 > /tmp/s2p_83ZIr5.txt\n",
        "Residual vertical disparities: min, max, mean. Should be zero ------"
       ]
      },
      {
       "output_type": "stream",
       "stream": "stdout",
       "text": [
        "\n",
        "-1.26736292236 1.65596162628 -0.205743165924\n",
        "plambda data/fountain/0003.png \"x 255\" | iion - /tmp/s2p_XuEMgm.png\n",
        "plambda data/fountain/0004.png \"x 255\" | iion - /tmp/s2p_h423CL.png"
       ]
      },
      {
       "output_type": "stream",
       "stream": "stdout",
       "text": [
        "\n",
        "image_crop_LARGE: the input image must be tif or tiff"
       ]
      },
      {
       "output_type": "stream",
       "stream": "stdout",
       "text": [
        "\n",
        "crop /tmp/s2p_XuEMgm.png /tmp/s2p_zeAeoR.tif -7 -323 3122 2647\n",
        "imprintf \"%c\" '/tmp/s2p_zeAeoR.tif' > /tmp/s2p_186wcV.txt"
       ]
      },
      {
       "output_type": "stream",
       "stream": "stdout",
       "text": [
        "\n",
        "homography /tmp/s2p_zeAeoR.tif /tmp/s2p_PvbZyy.txt /tmp/s2p__edOnX.png /tmp/s2p_XuEMgm.png 0 3112 2362"
       ]
      },
      {
       "output_type": "stream",
       "stream": "stdout",
       "text": [
        "\n",
        "image_crop_LARGE: the input image must be tif or tiff"
       ]
      },
      {
       "output_type": "stream",
       "stream": "stdout",
       "text": [
        "\n",
        "crop /tmp/s2p_h423CL.png /tmp/s2p_7tmgfE.tif -295 -347 3462 2468\n",
        "imprintf \"%c\" '/tmp/s2p_7tmgfE.tif' > /tmp/s2p_ObjRWd.txt"
       ]
      },
      {
       "output_type": "stream",
       "stream": "stdout",
       "text": [
        "\n",
        "homography /tmp/s2p_7tmgfE.tif /tmp/s2p_QLEywU.txt /tmp/s2p_GBN7t1.png /tmp/s2p_h423CL.png 0 3112 2362"
       ]
      },
      {
       "output_type": "stream",
       "stream": "stdout",
       "text": [
        "\n",
        "image_crop_LARGE: the input image must be tif or tiff"
       ]
      },
      {
       "output_type": "stream",
       "stream": "stdout",
       "text": [
        "\n",
        "crop data/fountain/0003.png /tmp/s2p_TS7v6h.tif -7 -323 3122 2647\n",
        "imprintf \"%c\" '/tmp/s2p_TS7v6h.tif' > /tmp/s2p_J0MjNg.txt"
       ]
      },
      {
       "output_type": "stream",
       "stream": "stdout",
       "text": [
        "\n",
        "homography /tmp/s2p_TS7v6h.tif /tmp/s2p_Jh0_Tz.txt /tmp/s2p_UVC5EK.png /tmp/pair34_full_res3.tif 0 3112 2362"
       ]
      },
      {
       "output_type": "stream",
       "stream": "stdout",
       "text": [
        "\n",
        "image_crop_LARGE: the input image must be tif or tiff"
       ]
      },
      {
       "output_type": "stream",
       "stream": "stdout",
       "text": [
        "\n",
        "crop data/fountain/0004.png /tmp/s2p_M4Wtei.tif -295 -347 3462 2468\n",
        "imprintf \"%c\" '/tmp/s2p_M4Wtei.tif' > /tmp/s2p_wNRd1R.txt"
       ]
      },
      {
       "output_type": "stream",
       "stream": "stdout",
       "text": [
        "\n",
        "homography /tmp/s2p_M4Wtei.tif /tmp/s2p_2Lo6iA.txt /tmp/s2p_lUJGMK.png /tmp/pair34_full_res4.tif 0 3112 2362"
       ]
      },
      {
       "output_type": "stream",
       "stream": "stdout",
       "text": [
        "\n",
        "plambda /tmp/s2p_XuEMgm.png /tmp/pair34_full_res3.tif \"x 200 > y nan if\" | iion - /tmp/pair34_full_res3.tif"
       ]
      },
      {
       "output_type": "stream",
       "stream": "stdout",
       "text": [
        "\n",
        "plambda /tmp/s2p_h423CL.png /tmp/pair34_full_res4.tif \"x 200 > y nan if\" | iion - /tmp/pair34_full_res4.tif"
       ]
      },
      {
       "output_type": "stream",
       "stream": "stdout",
       "text": [
        "\n",
        "/Users/carlo/code/s2p/python/../3rdparty/stereo_hirschmuller_2008/callSGBM.sh /tmp/pair34_full_res3.tif /tmp/pair34_full_res4.tif /tmp/pair34_full_res_disp.pgm /tmp/pair34_full_res_mask.png -66 212 "
       ]
      },
      {
       "output_type": "stream",
       "stream": "stdout",
       "text": [
        "\n",
        "disp_to_h_projective data/fountain/0003.png.P data/fountain/0004.png.P /tmp/pair34_full_res_hom3.txt /tmp/pair34_full_res_hom4.txt /tmp/pair34_full_res_disp.pgm /tmp/pair34_full_res_mask.png /tmp/pair34_full_res_height.tif /tmp/pair34_full_res_rpc_err.tif"
       ]
      },
      {
       "output_type": "stream",
       "stream": "stdout",
       "text": [
        "\n",
        "gdal_translate -srcwin 0 0 3072 2048 'data/fountain/0003.png' '/tmp/s2p_vlvT0z.tif'"
       ]
      },
      {
       "output_type": "stream",
       "stream": "stdout",
       "text": [
        "\n",
        "tiffcp /tmp/s2p_vlvT0z.tif /tmp/s2p_cog3bu.tif 2> /dev/null"
       ]
      },
      {
       "output_type": "stream",
       "stream": "stdout",
       "text": [
        "\n",
        "synflow hom \"1.3098399999999999 0.0041974400000000002 0.0 0.123151 1.17069 0.0 9.5366399999999995e-05 7.3168599999999999e-06 1.0\" /tmp/s2p_cog3bu.tif /dev/null - | BILINEAR=1 backflow - /tmp/pair34_full_res_height.tif /tmp/pair34_full_res_height_unrect.tif"
       ]
      },
      {
       "output_type": "stream",
       "stream": "stdout",
       "text": [
        "\n",
        "synflow hom \"1.3098399999999999 0.0041974400000000002 0.0 0.123151 1.17069 0.0 9.5366399999999995e-05 7.3168599999999999e-06 1.0\" /tmp/s2p_cog3bu.tif /dev/null - | BILINEAR=1 backflow - /tmp/pair34_full_res_mask.png /tmp/pair34_full_res_mask_unrect.png"
       ]
      },
      {
       "output_type": "stream",
       "stream": "stdout",
       "text": [
        "\n",
        "('fountain', 'pair34_full_res', 0, 0, 3072, 2048, '/tmp/pair34_full_res_height_unrect.tif')"
       ]
      },
      {
       "output_type": "stream",
       "stream": "stdout",
       "text": [
        "\n",
        "gdal_translate -srcwin 0 0 3072 2048 'data/fountain/0003.png' '/tmp/s2p__gXeqy.tif'\n",
        "tiffcp /tmp/s2p__gXeqy.tif /tmp/s2p_GnKjUB.tif 2> /dev/null"
       ]
      },
      {
       "output_type": "stream",
       "stream": "stdout",
       "text": [
        "\n",
        "cp /tmp/s2p_GnKjUB.tif /tmp/pair34_full_res_roi_ref03.tif"
       ]
      },
      {
       "output_type": "stream",
       "stream": "stdout",
       "text": [
        "\n",
        "imprintf \"%w %h\" '/tmp/pair34_full_res_roi_ref03.tif' > /tmp/s2p_uQ2x8r.txt"
       ]
      },
      {
       "output_type": "stream",
       "stream": "stdout",
       "text": [
        "\n",
        "qauto /tmp/pair34_full_res_roi_ref03.tif /tmp/s2p_H8NCKH.png 2> /dev/null"
       ]
      },
      {
       "output_type": "stream",
       "stream": "stdout",
       "text": [
        "\n",
        "crop /tmp/pair34_full_res_height_unrect.tif /tmp/s2p_9ikhIL.tif 0 0 3072 2048"
       ]
      },
      {
       "output_type": "stream",
       "stream": "stdout",
       "text": [
        "\n",
        "colormesh_projective /tmp/s2p_H8NCKH.png /tmp/s2p_9ikhIL.tif data/fountain/0003.png.P /tmp/s2p_GpZqrB.txt /tmp/pair34_full_res_cloud.ply"
       ]
      },
      {
       "output_type": "stream",
       "stream": "stdout",
       "text": [
        "\n",
        "rm /tmp/s2p_9ikhIL.tif"
       ]
      },
      {
       "output_type": "stream",
       "stream": "stdout",
       "text": [
        "\n",
        "rm /tmp/s2p_H8NCKH.png\n",
        "rm /tmp/s2p_uQ2x8r.txt\n",
        "rm /tmp/s2p_GpZqrB.txt\n",
        "rm /tmp/s2p_GnKjUB.tif\n",
        "rm /tmp/s2p__gXeqy.tif"
       ]
      },
      {
       "output_type": "stream",
       "stream": "stdout",
       "text": [
        "\n",
        "rm /tmp/s2p_cog3bu.tif\n",
        "rm /tmp/s2p_vlvT0z.tif\n",
        "rm /tmp/s2p_lUJGMK.png\n",
        "rm /tmp/s2p_2Lo6iA.txt\n",
        "rm /tmp/s2p_wNRd1R.txt\n",
        "rm /tmp/s2p_M4Wtei.tif"
       ]
      },
      {
       "output_type": "stream",
       "stream": "stdout",
       "text": [
        "\n",
        "rm /tmp/s2p_UVC5EK.png\n",
        "rm /tmp/s2p_Jh0_Tz.txt\n",
        "rm /tmp/s2p_J0MjNg.txt\n",
        "rm /tmp/s2p_TS7v6h.tif\n",
        "rm /tmp/s2p_GBN7t1.png\n",
        "rm /tmp/s2p_QLEywU.txt"
       ]
      },
      {
       "output_type": "stream",
       "stream": "stdout",
       "text": [
        "\n",
        "rm /tmp/s2p_ObjRWd.txt\n",
        "rm /tmp/s2p_7tmgfE.tif\n",
        "rm /tmp/s2p__edOnX.png\n",
        "rm /tmp/s2p_PvbZyy.txt\n",
        "rm /tmp/s2p_186wcV.txt\n",
        "rm /tmp/s2p_zeAeoR.tif\n",
        "rm /tmp/s2p_h423CL.png"
       ]
      },
      {
       "output_type": "stream",
       "stream": "stdout",
       "text": [
        "\n",
        "rm /tmp/s2p_XuEMgm.png\n",
        "rm /tmp/s2p_83ZIr5.txt\n",
        "rm /tmp/s2p_s9BAxg.txt\n",
        "rm /tmp/s2p_eRD7LW.png\n",
        "rm /tmp/s2p_OFNp5U.txt\n",
        "rm /tmp/s2p_15Wk0U.txt\n",
        "rm /tmp/s2p_FEavBk.png"
       ]
      },
      {
       "output_type": "stream",
       "stream": "stdout",
       "text": [
        "\n",
        "rm /tmp/s2p_32zeMn.txt\n",
        "rm /tmp/s2p_WcuBPy.txt\n",
        "rm /tmp/s2p_m6cwZx.txt\n",
        "rm /tmp/s2p_GVKBdL.txt\n",
        "rm /tmp/s2p_bKr51d.txt\n",
        "v /tmp/pair34_full_res_roi_ref03.tif /tmp/pair34_full_res_roi_color_ref03.tif /tmp/pair34_full_res_height_unrect.tif\n",
        "meshlab /tmp/pair34_full_res_cloud.ply\n",
        "imprintf \"%w %h\" 'data/fountain/0005.png' > /tmp/s2p_7VlbiA.txt\n",
        "ROI x, y, w, h = 0, 0, 3072, 2048"
       ]
      },
      {
       "output_type": "stream",
       "stream": "stdout",
       "text": [
        "\n",
        "step 1: find matches, and center them ------------------------------\n",
        "[  450.01575194  1098.26055875   452.97808677  1102.0191866   1842.74904958\n",
        "  2645.93763614  1847.497209    2651.84874808  1110.18454486  1829.69613533\n",
        "  1112.07000728  1832.06059307  1113.95734418  1834.42752892   451.49621983\n",
        "  1100.13893952  1845.12188504  2648.89155432]\n",
        "[  563.09285063   543.97726409  1488.85531899  1517.29068656   507.07747589\n",
        "   482.53667596  1534.40902732  1568.75743383   536.5410317    514.94030757\n",
        "  1023.25209268  1028.00754245  1510.44703174  1541.61250619  1025.75547486\n",
        "  1030.39233237  1020.47403965  1025.34609605]\n",
        "step 2: estimate F (8-points algorithm) ----------------------------\n",
        "step 3: compute rectifying homographies (loop-zhang algorithm) -----\n",
        "rectify_mindistortion /tmp/s2p_JshAc8.txt 3072 2048 /tmp/s2p_4lHoK3.txt /tmp/s2p_KqXgQX.txt > /dev/null\n",
        "min, max, mean rectification error on rpc matches ------------------"
       ]
      },
      {
       "output_type": "stream",
       "stream": "stdout",
       "text": [
        "\n",
        "0.00825739764241 0.0126325576059 0.0104340231795\n",
        "step 5: horizontal registration ------------------------------------\n",
        "qauto data/fountain/0005.png /tmp/s2p_0HY6fp.png 2> /dev/null\n",
        "sift_keypoints /tmp/s2p_0HY6fp.png /tmp/s2p_cUVCG2.txt"
       ]
      },
      {
       "output_type": "stream",
       "stream": "stdout",
       "text": [
        "\n",
        "awk '{if (NR!=1) {print}}' /tmp/s2p_cUVCG2.txt > /tmp/s2p_GWbBye.txt"
       ]
      },
      {
       "output_type": "stream",
       "stream": "stdout",
       "text": [
        "\n",
        "cp /tmp/s2p_GWbBye.txt /tmp/s2p_cUVCG2.txt"
       ]
      },
      {
       "output_type": "stream",
       "stream": "stdout",
       "text": [
        "\n",
        "qauto data/fountain/0004.png /tmp/s2p_lxtKm1.png 2> /dev/null\n",
        "sift_keypoints /tmp/s2p_lxtKm1.png /tmp/s2p_RDQFcn.txt"
       ]
      },
      {
       "output_type": "stream",
       "stream": "stdout",
       "text": [
        "\n",
        "awk '{if (NR!=1) {print}}' /tmp/s2p_RDQFcn.txt > /tmp/s2p_hXToAl.txt"
       ]
      },
      {
       "output_type": "stream",
       "stream": "stdout",
       "text": [
        "\n",
        "cp /tmp/s2p_hXToAl.txt /tmp/s2p_RDQFcn.txt"
       ]
      },
      {
       "output_type": "stream",
       "stream": "stdout",
       "text": [
        "\n",
        "matching /tmp/s2p_cUVCG2.txt /tmp/s2p_RDQFcn.txt 1 0.400000 4 8 36 > /tmp/s2p_GtZ3SM.txt\n",
        "Residual vertical disparities: min, max, mean. Should be zero ------"
       ]
      },
      {
       "output_type": "stream",
       "stream": "stdout",
       "text": [
        "\n",
        "-1.81366469803 1.03975433566 -0.04881873234\n",
        "plambda data/fountain/0005.png \"x 255\" | iion - /tmp/s2p_B2mqet.png\n",
        "plambda data/fountain/0004.png \"x 255\" | iion - /tmp/s2p_os5NH3.png"
       ]
      },
      {
       "output_type": "stream",
       "stream": "stdout",
       "text": [
        "\n",
        "image_crop_LARGE: the input image must be tif or tiff"
       ]
      },
      {
       "output_type": "stream",
       "stream": "stdout",
       "text": [
        "\n",
        "crop /tmp/s2p_B2mqet.png /tmp/s2p_sTwEEf.tif -21 -30 3113 2109\n",
        "imprintf \"%c\" '/tmp/s2p_sTwEEf.tif' > /tmp/s2p_6Muasx.txt"
       ]
      },
      {
       "output_type": "stream",
       "stream": "stdout",
       "text": [
        "\n",
        "homography /tmp/s2p_sTwEEf.tif /tmp/s2p_xpiaMn.txt /tmp/s2p_2SbDVm.png /tmp/s2p_B2mqet.png 0 3053 2052"
       ]
      },
      {
       "output_type": "stream",
       "stream": "stdout",
       "text": [
        "\n",
        "image_crop_LARGE: the input image must be tif or tiff"
       ]
      },
      {
       "output_type": "stream",
       "stream": "stdout",
       "text": [
        "\n",
        "crop /tmp/s2p_os5NH3.png /tmp/s2p_2wHdYm.tif 36 -109 3211 2280\n",
        "imprintf \"%c\" '/tmp/s2p_2wHdYm.tif' > /tmp/s2p_STL6dq.txt"
       ]
      },
      {
       "output_type": "stream",
       "stream": "stdout",
       "text": [
        "\n",
        "homography /tmp/s2p_2wHdYm.tif /tmp/s2p_uSL9Mq.txt /tmp/s2p_qTXBWm.png /tmp/s2p_os5NH3.png 0 3053 2052"
       ]
      },
      {
       "output_type": "stream",
       "stream": "stdout",
       "text": [
        "\n",
        "image_crop_LARGE: the input image must be tif or tiff"
       ]
      },
      {
       "output_type": "stream",
       "stream": "stdout",
       "text": [
        "\n",
        "crop data/fountain/0005.png /tmp/s2p_IEB4Z5.tif -21 -30 3113 2109\n",
        "imprintf \"%c\" '/tmp/s2p_IEB4Z5.tif' > /tmp/s2p_zpqlSu.txt"
       ]
      },
      {
       "output_type": "stream",
       "stream": "stdout",
       "text": [
        "\n",
        "homography /tmp/s2p_IEB4Z5.tif /tmp/s2p_UIF3U_.txt /tmp/s2p_T1JFws.png /tmp/pair54_full_res5.tif 0 3053 2052"
       ]
      },
      {
       "output_type": "stream",
       "stream": "stdout",
       "text": [
        "\n",
        "image_crop_LARGE: the input image must be tif or tiff"
       ]
      },
      {
       "output_type": "stream",
       "stream": "stdout",
       "text": [
        "\n",
        "crop data/fountain/0004.png /tmp/s2p_Vde9VD.tif 36 -109 3211 2280\n",
        "imprintf \"%c\" '/tmp/s2p_Vde9VD.tif' > /tmp/s2p_INED7t.txt"
       ]
      },
      {
       "output_type": "stream",
       "stream": "stdout",
       "text": [
        "\n",
        "homography /tmp/s2p_Vde9VD.tif /tmp/s2p_CgvdjN.txt /tmp/s2p_DyN9kJ.png /tmp/pair54_full_res4.tif 0 3053 2052"
       ]
      },
      {
       "output_type": "stream",
       "stream": "stdout",
       "text": [
        "\n",
        "plambda /tmp/s2p_B2mqet.png /tmp/pair54_full_res5.tif \"x 200 > y nan if\" | iion - /tmp/pair54_full_res5.tif"
       ]
      },
      {
       "output_type": "stream",
       "stream": "stdout",
       "text": [
        "\n",
        "plambda /tmp/s2p_os5NH3.png /tmp/pair54_full_res4.tif \"x 200 > y nan if\" | iion - /tmp/pair54_full_res4.tif"
       ]
      },
      {
       "output_type": "stream",
       "stream": "stdout",
       "text": [
        "\n",
        "/Users/carlo/code/s2p/python/../3rdparty/stereo_hirschmuller_2008/callSGBM.sh /tmp/pair54_full_res5.tif /tmp/pair54_full_res4.tif /tmp/pair54_full_res_disp.pgm /tmp/pair54_full_res_mask.png -114 205 "
       ]
      },
      {
       "output_type": "stream",
       "stream": "stdout",
       "text": [
        "\n",
        "disp_to_h_projective data/fountain/0005.png.P data/fountain/0004.png.P /tmp/pair54_full_res_hom5.txt /tmp/pair54_full_res_hom4.txt /tmp/pair54_full_res_disp.pgm /tmp/pair54_full_res_mask.png /tmp/pair54_full_res_height.tif /tmp/pair54_full_res_rpc_err.tif"
       ]
      },
      {
       "output_type": "stream",
       "stream": "stdout",
       "text": [
        "\n",
        "gdal_translate -srcwin 0 0 3072 2048 'data/fountain/0005.png' '/tmp/s2p_MSLPbA.tif'"
       ]
      },
      {
       "output_type": "stream",
       "stream": "stdout",
       "text": [
        "\n",
        "tiffcp /tmp/s2p_MSLPbA.tif /tmp/s2p_t39Qtx.tif 2> /dev/null"
       ]
      },
      {
       "output_type": "stream",
       "stream": "stdout",
       "text": [
        "\n",
        "synflow hom \"-0.98751499853459901 -0.0095009792760492959 3053.1040810556374 0.01014011941798392 -0.98788113648742482 2023.180567526246 3.59074e-07 1.7739300000000001e-07 1.0\" /tmp/s2p_t39Qtx.tif /dev/null - | BILINEAR=1 backflow - /tmp/pair54_full_res_height.tif /tmp/pair54_full_res_height_unrect.tif"
       ]
      },
      {
       "output_type": "stream",
       "stream": "stdout",
       "text": [
        "\n",
        "synflow hom \"-0.98751499853459901 -0.0095009792760492959 3053.1040810556374 0.01014011941798392 -0.98788113648742482 2023.180567526246 3.59074e-07 1.7739300000000001e-07 1.0\" /tmp/s2p_t39Qtx.tif /dev/null - | BILINEAR=1 backflow - /tmp/pair54_full_res_mask.png /tmp/pair54_full_res_mask_unrect.png"
       ]
      },
      {
       "output_type": "stream",
       "stream": "stdout",
       "text": [
        "\n",
        "('fountain', 'pair54_full_res', 0, 0, 3072, 2048, '/tmp/pair54_full_res_height_unrect.tif')"
       ]
      },
      {
       "output_type": "stream",
       "stream": "stdout",
       "text": [
        "\n",
        "gdal_translate -srcwin 0 0 3072 2048 'data/fountain/0005.png' '/tmp/s2p_3r0mrC.tif'\n",
        "tiffcp /tmp/s2p_3r0mrC.tif /tmp/s2p_7YwsQ5.tif 2> /dev/null"
       ]
      },
      {
       "output_type": "stream",
       "stream": "stdout",
       "text": [
        "\n",
        "cp /tmp/s2p_7YwsQ5.tif /tmp/pair54_full_res_roi_ref05.tif"
       ]
      },
      {
       "output_type": "stream",
       "stream": "stdout",
       "text": [
        "\n",
        "imprintf \"%w %h\" '/tmp/pair54_full_res_roi_ref05.tif' > /tmp/s2p_BfOrFK.txt"
       ]
      },
      {
       "output_type": "stream",
       "stream": "stdout",
       "text": [
        "\n",
        "qauto /tmp/pair54_full_res_roi_ref05.tif /tmp/s2p_VnkgCd.png 2> /dev/null"
       ]
      },
      {
       "output_type": "stream",
       "stream": "stdout",
       "text": [
        "\n",
        "crop /tmp/pair54_full_res_height_unrect.tif /tmp/s2p_CcxxNv.tif 0 0 3072 2048"
       ]
      },
      {
       "output_type": "stream",
       "stream": "stdout",
       "text": [
        "\n",
        "colormesh_projective /tmp/s2p_VnkgCd.png /tmp/s2p_CcxxNv.tif data/fountain/0005.png.P /tmp/s2p_xuK4p2.txt /tmp/pair54_full_res_cloud.ply"
       ]
      },
      {
       "output_type": "stream",
       "stream": "stdout",
       "text": [
        "\n",
        "rm /tmp/s2p_CcxxNv.tif"
       ]
      },
      {
       "output_type": "stream",
       "stream": "stdout",
       "text": [
        "\n",
        "rm /tmp/s2p_VnkgCd.png\n",
        "rm /tmp/s2p_BfOrFK.txt\n",
        "rm /tmp/s2p_xuK4p2.txt"
       ]
      },
      {
       "output_type": "stream",
       "stream": "stdout",
       "text": [
        "\n",
        "rm /tmp/s2p_7YwsQ5.tif\n",
        "rm /tmp/s2p_3r0mrC.tif\n",
        "rm /tmp/s2p_t39Qtx.tif\n",
        "rm /tmp/s2p_MSLPbA.tif\n",
        "rm /tmp/s2p_DyN9kJ.png"
       ]
      },
      {
       "output_type": "stream",
       "stream": "stdout",
       "text": [
        "\n",
        "rm /tmp/s2p_CgvdjN.txt\n",
        "rm /tmp/s2p_INED7t.txt\n",
        "rm /tmp/s2p_Vde9VD.tif\n",
        "rm /tmp/s2p_T1JFws.png\n",
        "rm /tmp/s2p_UIF3U_.txt\n",
        "rm /tmp/s2p_zpqlSu.txt\n",
        "rm /tmp/s2p_IEB4Z5.tif"
       ]
      },
      {
       "output_type": "stream",
       "stream": "stdout",
       "text": [
        "\n",
        "rm /tmp/s2p_qTXBWm.png\n",
        "rm /tmp/s2p_uSL9Mq.txt\n",
        "rm /tmp/s2p_STL6dq.txt\n",
        "rm /tmp/s2p_2wHdYm.tif\n",
        "rm /tmp/s2p_2SbDVm.png\n",
        "rm /tmp/s2p_xpiaMn.txt\n",
        "rm /tmp/s2p_6Muasx.txt\n",
        "rm /tmp/s2p_sTwEEf.tif"
       ]
      },
      {
       "output_type": "stream",
       "stream": "stdout",
       "text": [
        "\n",
        "rm /tmp/s2p_os5NH3.png\n",
        "rm /tmp/s2p_B2mqet.png\n",
        "rm /tmp/s2p_GtZ3SM.txt\n",
        "rm /tmp/s2p_hXToAl.txt\n",
        "rm /tmp/s2p_lxtKm1.png\n",
        "rm /tmp/s2p_RDQFcn.txt\n",
        "rm /tmp/s2p_GWbBye.txt"
       ]
      },
      {
       "output_type": "stream",
       "stream": "stdout",
       "text": [
        "\n",
        "rm /tmp/s2p_0HY6fp.png\n",
        "rm /tmp/s2p_cUVCG2.txt\n",
        "rm /tmp/s2p_KqXgQX.txt\n",
        "rm /tmp/s2p_4lHoK3.txt\n",
        "rm /tmp/s2p_JshAc8.txt\n",
        "rm /tmp/s2p_7VlbiA.txt\n",
        "v /tmp/pair54_full_res_roi_ref05.tif /tmp/pair54_full_res_roi_color_ref05.tif /tmp/pair54_full_res_height_unrect.tif"
       ]
      },
      {
       "output_type": "stream",
       "stream": "stdout",
       "text": [
        "\n",
        "meshlab /tmp/pair54_full_res_cloud.ply\n"
       ]
      }
     ],
     "prompt_number": 7
    },
    {
     "cell_type": "code",
     "collapsed": true,
     "input": [],
     "language": "python",
     "metadata": {},
     "outputs": []
    }
   ],
   "metadata": {}
  }
 ]
}