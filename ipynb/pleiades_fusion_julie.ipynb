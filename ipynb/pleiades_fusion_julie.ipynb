{
 "metadata": {
  "name": "pleiades_fusion_julie"
 },
 "nbformat": 3,
 "nbformat_minor": 0,
 "worksheets": [
  {
   "cells": [
    {
     "cell_type": "code",
     "collapsed": false,
     "input": [
      "cd ~/code/s2p"
     ],
     "language": "python",
     "metadata": {},
     "outputs": [
      {
       "output_type": "stream",
       "stream": "stdout",
       "text": [
        "/Users/carlo/code/s2p\n"
       ]
      }
     ],
     "prompt_number": 2
    },
    {
     "cell_type": "code",
     "collapsed": false,
     "input": [
      "import main_script\n",
      "from python import rpc_model, rpc_utils\n",
      "import numpy as np"
     ],
     "language": "python",
     "metadata": {},
     "outputs": [],
     "prompt_number": 3
    },
    {
     "cell_type": "code",
     "collapsed": true,
     "input": [
      "im1 = 'pleiades_data/images/toulouse/im01.tif'\n",
      "im2 = 'pleiades_data/images/toulouse/im02.tif'\n",
      "im3 = 'pleiades_data/images/toulouse/im03.tif'\n",
      "rpc1 = rpc_model.RPCModel('pleiades_data/rpc/toulouse/rpc01.xml')\n",
      "rpc2 = rpc_model.RPCModel('pleiades_data/rpc/toulouse/rpc02.xml')\n",
      "rpc3 = rpc_model.RPCModel('pleiades_data/rpc/toulouse/rpc03.xml')"
     ],
     "language": "python",
     "metadata": {},
     "outputs": [],
     "prompt_number": 4
    },
    {
     "cell_type": "markdown",
     "metadata": {},
     "source": [
      "Define the ROI in the central image (im2), then find corresponding ROIs in the other images"
     ]
    },
    {
     "cell_type": "code",
     "collapsed": false,
     "input": [
      "x, y, w, h = 20380, 18600, 320, 300\n",
      "x1, y1, w1, h1 = np.round(rpc_utils.corresponding_roi(rpc2, rpc1, x, y, w, h))\n",
      "x3, y3, w3, h3 = np.round(rpc_utils.corresponding_roi(rpc2, rpc3, x, y, w, h))\n",
      "x2, y2, w2, h2 = x, y, w, h"
     ],
     "language": "python",
     "metadata": {},
     "outputs": [],
     "prompt_number": 5
    },
    {
     "cell_type": "code",
     "collapsed": false,
     "input": [
      "print x1, y1, w1, h1\n",
      "print x3, y3, w3, h3"
     ],
     "language": "python",
     "metadata": {},
     "outputs": [
      {
       "output_type": "stream",
       "stream": "stdout",
       "text": [
        "20378.0 17866.0 324.0 354.0\n",
        "20373.0 18639.0 329.0 349.0\n"
       ]
      }
     ],
     "prompt_number": 6
    },
    {
     "cell_type": "markdown",
     "metadata": {},
     "source": [
      "Run the block-matching and triangulation on triplets, using each one of the three available reference images"
     ]
    },
    {
     "cell_type": "code",
     "collapsed": false,
     "input": [
      "reload(main_script)"
     ],
     "language": "python",
     "metadata": {},
     "outputs": [
      {
       "output_type": "pyout",
       "prompt_number": 7,
       "text": [
        "<module 'main_script' from 'main_script.pyc'>"
       ]
      }
     ],
     "prompt_number": 7
    },
    {
     "cell_type": "code",
     "collapsed": true,
     "input": [
      "#dem1 = main_script.process_triplet('toulouse', 'prison_1', x1, y1, w1, h1, 1, 2, 3)\n",
      "dem2 = main_script.process_triplet('toulouse', 'prison_2_th', x2, y2, w2, h2, 2, 1, 3)\n",
      "#sdem3 = main_script.process_triplet('toulouse', 'prison_3', x3, y3, w3, h3, 3, 1, 2)"
     ],
     "language": "python",
     "metadata": {},
     "outputs": [
      {
       "output_type": "stream",
       "stream": "stdout",
       "text": [
        "ROI x, y, w, h = 20378, 17866, 324, 354\n",
        "ROI x, y, w, h = 20378, 17866, 324, 354\n",
        "gdal_translate -srcwin 20378 17866 324 354 'pleiades_data/images/toulouse/im01.tif' '/tmp/s2p_VelZWi.tif'"
       ]
      },
      {
       "output_type": "stream",
       "stream": "stdout",
       "text": [
        "\n",
        "tiffcp /tmp/s2p_VelZWi.tif /tmp/s2p_GUb8PK.tif 2> /dev/null\n",
        "gdal_translate -srcwin 20371 18545 337 410 'pleiades_data/images/toulouse/im02.tif' '/tmp/s2p_WDjfyW.tif'\n",
        "tiffcp /tmp/s2p_WDjfyW.tif /tmp/s2p_xQNHzc.tif 2> /dev/null"
       ]
      },
      {
       "output_type": "stream",
       "stream": "stdout",
       "text": [
        "\n",
        "qauto /tmp/s2p_GUb8PK.tif /tmp/s2p_EgV1_M.png 2> /dev/null\n",
        "sift_keypoints /tmp/s2p_EgV1_M.png /tmp/s2p_96f0Cs.txt"
       ]
      },
      {
       "output_type": "stream",
       "stream": "stdout",
       "text": [
        "\n",
        "awk '{if (NR!=1) {print}}' /tmp/s2p_96f0Cs.txt > /tmp/s2p__XBnfC.txt"
       ]
      },
      {
       "output_type": "stream",
       "stream": "stdout",
       "text": [
        "\n",
        "cp /tmp/s2p__XBnfC.txt /tmp/s2p_96f0Cs.txt\n",
        "qauto /tmp/s2p_xQNHzc.tif /tmp/s2p_DlO4j6.png 2> /dev/null\n",
        "sift_keypoints /tmp/s2p_DlO4j6.png /tmp/s2p_qg1shR.txt"
       ]
      },
      {
       "output_type": "stream",
       "stream": "stdout",
       "text": [
        "\n",
        "awk '{if (NR!=1) {print}}' /tmp/s2p_qg1shR.txt > /tmp/s2p_6DYkQz.txt"
       ]
      },
      {
       "output_type": "stream",
       "stream": "stdout",
       "text": [
        "\n",
        "cp /tmp/s2p_6DYkQz.txt /tmp/s2p_qg1shR.txt\n",
        "matching /tmp/s2p_96f0Cs.txt /tmp/s2p_qg1shR.txt 1 0.400000 4 8 36 > /tmp/s2p_fLvKK3.txt"
       ]
      },
      {
       "output_type": "stream",
       "stream": "stdout",
       "text": [
        "\n",
        "ransac fmn 1000 .3 7 /tmp/s2p_AfOh_L.txt < /tmp/s2p_LtermA.txt"
       ]
      },
      {
       "output_type": "stream",
       "stream": "stdout",
       "text": [
        "\n",
        "running optimization using 86 matches"
       ]
      },
      {
       "output_type": "stream",
       "stream": "stdout",
       "text": [
        "\n",
        "[  1.56534946e-29  -8.71993782e-01  -1.71026883e-01   2.21325051e-29]"
       ]
      },
      {
       "output_type": "stream",
       "stream": "stdout",
       "text": [
        " 11.5842458589 {'warnflag': 0, 'task': 'CONVERGENCE: REL_REDUCTION_OF_F_<=_FACTR*EPSMCH', 'grad': array([-0.02540617, -0.10115127, -0.06523422, -0.01917435]), 'nit': 8, 'funcalls': 23}\n",
        "step 1: find matches, and center them ------------------------------\n",
        "applying pointing error correction"
       ]
      },
      {
       "output_type": "stream",
       "stream": "stdout",
       "text": [
        "\n",
        "step 2: estimate F (8-points algorithm) ----------------------------\n",
        "step 3: compute rectifying homographies (loop-zhang algorithm) -----\n",
        "rectify_mindistortion /tmp/s2p_EWKzb_.txt 324 354 /tmp/s2p_r5VThJ.txt /tmp/s2p_0Zj9yL.txt > /dev/null\n",
        "max, min, mean rectification error on rpc matches ------------------"
       ]
      },
      {
       "output_type": "stream",
       "stream": "stdout",
       "text": [
        "\n",
        "0.00420047461728 1.01505347629e-05 0.00162018056718\n",
        "step 4: pull back top-left corner of the ROI in the origin ---------\n",
        "step 5: horizontal registration ------------------------------------\n",
        "gdal_translate -srcwin 20378 17866 324 354 'pleiades_data/images/toulouse/im01.tif' '/tmp/s2p_ImaKyt.tif'"
       ]
      },
      {
       "output_type": "stream",
       "stream": "stdout",
       "text": [
        "\n",
        "tiffcp /tmp/s2p_ImaKyt.tif /tmp/s2p_YixgdW.tif 2> /dev/null\n",
        "gdal_translate -srcwin 20371 18545 337 410 'pleiades_data/images/toulouse/im02.tif' '/tmp/s2p_t_2xWM.tif'"
       ]
      },
      {
       "output_type": "stream",
       "stream": "stdout",
       "text": [
        "\n",
        "tiffcp /tmp/s2p_t_2xWM.tif /tmp/s2p_Adneb9.tif 2> /dev/null\n",
        "qauto /tmp/s2p_YixgdW.tif /tmp/s2p_f3jBCl.png 2> /dev/null"
       ]
      },
      {
       "output_type": "stream",
       "stream": "stdout",
       "text": [
        "\n",
        "sift_keypoints /tmp/s2p_f3jBCl.png /tmp/s2p_9kkfOv.txt"
       ]
      },
      {
       "output_type": "stream",
       "stream": "stdout",
       "text": [
        "\n",
        "awk '{if (NR!=1) {print}}' /tmp/s2p_9kkfOv.txt > /tmp/s2p_Zur_Lz.txt"
       ]
      },
      {
       "output_type": "stream",
       "stream": "stdout",
       "text": [
        "\n",
        "cp /tmp/s2p_Zur_Lz.txt /tmp/s2p_9kkfOv.txt\n",
        "qauto /tmp/s2p_Adneb9.tif /tmp/s2p_SZNlLT.png 2> /dev/null"
       ]
      },
      {
       "output_type": "stream",
       "stream": "stdout",
       "text": [
        "\n",
        "sift_keypoints /tmp/s2p_SZNlLT.png /tmp/s2p_ipSZIJ.txt"
       ]
      },
      {
       "output_type": "stream",
       "stream": "stdout",
       "text": [
        "\n",
        "awk '{if (NR!=1) {print}}' /tmp/s2p_ipSZIJ.txt > /tmp/s2p_wDsYaB.txt"
       ]
      },
      {
       "output_type": "stream",
       "stream": "stdout",
       "text": [
        "\n",
        "cp /tmp/s2p_wDsYaB.txt /tmp/s2p_ipSZIJ.txt\n",
        "matching /tmp/s2p_9kkfOv.txt /tmp/s2p_ipSZIJ.txt 1 0.400000 4 8 36 > /tmp/s2p_QfUZNv.txt\n",
        "remaining sift matches"
       ]
      },
      {
       "output_type": "stream",
       "stream": "stdout",
       "text": [
        " 106\n",
        "Residual vertical disparities: max, min, mean. Should be zero ------\n",
        "0.434645792721 -0.496426570567 -0.0275049442747\n",
        "gdal_translate -srcwin 20311 17805 457 476 'pleiades_data/images/toulouse/im01.tif' '/tmp/s2p_ooHQ4x.tif'\n",
        "tiffcp /tmp/s2p_ooHQ4x.tif /tmp/s2p_ymM117.tif 2> /dev/null\n",
        "imprintf \"%c\" '/tmp/s2p_ymM117.tif' > /tmp/s2p_5KCYxi.txt"
       ]
      },
      {
       "output_type": "stream",
       "stream": "stdout",
       "text": [
        "\n",
        "zoom_zeropadding /tmp/s2p_ymM117.tif /Users/carlo/code/s2p/python/../pleiades_data/idata_0009_MTF_89x89.tif /tmp/s2p_1Fhzts.tif\n",
        "fftconvolve /tmp/s2p_1Fhzts.tif /tmp/s2p_ymM117.tif /tmp/s2p_ont7sA.tif"
       ]
      },
      {
       "output_type": "stream",
       "stream": "stdout",
       "text": [
        "\n",
        "homography /tmp/s2p_ont7sA.tif /tmp/s2p_ai9XWQ.txt /tmp/s2p_yAa7W2.png /tmp/prison_1_left1.tif 0 410 386"
       ]
      },
      {
       "output_type": "stream",
       "stream": "stdout",
       "text": [
        "\n",
        "gdal_translate -srcwin 20312 18506 463 462 'pleiades_data/images/toulouse/im02.tif' '/tmp/s2p_im0iZO.tif'"
       ]
      },
      {
       "output_type": "stream",
       "stream": "stdout",
       "text": [
        "\n",
        "tiffcp /tmp/s2p_im0iZO.tif /tmp/s2p_B9yUha.tif 2> /dev/null\n",
        "imprintf \"%c\" '/tmp/s2p_B9yUha.tif' > /tmp/s2p_q_tAGn.txt"
       ]
      },
      {
       "output_type": "stream",
       "stream": "stdout",
       "text": [
        "\n",
        "zoom_zeropadding /tmp/s2p_B9yUha.tif /Users/carlo/code/s2p/python/../pleiades_data/idata_0009_MTF_89x89.tif /tmp/s2p_X1pAal.tif\n",
        "fftconvolve /tmp/s2p_X1pAal.tif /tmp/s2p_B9yUha.tif /tmp/s2p_BGen9a.tif"
       ]
      },
      {
       "output_type": "stream",
       "stream": "stdout",
       "text": [
        "\n",
        "homography /tmp/s2p_BGen9a.tif /tmp/s2p_FjmMuV.txt /tmp/s2p_HIi_bK.png /tmp/prison_1_left2.tif 0 410 386"
       ]
      },
      {
       "output_type": "stream",
       "stream": "stdout",
       "text": [
        "\n",
        "/Users/carlo/code/s2p/python/../3rdparty/stereo_hirschmuller_2008/callSGBM.sh /tmp/prison_1_left1.tif /tmp/prison_1_left2.tif /tmp/prison_1_left_disp.pgm /tmp/prison_1_left_mask.png -4 4 "
       ]
      },
      {
       "output_type": "stream",
       "stream": "stdout",
       "text": [
        "\n",
        "disp_to_h pleiades_data/rpc/toulouse/rpc01.xml pleiades_data/rpc/toulouse/rpc02.xml /tmp/s2p_RLs_Bz.txt /tmp/s2p_kYg8zV.txt /tmp/prison_1_left_disp.pgm /tmp/prison_1_left_mask.png /tmp/prison_1_left_height.tif /tmp/prison_1_left_rpc_err.tif"
       ]
      },
      {
       "output_type": "stream",
       "stream": "stdout",
       "text": [
        "\n",
        "gdal_translate -srcwin 20378 17866 324 354 'pleiades_data/images/toulouse/im01.tif' '/tmp/s2p__GztpB.tif'"
       ]
      },
      {
       "output_type": "stream",
       "stream": "stdout",
       "text": [
        "\n",
        "tiffcp /tmp/s2p__GztpB.tif /tmp/s2p_c73bGX.tif 2> /dev/null\n",
        "synflow hom \"-0.191471 0.98395699999999997 62.036603999999443 -0.98395699999999997 -0.191471 386.58280200000081 0.0 0.0 1.0\" /tmp/s2p_c73bGX.tif /dev/null - | BILINEAR=1 backflow - /tmp/prison_1_left_height.tif /tmp/prison_1_left_height_unrect.tif"
       ]
      },
      {
       "output_type": "stream",
       "stream": "stdout",
       "text": [
        "\n",
        "synflow hom \"-0.191471 0.98395699999999997 62.036603999999443 -0.98395699999999997 -0.191471 386.58280200000081 0.0 0.0 1.0\" /tmp/s2p_c73bGX.tif /dev/null - | BILINEAR=1 backflow - /tmp/prison_1_left_mask.png /tmp/prison_1_left_mask_unrect.png"
       ]
      },
      {
       "output_type": "stream",
       "stream": "stdout",
       "text": [
        "\n",
        "v /tmp/prison_1_left1.tif /tmp/prison_1_left2.tif /tmp/prison_1_left_disp.pgm /tmp/prison_1_left_mask.png"
       ]
      },
      {
       "output_type": "stream",
       "stream": "stdout",
       "text": [
        "\n",
        "ROI x, y, w, h = 20378, 17866, 324, 354\n",
        "gdal_translate -srcwin 20378 17866 324 354 'pleiades_data/images/toulouse/im01.tif' '/tmp/s2p_Es1dcH.tif'"
       ]
      },
      {
       "output_type": "stream",
       "stream": "stdout",
       "text": [
        "\n",
        "tiffcp /tmp/s2p_Es1dcH.tif /tmp/s2p_pyNhXB.tif 2> /dev/null"
       ]
      },
      {
       "output_type": "stream",
       "stream": "stdout",
       "text": [
        "\n",
        "gdal_translate -srcwin 20364 18584 347 458 'pleiades_data/images/toulouse/im03.tif' '/tmp/s2p_dJ_NZp.tif'\n",
        "tiffcp /tmp/s2p_dJ_NZp.tif /tmp/s2p_zH1eTj.tif 2> /dev/null"
       ]
      },
      {
       "output_type": "stream",
       "stream": "stdout",
       "text": [
        "\n",
        "qauto /tmp/s2p_pyNhXB.tif /tmp/s2p_emDnFD.png 2> /dev/null\n",
        "sift_keypoints /tmp/s2p_emDnFD.png /tmp/s2p_Fl2JVK.txt"
       ]
      },
      {
       "output_type": "stream",
       "stream": "stdout",
       "text": [
        "\n",
        "awk '{if (NR!=1) {print}}' /tmp/s2p_Fl2JVK.txt > /tmp/s2p_LRLjjI.txt"
       ]
      },
      {
       "output_type": "stream",
       "stream": "stdout",
       "text": [
        "\n",
        "cp /tmp/s2p_LRLjjI.txt /tmp/s2p_Fl2JVK.txt\n",
        "qauto /tmp/s2p_zH1eTj.tif /tmp/s2p_0RGg7R.png 2> /dev/null"
       ]
      },
      {
       "output_type": "stream",
       "stream": "stdout",
       "text": [
        "\n",
        "sift_keypoints /tmp/s2p_0RGg7R.png /tmp/s2p_Gy03Lt.txt"
       ]
      },
      {
       "output_type": "stream",
       "stream": "stdout",
       "text": [
        "\n",
        "awk '{if (NR!=1) {print}}' /tmp/s2p_Gy03Lt.txt > /tmp/s2p_uMqYJI.txt"
       ]
      },
      {
       "output_type": "stream",
       "stream": "stdout",
       "text": [
        "\n",
        "cp /tmp/s2p_uMqYJI.txt /tmp/s2p_Gy03Lt.txt\n",
        "matching /tmp/s2p_Fl2JVK.txt /tmp/s2p_Gy03Lt.txt 1 0.400000 4 8 36 > /tmp/s2p_PWM63c.txt\n",
        "ransac fmn 1000 .3 7 /tmp/s2p__cV6hs.txt < /tmp/s2p_dsYkGE.txt"
       ]
      },
      {
       "output_type": "stream",
       "stream": "stdout",
       "text": [
        "\n",
        "running optimization using 15 matches\n",
        "[  7.83273571e-27  -9.83379692e-01  -1.94116664e-01   9.34323056e-27]"
       ]
      },
      {
       "output_type": "stream",
       "stream": "stdout",
       "text": [
        " 3.47992189459 {'warnflag': 0, 'task': 'CONVERGENCE: REL_REDUCTION_OF_F_<=_FACTR*EPSMCH', 'grad': array([  1.49436019e-04,   9.29725763e-01,   1.22372823e-01,\n",
        "         2.01598738e-03]), 'nit': 8, 'funcalls': 55}\n",
        "step 1: find matches, and center them ------------------------------\n",
        "applying pointing error correction"
       ]
      },
      {
       "output_type": "stream",
       "stream": "stdout",
       "text": [
        "\n",
        "step 2: estimate F (8-points algorithm) ----------------------------\n",
        "step 3: compute rectifying homographies (loop-zhang algorithm) -----\n",
        "rectify_mindistortion /tmp/s2p_eeoBbq.txt 324 354 /tmp/s2p_FxAk50.txt /tmp/s2p_UEo7si.txt > /dev/null\n",
        "max, min, mean rectification error on rpc matches ------------------"
       ]
      },
      {
       "output_type": "stream",
       "stream": "stdout",
       "text": [
        "\n",
        "0.00397773110814 1.85258058423e-05 0.00145483136654\n",
        "step 4: pull back top-left corner of the ROI in the origin ---------\n",
        "step 5: horizontal registration ------------------------------------\n",
        "gdal_translate -srcwin 20378 17866 324 354 'pleiades_data/images/toulouse/im01.tif' '/tmp/s2p_0NQIIV.tif'"
       ]
      },
      {
       "output_type": "stream",
       "stream": "stdout",
       "text": [
        "\n",
        "tiffcp /tmp/s2p_0NQIIV.tif /tmp/s2p_jUyA9z.tif 2> /dev/null\n",
        "gdal_translate -srcwin 20364 18584 347 458 'pleiades_data/images/toulouse/im03.tif' '/tmp/s2p_IVPbaI.tif'\n",
        "tiffcp /tmp/s2p_IVPbaI.tif /tmp/s2p_W0jmhJ.tif 2> /dev/null"
       ]
      },
      {
       "output_type": "stream",
       "stream": "stdout",
       "text": [
        "\n",
        "qauto /tmp/s2p_jUyA9z.tif /tmp/s2p_GagHoB.png 2> /dev/null\n",
        "sift_keypoints /tmp/s2p_GagHoB.png /tmp/s2p_CLEFpW.txt"
       ]
      },
      {
       "output_type": "stream",
       "stream": "stdout",
       "text": [
        "\n",
        "awk '{if (NR!=1) {print}}' /tmp/s2p_CLEFpW.txt > /tmp/s2p_C_poqg.txt"
       ]
      },
      {
       "output_type": "stream",
       "stream": "stdout",
       "text": [
        "\n",
        "cp /tmp/s2p_C_poqg.txt /tmp/s2p_CLEFpW.txt\n",
        "qauto /tmp/s2p_W0jmhJ.tif /tmp/s2p_qa6Z8Y.png 2> /dev/null\n",
        "sift_keypoints /tmp/s2p_qa6Z8Y.png /tmp/s2p_nVtefc.txt"
       ]
      },
      {
       "output_type": "stream",
       "stream": "stdout",
       "text": [
        "\n",
        "awk '{if (NR!=1) {print}}' /tmp/s2p_nVtefc.txt > /tmp/s2p_zyHoiV.txt"
       ]
      },
      {
       "output_type": "stream",
       "stream": "stdout",
       "text": [
        "\n",
        "cp /tmp/s2p_zyHoiV.txt /tmp/s2p_nVtefc.txt\n",
        "matching /tmp/s2p_CLEFpW.txt /tmp/s2p_nVtefc.txt 1 0.400000 4 8 36 > /tmp/s2p_KeLc0g.txt\n",
        "remaining sift matches"
       ]
      },
      {
       "output_type": "stream",
       "stream": "stdout",
       "text": [
        " 15\n",
        "Residual vertical disparities: max, min, mean. Should be zero ------\n",
        "0.443521108929 -0.246939841559 0.00515947582127\n",
        "gdal_translate -srcwin 20312 17805 456 475 'pleiades_data/images/toulouse/im01.tif' '/tmp/s2p_xbSy64.tif'\n",
        "tiffcp /tmp/s2p_xbSy64.tif /tmp/s2p_IEKrG4.tif 2> /dev/null\n",
        "imprintf \"%c\" '/tmp/s2p_IEKrG4.tif' > /tmp/s2p_plMMcB.txt"
       ]
      },
      {
       "output_type": "stream",
       "stream": "stdout",
       "text": [
        "\n",
        "zoom_zeropadding /tmp/s2p_IEKrG4.tif /Users/carlo/code/s2p/python/../pleiades_data/idata_0009_MTF_89x89.tif /tmp/s2p_HNc1eI.tif\n",
        "fftconvolve /tmp/s2p_HNc1eI.tif /tmp/s2p_IEKrG4.tif /tmp/s2p_Ytkqip.tif"
       ]
      },
      {
       "output_type": "stream",
       "stream": "stdout",
       "text": [
        "\n",
        "homography /tmp/s2p_Ytkqip.tif /tmp/s2p_L5cu3c.txt /tmp/s2p_Bs4NNd.png /tmp/prison_1_right1.tif 0 409 385"
       ]
      },
      {
       "output_type": "stream",
       "stream": "stdout",
       "text": [
        "\n",
        "gdal_translate -srcwin 20311 18566 464 443 'pleiades_data/images/toulouse/im03.tif' '/tmp/s2p_3YOiRf.tif'"
       ]
      },
      {
       "output_type": "stream",
       "stream": "stdout",
       "text": [
        "\n",
        "tiffcp /tmp/s2p_3YOiRf.tif /tmp/s2p_KcyDtW.tif 2> /dev/null\n",
        "imprintf \"%c\" '/tmp/s2p_KcyDtW.tif' > /tmp/s2p_mHPB0T.txt\n",
        "zoom_zeropadding /tmp/s2p_KcyDtW.tif /Users/carlo/code/s2p/python/../pleiades_data/idata_0009_MTF_89x89.tif /tmp/s2p_k_LiQx.tif"
       ]
      },
      {
       "output_type": "stream",
       "stream": "stdout",
       "text": [
        "\n",
        "fftconvolve /tmp/s2p_k_LiQx.tif /tmp/s2p_KcyDtW.tif /tmp/s2p_rNnbvB.tif"
       ]
      },
      {
       "output_type": "stream",
       "stream": "stdout",
       "text": [
        "\n",
        "homography /tmp/s2p_rNnbvB.tif /tmp/s2p_KJWy7E.txt /tmp/s2p_5x2ZJd.png /tmp/prison_1_right3.tif 0 409 385"
       ]
      },
      {
       "output_type": "stream",
       "stream": "stdout",
       "text": [
        "\n",
        "/Users/carlo/code/s2p/python/../3rdparty/stereo_hirschmuller_2008/callSGBM.sh /tmp/prison_1_right1.tif /tmp/prison_1_right3.tif /tmp/prison_1_right_disp.pgm /tmp/prison_1_right_mask.png -4 2 "
       ]
      },
      {
       "output_type": "stream",
       "stream": "stdout",
       "text": [
        "\n",
        "disp_to_h pleiades_data/rpc/toulouse/rpc01.xml pleiades_data/rpc/toulouse/rpc03.xml /tmp/s2p_Hi7VdM.txt /tmp/s2p_cILr9h.txt /tmp/prison_1_right_disp.pgm /tmp/prison_1_right_mask.png /tmp/prison_1_right_height.tif /tmp/prison_1_right_rpc_err.tif"
       ]
      },
      {
       "output_type": "stream",
       "stream": "stdout",
       "text": [
        "\n",
        "gdal_translate -srcwin 20378 17866 324 354 'pleiades_data/images/toulouse/im01.tif' '/tmp/s2p_442UHw.tif'"
       ]
      },
      {
       "output_type": "stream",
       "stream": "stdout",
       "text": [
        "\n",
        "tiffcp /tmp/s2p_442UHw.tif /tmp/s2p_SGJ4LC.tif 2> /dev/null\n",
        "synflow hom \"-0.18920300000000001 0.98241299999999998 61.301772000001165 -0.98241299999999998 -0.18920300000000001 385.27967400000125 0.0 0.0 1.0\" /tmp/s2p_SGJ4LC.tif /dev/null - | BILINEAR=1 backflow - /tmp/prison_1_right_height.tif /tmp/prison_1_right_height_unrect.tif\n",
        "synflow hom \"-0.18920300000000001 0.98241299999999998 61.301772000001165 -0.98241299999999998 -0.18920300000000001 385.27967400000125 0.0 0.0 1.0\" /tmp/s2p_SGJ4LC.tif /dev/null - | BILINEAR=1 backflow - /tmp/prison_1_right_mask.png /tmp/prison_1_right_mask_unrect.png"
       ]
      },
      {
       "output_type": "stream",
       "stream": "stdout",
       "text": [
        "\n",
        "v /tmp/prison_1_right1.tif /tmp/prison_1_right3.tif /tmp/prison_1_right_disp.pgm /tmp/prison_1_right_mask.png"
       ]
      },
      {
       "output_type": "stream",
       "stream": "stdout",
       "text": [
        "\n",
        "downsa e 4 /tmp/prison_1_left_height_unrect.tif /tmp/s2p_d8HfhR.tif\n",
        "downsa e 4 /tmp/prison_1_right_height_unrect.tif /tmp/s2p_ZLID_Y.tif\n",
        "(7128,)"
       ]
      },
      {
       "output_type": "stream",
       "stream": "stdout",
       "text": [
        "\n",
        "(6060,)\n",
        "plambda /tmp/prison_1_right_height_unrect.tif \"x -0.370008 +\" > /tmp/s2p_PSykFm.tif\n",
        "\n",
        "        plambda /tmp/prison_1_left_height_unrect.tif /tmp/s2p_PSykFm.tif \"x isfinite y isfinite x y - fabs 1.000000 < x y + 2 / nan if x\n",
        "        if y if\" > /tmp/prison_1_height_merged.tif\n",
        "        "
       ]
      },
      {
       "output_type": "stream",
       "stream": "stdout",
       "text": [
        "\n",
        "rm /tmp/s2p_PSykFm.tif"
       ]
      },
      {
       "output_type": "stream",
       "stream": "stdout",
       "text": [
        "\n",
        "rm /tmp/s2p_ZLID_Y.tif\n",
        "rm /tmp/s2p_d8HfhR.tif\n",
        "rm /tmp/s2p_SGJ4LC.tif\n",
        "rm /tmp/s2p_442UHw.tif\n",
        "rm /tmp/s2p_cILr9h.txt\n",
        "rm /tmp/s2p_Hi7VdM.txt\n",
        "rm /tmp/s2p_5x2ZJd.png"
       ]
      },
      {
       "output_type": "stream",
       "stream": "stdout",
       "text": [
        "\n",
        "rm /tmp/s2p_KJWy7E.txt\n",
        "rm /tmp/s2p_rNnbvB.tif\n",
        "rm /tmp/s2p_k_LiQx.tif\n",
        "rm /tmp/s2p_mHPB0T.txt\n",
        "rm /tmp/s2p_KcyDtW.tif\n",
        "rm /tmp/s2p_3YOiRf.tif\n",
        "rm /tmp/s2p_Bs4NNd.png"
       ]
      },
      {
       "output_type": "stream",
       "stream": "stdout",
       "text": [
        "\n",
        "rm /tmp/s2p_L5cu3c.txt\n",
        "rm /tmp/s2p_Ytkqip.tif\n",
        "rm /tmp/s2p_HNc1eI.tif\n",
        "rm /tmp/s2p_plMMcB.txt\n",
        "rm /tmp/s2p_IEKrG4.tif\n",
        "rm /tmp/s2p_xbSy64.tif\n",
        "rm /tmp/s2p_KeLc0g.txt"
       ]
      },
      {
       "output_type": "stream",
       "stream": "stdout",
       "text": [
        "\n",
        "rm /tmp/s2p_zyHoiV.txt\n",
        "rm /tmp/s2p_qa6Z8Y.png\n",
        "rm /tmp/s2p_nVtefc.txt\n",
        "rm /tmp/s2p_C_poqg.txt\n",
        "rm /tmp/s2p_GagHoB.png\n",
        "rm /tmp/s2p_CLEFpW.txt\n",
        "rm /tmp/s2p_W0jmhJ.tif"
       ]
      },
      {
       "output_type": "stream",
       "stream": "stdout",
       "text": [
        "\n",
        "rm /tmp/s2p_IVPbaI.tif\n",
        "rm /tmp/s2p_jUyA9z.tif\n",
        "rm /tmp/s2p_0NQIIV.tif\n",
        "rm /tmp/s2p_UXO6l5.txt\n",
        "rm /tmp/s2p_nuY4PN.txt\n",
        "rm /tmp/s2p_UEo7si.txt"
       ]
      },
      {
       "output_type": "stream",
       "stream": "stdout",
       "text": [
        "\n",
        "rm /tmp/s2p_FxAk50.txt\n",
        "rm /tmp/s2p_eeoBbq.txt\n",
        "rm /tmp/s2p_85gKOP.txt\n",
        "rm /tmp/s2p_fBC28o.txt\n",
        "rm /tmp/s2p__cV6hs.txt\n",
        "rm /tmp/s2p_dsYkGE.txt\n",
        "rm /tmp/s2p_PWM63c.txt"
       ]
      },
      {
       "output_type": "stream",
       "stream": "stdout",
       "text": [
        "\n",
        "rm /tmp/s2p_uMqYJI.txt\n",
        "rm /tmp/s2p_0RGg7R.png\n",
        "rm /tmp/s2p_Gy03Lt.txt\n",
        "rm /tmp/s2p_LRLjjI.txt\n",
        "rm /tmp/s2p_emDnFD.png\n",
        "rm /tmp/s2p_Fl2JVK.txt\n",
        "rm /tmp/s2p_zH1eTj.tif"
       ]
      },
      {
       "output_type": "stream",
       "stream": "stdout",
       "text": [
        "\n",
        "rm /tmp/s2p_dJ_NZp.tif\n",
        "rm /tmp/s2p_pyNhXB.tif\n",
        "rm /tmp/s2p_Es1dcH.tif\n",
        "rm /tmp/s2p_2d6MCp.txt\n",
        "rm /tmp/s2p_Lqk9jg.txt\n",
        "rm /tmp/s2p_c73bGX.tif\n",
        "rm /tmp/s2p__GztpB.tif"
       ]
      },
      {
       "output_type": "stream",
       "stream": "stdout",
       "text": [
        "\n",
        "rm /tmp/s2p_kYg8zV.txt\n",
        "rm /tmp/s2p_RLs_Bz.txt\n",
        "rm /tmp/s2p_HIi_bK.png\n",
        "rm /tmp/s2p_FjmMuV.txt\n",
        "rm /tmp/s2p_BGen9a.tif\n",
        "rm /tmp/s2p_X1pAal.tif"
       ]
      },
      {
       "output_type": "stream",
       "stream": "stdout",
       "text": [
        "\n",
        "rm /tmp/s2p_q_tAGn.txt\n",
        "rm /tmp/s2p_B9yUha.tif\n",
        "rm /tmp/s2p_im0iZO.tif\n",
        "rm /tmp/s2p_yAa7W2.png\n",
        "rm /tmp/s2p_ai9XWQ.txt\n",
        "rm /tmp/s2p_ont7sA.tif\n",
        "rm /tmp/s2p_1Fhzts.tif"
       ]
      },
      {
       "output_type": "stream",
       "stream": "stdout",
       "text": [
        "\n",
        "rm /tmp/s2p_5KCYxi.txt\n",
        "rm /tmp/s2p_ymM117.tif\n",
        "rm /tmp/s2p_ooHQ4x.tif\n",
        "rm /tmp/s2p_QfUZNv.txt\n",
        "rm /tmp/s2p_wDsYaB.txt\n",
        "rm /tmp/s2p_SZNlLT.png\n",
        "rm /tmp/s2p_ipSZIJ.txt"
       ]
      },
      {
       "output_type": "stream",
       "stream": "stdout",
       "text": [
        "\n",
        "rm /tmp/s2p_Zur_Lz.txt\n",
        "rm /tmp/s2p_f3jBCl.png\n",
        "rm /tmp/s2p_9kkfOv.txt\n",
        "rm /tmp/s2p_Adneb9.tif\n",
        "rm /tmp/s2p_t_2xWM.tif\n",
        "rm /tmp/s2p_YixgdW.tif\n",
        "rm /tmp/s2p_ImaKyt.tif"
       ]
      },
      {
       "output_type": "stream",
       "stream": "stdout",
       "text": [
        "\n",
        "rm /tmp/s2p_8Fu5Kc.txt\n",
        "rm /tmp/s2p_Zy4J8K.txt\n",
        "rm /tmp/s2p_0Zj9yL.txt\n",
        "rm /tmp/s2p_r5VThJ.txt\n",
        "rm /tmp/s2p_EWKzb_.txt\n",
        "rm /tmp/s2p_CRI8SR.txt\n",
        "rm /tmp/s2p_uiinJ6.txt"
       ]
      },
      {
       "output_type": "stream",
       "stream": "stdout",
       "text": [
        "\n",
        "rm /tmp/s2p_AfOh_L.txt\n",
        "rm /tmp/s2p_LtermA.txt\n",
        "rm /tmp/s2p_fLvKK3.txt\n",
        "rm /tmp/s2p_6DYkQz.txt\n",
        "rm /tmp/s2p_DlO4j6.png\n",
        "rm /tmp/s2p_qg1shR.txt\n",
        "rm /tmp/s2p__XBnfC.txt"
       ]
      },
      {
       "output_type": "stream",
       "stream": "stdout",
       "text": [
        "\n",
        "rm /tmp/s2p_EgV1_M.png\n",
        "rm /tmp/s2p_96f0Cs.txt\n",
        "rm /tmp/s2p_xQNHzc.tif\n",
        "rm /tmp/s2p_WDjfyW.tif\n",
        "rm /tmp/s2p_GUb8PK.tif\n",
        "rm /tmp/s2p_VelZWi.tif\n",
        "rm /tmp/s2p_oWXUeV.txt"
       ]
      },
      {
       "output_type": "stream",
       "stream": "stdout",
       "text": [
        "\n",
        "rm /tmp/s2p_nYnI5S.txt\n",
        "rm /tmp/s2p_TJEgm3.txt\n",
        "rm /tmp/s2p_7aEdin.txt\n",
        "rm /tmp/s2p_aK5xEs.txt\n",
        "rm /tmp/s2p_TIr6Os.txt\n",
        "ROI x, y, w, h = 20380, 18600, 320, 300\n",
        "ROI x, y, w, h = 20380, 18600, 320, 300\n",
        "gdal_translate -srcwin 20380 18600 320 300 'pleiades_data/images/toulouse/im02.tif' '/tmp/s2p_lmScgE.tif'"
       ]
      },
      {
       "output_type": "stream",
       "stream": "stdout",
       "text": [
        "\n",
        "tiffcp /tmp/s2p_lmScgE.tif /tmp/s2p_ZJKYrV.tif 2> /dev/null\n",
        "gdal_translate -srcwin 20378 17865 324 354 'pleiades_data/images/toulouse/im01.tif' '/tmp/s2p_Mogk8e.tif'\n",
        "tiffcp /tmp/s2p_Mogk8e.tif /tmp/s2p_t9yXit.tif 2> /dev/null"
       ]
      },
      {
       "output_type": "stream",
       "stream": "stdout",
       "text": [
        "\n",
        "qauto /tmp/s2p_ZJKYrV.tif /tmp/s2p_TNuAwQ.png 2> /dev/null\n",
        "sift_keypoints /tmp/s2p_TNuAwQ.png /tmp/s2p_bYrSbT.txt\n",
        "awk '{if (NR!=1) {print}}' /tmp/s2p_bYrSbT.txt > /tmp/s2p_GsA1lL.txt"
       ]
      },
      {
       "output_type": "stream",
       "stream": "stdout",
       "text": [
        "\n",
        "cp /tmp/s2p_GsA1lL.txt /tmp/s2p_bYrSbT.txt\n",
        "qauto /tmp/s2p_t9yXit.tif /tmp/s2p_YouFtR.png 2> /dev/null\n",
        "sift_keypoints /tmp/s2p_YouFtR.png /tmp/s2p_beQBaM.txt"
       ]
      },
      {
       "output_type": "stream",
       "stream": "stdout",
       "text": [
        "\n",
        "awk '{if (NR!=1) {print}}' /tmp/s2p_beQBaM.txt > /tmp/s2p_HpsQO3.txt"
       ]
      },
      {
       "output_type": "stream",
       "stream": "stdout",
       "text": [
        "\n",
        "cp /tmp/s2p_HpsQO3.txt /tmp/s2p_beQBaM.txt\n",
        "matching /tmp/s2p_bYrSbT.txt /tmp/s2p_beQBaM.txt 1 0.400000 4 8 36 > /tmp/s2p_gfzkfU.txt\n",
        "ransac fmn 1000 .3 7 /tmp/s2p_7fYqRE.txt < /tmp/s2p_S72Iag.txt"
       ]
      },
      {
       "output_type": "stream",
       "stream": "stdout",
       "text": [
        "\n",
        "running optimization using 63 matches\n",
        "[ -1.47382493e-31   8.95125275e-01   1.72191342e-01   1.45942695e-31]"
       ]
      },
      {
       "output_type": "stream",
       "stream": "stdout",
       "text": [
        " 11.4789109341 {'warnflag': 0, 'task': 'CONVERGENCE: REL_REDUCTION_OF_F_<=_FACTR*EPSMCH', 'grad': array([ 0.00242792,  0.65308097, -0.09955716,  0.00305604]), 'nit': 26, 'funcalls': 75}\n",
        "step 1: find matches, and center them ------------------------------\n",
        "applying pointing error correction"
       ]
      },
      {
       "output_type": "stream",
       "stream": "stdout",
       "text": [
        "\n",
        "step 2: estimate F (8-points algorithm) ----------------------------\n",
        "step 3: compute rectifying homographies (loop-zhang algorithm) -----\n",
        "rectify_mindistortion /tmp/s2p_ge877k.txt 320 300 /tmp/s2p_sZsWv2.txt /tmp/s2p_TbhTeD.txt > /dev/null\n",
        "max, min, mean rectification error on rpc matches ------------------"
       ]
      },
      {
       "output_type": "stream",
       "stream": "stdout",
       "text": [
        "\n",
        "0.00368187444701 7.51065158511e-06 0.00154306721542\n",
        "step 4: pull back top-left corner of the ROI in the origin ---------\n",
        "step 5: horizontal registration ------------------------------------\n",
        "gdal_translate -srcwin 20380 18600 320 300 'pleiades_data/images/toulouse/im02.tif' '/tmp/s2p_uIb45E.tif'"
       ]
      },
      {
       "output_type": "stream",
       "stream": "stdout",
       "text": [
        "\n",
        "tiffcp /tmp/s2p_uIb45E.tif /tmp/s2p_PMxnHI.tif 2> /dev/null\n",
        "gdal_translate -srcwin 20378 17865 324 354 'pleiades_data/images/toulouse/im01.tif' '/tmp/s2p_f7hvoX.tif'\n",
        "tiffcp /tmp/s2p_f7hvoX.tif /tmp/s2p_PC1CPd.tif 2> /dev/null"
       ]
      },
      {
       "output_type": "stream",
       "stream": "stdout",
       "text": [
        "\n",
        "qauto /tmp/s2p_PMxnHI.tif /tmp/s2p_5eLA33.png 2> /dev/null\n",
        "sift_keypoints /tmp/s2p_5eLA33.png /tmp/s2p_3QqXRm.txt"
       ]
      },
      {
       "output_type": "stream",
       "stream": "stdout",
       "text": [
        "\n",
        "awk '{if (NR!=1) {print}}' /tmp/s2p_3QqXRm.txt > /tmp/s2p_eILfZ0.txt"
       ]
      },
      {
       "output_type": "stream",
       "stream": "stdout",
       "text": [
        "\n",
        "cp /tmp/s2p_eILfZ0.txt /tmp/s2p_3QqXRm.txt\n",
        "qauto /tmp/s2p_PC1CPd.tif /tmp/s2p_vt03dD.png 2> /dev/null\n",
        "sift_keypoints /tmp/s2p_vt03dD.png /tmp/s2p_CrkdNj.txt"
       ]
      },
      {
       "output_type": "stream",
       "stream": "stdout",
       "text": [
        "\n",
        "awk '{if (NR!=1) {print}}' /tmp/s2p_CrkdNj.txt > /tmp/s2p_ie5s5M.txt"
       ]
      },
      {
       "output_type": "stream",
       "stream": "stdout",
       "text": [
        "\n",
        "cp /tmp/s2p_ie5s5M.txt /tmp/s2p_CrkdNj.txt\n",
        "matching /tmp/s2p_3QqXRm.txt /tmp/s2p_CrkdNj.txt 1 0.400000 4 8 36 > /tmp/s2p_joZVHY.txt\n",
        "remaining sift matches"
       ]
      },
      {
       "output_type": "stream",
       "stream": "stdout",
       "text": [
        " 77\n",
        "Residual vertical disparities: max, min, mean. Should be zero ------\n",
        "0.471706542388 -0.389315897566 0.0226455764108\n",
        "gdal_translate -srcwin 20323 18539 434 421 'pleiades_data/images/toulouse/im02.tif' '/tmp/s2p_dg0RyR.tif'\n",
        "tiffcp /tmp/s2p_dg0RyR.tif /tmp/s2p_DvxWlo.tif 2> /dev/null\n",
        "imprintf \"%c\" '/tmp/s2p_DvxWlo.tif' > /tmp/s2p_pCS7eD.txt"
       ]
      },
      {
       "output_type": "stream",
       "stream": "stdout",
       "text": [
        "\n",
        "zoom_zeropadding /tmp/s2p_DvxWlo.tif /Users/carlo/code/s2p/python/../pleiades_data/idata_0009_MTF_89x89.tif /tmp/s2p_VAZeFT.tif\n",
        "fftconvolve /tmp/s2p_VAZeFT.tif /tmp/s2p_DvxWlo.tif /tmp/s2p_aEQY5z.tif"
       ]
      },
      {
       "output_type": "stream",
       "stream": "stdout",
       "text": [
        "\n",
        "homography /tmp/s2p_aEQY5z.tif /tmp/s2p_dns0TB.txt /tmp/s2p_JfYqUU.png /tmp/prison_2_left2.tif 0 355 370"
       ]
      },
      {
       "output_type": "stream",
       "stream": "stdout",
       "text": [
        "\n",
        "gdal_translate -srcwin 20322 17838 428 435 'pleiades_data/images/toulouse/im01.tif' '/tmp/s2p_Ip9TY0.tif'"
       ]
      },
      {
       "output_type": "stream",
       "stream": "stdout",
       "text": [
        "\n",
        "tiffcp /tmp/s2p_Ip9TY0.tif /tmp/s2p_02E7YP.tif 2> /dev/null\n",
        "imprintf \"%c\" '/tmp/s2p_02E7YP.tif' > /tmp/s2p_fiR_0s.txt\n",
        "zoom_zeropadding /tmp/s2p_02E7YP.tif /Users/carlo/code/s2p/python/../pleiades_data/idata_0009_MTF_89x89.tif /tmp/s2p_ZA6lNn.tif"
       ]
      },
      {
       "output_type": "stream",
       "stream": "stdout",
       "text": [
        "\n",
        "fftconvolve /tmp/s2p_ZA6lNn.tif /tmp/s2p_02E7YP.tif /tmp/s2p_qoVZdq.tif"
       ]
      },
      {
       "output_type": "stream",
       "stream": "stdout",
       "text": [
        "\n",
        "homography /tmp/s2p_qoVZdq.tif /tmp/s2p_BFnN_S.txt /tmp/s2p_LEqYMz.png /tmp/prison_2_left1.tif 0 355 370"
       ]
      },
      {
       "output_type": "stream",
       "stream": "stdout",
       "text": [
        "\n",
        "/Users/carlo/code/s2p/python/../3rdparty/stereo_hirschmuller_2008/callSGBM.sh /tmp/prison_2_left2.tif /tmp/prison_2_left1.tif /tmp/prison_2_left_disp.pgm /tmp/prison_2_left_mask.png -3 3 "
       ]
      },
      {
       "output_type": "stream",
       "stream": "stdout",
       "text": [
        "\n",
        "disp_to_h pleiades_data/rpc/toulouse/rpc02.xml pleiades_data/rpc/toulouse/rpc01.xml /tmp/s2p__hvogm.txt /tmp/s2p_0scy8k.txt /tmp/prison_2_left_disp.pgm /tmp/prison_2_left_mask.png /tmp/prison_2_left_height.tif /tmp/prison_2_left_rpc_err.tif"
       ]
      },
      {
       "output_type": "stream",
       "stream": "stdout",
       "text": [
        "\n",
        "gdal_translate -srcwin 20380 18600 320 300 'pleiades_data/images/toulouse/im02.tif' '/tmp/s2p_DRi6LU.tif'"
       ]
      },
      {
       "output_type": "stream",
       "stream": "stdout",
       "text": [
        "\n",
        "tiffcp /tmp/s2p_DRi6LU.tif /tmp/s2p_XMeQVz.tif 2> /dev/null\n",
        "synflow hom \"-0.19159499999999999 0.97901300000000002 61.310399999999845 -0.97901300000000002 -0.19159499999999999 370.76265999999669 0.0 0.0 1.0\" /tmp/s2p_XMeQVz.tif /dev/null - | BILINEAR=1 backflow - /tmp/prison_2_left_height.tif /tmp/prison_2_left_height_unrect.tif\n",
        "synflow hom \"-0.19159499999999999 0.97901300000000002 61.310399999999845 -0.97901300000000002 -0.19159499999999999 370.76265999999669 0.0 0.0 1.0\" /tmp/s2p_XMeQVz.tif /dev/null - | BILINEAR=1 backflow - /tmp/prison_2_left_mask.png /tmp/prison_2_left_mask_unrect.png"
       ]
      },
      {
       "output_type": "stream",
       "stream": "stdout",
       "text": [
        "\n",
        "v /tmp/prison_2_left2.tif /tmp/prison_2_left1.tif /tmp/prison_2_left_disp.pgm /tmp/prison_2_left_mask.png"
       ]
      },
      {
       "output_type": "stream",
       "stream": "stdout",
       "text": [
        "\n",
        "ROI x, y, w, h = 20380, 18600, 320, 300\n",
        "gdal_translate -srcwin 20380 18600 320 300 'pleiades_data/images/toulouse/im02.tif' '/tmp/s2p_Xn3Swn.tif'"
       ]
      },
      {
       "output_type": "stream",
       "stream": "stdout",
       "text": [
        "\n",
        "tiffcp /tmp/s2p_Xn3Swn.tif /tmp/s2p_2SUi81.tif 2> /dev/null\n",
        "gdal_translate -srcwin 20372 18638 330 350 'pleiades_data/images/toulouse/im03.tif' '/tmp/s2p_tXemNB.tif'\n",
        "tiffcp /tmp/s2p_tXemNB.tif /tmp/s2p_KhP5rj.tif 2> /dev/null"
       ]
      },
      {
       "output_type": "stream",
       "stream": "stdout",
       "text": [
        "\n",
        "qauto /tmp/s2p_2SUi81.tif /tmp/s2p_nZbkOb.png 2> /dev/null\n",
        "sift_keypoints /tmp/s2p_nZbkOb.png /tmp/s2p_xW8bMV.txt\n",
        "awk '{if (NR!=1) {print}}' /tmp/s2p_xW8bMV.txt > /tmp/s2p_S3_F9x.txt"
       ]
      },
      {
       "output_type": "stream",
       "stream": "stdout",
       "text": [
        "\n",
        "cp /tmp/s2p_S3_F9x.txt /tmp/s2p_xW8bMV.txt\n",
        "qauto /tmp/s2p_KhP5rj.tif /tmp/s2p_txCald.png 2> /dev/null\n",
        "sift_keypoints /tmp/s2p_txCald.png /tmp/s2p_AYDJVk.txt"
       ]
      },
      {
       "output_type": "stream",
       "stream": "stdout",
       "text": [
        "\n",
        "awk '{if (NR!=1) {print}}' /tmp/s2p_AYDJVk.txt > /tmp/s2p_UzKaJ3.txt"
       ]
      },
      {
       "output_type": "stream",
       "stream": "stdout",
       "text": [
        "\n",
        "cp /tmp/s2p_UzKaJ3.txt /tmp/s2p_AYDJVk.txt\n",
        "matching /tmp/s2p_xW8bMV.txt /tmp/s2p_AYDJVk.txt 1 0.400000 4 8 36 > /tmp/s2p_lcjXB2.txt\n",
        "ransac fmn 1000 .3 7 /tmp/s2p_B8BCJR.txt < /tmp/s2p_Z5Cq9Z.txt"
       ]
      },
      {
       "output_type": "stream",
       "stream": "stdout",
       "text": [
        "\n",
        "running optimization using 66 matches\n",
        "[ -1.83752211e-30  -2.14743571e-01  -4.18957696e-02  -3.96824497e-30]"
       ]
      },
      {
       "output_type": "stream",
       "stream": "stdout",
       "text": [
        " 8.96377938934 {'warnflag': 0, 'task': 'CONVERGENCE: REL_REDUCTION_OF_F_<=_FACTR*EPSMCH', 'grad': array([-0.00266009, -0.06032366,  0.01958629, -0.00036859]), 'nit': 4, 'funcalls': 23}\n",
        "step 1: find matches, and center them ------------------------------\n",
        "applying pointing error correction"
       ]
      },
      {
       "output_type": "stream",
       "stream": "stdout",
       "text": [
        "\n",
        "step 2: estimate F (8-points algorithm) ----------------------------\n",
        "step 3: compute rectifying homographies (loop-zhang algorithm) -----\n",
        "rectify_mindistortion /tmp/s2p_nLwoZJ.txt 320 300 /tmp/s2p_9_dUGq.txt /tmp/s2p_F5fmuT.txt > /dev/null\n",
        "max, min, mean rectification error on rpc matches ------------------"
       ]
      },
      {
       "output_type": "stream",
       "stream": "stdout",
       "text": [
        "\n",
        "0.00191976611541 3.54760220489e-06 0.000427485636968\n",
        "step 4: pull back top-left corner of the ROI in the origin ---------\n",
        "step 5: horizontal registration ------------------------------------\n",
        "gdal_translate -srcwin 20380 18600 320 300 'pleiades_data/images/toulouse/im02.tif' '/tmp/s2p_VNSsBA.tif'"
       ]
      },
      {
       "output_type": "stream",
       "stream": "stdout",
       "text": [
        "\n",
        "tiffcp /tmp/s2p_VNSsBA.tif /tmp/s2p_4tIiPo.tif 2> /dev/null\n",
        "gdal_translate -srcwin 20372 18638 330 350 'pleiades_data/images/toulouse/im03.tif' '/tmp/s2p_bXqGeu.tif'\n",
        "tiffcp /tmp/s2p_bXqGeu.tif /tmp/s2p_YKT_ne.tif 2> /dev/null"
       ]
      },
      {
       "output_type": "stream",
       "stream": "stdout",
       "text": [
        "\n",
        "qauto /tmp/s2p_4tIiPo.tif /tmp/s2p_Ja72Kv.png 2> /dev/null\n",
        "sift_keypoints /tmp/s2p_Ja72Kv.png /tmp/s2p_bcdTXX.txt"
       ]
      },
      {
       "output_type": "stream",
       "stream": "stdout",
       "text": [
        "\n",
        "awk '{if (NR!=1) {print}}' /tmp/s2p_bcdTXX.txt > /tmp/s2p_Y5TM5g.txt"
       ]
      },
      {
       "output_type": "stream",
       "stream": "stdout",
       "text": [
        "\n",
        "cp /tmp/s2p_Y5TM5g.txt /tmp/s2p_bcdTXX.txt\n",
        "qauto /tmp/s2p_YKT_ne.tif /tmp/s2p_CeSNDB.png 2> /dev/null\n",
        "sift_keypoints /tmp/s2p_CeSNDB.png /tmp/s2p_Oq93tk.txt"
       ]
      },
      {
       "output_type": "stream",
       "stream": "stdout",
       "text": [
        "\n",
        "awk '{if (NR!=1) {print}}' /tmp/s2p_Oq93tk.txt > /tmp/s2p_f_12Nk.txt"
       ]
      },
      {
       "output_type": "stream",
       "stream": "stdout",
       "text": [
        "\n",
        "cp /tmp/s2p_f_12Nk.txt /tmp/s2p_Oq93tk.txt\n",
        "matching /tmp/s2p_bcdTXX.txt /tmp/s2p_Oq93tk.txt 1 0.400000 4 8 36 > /tmp/s2p_xHVQ7H.txt\n",
        "remaining sift matches"
       ]
      },
      {
       "output_type": "stream",
       "stream": "stdout",
       "text": [
        " 76\n",
        "Residual vertical disparities: max, min, mean. Should be zero ------\n",
        "0.466317332903 -0.475750139574 -0.0132176013984\n",
        "gdal_translate -srcwin 20324 18540 431 419 'pleiades_data/images/toulouse/im02.tif' '/tmp/s2p_r_rtXR.tif'\n",
        "tiffcp /tmp/s2p_r_rtXR.tif /tmp/s2p_PVkKm1.tif 2> /dev/null"
       ]
      },
      {
       "output_type": "stream",
       "stream": "stdout",
       "text": [
        "\n",
        "imprintf \"%c\" '/tmp/s2p_PVkKm1.tif' > /tmp/s2p_ZBnN2V.txt\n",
        "zoom_zeropadding /tmp/s2p_PVkKm1.tif /Users/carlo/code/s2p/python/../pleiades_data/idata_0009_MTF_89x89.tif /tmp/s2p_FjDdwa.tif\n",
        "fftconvolve /tmp/s2p_FjDdwa.tif /tmp/s2p_PVkKm1.tif /tmp/s2p_FkLlfP.tif"
       ]
      },
      {
       "output_type": "stream",
       "stream": "stdout",
       "text": [
        "\n",
        "homography /tmp/s2p_FkLlfP.tif /tmp/s2p_WE4PMV.txt /tmp/s2p_8rdJHX.png /tmp/prison_2_right2.tif 0 354 370"
       ]
      },
      {
       "output_type": "stream",
       "stream": "stdout",
       "text": [
        "\n",
        "gdal_translate -srcwin 20323 18598 433 402 'pleiades_data/images/toulouse/im03.tif' '/tmp/s2p_3sKOpY.tif'"
       ]
      },
      {
       "output_type": "stream",
       "stream": "stdout",
       "text": [
        "\n",
        "tiffcp /tmp/s2p_3sKOpY.tif /tmp/s2p_94KK_H.tif 2> /dev/null\n",
        "imprintf \"%c\" '/tmp/s2p_94KK_H.tif' > /tmp/s2p__BGT63.txt\n",
        "zoom_zeropadding /tmp/s2p_94KK_H.tif /Users/carlo/code/s2p/python/../pleiades_data/idata_0009_MTF_89x89.tif /tmp/s2p_V_QrEh.tif"
       ]
      },
      {
       "output_type": "stream",
       "stream": "stdout",
       "text": [
        "\n",
        "fftconvolve /tmp/s2p_V_QrEh.tif /tmp/s2p_94KK_H.tif /tmp/s2p_bdoVK5.tif"
       ]
      },
      {
       "output_type": "stream",
       "stream": "stdout",
       "text": [
        "\n",
        "homography /tmp/s2p_bdoVK5.tif /tmp/s2p_GHjDen.txt /tmp/s2p_TIVOpp.png /tmp/prison_2_right3.tif 0 354 370"
       ]
      },
      {
       "output_type": "stream",
       "stream": "stdout",
       "text": [
        "\n",
        "/Users/carlo/code/s2p/python/../3rdparty/stereo_hirschmuller_2008/callSGBM.sh /tmp/prison_2_right2.tif /tmp/prison_2_right3.tif /tmp/prison_2_right_disp.pgm /tmp/prison_2_right_mask.png -4 4 "
       ]
      },
      {
       "output_type": "stream",
       "stream": "stdout",
       "text": [
        "\n",
        "disp_to_h pleiades_data/rpc/toulouse/rpc02.xml pleiades_data/rpc/toulouse/rpc03.xml /tmp/s2p__RGGoj.txt /tmp/s2p_aLt6XB.txt /tmp/prison_2_right_disp.pgm /tmp/prison_2_right_mask.png /tmp/prison_2_right_height.tif /tmp/prison_2_right_rpc_err.tif"
       ]
      },
      {
       "output_type": "stream",
       "stream": "stdout",
       "text": [
        "\n",
        "gdal_translate -srcwin 20380 18600 320 300 'pleiades_data/images/toulouse/im02.tif' '/tmp/s2p_PBkkDO.tif'"
       ]
      },
      {
       "output_type": "stream",
       "stream": "stdout",
       "text": [
        "\n",
        "tiffcp /tmp/s2p_PBkkDO.tif /tmp/s2p_Nb42VJ.tif 2> /dev/null\n",
        "synflow hom \"-0.18795799999999999 0.98019000000000001 60.146559999999226 -0.98019000000000001 -0.18795799999999999 370.04820000000473 0.0 0.0 1.0\" /tmp/s2p_Nb42VJ.tif /dev/null - | BILINEAR=1 backflow - /tmp/prison_2_right_height.tif /tmp/prison_2_right_height_unrect.tif\n",
        "synflow hom \"-0.18795799999999999 0.98019000000000001 60.146559999999226 -0.98019000000000001 -0.18795799999999999 370.04820000000473 0.0 0.0 1.0\" /tmp/s2p_Nb42VJ.tif /dev/null - | BILINEAR=1 backflow - /tmp/prison_2_right_mask.png /tmp/prison_2_right_mask_unrect.png"
       ]
      },
      {
       "output_type": "stream",
       "stream": "stdout",
       "text": [
        "\n",
        "v /tmp/prison_2_right2.tif /tmp/prison_2_right3.tif /tmp/prison_2_right_disp.pgm /tmp/prison_2_right_mask.png"
       ]
      },
      {
       "output_type": "stream",
       "stream": "stdout",
       "text": [
        "\n",
        "downsa e 4 /tmp/prison_2_left_height_unrect.tif /tmp/s2p_Z3ALuk.tif\n",
        "downsa e 4 /tmp/prison_2_right_height_unrect.tif /tmp/s2p_DufyfA.tif\n",
        "(6000,)\n",
        "(5843,)\n",
        "plambda /tmp/prison_2_right_height_unrect.tif \"x -1.281615 +\" > /tmp/s2p_lGkbvC.tif\n",
        "\n",
        "        plambda /tmp/prison_2_left_height_unrect.tif /tmp/s2p_lGkbvC.tif \"x isfinite y isfinite x y - fabs 1.000000 < x y + 2 / nan if x\n",
        "        if y if\" > /tmp/prison_2_height_merged.tif\n",
        "        "
       ]
      },
      {
       "output_type": "stream",
       "stream": "stdout",
       "text": [
        "\n",
        "rm /tmp/s2p_lGkbvC.tif"
       ]
      },
      {
       "output_type": "stream",
       "stream": "stdout",
       "text": [
        "\n",
        "rm /tmp/s2p_DufyfA.tif\n",
        "rm /tmp/s2p_Z3ALuk.tif\n",
        "rm /tmp/s2p_Nb42VJ.tif\n",
        "rm /tmp/s2p_PBkkDO.tif\n",
        "rm /tmp/s2p_aLt6XB.txt\n",
        "rm /tmp/s2p__RGGoj.txt\n",
        "rm /tmp/s2p_TIVOpp.png"
       ]
      },
      {
       "output_type": "stream",
       "stream": "stdout",
       "text": [
        "\n",
        "rm /tmp/s2p_GHjDen.txt\n",
        "rm /tmp/s2p_bdoVK5.tif\n",
        "rm /tmp/s2p_V_QrEh.tif\n",
        "rm /tmp/s2p__BGT63.txt\n",
        "rm /tmp/s2p_94KK_H.tif\n",
        "rm /tmp/s2p_3sKOpY.tif\n",
        "rm /tmp/s2p_8rdJHX.png"
       ]
      },
      {
       "output_type": "stream",
       "stream": "stdout",
       "text": [
        "\n",
        "rm /tmp/s2p_WE4PMV.txt\n",
        "rm /tmp/s2p_FkLlfP.tif\n",
        "rm /tmp/s2p_FjDdwa.tif\n",
        "rm /tmp/s2p_ZBnN2V.txt\n",
        "rm /tmp/s2p_PVkKm1.tif\n",
        "rm /tmp/s2p_r_rtXR.tif"
       ]
      },
      {
       "output_type": "stream",
       "stream": "stdout",
       "text": [
        "\n",
        "rm /tmp/s2p_xHVQ7H.txt\n",
        "rm /tmp/s2p_f_12Nk.txt\n",
        "rm /tmp/s2p_CeSNDB.png\n",
        "rm /tmp/s2p_Oq93tk.txt\n",
        "rm /tmp/s2p_Y5TM5g.txt"
       ]
      },
      {
       "output_type": "stream",
       "stream": "stdout",
       "text": [
        "\n",
        "rm /tmp/s2p_Ja72Kv.png\n",
        "rm /tmp/s2p_bcdTXX.txt\n",
        "rm /tmp/s2p_YKT_ne.tif\n",
        "rm /tmp/s2p_bXqGeu.tif\n",
        "rm /tmp/s2p_4tIiPo.tif"
       ]
      },
      {
       "output_type": "stream",
       "stream": "stdout",
       "text": [
        "\n",
        "rm /tmp/s2p_VNSsBA.tif\n",
        "rm /tmp/s2p_Hfkhwa.txt\n",
        "rm /tmp/s2p_wcqN5k.txt\n",
        "rm /tmp/s2p_F5fmuT.txt\n",
        "rm /tmp/s2p_9_dUGq.txt\n",
        "rm /tmp/s2p_nLwoZJ.txt"
       ]
      },
      {
       "output_type": "stream",
       "stream": "stdout",
       "text": [
        "\n",
        "rm /tmp/s2p_wVGZlU.txt\n",
        "rm /tmp/s2p_FQlymf.txt\n",
        "rm /tmp/s2p_B8BCJR.txt\n",
        "rm /tmp/s2p_Z5Cq9Z.txt\n",
        "rm /tmp/s2p_lcjXB2.txt\n",
        "rm /tmp/s2p_UzKaJ3.txt\n",
        "rm /tmp/s2p_txCald.png"
       ]
      },
      {
       "output_type": "stream",
       "stream": "stdout",
       "text": [
        "\n",
        "rm /tmp/s2p_AYDJVk.txt\n",
        "rm /tmp/s2p_S3_F9x.txt\n",
        "rm /tmp/s2p_nZbkOb.png\n",
        "rm /tmp/s2p_xW8bMV.txt\n",
        "rm /tmp/s2p_KhP5rj.tif\n",
        "rm /tmp/s2p_tXemNB.tif\n",
        "rm /tmp/s2p_2SUi81.tif"
       ]
      },
      {
       "output_type": "stream",
       "stream": "stdout",
       "text": [
        "\n",
        "rm /tmp/s2p_Xn3Swn.tif\n",
        "rm /tmp/s2p_7h7XQw.txt\n",
        "rm /tmp/s2p_1secAV.txt\n",
        "rm /tmp/s2p_XMeQVz.tif\n",
        "rm /tmp/s2p_DRi6LU.tif\n",
        "rm /tmp/s2p_0scy8k.txt"
       ]
      },
      {
       "output_type": "stream",
       "stream": "stdout",
       "text": [
        "\n",
        "rm /tmp/s2p__hvogm.txt\n",
        "rm /tmp/s2p_LEqYMz.png\n",
        "rm /tmp/s2p_BFnN_S.txt\n",
        "rm /tmp/s2p_qoVZdq.tif\n",
        "rm /tmp/s2p_ZA6lNn.tif"
       ]
      },
      {
       "output_type": "stream",
       "stream": "stdout",
       "text": [
        "\n",
        "rm /tmp/s2p_fiR_0s.txt\n",
        "rm /tmp/s2p_02E7YP.tif\n",
        "rm /tmp/s2p_Ip9TY0.tif\n",
        "rm /tmp/s2p_JfYqUU.png\n",
        "rm /tmp/s2p_dns0TB.txt\n",
        "rm /tmp/s2p_aEQY5z.tif\n",
        "rm /tmp/s2p_VAZeFT.tif"
       ]
      },
      {
       "output_type": "stream",
       "stream": "stdout",
       "text": [
        "\n",
        "rm /tmp/s2p_pCS7eD.txt\n",
        "rm /tmp/s2p_DvxWlo.tif\n",
        "rm /tmp/s2p_dg0RyR.tif\n",
        "rm /tmp/s2p_joZVHY.txt\n",
        "rm /tmp/s2p_ie5s5M.txt\n",
        "rm /tmp/s2p_vt03dD.png"
       ]
      },
      {
       "output_type": "stream",
       "stream": "stdout",
       "text": [
        "\n",
        "rm /tmp/s2p_CrkdNj.txt\n",
        "rm /tmp/s2p_eILfZ0.txt\n",
        "rm /tmp/s2p_5eLA33.png\n",
        "rm /tmp/s2p_3QqXRm.txt\n",
        "rm /tmp/s2p_PC1CPd.tif"
       ]
      },
      {
       "output_type": "stream",
       "stream": "stdout",
       "text": [
        "\n",
        "rm /tmp/s2p_f7hvoX.tif\n",
        "rm /tmp/s2p_PMxnHI.tif\n",
        "rm /tmp/s2p_uIb45E.tif\n",
        "rm /tmp/s2p_O3si2d.txt\n",
        "rm /tmp/s2p_y22cT_.txt\n",
        "rm /tmp/s2p_TbhTeD.txt"
       ]
      },
      {
       "output_type": "stream",
       "stream": "stdout",
       "text": [
        "\n",
        "rm /tmp/s2p_sZsWv2.txt\n",
        "rm /tmp/s2p_ge877k.txt\n",
        "rm /tmp/s2p_fj9tfx.txt\n",
        "rm /tmp/s2p_ADtzvZ.txt\n",
        "rm /tmp/s2p_7fYqRE.txt"
       ]
      },
      {
       "output_type": "stream",
       "stream": "stdout",
       "text": [
        "\n",
        "rm /tmp/s2p_S72Iag.txt\n",
        "rm /tmp/s2p_gfzkfU.txt\n",
        "rm /tmp/s2p_HpsQO3.txt\n",
        "rm /tmp/s2p_YouFtR.png\n",
        "rm /tmp/s2p_beQBaM.txt"
       ]
      },
      {
       "output_type": "stream",
       "stream": "stdout",
       "text": [
        "\n",
        "rm /tmp/s2p_GsA1lL.txt\n",
        "rm /tmp/s2p_TNuAwQ.png\n",
        "rm /tmp/s2p_bYrSbT.txt\n",
        "rm /tmp/s2p_t9yXit.tif\n",
        "rm /tmp/s2p_Mogk8e.tif"
       ]
      },
      {
       "output_type": "stream",
       "stream": "stdout",
       "text": [
        "\n",
        "rm /tmp/s2p_ZJKYrV.tif\n",
        "rm /tmp/s2p_lmScgE.tif\n",
        "rm /tmp/s2p_45C1Ke.txt\n",
        "rm /tmp/s2p_cs7oEM.txt\n",
        "ROI x, y, w, h = 20373, 18639, 329, 349\n",
        "ROI x, y, w, h = 20373, 18639, 329, 349\n",
        "gdal_translate -srcwin 20373 18639 329 349 'pleiades_data/images/toulouse/im03.tif' '/tmp/s2p_ile_b3.tif'"
       ]
      },
      {
       "output_type": "stream",
       "stream": "stdout",
       "text": [
        "\n",
        "tiffcp /tmp/s2p_ile_b3.tif /tmp/s2p_zFy4_t.tif 2> /dev/null\n",
        "gdal_translate -srcwin 20370 17811 340 464 'pleiades_data/images/toulouse/im01.tif' '/tmp/s2p_3xbMji.tif'\n",
        "tiffcp /tmp/s2p_3xbMji.tif /tmp/s2p_CufAkE.tif 2> /dev/null"
       ]
      },
      {
       "output_type": "stream",
       "stream": "stdout",
       "text": [
        "\n",
        "qauto /tmp/s2p_zFy4_t.tif /tmp/s2p_Af7TZE.png 2> /dev/null\n",
        "sift_keypoints /tmp/s2p_Af7TZE.png /tmp/s2p_ef1SmP.txt"
       ]
      },
      {
       "output_type": "stream",
       "stream": "stdout",
       "text": [
        "\n",
        "awk '{if (NR!=1) {print}}' /tmp/s2p_ef1SmP.txt > /tmp/s2p_kXZd9V.txt"
       ]
      },
      {
       "output_type": "stream",
       "stream": "stdout",
       "text": [
        "\n",
        "cp /tmp/s2p_kXZd9V.txt /tmp/s2p_ef1SmP.txt\n",
        "qauto /tmp/s2p_CufAkE.tif /tmp/s2p_ceqbPm.png 2> /dev/null\n",
        "sift_keypoints /tmp/s2p_ceqbPm.png /tmp/s2p_kR74n0.txt"
       ]
      },
      {
       "output_type": "stream",
       "stream": "stdout",
       "text": [
        "\n",
        "awk '{if (NR!=1) {print}}' /tmp/s2p_kR74n0.txt > /tmp/s2p_ESeZAR.txt"
       ]
      },
      {
       "output_type": "stream",
       "stream": "stdout",
       "text": [
        "\n",
        "cp /tmp/s2p_ESeZAR.txt /tmp/s2p_kR74n0.txt\n",
        "matching /tmp/s2p_ef1SmP.txt /tmp/s2p_kR74n0.txt 1 0.400000 4 8 36 > /tmp/s2p_Zeh4By.txt\n",
        "ransac fmn 1000 .3 7 /tmp/s2p_kUODdf.txt < /tmp/s2p_LO20ls.txt"
       ]
      },
      {
       "output_type": "stream",
       "stream": "stdout",
       "text": [
        "\n",
        "running optimization using 19 matches\n",
        "[  3.17134592e-24   9.00066461e-01   1.73383630e-01  -3.32250709e-23]"
       ]
      },
      {
       "output_type": "stream",
       "stream": "stdout",
       "text": [
        " 4.00535235699 {'warnflag': 2, 'task': 'ABNORMAL_TERMINATION_IN_LNSRCH', 'grad': array([-0.00156657,  0.97151975,  0.22659083,  0.00797051]), 'nit': 8, 'funcalls': 85}\n",
        "step 1: find matches, and center them ------------------------------\n",
        "applying pointing error correction"
       ]
      },
      {
       "output_type": "stream",
       "stream": "stdout",
       "text": [
        "\n",
        "step 2: estimate F (8-points algorithm) ----------------------------\n",
        "step 3: compute rectifying homographies (loop-zhang algorithm) -----\n",
        "rectify_mindistortion /tmp/s2p_sP2nIS.txt 329 349 /tmp/s2p_I0dQle.txt /tmp/s2p_Qmr154.txt > /dev/null\n",
        "max, min, mean rectification error on rpc matches ------------------"
       ]
      },
      {
       "output_type": "stream",
       "stream": "stdout",
       "text": [
        "\n",
        "0.00370198931893 9.53626016553e-06 0.0013230148219\n",
        "step 4: pull back top-left corner of the ROI in the origin ---------\n",
        "step 5: horizontal registration ------------------------------------\n",
        "gdal_translate -srcwin 20373 18639 329 349 'pleiades_data/images/toulouse/im03.tif' '/tmp/s2p_hrUS0h.tif'"
       ]
      },
      {
       "output_type": "stream",
       "stream": "stdout",
       "text": [
        "\n",
        "tiffcp /tmp/s2p_hrUS0h.tif /tmp/s2p_MkAV8V.tif 2> /dev/null\n",
        "gdal_translate -srcwin 20370 17811 340 464 'pleiades_data/images/toulouse/im01.tif' '/tmp/s2p_865Ezs.tif'\n",
        "tiffcp /tmp/s2p_865Ezs.tif /tmp/s2p_3Iywuv.tif 2> /dev/null"
       ]
      },
      {
       "output_type": "stream",
       "stream": "stdout",
       "text": [
        "\n",
        "qauto /tmp/s2p_MkAV8V.tif /tmp/s2p_nllKpT.png 2> /dev/null\n",
        "sift_keypoints /tmp/s2p_nllKpT.png /tmp/s2p_idxGXD.txt"
       ]
      },
      {
       "output_type": "stream",
       "stream": "stdout",
       "text": [
        "\n",
        "awk '{if (NR!=1) {print}}' /tmp/s2p_idxGXD.txt > /tmp/s2p_FDR1Hj.txt"
       ]
      },
      {
       "output_type": "stream",
       "stream": "stdout",
       "text": [
        "\n",
        "cp /tmp/s2p_FDR1Hj.txt /tmp/s2p_idxGXD.txt\n",
        "qauto /tmp/s2p_3Iywuv.tif /tmp/s2p_5P6vVw.png 2> /dev/null\n",
        "sift_keypoints /tmp/s2p_5P6vVw.png /tmp/s2p_bh3nZa.txt"
       ]
      },
      {
       "output_type": "stream",
       "stream": "stdout",
       "text": [
        "\n",
        "awk '{if (NR!=1) {print}}' /tmp/s2p_bh3nZa.txt > /tmp/s2p_AdCgcd.txt"
       ]
      },
      {
       "output_type": "stream",
       "stream": "stdout",
       "text": [
        "\n",
        "cp /tmp/s2p_AdCgcd.txt /tmp/s2p_bh3nZa.txt\n",
        "matching /tmp/s2p_idxGXD.txt /tmp/s2p_bh3nZa.txt 1 0.400000 4 8 36 > /tmp/s2p_6ONaC9.txt\n",
        "remaining sift matches"
       ]
      },
      {
       "output_type": "stream",
       "stream": "stdout",
       "text": [
        " 18\n",
        "Residual vertical disparities: max, min, mean. Should be zero ------\n",
        "0.405715133845 -0.339546283311 0.0234086109779\n",
        "gdal_translate -srcwin 20307 18576 461 474 'pleiades_data/images/toulouse/im03.tif' '/tmp/s2p_p53st6.tif'\n",
        "tiffcp /tmp/s2p_p53st6.tif /tmp/s2p_e9dX16.tif 2> /dev/null\n",
        "imprintf \"%c\" '/tmp/s2p_e9dX16.tif' > /tmp/s2p_XYOl9f.txt"
       ]
      },
      {
       "output_type": "stream",
       "stream": "stdout",
       "text": [
        "\n",
        "zoom_zeropadding /tmp/s2p_e9dX16.tif /Users/carlo/code/s2p/python/../pleiades_data/idata_0009_MTF_89x89.tif /tmp/s2p_pstVQc.tif\n",
        "fftconvolve /tmp/s2p_pstVQc.tif /tmp/s2p_e9dX16.tif /tmp/s2p_fyFWXF.tif"
       ]
      },
      {
       "output_type": "stream",
       "stream": "stdout",
       "text": [
        "\n",
        "homography /tmp/s2p_fyFWXF.tif /tmp/s2p_PQ_NIQ.txt /tmp/s2p_MiyjU2.png /tmp/prison_3_left3.tif 0 405 389"
       ]
      },
      {
       "output_type": "stream",
       "stream": "stdout",
       "text": [
        "\n",
        "gdal_translate -srcwin 20307 17816 453 505 'pleiades_data/images/toulouse/im01.tif' '/tmp/s2p_b8wCrx.tif'"
       ]
      },
      {
       "output_type": "stream",
       "stream": "stdout",
       "text": [
        "\n",
        "tiffcp /tmp/s2p_b8wCrx.tif /tmp/s2p_Y7O3Hk.tif 2> /dev/null\n",
        "imprintf \"%c\" '/tmp/s2p_Y7O3Hk.tif' > /tmp/s2p_RHM_GP.txt\n",
        "zoom_zeropadding /tmp/s2p_Y7O3Hk.tif /Users/carlo/code/s2p/python/../pleiades_data/idata_0009_MTF_89x89.tif /tmp/s2p_H9UG_A.tif"
       ]
      },
      {
       "output_type": "stream",
       "stream": "stdout",
       "text": [
        "\n",
        "fftconvolve /tmp/s2p_H9UG_A.tif /tmp/s2p_Y7O3Hk.tif /tmp/s2p_elB0et.tif"
       ]
      },
      {
       "output_type": "stream",
       "stream": "stdout",
       "text": [
        "\n",
        "homography /tmp/s2p_elB0et.tif /tmp/s2p_KH7bEk.txt /tmp/s2p_tNcdF2.png /tmp/prison_3_left1.tif 0 405 389"
       ]
      },
      {
       "output_type": "stream",
       "stream": "stdout",
       "text": [
        "\n",
        "/Users/carlo/code/s2p/python/../3rdparty/stereo_hirschmuller_2008/callSGBM.sh /tmp/prison_3_left3.tif /tmp/prison_3_left1.tif /tmp/prison_3_left_disp.pgm /tmp/prison_3_left_mask.png -4 4 "
       ]
      },
      {
       "output_type": "stream",
       "stream": "stdout",
       "text": [
        "\n",
        "disp_to_h pleiades_data/rpc/toulouse/rpc03.xml pleiades_data/rpc/toulouse/rpc01.xml /tmp/s2p_M78q4a.txt /tmp/s2p_Zavood.txt /tmp/prison_3_left_disp.pgm /tmp/prison_3_left_mask.png /tmp/prison_3_left_height.tif /tmp/prison_3_left_rpc_err.tif"
       ]
      },
      {
       "output_type": "stream",
       "stream": "stdout",
       "text": [
        "\n",
        "gdal_translate -srcwin 20373 18639 329 349 'pleiades_data/images/toulouse/im03.tif' '/tmp/s2p_wWgY_Z.tif'"
       ]
      },
      {
       "output_type": "stream",
       "stream": "stdout",
       "text": [
        "\n",
        "tiffcp /tmp/s2p_wWgY_Z.tif /tmp/s2p_En4JB_.tif 2> /dev/null\n",
        "synflow hom \"-0.19245599999999999 0.98083200000000004 63.31802400000015 -0.98083200000000004 -0.19245599999999999 389.86087199999747 0.0 0.0 1.0\" /tmp/s2p_En4JB_.tif /dev/null - | BILINEAR=1 backflow - /tmp/prison_3_left_height.tif /tmp/prison_3_left_height_unrect.tif\n",
        "synflow hom \"-0.19245599999999999 0.98083200000000004 63.31802400000015 -0.98083200000000004 -0.19245599999999999 389.86087199999747 0.0 0.0 1.0\" /tmp/s2p_En4JB_.tif /dev/null - | BILINEAR=1 backflow - /tmp/prison_3_left_mask.png /tmp/prison_3_left_mask_unrect.png"
       ]
      },
      {
       "output_type": "stream",
       "stream": "stdout",
       "text": [
        "\n",
        "v /tmp/prison_3_left3.tif /tmp/prison_3_left1.tif /tmp/prison_3_left_disp.pgm /tmp/prison_3_left_mask.png"
       ]
      },
      {
       "output_type": "stream",
       "stream": "stdout",
       "text": [
        "\n",
        "ROI x, y, w, h = 20373, 18639, 329, 349\n",
        "gdal_translate -srcwin 20373 18639 329 349 'pleiades_data/images/toulouse/im03.tif' '/tmp/s2p_U5sBHq.tif'"
       ]
      },
      {
       "output_type": "stream",
       "stream": "stdout",
       "text": [
        "\n",
        "tiffcp /tmp/s2p_U5sBHq.tif /tmp/s2p_ScVEna.tif 2> /dev/null\n",
        "gdal_translate -srcwin 20372 18545 336 411 'pleiades_data/images/toulouse/im02.tif' '/tmp/s2p_mWGQCd.tif'\n",
        "tiffcp /tmp/s2p_mWGQCd.tif /tmp/s2p_gXqlsi.tif 2> /dev/null"
       ]
      },
      {
       "output_type": "stream",
       "stream": "stdout",
       "text": [
        "\n",
        "qauto /tmp/s2p_ScVEna.tif /tmp/s2p_L5g2d7.png 2> /dev/null\n",
        "sift_keypoints /tmp/s2p_L5g2d7.png /tmp/s2p_lxMfhh.txt"
       ]
      },
      {
       "output_type": "stream",
       "stream": "stdout",
       "text": [
        "\n",
        "awk '{if (NR!=1) {print}}' /tmp/s2p_lxMfhh.txt > /tmp/s2p_7HYgBB.txt"
       ]
      },
      {
       "output_type": "stream",
       "stream": "stdout",
       "text": [
        "\n",
        "cp /tmp/s2p_7HYgBB.txt /tmp/s2p_lxMfhh.txt\n",
        "qauto /tmp/s2p_gXqlsi.tif /tmp/s2p_RTtDPl.png 2> /dev/null\n",
        "sift_keypoints /tmp/s2p_RTtDPl.png /tmp/s2p_nuOebh.txt"
       ]
      },
      {
       "output_type": "stream",
       "stream": "stdout",
       "text": [
        "\n",
        "awk '{if (NR!=1) {print}}' /tmp/s2p_nuOebh.txt > /tmp/s2p_zx852j.txt"
       ]
      },
      {
       "output_type": "stream",
       "stream": "stdout",
       "text": [
        "\n",
        "cp /tmp/s2p_zx852j.txt /tmp/s2p_nuOebh.txt\n",
        "matching /tmp/s2p_lxMfhh.txt /tmp/s2p_nuOebh.txt 1 0.400000 4 8 36 > /tmp/s2p_UII7cE.txt\n",
        "ransac fmn 1000 .3 7 /tmp/s2p_BsxPMP.txt < /tmp/s2p_O4Ae8c.txt"
       ]
      },
      {
       "output_type": "stream",
       "stream": "stdout",
       "text": [
        "\n",
        "running optimization using 84 matches\n",
        "[  1.00607958e-27   2.01263102e-01   3.86145713e-02   3.11210587e-27]"
       ]
      },
      {
       "output_type": "stream",
       "stream": "stdout",
       "text": [
        " 11.2527267941 {'warnflag': 0, 'task': 'CONVERGENCE: REL_REDUCTION_OF_F_<=_FACTR*EPSMCH', 'grad': array([-0.00371827,  1.7882531 ,  0.18818938, -0.01150173]), 'nit': 8, 'funcalls': 75}\n",
        "step 1: find matches, and center them ------------------------------\n",
        "applying pointing error correction"
       ]
      },
      {
       "output_type": "stream",
       "stream": "stdout",
       "text": [
        "\n",
        "step 2: estimate F (8-points algorithm) ----------------------------\n",
        "step 3: compute rectifying homographies (loop-zhang algorithm) -----\n",
        "rectify_mindistortion /tmp/s2p_TOdyfB.txt 329 349 /tmp/s2p_f3yF9T.txt /tmp/s2p_acvDiy.txt > /dev/null\n",
        "max, min, mean rectification error on rpc matches ------------------"
       ]
      },
      {
       "output_type": "stream",
       "stream": "stdout",
       "text": [
        "\n",
        "0.00178332864647 6.65839144176e-06 0.000475586110914\n",
        "step 4: pull back top-left corner of the ROI in the origin ---------\n",
        "step 5: horizontal registration ------------------------------------\n",
        "gdal_translate -srcwin 20373 18639 329 349 'pleiades_data/images/toulouse/im03.tif' '/tmp/s2p_X00ZAI.tif'"
       ]
      },
      {
       "output_type": "stream",
       "stream": "stdout",
       "text": [
        "\n",
        "tiffcp /tmp/s2p_X00ZAI.tif /tmp/s2p_KAFxVU.tif 2> /dev/null\n",
        "gdal_translate -srcwin 20372 18545 336 411 'pleiades_data/images/toulouse/im02.tif' '/tmp/s2p_Mf51qO.tif'\n",
        "tiffcp /tmp/s2p_Mf51qO.tif /tmp/s2p_xWlozl.tif 2> /dev/null"
       ]
      },
      {
       "output_type": "stream",
       "stream": "stdout",
       "text": [
        "\n",
        "qauto /tmp/s2p_KAFxVU.tif /tmp/s2p_FcSDus.png 2> /dev/null\n",
        "sift_keypoints /tmp/s2p_FcSDus.png /tmp/s2p_aM6aa5.txt"
       ]
      },
      {
       "output_type": "stream",
       "stream": "stdout",
       "text": [
        "\n",
        "awk '{if (NR!=1) {print}}' /tmp/s2p_aM6aa5.txt > /tmp/s2p_dPJqp_.txt"
       ]
      },
      {
       "output_type": "stream",
       "stream": "stdout",
       "text": [
        "\n",
        "cp /tmp/s2p_dPJqp_.txt /tmp/s2p_aM6aa5.txt\n",
        "qauto /tmp/s2p_xWlozl.tif /tmp/s2p_Qclt_m.png 2> /dev/null\n",
        "sift_keypoints /tmp/s2p_Qclt_m.png /tmp/s2p_eF3P2H.txt"
       ]
      },
      {
       "output_type": "stream",
       "stream": "stdout",
       "text": [
        "\n",
        "awk '{if (NR!=1) {print}}' /tmp/s2p_eF3P2H.txt > /tmp/s2p_BUh6rp.txt"
       ]
      },
      {
       "output_type": "stream",
       "stream": "stdout",
       "text": [
        "\n",
        "cp /tmp/s2p_BUh6rp.txt /tmp/s2p_eF3P2H.txt\n",
        "matching /tmp/s2p_aM6aa5.txt /tmp/s2p_eF3P2H.txt 1 0.400000 4 8 36 > /tmp/s2p_NJ4Dmr.txt\n",
        "remaining sift matches"
       ]
      },
      {
       "output_type": "stream",
       "stream": "stdout",
       "text": [
        " 98\n",
        "Residual vertical disparities: max, min, mean. Should be zero ------\n",
        "0.4926800078 -0.452416410112 0.025238537247\n",
        "gdal_translate -srcwin 20307 18577 460 473 'pleiades_data/images/toulouse/im03.tif' '/tmp/s2p_Rr2i2I.tif'\n",
        "tiffcp /tmp/s2p_Rr2i2I.tif /tmp/s2p_cjV_px.tif 2> /dev/null\n",
        "imprintf \"%c\" '/tmp/s2p_cjV_px.tif' > /tmp/s2p_IISY2R.txt"
       ]
      },
      {
       "output_type": "stream",
       "stream": "stdout",
       "text": [
        "\n",
        "zoom_zeropadding /tmp/s2p_cjV_px.tif /Users/carlo/code/s2p/python/../pleiades_data/idata_0009_MTF_89x89.tif /tmp/s2p_wKU7E9.tif\n",
        "fftconvolve /tmp/s2p_wKU7E9.tif /tmp/s2p_cjV_px.tif /tmp/s2p_c75vpT.tif"
       ]
      },
      {
       "output_type": "stream",
       "stream": "stdout",
       "text": [
        "\n",
        "homography /tmp/s2p_c75vpT.tif /tmp/s2p_7Hh_Mm.txt /tmp/s2p_KQ1yUl.png /tmp/prison_3_right3.tif 0 406 390"
       ]
      },
      {
       "output_type": "stream",
       "stream": "stdout",
       "text": [
        "\n",
        "gdal_translate -srcwin 20308 18518 458 491 'pleiades_data/images/toulouse/im02.tif' '/tmp/s2p_Kk3l0H.tif'"
       ]
      },
      {
       "output_type": "stream",
       "stream": "stdout",
       "text": [
        "\n",
        "tiffcp /tmp/s2p_Kk3l0H.tif /tmp/s2p_lVR48R.tif 2> /dev/null\n",
        "imprintf \"%c\" '/tmp/s2p_lVR48R.tif' > /tmp/s2p_Bs9yNm.txt\n",
        "zoom_zeropadding /tmp/s2p_lVR48R.tif /Users/carlo/code/s2p/python/../pleiades_data/idata_0009_MTF_89x89.tif /tmp/s2p_ojzsWQ.tif"
       ]
      },
      {
       "output_type": "stream",
       "stream": "stdout",
       "text": [
        "\n",
        "fftconvolve /tmp/s2p_ojzsWQ.tif /tmp/s2p_lVR48R.tif /tmp/s2p_ZBjhgY.tif"
       ]
      },
      {
       "output_type": "stream",
       "stream": "stdout",
       "text": [
        "\n",
        "homography /tmp/s2p_ZBjhgY.tif /tmp/s2p_66bTjK.txt /tmp/s2p_GYg7bS.png /tmp/prison_3_right2.tif 0 406 390"
       ]
      },
      {
       "output_type": "stream",
       "stream": "stdout",
       "text": [
        "\n",
        "/Users/carlo/code/s2p/python/../3rdparty/stereo_hirschmuller_2008/callSGBM.sh /tmp/prison_3_right3.tif /tmp/prison_3_right2.tif /tmp/prison_3_right_disp.pgm /tmp/prison_3_right_mask.png -4 6 "
       ]
      },
      {
       "output_type": "stream",
       "stream": "stdout",
       "text": [
        "\n",
        "disp_to_h pleiades_data/rpc/toulouse/rpc03.xml pleiades_data/rpc/toulouse/rpc02.xml /tmp/s2p_nY8Rxb.txt /tmp/s2p_7fgTbk.txt /tmp/prison_3_right_disp.pgm /tmp/prison_3_right_mask.png /tmp/prison_3_right_height.tif /tmp/prison_3_right_rpc_err.tif"
       ]
      },
      {
       "output_type": "stream",
       "stream": "stdout",
       "text": [
        "\n",
        "gdal_translate -srcwin 20373 18639 329 349 'pleiades_data/images/toulouse/im03.tif' '/tmp/s2p_27o7I3.tif'"
       ]
      },
      {
       "output_type": "stream",
       "stream": "stdout",
       "text": [
        "\n",
        "tiffcp /tmp/s2p_27o7I3.tif /tmp/s2p_CAWgz3.tif 2> /dev/null\n",
        "synflow hom \"-0.19106000000000001 0.98355499999999996 62.858740000001035 -0.98355499999999996 -0.19106000000000001 390.26953499999945 0.0 0.0 1.0\" /tmp/s2p_CAWgz3.tif /dev/null - | BILINEAR=1 backflow - /tmp/prison_3_right_height.tif /tmp/prison_3_right_height_unrect.tif\n",
        "synflow hom \"-0.19106000000000001 0.98355499999999996 62.858740000001035 -0.98355499999999996 -0.19106000000000001 390.26953499999945 0.0 0.0 1.0\" /tmp/s2p_CAWgz3.tif /dev/null - | BILINEAR=1 backflow - /tmp/prison_3_right_mask.png /tmp/prison_3_right_mask_unrect.png"
       ]
      },
      {
       "output_type": "stream",
       "stream": "stdout",
       "text": [
        "\n",
        "v /tmp/prison_3_right3.tif /tmp/prison_3_right2.tif /tmp/prison_3_right_disp.pgm /tmp/prison_3_right_mask.png"
       ]
      },
      {
       "output_type": "stream",
       "stream": "stdout",
       "text": [
        "\n",
        "downsa e 4 /tmp/prison_3_left_height_unrect.tif /tmp/s2p_gupPbt.tif\n",
        "downsa e 4 /tmp/prison_3_right_height_unrect.tif /tmp/s2p_IBYm60.tif\n",
        "(7134,)"
       ]
      },
      {
       "output_type": "stream",
       "stream": "stdout",
       "text": [
        "\n",
        "(5968,)\n",
        "plambda /tmp/prison_3_right_height_unrect.tif \"x -0.483898 +\" > /tmp/s2p_LxxzQU.tif\n",
        "\n",
        "        plambda /tmp/prison_3_left_height_unrect.tif /tmp/s2p_LxxzQU.tif \"x isfinite y isfinite x y - fabs 1.000000 < x y + 2 / nan if x\n",
        "        if y if\" > /tmp/prison_3_height_merged.tif\n",
        "        "
       ]
      },
      {
       "output_type": "stream",
       "stream": "stdout",
       "text": [
        "\n",
        "rm /tmp/s2p_LxxzQU.tif"
       ]
      },
      {
       "output_type": "stream",
       "stream": "stdout",
       "text": [
        "\n",
        "rm /tmp/s2p_IBYm60.tif\n",
        "rm /tmp/s2p_gupPbt.tif\n",
        "rm /tmp/s2p_CAWgz3.tif\n",
        "rm /tmp/s2p_27o7I3.tif\n",
        "rm /tmp/s2p_7fgTbk.txt\n",
        "rm /tmp/s2p_nY8Rxb.txt\n",
        "rm /tmp/s2p_GYg7bS.png"
       ]
      },
      {
       "output_type": "stream",
       "stream": "stdout",
       "text": [
        "\n",
        "rm /tmp/s2p_66bTjK.txt\n",
        "rm /tmp/s2p_ZBjhgY.tif\n",
        "rm /tmp/s2p_ojzsWQ.tif\n",
        "rm /tmp/s2p_Bs9yNm.txt\n",
        "rm /tmp/s2p_lVR48R.tif\n",
        "rm /tmp/s2p_Kk3l0H.tif"
       ]
      },
      {
       "output_type": "stream",
       "stream": "stdout",
       "text": [
        "\n",
        "rm /tmp/s2p_KQ1yUl.png\n",
        "rm /tmp/s2p_7Hh_Mm.txt\n",
        "rm /tmp/s2p_c75vpT.tif\n",
        "rm /tmp/s2p_wKU7E9.tif\n",
        "rm /tmp/s2p_IISY2R.txt\n",
        "rm /tmp/s2p_cjV_px.tif"
       ]
      },
      {
       "output_type": "stream",
       "stream": "stdout",
       "text": [
        "\n",
        "rm /tmp/s2p_Rr2i2I.tif\n",
        "rm /tmp/s2p_NJ4Dmr.txt\n",
        "rm /tmp/s2p_BUh6rp.txt\n",
        "rm /tmp/s2p_Qclt_m.png\n",
        "rm /tmp/s2p_eF3P2H.txt\n",
        "rm /tmp/s2p_dPJqp_.txt"
       ]
      },
      {
       "output_type": "stream",
       "stream": "stdout",
       "text": [
        "\n",
        "rm /tmp/s2p_FcSDus.png\n",
        "rm /tmp/s2p_aM6aa5.txt\n",
        "rm /tmp/s2p_xWlozl.tif\n",
        "rm /tmp/s2p_Mf51qO.tif\n",
        "rm /tmp/s2p_KAFxVU.tif\n",
        "rm /tmp/s2p_X00ZAI.tif"
       ]
      },
      {
       "output_type": "stream",
       "stream": "stdout",
       "text": [
        "\n",
        "rm /tmp/s2p_DIFN1i.txt\n",
        "rm /tmp/s2p_DO40ow.txt\n",
        "rm /tmp/s2p_acvDiy.txt\n",
        "rm /tmp/s2p_f3yF9T.txt\n",
        "rm /tmp/s2p_TOdyfB.txt\n",
        "rm /tmp/s2p_Vh1oUn.txt"
       ]
      },
      {
       "output_type": "stream",
       "stream": "stdout",
       "text": [
        "\n",
        "rm /tmp/s2p_YeaHfy.txt\n",
        "rm /tmp/s2p_BsxPMP.txt\n",
        "rm /tmp/s2p_O4Ae8c.txt\n",
        "rm /tmp/s2p_UII7cE.txt\n",
        "rm /tmp/s2p_zx852j.txt"
       ]
      },
      {
       "output_type": "stream",
       "stream": "stdout",
       "text": [
        "\n",
        "rm /tmp/s2p_RTtDPl.png\n",
        "rm /tmp/s2p_nuOebh.txt\n",
        "rm /tmp/s2p_7HYgBB.txt\n",
        "rm /tmp/s2p_L5g2d7.png\n",
        "rm /tmp/s2p_lxMfhh.txt\n",
        "rm /tmp/s2p_gXqlsi.tif"
       ]
      },
      {
       "output_type": "stream",
       "stream": "stdout",
       "text": [
        "\n",
        "rm /tmp/s2p_mWGQCd.tif\n",
        "rm /tmp/s2p_ScVEna.tif\n",
        "rm /tmp/s2p_U5sBHq.tif\n",
        "rm /tmp/s2p_Ddp6_a.txt\n",
        "rm /tmp/s2p_xfJ_RB.txt"
       ]
      },
      {
       "output_type": "stream",
       "stream": "stdout",
       "text": [
        "\n",
        "rm /tmp/s2p_En4JB_.tif\n",
        "rm /tmp/s2p_wWgY_Z.tif\n",
        "rm /tmp/s2p_Zavood.txt\n",
        "rm /tmp/s2p_M78q4a.txt\n",
        "rm /tmp/s2p_tNcdF2.png"
       ]
      },
      {
       "output_type": "stream",
       "stream": "stdout",
       "text": [
        "\n",
        "rm /tmp/s2p_KH7bEk.txt\n",
        "rm /tmp/s2p_elB0et.tif\n",
        "rm /tmp/s2p_H9UG_A.tif\n",
        "rm /tmp/s2p_RHM_GP.txt\n",
        "rm /tmp/s2p_Y7O3Hk.tif\n",
        "rm /tmp/s2p_b8wCrx.tif"
       ]
      },
      {
       "output_type": "stream",
       "stream": "stdout",
       "text": [
        "\n",
        "rm /tmp/s2p_MiyjU2.png\n",
        "rm /tmp/s2p_PQ_NIQ.txt\n",
        "rm /tmp/s2p_fyFWXF.tif\n",
        "rm /tmp/s2p_pstVQc.tif\n",
        "rm /tmp/s2p_XYOl9f.txt\n",
        "rm /tmp/s2p_e9dX16.tif"
       ]
      },
      {
       "output_type": "stream",
       "stream": "stdout",
       "text": [
        "\n",
        "rm /tmp/s2p_p53st6.tif\n",
        "rm /tmp/s2p_6ONaC9.txt\n",
        "rm /tmp/s2p_AdCgcd.txt\n",
        "rm /tmp/s2p_5P6vVw.png\n",
        "rm /tmp/s2p_bh3nZa.txt\n",
        "rm /tmp/s2p_FDR1Hj.txt\n",
        "rm /tmp/s2p_nllKpT.png"
       ]
      },
      {
       "output_type": "stream",
       "stream": "stdout",
       "text": [
        "\n",
        "rm /tmp/s2p_idxGXD.txt\n",
        "rm /tmp/s2p_3Iywuv.tif\n",
        "rm /tmp/s2p_865Ezs.tif\n",
        "rm /tmp/s2p_MkAV8V.tif\n",
        "rm /tmp/s2p_hrUS0h.tif\n",
        "rm /tmp/s2p_N2C6GU.txt"
       ]
      },
      {
       "output_type": "stream",
       "stream": "stdout",
       "text": [
        "\n",
        "rm /tmp/s2p_ko9wNr.txt\n",
        "rm /tmp/s2p_Qmr154.txt\n",
        "rm /tmp/s2p_I0dQle.txt\n",
        "rm /tmp/s2p_sP2nIS.txt\n",
        "rm /tmp/s2p_JM8Zo5.txt\n",
        "rm /tmp/s2p_MeDm7u.txt\n",
        "rm /tmp/s2p_kUODdf.txt"
       ]
      },
      {
       "output_type": "stream",
       "stream": "stdout",
       "text": [
        "\n",
        "rm /tmp/s2p_LO20ls.txt\n",
        "rm /tmp/s2p_Zeh4By.txt\n",
        "rm /tmp/s2p_ESeZAR.txt\n",
        "rm /tmp/s2p_ceqbPm.png\n",
        "rm /tmp/s2p_kR74n0.txt\n",
        "rm /tmp/s2p_kXZd9V.txt"
       ]
      },
      {
       "output_type": "stream",
       "stream": "stdout",
       "text": [
        "\n",
        "rm /tmp/s2p_Af7TZE.png\n",
        "rm /tmp/s2p_ef1SmP.txt\n",
        "rm /tmp/s2p_CufAkE.tif\n",
        "rm /tmp/s2p_3xbMji.tif\n",
        "rm /tmp/s2p_zFy4_t.tif\n",
        "rm /tmp/s2p_ile_b3.tif\n",
        "rm /tmp/s2p_zhFHs9.txt"
       ]
      },
      {
       "output_type": "stream",
       "stream": "stdout",
       "text": [
        "\n",
        "rm /tmp/s2p_p2vqsy.txt\n"
       ]
      }
     ],
     "prompt_number": 8
    },
    {
     "cell_type": "markdown",
     "metadata": {},
     "source": [
      "Generate the clouds"
     ]
    },
    {
     "cell_type": "code",
     "collapsed": false,
     "input": [
      "reload(main_script), reload(main_script.triangulation)"
     ],
     "language": "python",
     "metadata": {},
     "outputs": [
      {
       "output_type": "pyout",
       "prompt_number": 23,
       "text": [
        "(<module 'main_script' from 'main_script.pyc'>,\n",
        " <module 'python.triangulation' from 'python/triangulation.pyc'>)"
       ]
      }
     ],
     "prompt_number": 23
    },
    {
     "cell_type": "code",
     "collapsed": false,
     "input": [
      "main_script.generate_cloud('toulouse', 'prison_1_th3', x1, y1, w1, h1, dem1, 1, 160000, 5400000)\n",
      "main_script.generate_cloud('toulouse', 'prison_2_th3', x2, y2, w2, h2, dem2, 2, 160000, 5400000)\n",
      "main_script.generate_cloud('toulouse', 'prison_3_th3', x3, y3, w3, h3, dem3, 3, 160000, 5400000)"
     ],
     "language": "python",
     "metadata": {},
     "outputs": [
      {
       "output_type": "stream",
       "stream": "stdout",
       "text": [
        "gdal_translate -srcwin 20378 17866 324 354 'pleiades_data/images/toulouse/im01.tif' '/tmp/s2p_nShsJn.tif'\n",
        "tiffcp /tmp/s2p_nShsJn.tif /tmp/s2p_HjbwNa.tif 2> /dev/null\n",
        "cp /tmp/s2p_HjbwNa.tif /tmp/prison_1_th3_roi_ref01.tif"
       ]
      },
      {
       "output_type": "stream",
       "stream": "stdout",
       "text": [
        "\n",
        "imprintf \"%w %h\" '/tmp/prison_1_th3_roi_ref01.tif' > /tmp/s2p_ZSKTIV.txt\n",
        "gdal_translate -srcwin 5095 4466 82 89 'pleiades_data/images/toulouse/im01_color.tif' '/tmp/s2p_0ye4Uf.tif'\n",
        "tiffcp /tmp/s2p_0ye4Uf.tif /tmp/s2p_Kx6frd.tif 2> /dev/null"
       ]
      },
      {
       "output_type": "stream",
       "stream": "stdout",
       "text": [
        "\n",
        "imprintf \"%w %h\" '/tmp/s2p_Kx6frd.tif' > /tmp/s2p_XSB7l_.txt\n",
        "zoom_2d /tmp/s2p_Kx6frd.tif /tmp/s2p_oXSUg9.tif 328 356\n",
        "crop /tmp/s2p_oXSUg9.tif /tmp/s2p_QXgQWE.tif -2 2 324 354"
       ]
      },
      {
       "output_type": "stream",
       "stream": "stdout",
       "text": [
        "\n",
        "imprintf \"%w %h\" '/tmp/prison_1_th3_roi_ref01.tif' > /tmp/s2p_ovYi_q.txt"
       ]
      },
      {
       "output_type": "stream",
       "stream": "stdout",
       "text": [
        "\n",
        "imprintf \"%w %h\" '/tmp/s2p_QXgQWE.tif' > /tmp/s2p_jfKSJy.txt\n",
        "plambda /tmp/s2p_QXgQWE.tif \"x[0] x[1] 0.9 * x[3] 0.1 * + x[2] join3\" | iion - /tmp/s2p_fXr3oE.tif\n",
        "qauto /tmp/s2p_fXr3oE.tif /tmp/s2p_Qd1_DI.png 2> /dev/null"
       ]
      },
      {
       "output_type": "stream",
       "stream": "stdout",
       "text": [
        "\n",
        "qauto /tmp/prison_1_th3_roi_ref01.tif /tmp/s2p_MuVGe8.png 2> /dev/null"
       ]
      },
      {
       "output_type": "stream",
       "stream": "stdout",
       "text": [
        "\n",
        "plambda /tmp/s2p_MuVGe8.png /tmp/s2p_Qd1_DI.png \"dup split + + / *\" | qeasy 0 85 - /tmp/prison_1_th3_roi_color_ref01.tif\n",
        "colormesh /tmp/prison_1_th3_roi_color_ref01.tif /tmp/prison_1_height_merged.tif pleiades_data/rpc/toulouse/rpc01.xml /tmp/s2p_f__tBh.txt /tmp/prison_1_th3_cloud.ply 160000 5400000"
       ]
      },
      {
       "output_type": "stream",
       "stream": "stdout",
       "text": [
        "\n",
        "v /tmp/prison_1_th3_roi_ref01.tif /tmp/prison_1_th3_roi_color_ref01.tif /tmp/prison_1_height_merged.tif"
       ]
      },
      {
       "output_type": "stream",
       "stream": "stdout",
       "text": [
        "\n",
        "open /tmp/prison_1_th3_cloud.ply\n",
        "gdal_translate -srcwin 20380 18600 320 300 'pleiades_data/images/toulouse/im02.tif' '/tmp/s2p_YiMcxS.tif'\n",
        "tiffcp /tmp/s2p_YiMcxS.tif /tmp/s2p_NkMcjo.tif 2> /dev/null\n",
        "cp /tmp/s2p_NkMcjo.tif /tmp/prison_2_th3_roi_ref02.tif\n",
        "imprintf \"%w %h\" '/tmp/prison_2_th3_roi_ref02.tif' > /tmp/s2p_j_zpfU.txt"
       ]
      },
      {
       "output_type": "stream",
       "stream": "stdout",
       "text": [
        "\n",
        "gdal_translate -srcwin 5096 4650 80 75 'pleiades_data/images/toulouse/im02_color.tif' '/tmp/s2p_HQx8ri.tif'\n",
        "tiffcp /tmp/s2p_HQx8ri.tif /tmp/s2p_8gaaZs.tif 2> /dev/null\n",
        "imprintf \"%w %h\" '/tmp/s2p_8gaaZs.tif' > /tmp/s2p_iiQ_d0.txt"
       ]
      },
      {
       "output_type": "stream",
       "stream": "stdout",
       "text": [
        "\n",
        "zoom_2d /tmp/s2p_8gaaZs.tif /tmp/s2p_3ngIwz.tif 320 300\n",
        "crop /tmp/s2p_3ngIwz.tif /tmp/s2p_ZvALCM.tif -4 0 320 300"
       ]
      },
      {
       "output_type": "stream",
       "stream": "stdout",
       "text": [
        "\n",
        "imprintf \"%w %h\" '/tmp/prison_2_th3_roi_ref02.tif' > /tmp/s2p_D2926H.txt"
       ]
      },
      {
       "output_type": "stream",
       "stream": "stdout",
       "text": [
        "\n",
        "imprintf \"%w %h\" '/tmp/s2p_ZvALCM.tif' > /tmp/s2p_DYFvG1.txt\n",
        "plambda /tmp/s2p_ZvALCM.tif \"x[0] x[1] 0.9 * x[3] 0.1 * + x[2] join3\" | iion - /tmp/s2p_ePIhoU.tif\n",
        "qauto /tmp/s2p_ePIhoU.tif /tmp/s2p_Rt4g10.png 2> /dev/null"
       ]
      },
      {
       "output_type": "stream",
       "stream": "stdout",
       "text": [
        "\n",
        "qauto /tmp/prison_2_th3_roi_ref02.tif /tmp/s2p_H_UNBI.png 2> /dev/null"
       ]
      },
      {
       "output_type": "stream",
       "stream": "stdout",
       "text": [
        "\n",
        "plambda /tmp/s2p_H_UNBI.png /tmp/s2p_Rt4g10.png \"dup split + + / *\" | qeasy 0 85 - /tmp/prison_2_th3_roi_color_ref02.tif\n",
        "colormesh /tmp/prison_2_th3_roi_color_ref02.tif /tmp/prison_2_height_merged.tif pleiades_data/rpc/toulouse/rpc02.xml /tmp/s2p_MXzxor.txt /tmp/prison_2_th3_cloud.ply 160000 5400000"
       ]
      },
      {
       "output_type": "stream",
       "stream": "stdout",
       "text": [
        "\n",
        "v /tmp/prison_2_th3_roi_ref02.tif /tmp/prison_2_th3_roi_color_ref02.tif /tmp/prison_2_height_merged.tif"
       ]
      },
      {
       "output_type": "stream",
       "stream": "stdout",
       "text": [
        "\n",
        "open /tmp/prison_2_th3_cloud.ply\n",
        "gdal_translate -srcwin 20373 18639 329 349 'pleiades_data/images/toulouse/im03.tif' '/tmp/s2p_TolaGe.tif'\n",
        "tiffcp /tmp/s2p_TolaGe.tif /tmp/s2p_LKY7hn.tif 2> /dev/null\n",
        "cp /tmp/s2p_LKY7hn.tif /tmp/prison_3_th3_roi_ref03.tif"
       ]
      },
      {
       "output_type": "stream",
       "stream": "stdout",
       "text": [
        "\n",
        "imprintf \"%w %h\" '/tmp/prison_3_th3_roi_ref03.tif' > /tmp/s2p_yGTUcU.txt\n",
        "gdal_translate -srcwin 5094 4659 83 88 'pleiades_data/images/toulouse/im03_color.tif' '/tmp/s2p_cUvpHI.tif'\n",
        "tiffcp /tmp/s2p_cUvpHI.tif /tmp/s2p_j0BJ4O.tif 2> /dev/null"
       ]
      },
      {
       "output_type": "stream",
       "stream": "stdout",
       "text": [
        "\n",
        "imprintf \"%w %h\" '/tmp/s2p_j0BJ4O.tif' > /tmp/s2p_6IneHg.txt\n",
        "zoom_2d /tmp/s2p_j0BJ4O.tif /tmp/s2p_1Oayks.tif 332 352\n",
        "crop /tmp/s2p_1Oayks.tif /tmp/s2p_HDJSHR.tif -3 3 329 349"
       ]
      },
      {
       "output_type": "stream",
       "stream": "stdout",
       "text": [
        "\n",
        "imprintf \"%w %h\" '/tmp/prison_3_th3_roi_ref03.tif' > /tmp/s2p_mrT9Xa.txt"
       ]
      },
      {
       "output_type": "stream",
       "stream": "stdout",
       "text": [
        "\n",
        "imprintf \"%w %h\" '/tmp/s2p_HDJSHR.tif' > /tmp/s2p_2jlvUx.txt\n",
        "plambda /tmp/s2p_HDJSHR.tif \"x[0] x[1] 0.9 * x[3] 0.1 * + x[2] join3\" | iion - /tmp/s2p_hzF2ZN.tif\n",
        "qauto /tmp/s2p_hzF2ZN.tif /tmp/s2p_rQJXUy.png 2> /dev/null"
       ]
      },
      {
       "output_type": "stream",
       "stream": "stdout",
       "text": [
        "\n",
        "qauto /tmp/prison_3_th3_roi_ref03.tif /tmp/s2p_tnxeFj.png 2> /dev/null"
       ]
      },
      {
       "output_type": "stream",
       "stream": "stdout",
       "text": [
        "\n",
        "plambda /tmp/s2p_tnxeFj.png /tmp/s2p_rQJXUy.png \"dup split + + / *\" | qeasy 0 85 - /tmp/prison_3_th3_roi_color_ref03.tif\n",
        "colormesh /tmp/prison_3_th3_roi_color_ref03.tif /tmp/prison_3_height_merged.tif pleiades_data/rpc/toulouse/rpc03.xml /tmp/s2p_w8CVO0.txt /tmp/prison_3_th3_cloud.ply 160000 5400000"
       ]
      },
      {
       "output_type": "stream",
       "stream": "stdout",
       "text": [
        "\n",
        "v /tmp/prison_3_th3_roi_ref03.tif /tmp/prison_3_th3_roi_color_ref03.tif /tmp/prison_3_height_merged.tif"
       ]
      },
      {
       "output_type": "stream",
       "stream": "stdout",
       "text": [
        "\n",
        "open /tmp/prison_3_th3_cloud.ply\n"
       ]
      }
     ],
     "prompt_number": 24
    },
    {
     "cell_type": "code",
     "collapsed": true,
     "input": [
      "d"
     ],
     "language": "python",
     "metadata": {},
     "outputs": []
    }
   ],
   "metadata": {}
  }
 ]
}