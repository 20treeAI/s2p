{
 "metadata": {
  "name": "pleiades_fusion_julie"
 }, 
 "nbformat": 2, 
 "worksheets": [
  {
   "cells": [
    {
     "cell_type": "code", 
     "collapsed": false, 
     "input": [
      "!cd /home/carlo/code/s2p", 
      "import main_script", 
      "from python import rpc_model, rpc_utils", 
      "import numpy as np"
     ], 
     "language": "python", 
     "outputs": [], 
     "prompt_number": 13
    }, 
    {
     "cell_type": "code", 
     "collapsed": true, 
     "input": [
      "im1 = 'pleiades_data/images/toulouse/im01.tif'", 
      "im2 = 'pleiades_data/images/toulouse/im02.tif'", 
      "im3 = 'pleiades_data/images/toulouse/im03.tif'", 
      "rpc1 = rpc_model.RPCModel('pleiades_data/rpc/toulouse/rpc01.xml')", 
      "rpc2 = rpc_model.RPCModel('pleiades_data/rpc/toulouse/rpc02.xml')", 
      "rpc3 = rpc_model.RPCModel('pleiades_data/rpc/toulouse/rpc03.xml')"
     ], 
     "language": "python", 
     "outputs": [], 
     "prompt_number": 14
    }, 
    {
     "cell_type": "markdown", 
     "source": [
      "Define the ROI in the central image (im2), then find corresponding ROIs in the other images"
     ]
    }, 
    {
     "cell_type": "code", 
     "collapsed": false, 
     "input": [
      "x, y, w, h = 20380, 18600, 320, 300", 
      "x1, y1, w1, h1 = np.round(rpc_utils.corresponding_roi(rpc2, rpc1, x, y, w, h))", 
      "x3, y3, w3, h3 = np.round(rpc_utils.corresponding_roi(rpc2, rpc3, x, y, w, h))", 
      "x2, y2, w2, h2 = x, y, w, h"
     ], 
     "language": "python", 
     "outputs": [], 
     "prompt_number": 15
    }, 
    {
     "cell_type": "code", 
     "collapsed": false, 
     "input": [
      "print x1, y1, w1, h1", 
      "print x3, y3, w3, h3"
     ], 
     "language": "python", 
     "outputs": [
      {
       "output_type": "stream", 
       "stream": "stdout", 
       "text": [
        "20378.0"
       ]
      }, 
      {
       "output_type": "stream", 
       "stream": "stdout", 
       "text": [
        " 17866.0 324.0 354.0", 
        "20373.0 18639.0 329.0 349.0"
       ]
      }
     ], 
     "prompt_number": 16
    }, 
    {
     "cell_type": "markdown", 
     "source": [
      "Run the block-matching and triangulation on triplets, using each one of the three available reference images"
     ]
    }, 
    {
     "cell_type": "code", 
     "collapsed": true, 
     "input": [
      "dem1 = main_script.process_triplet('toulouse', 'prison_1', x1, y1, w1, h1, 1, 2, 3)", 
      "dem2 = main_script.process_triplet('toulouse', 'prison_2', x2, y2, w2, h2, 2, 1, 3)", 
      "dem3 = main_script.process_triplet('toulouse', 'prison_3', x3, y3, w3, h3, 3, 1, 2)"
     ], 
     "language": "python", 
     "outputs": [
      {
       "output_type": "stream", 
       "stream": "stdout", 
       "text": [
        "ROI x, y, w, h = 20378, 17866, 324, 354", 
        "ROI x, y, w, h = 20378, 17866, 324, 354", 
        "gdal_translate -srcwin 20378 17866 324 354 'pleiades_data/images/toulouse/im01.tif' '/tmp/s2p_NQO4Ch.tif'"
       ]
      }, 
      {
       "output_type": "stream", 
       "stream": "stdout", 
       "text": [
        "", 
        "tiffcp /tmp/s2p_NQO4Ch.tif /tmp/s2p_iNaoO7.tif 2> /dev/null", 
        "gdal_translate -srcwin 20371 18545 337 410 'pleiades_data/images/toulouse/im02.tif' '/tmp/s2p_jIolnx.tif'", 
        "tiffcp /tmp/s2p_jIolnx.tif /tmp/s2p_bavOsk.tif 2> /dev/null"
       ]
      }, 
      {
       "output_type": "stream", 
       "stream": "stdout", 
       "text": [
        "", 
        "qauto /tmp/s2p_iNaoO7.tif /tmp/s2p_45MUyn.png 2> /dev/null", 
        "sift_keypoints /tmp/s2p_45MUyn.png /tmp/s2p_sxUheB.txt", 
        "awk '{if (NR!=1) {print}}' /tmp/s2p_sxUheB.txt > /tmp/s2p_9j3DX4.txt"
       ]
      }, 
      {
       "output_type": "stream", 
       "stream": "stdout", 
       "text": [
        "", 
        "cp /tmp/s2p_9j3DX4.txt /tmp/s2p_sxUheB.txt", 
        "qauto /tmp/s2p_bavOsk.tif /tmp/s2p_ENLUDn.png 2> /dev/null", 
        "sift_keypoints /tmp/s2p_ENLUDn.png /tmp/s2p_EEUc3T.txt"
       ]
      }, 
      {
       "output_type": "stream", 
       "stream": "stdout", 
       "text": [
        "", 
        "awk '{if (NR!=1) {print}}' /tmp/s2p_EEUc3T.txt > /tmp/s2p_pyxkdU.txt"
       ]
      }, 
      {
       "output_type": "stream", 
       "stream": "stdout", 
       "text": [
        "", 
        "cp /tmp/s2p_pyxkdU.txt /tmp/s2p_EEUc3T.txt", 
        "matching /tmp/s2p_sxUheB.txt /tmp/s2p_EEUc3T.txt 1 0.400000 4 8 36 > /tmp/s2p_yzXzq9.txt", 
        "ransac fmn 1000 .3 7 /tmp/s2p_FPncQZ.txt < /tmp/s2p_P5kv6j.txt"
       ]
      }, 
      {
       "output_type": "stream", 
       "stream": "stdout", 
       "text": [
        "", 
        "running optimization using 86 matches", 
        "[  5.02607046e-26  -8.71339045e-01  -1.71594814e-01  -4.23144049e-26]"
       ]
      }, 
      {
       "output_type": "stream", 
       "stream": "stdout", 
       "text": [
        " 12.5617080215 {'warnflag': 0, 'task': 'CONVERGENCE: REL_REDUCTION_OF_F <= FACTR*EPSMCH', 'grad': array([-0.00592983,  1.10002993, -0.49143427, -0.0052955 ]), 'funcalls': 53}", 
        "step 1: find matches, and center them ------------------------------", 
        "applying pointing error correction"
       ]
      }, 
      {
       "output_type": "stream", 
       "stream": "stdout", 
       "text": [
        "", 
        "step 2: estimate F (8-points algorithm) ----------------------------", 
        "step 3: compute rectifying homographies (loop-zhang algorithm) -----", 
        "rectify_mindistortion /tmp/s2p_pZe3hI.txt 324 354 /tmp/s2p_pZb2DH.txt /tmp/s2p_4_iQGf.txt > /dev/null", 
        "max, min, mean rectification error on rpc matches ------------------"
       ]
      }, 
      {
       "output_type": "stream", 
       "stream": "stdout", 
       "text": [
        "", 
        "0.00420047462092 1.0150527487e-05 0.00162018056718", 
        "step 4: pull back top-left corner of the ROI in the origin ---------", 
        "step 5: horizontal registration ------------------------------------", 
        "gdal_translate -srcwin 20378 17866 324 354 'pleiades_data/images/toulouse/im01.tif' '/tmp/s2p_aao93p.tif'"
       ]
      }, 
      {
       "output_type": "stream", 
       "stream": "stdout", 
       "text": [
        "", 
        "tiffcp /tmp/s2p_aao93p.tif /tmp/s2p_EBP5hI.tif 2> /dev/null", 
        "gdal_translate -srcwin 20371 18545 337 410 'pleiades_data/images/toulouse/im02.tif' '/tmp/s2p_TN33sQ.tif'", 
        "tiffcp /tmp/s2p_TN33sQ.tif /tmp/s2p_Q1yD1F.tif 2> /dev/null"
       ]
      }, 
      {
       "output_type": "stream", 
       "stream": "stdout", 
       "text": [
        "", 
        "qauto /tmp/s2p_EBP5hI.tif /tmp/s2p_0V7oXi.png 2> /dev/null", 
        "sift_keypoints /tmp/s2p_0V7oXi.png /tmp/s2p_2T7jqh.txt", 
        "awk '{if (NR!=1) {print}}' /tmp/s2p_2T7jqh.txt > /tmp/s2p_leKpjk.txt"
       ]
      }, 
      {
       "output_type": "stream", 
       "stream": "stdout", 
       "text": [
        "", 
        "cp /tmp/s2p_leKpjk.txt /tmp/s2p_2T7jqh.txt", 
        "qauto /tmp/s2p_Q1yD1F.tif /tmp/s2p_o9EYSk.png 2> /dev/null", 
        "sift_keypoints /tmp/s2p_o9EYSk.png /tmp/s2p_EF8vHB.txt"
       ]
      }, 
      {
       "output_type": "stream", 
       "stream": "stdout", 
       "text": [
        "", 
        "awk '{if (NR!=1) {print}}' /tmp/s2p_EF8vHB.txt > /tmp/s2p__p4cT5.txt"
       ]
      }, 
      {
       "output_type": "stream", 
       "stream": "stdout", 
       "text": [
        "", 
        "cp /tmp/s2p__p4cT5.txt /tmp/s2p_EF8vHB.txt", 
        "matching /tmp/s2p_2T7jqh.txt /tmp/s2p_EF8vHB.txt 1 0.400000 4 8 36 > /tmp/s2p_IW5TQE.txt", 
        "remaining sift matches"
       ]
      }, 
      {
       "output_type": "stream", 
       "stream": "stdout", 
       "text": [
        " 106", 
        "Residual vertical disparities: max, min, mean. Should be zero ------", 
        "0.434113594382 -0.496958758134 -0.0280371394255", 
        "gdal_translate -srcwin 20311 17805 457 476 'pleiades_data/images/toulouse/im01.tif' '/tmp/s2p_sAvSZR.tif'", 
        "tiffcp /tmp/s2p_sAvSZR.tif /tmp/s2p_l88hOW.tif 2> /dev/null", 
        "imprintf \"%c\" '/tmp/s2p_l88hOW.tif' > /tmp/s2p_gB7klU.txt", 
        "zoom_zeropadding /tmp/s2p_l88hOW.tif /home/carlo/code/s2p/python/../pleiades_data/idata_0009_MTF_89x89.tif /tmp/s2p_qw410g.tif"
       ]
      }, 
      {
       "output_type": "stream", 
       "stream": "stdout", 
       "text": [
        "", 
        "fftconvolve /tmp/s2p_qw410g.tif /tmp/s2p_l88hOW.tif /tmp/s2p_UwZu1X.tif"
       ]
      }, 
      {
       "output_type": "stream", 
       "stream": "stdout", 
       "text": [
        "", 
        "homography /tmp/s2p_UwZu1X.tif /tmp/s2p_7GsxN2.txt /tmp/s2p_Hp9CIe.png /tmp/prison_1_left1.tif 0 410 386"
       ]
      }, 
      {
       "output_type": "stream", 
       "stream": "stdout", 
       "text": [
        "", 
        "gdal_translate -srcwin 20312 18506 463 462 'pleiades_data/images/toulouse/im02.tif' '/tmp/s2p_ozzxdo.tif'"
       ]
      }, 
      {
       "output_type": "stream", 
       "stream": "stdout", 
       "text": [
        "", 
        "tiffcp /tmp/s2p_ozzxdo.tif /tmp/s2p_2LRWwz.tif 2> /dev/null", 
        "imprintf \"%c\" '/tmp/s2p_2LRWwz.tif' > /tmp/s2p_zpMEmU.txt", 
        "zoom_zeropadding /tmp/s2p_2LRWwz.tif /home/carlo/code/s2p/python/../pleiades_data/idata_0009_MTF_89x89.tif /tmp/s2p_T0xQTB.tif"
       ]
      }, 
      {
       "output_type": "stream", 
       "stream": "stdout", 
       "text": [
        "", 
        "fftconvolve /tmp/s2p_T0xQTB.tif /tmp/s2p_2LRWwz.tif /tmp/s2p_mgMIOC.tif"
       ]
      }, 
      {
       "output_type": "stream", 
       "stream": "stdout", 
       "text": [
        "", 
        "homography /tmp/s2p_mgMIOC.tif /tmp/s2p_BRqb7V.txt /tmp/s2p_BeC2lD.png /tmp/prison_1_left2.tif 0 410 386"
       ]
      }, 
      {
       "output_type": "stream", 
       "stream": "stdout", 
       "text": [
        "", 
        "/home/carlo/code/s2p/python/../3rdparty/stereo_hirschmuller_2008/callSGBM.sh /tmp/prison_1_left1.tif /tmp/prison_1_left2.tif /tmp/prison_1_left_disp.pgm /tmp/prison_1_left_mask.png -4 4 "
       ]
      }, 
      {
       "output_type": "stream", 
       "stream": "stdout", 
       "text": [
        "", 
        "disp_to_h pleiades_data/rpc/toulouse/rpc01.xml pleiades_data/rpc/toulouse/rpc02.xml /tmp/s2p_eUHjgN.txt /tmp/s2p_dDhQ0r.txt /tmp/prison_1_left_disp.pgm /tmp/prison_1_left_mask.png /tmp/prison_1_left_height.tif /tmp/prison_1_left_rpc_err.tif"
       ]
      }, 
      {
       "output_type": "stream", 
       "stream": "stdout", 
       "text": [
        "", 
        "gdal_translate -srcwin 20378 17866 324 354 'pleiades_data/images/toulouse/im01.tif' '/tmp/s2p_7mpaup.tif'"
       ]
      }, 
      {
       "output_type": "stream", 
       "stream": "stdout", 
       "text": [
        "", 
        "tiffcp /tmp/s2p_7mpaup.tif /tmp/s2p_3cFN9e.tif 2> /dev/null", 
        "synflow hom \"-0.191471 0.98395699999999997 62.036603999998988 -0.98395699999999997 -0.191471 386.58280200000081 0.0 0.0 1.0\" /tmp/s2p_3cFN9e.tif /dev/null - | BILINEAR=1 backflow - /tmp/prison_1_left_height.tif /tmp/prison_1_left_height_unrect.tif", 
        "synflow hom \"-0.191471 0.98395699999999997 62.036603999998988 -0.98395699999999997 -0.191471 386.58280200000081 0.0 0.0 1.0\" /tmp/s2p_3cFN9e.tif /dev/null - | BILINEAR=1 backflow - /tmp/prison_1_left_mask.png /tmp/prison_1_left_mask_unrect.png"
       ]
      }, 
      {
       "output_type": "stream", 
       "stream": "stdout", 
       "text": [
        "", 
        "v /tmp/prison_1_left1.tif /tmp/prison_1_left2.tif /tmp/prison_1_left_disp.pgm /tmp/prison_1_left_mask.png"
       ]
      }, 
      {
       "output_type": "stream", 
       "stream": "stdout", 
       "text": [
        "", 
        "ROI x, y, w, h = 20378, 17866, 324, 354", 
        "gdal_translate -srcwin 20378 17866 324 354 'pleiades_data/images/toulouse/im01.tif' '/tmp/s2p_PmXotr.tif'"
       ]
      }, 
      {
       "output_type": "stream", 
       "stream": "stdout", 
       "text": [
        "", 
        "tiffcp /tmp/s2p_PmXotr.tif /tmp/s2p_YQ_KgO.tif 2> /dev/null", 
        "gdal_translate -srcwin 20364 18584 347 458 'pleiades_data/images/toulouse/im03.tif' '/tmp/s2p_kjaCsw.tif'", 
        "tiffcp /tmp/s2p_kjaCsw.tif /tmp/s2p_9E3Ore.tif 2> /dev/null"
       ]
      }, 
      {
       "output_type": "stream", 
       "stream": "stdout", 
       "text": [
        "", 
        "qauto /tmp/s2p_YQ_KgO.tif /tmp/s2p__UncoJ.png 2> /dev/null", 
        "sift_keypoints /tmp/s2p__UncoJ.png /tmp/s2p_GMe2qo.txt", 
        "awk '{if (NR!=1) {print}}' /tmp/s2p_GMe2qo.txt > /tmp/s2p_umdQXX.txt"
       ]
      }, 
      {
       "output_type": "stream", 
       "stream": "stdout", 
       "text": [
        "", 
        "cp /tmp/s2p_umdQXX.txt /tmp/s2p_GMe2qo.txt", 
        "qauto /tmp/s2p_9E3Ore.tif /tmp/s2p_MwZ7hp.png 2> /dev/null", 
        "sift_keypoints /tmp/s2p_MwZ7hp.png /tmp/s2p_1wrYfz.txt", 
        "awk '{if (NR!=1) {print}}' /tmp/s2p_1wrYfz.txt > /tmp/s2p_bhtTOs.txt"
       ]
      }, 
      {
       "output_type": "stream", 
       "stream": "stdout", 
       "text": [
        "", 
        "cp /tmp/s2p_bhtTOs.txt /tmp/s2p_1wrYfz.txt", 
        "matching /tmp/s2p_GMe2qo.txt /tmp/s2p_1wrYfz.txt 1 0.400000 4 8 36 > /tmp/s2p_bsuGC_.txt", 
        "ransac fmn 1000 .3 7 /tmp/s2p_b0ZF7A.txt < /tmp/s2p_L8zJ02.txt"
       ]
      }, 
      {
       "output_type": "stream", 
       "stream": "stdout", 
       "text": [
        "", 
        "running optimization using 15 matches", 
        "[  7.83273569e-27  -9.83379692e-01  -1.94116664e-01   9.34323054e-27]"
       ]
      }, 
      {
       "output_type": "stream", 
       "stream": "stdout", 
       "text": [
        " 3.47992189459 {'warnflag': 0, 'task': 'CONVERGENCE: REL_REDUCTION_OF_F <= FACTR*EPSMCH', 'grad': array([  1.49436019e-04,   9.29725763e-01,   1.22372823e-01,", 
        "         2.01598738e-03]), 'funcalls': 55}", 
        "step 1: find matches, and center them ------------------------------", 
        "applying pointing error correction"
       ]
      }, 
      {
       "output_type": "stream", 
       "stream": "stdout", 
       "text": [
        "", 
        "step 2: estimate F (8-points algorithm) ----------------------------", 
        "step 3: compute rectifying homographies (loop-zhang algorithm) -----", 
        "rectify_mindistortion /tmp/s2p_Wptofe.txt 324 354 /tmp/s2p_0BgMFH.txt /tmp/s2p_o7NkjK.txt > /dev/null", 
        "max, min, mean rectification error on rpc matches ------------------"
       ]
      }, 
      {
       "output_type": "stream", 
       "stream": "stdout", 
       "text": [
        "", 
        "0.00397773110814 1.85258058423e-05 0.00145483136654", 
        "step 4: pull back top-left corner of the ROI in the origin ---------", 
        "step 5: horizontal registration ------------------------------------", 
        "gdal_translate -srcwin 20378 17866 324 354 'pleiades_data/images/toulouse/im01.tif' '/tmp/s2p_wsPN2m.tif'"
       ]
      }, 
      {
       "output_type": "stream", 
       "stream": "stdout", 
       "text": [
        "", 
        "tiffcp /tmp/s2p_wsPN2m.tif /tmp/s2p_Ttz9W5.tif 2> /dev/null", 
        "gdal_translate -srcwin 20364 18584 347 458 'pleiades_data/images/toulouse/im03.tif' '/tmp/s2p_ehsFqm.tif'", 
        "tiffcp /tmp/s2p_ehsFqm.tif /tmp/s2p_Jj31Ca.tif 2> /dev/null"
       ]
      }, 
      {
       "output_type": "stream", 
       "stream": "stdout", 
       "text": [
        "", 
        "qauto /tmp/s2p_Ttz9W5.tif /tmp/s2p_O7yJCu.png 2> /dev/null", 
        "sift_keypoints /tmp/s2p_O7yJCu.png /tmp/s2p_ER7i6l.txt", 
        "awk '{if (NR!=1) {print}}' /tmp/s2p_ER7i6l.txt > /tmp/s2p_kY1GqG.txt"
       ]
      }, 
      {
       "output_type": "stream", 
       "stream": "stdout", 
       "text": [
        "", 
        "cp /tmp/s2p_kY1GqG.txt /tmp/s2p_ER7i6l.txt", 
        "qauto /tmp/s2p_Jj31Ca.tif /tmp/s2p_wyK4Zz.png 2> /dev/null", 
        "sift_keypoints /tmp/s2p_wyK4Zz.png /tmp/s2p_4Ediql.txt"
       ]
      }, 
      {
       "output_type": "stream", 
       "stream": "stdout", 
       "text": [
        "", 
        "awk '{if (NR!=1) {print}}' /tmp/s2p_4Ediql.txt > /tmp/s2p_WkEdso.txt"
       ]
      }, 
      {
       "output_type": "stream", 
       "stream": "stdout", 
       "text": [
        "", 
        "cp /tmp/s2p_WkEdso.txt /tmp/s2p_4Ediql.txt", 
        "matching /tmp/s2p_ER7i6l.txt /tmp/s2p_4Ediql.txt 1 0.400000 4 8 36 > /tmp/s2p_9XMEuz.txt", 
        "remaining sift matches"
       ]
      }, 
      {
       "output_type": "stream", 
       "stream": "stdout", 
       "text": [
        " 15", 
        "Residual vertical disparities: max, min, mean. Should be zero ------", 
        "0.443521108929 -0.246939841559 0.00515947582127", 
        "gdal_translate -srcwin 20312 17805 456 475 'pleiades_data/images/toulouse/im01.tif' '/tmp/s2p_rmb1e5.tif'", 
        "tiffcp /tmp/s2p_rmb1e5.tif /tmp/s2p_mRbPsN.tif 2> /dev/null", 
        "imprintf \"%c\" '/tmp/s2p_mRbPsN.tif' > /tmp/s2p_GeFyHE.txt", 
        "zoom_zeropadding /tmp/s2p_mRbPsN.tif /home/carlo/code/s2p/python/../pleiades_data/idata_0009_MTF_89x89.tif /tmp/s2p_jbzvgd.tif", 
        "fftconvolve /tmp/s2p_jbzvgd.tif /tmp/s2p_mRbPsN.tif /tmp/s2p_0l7dwd.tif"
       ]
      }, 
      {
       "output_type": "stream", 
       "stream": "stdout", 
       "text": [
        "", 
        "homography /tmp/s2p_0l7dwd.tif /tmp/s2p_IVjkK5.txt /tmp/s2p_Lobd3t.png /tmp/prison_1_right1.tif 0 409 385"
       ]
      }, 
      {
       "output_type": "stream", 
       "stream": "stdout", 
       "text": [
        "", 
        "gdal_translate -srcwin 20311 18566 464 443 'pleiades_data/images/toulouse/im03.tif' '/tmp/s2p_OZxqrf.tif'"
       ]
      }, 
      {
       "output_type": "stream", 
       "stream": "stdout", 
       "text": [
        "", 
        "tiffcp /tmp/s2p_OZxqrf.tif /tmp/s2p_6QLeyd.tif 2> /dev/null", 
        "imprintf \"%c\" '/tmp/s2p_6QLeyd.tif' > /tmp/s2p_hjEo2N.txt", 
        "zoom_zeropadding /tmp/s2p_6QLeyd.tif /home/carlo/code/s2p/python/../pleiades_data/idata_0009_MTF_89x89.tif /tmp/s2p_8LZWtv.tif", 
        "fftconvolve /tmp/s2p_8LZWtv.tif /tmp/s2p_6QLeyd.tif /tmp/s2p_JixMTK.tif"
       ]
      }, 
      {
       "output_type": "stream", 
       "stream": "stdout", 
       "text": [
        "", 
        "homography /tmp/s2p_JixMTK.tif /tmp/s2p_s4IE4N.txt /tmp/s2p_YUhTZo.png /tmp/prison_1_right3.tif 0 409 385"
       ]
      }, 
      {
       "output_type": "stream", 
       "stream": "stdout", 
       "text": [
        "", 
        "/home/carlo/code/s2p/python/../3rdparty/stereo_hirschmuller_2008/callSGBM.sh /tmp/prison_1_right1.tif /tmp/prison_1_right3.tif /tmp/prison_1_right_disp.pgm /tmp/prison_1_right_mask.png -4 2 "
       ]
      }, 
      {
       "output_type": "stream", 
       "stream": "stdout", 
       "text": [
        "", 
        "disp_to_h pleiades_data/rpc/toulouse/rpc01.xml pleiades_data/rpc/toulouse/rpc03.xml /tmp/s2p_5QgSq9.txt /tmp/s2p_esH02z.txt /tmp/prison_1_right_disp.pgm /tmp/prison_1_right_mask.png /tmp/prison_1_right_height.tif /tmp/prison_1_right_rpc_err.tif"
       ]
      }, 
      {
       "output_type": "stream", 
       "stream": "stdout", 
       "text": [
        "", 
        "gdal_translate -srcwin 20378 17866 324 354 'pleiades_data/images/toulouse/im01.tif' '/tmp/s2p_Wpn55o.tif'"
       ]
      }, 
      {
       "output_type": "stream", 
       "stream": "stdout", 
       "text": [
        "", 
        "tiffcp /tmp/s2p_Wpn55o.tif /tmp/s2p_nd9A54.tif 2> /dev/null", 
        "synflow hom \"-0.18920300000000001 0.98241299999999998 61.30177200000071 -0.98241299999999998 -0.18920300000000001 385.27967400000125 0.0 0.0 1.0\" /tmp/s2p_nd9A54.tif /dev/null - | BILINEAR=1 backflow - /tmp/prison_1_right_height.tif /tmp/prison_1_right_height_unrect.tif", 
        "synflow hom \"-0.18920300000000001 0.98241299999999998 61.30177200000071 -0.98241299999999998 -0.18920300000000001 385.27967400000125 0.0 0.0 1.0\" /tmp/s2p_nd9A54.tif /dev/null - | BILINEAR=1 backflow - /tmp/prison_1_right_mask.png /tmp/prison_1_right_mask_unrect.png"
       ]
      }, 
      {
       "output_type": "stream", 
       "stream": "stdout", 
       "text": [
        "", 
        "v /tmp/prison_1_right1.tif /tmp/prison_1_right3.tif /tmp/prison_1_right_disp.pgm /tmp/prison_1_right_mask.png"
       ]
      }, 
      {
       "output_type": "stream", 
       "stream": "stdout", 
       "text": [
        "", 
        "downsa e 4 /tmp/prison_1_left_height_unrect.tif /tmp/s2p_MyqYSD.tif", 
        "downsa e 4 /tmp/prison_1_right_height_unrect.tif /tmp/s2p_G_QGmD.tif", 
        "(7128,)", 
        "(6630,)", 
        "plambda /tmp/prison_1_right_height_unrect.tif \"x -0.416398 +\" > /tmp/s2p_UI4USg.tif", 
        "", 
        "        plambda /tmp/prison_1_left_height_unrect.tif /tmp/s2p_UI4USg.tif \"x isfinite y isfinite x y - fabs 3.000000 < x y + 2 / nan if x", 
        "        if y if\" > /tmp/prison_1_height_merged.tif", 
        "        "
       ]
      }, 
      {
       "output_type": "stream", 
       "stream": "stdout", 
       "text": [
        "", 
        "rm /tmp/s2p_UI4USg.tif"
       ]
      }, 
      {
       "output_type": "stream", 
       "stream": "stdout", 
       "text": [
        "", 
        "rm /tmp/s2p_G_QGmD.tif", 
        "rm /tmp/s2p_MyqYSD.tif", 
        "rm /tmp/s2p_nd9A54.tif", 
        "rm /tmp/s2p_Wpn55o.tif", 
        "rm /tmp/s2p_esH02z.txt", 
        "rm /tmp/s2p_5QgSq9.txt", 
        "rm /tmp/s2p_YUhTZo.png", 
        "rm /tmp/s2p_s4IE4N.txt", 
        "rm /tmp/s2p_JixMTK.tif", 
        "rm /tmp/s2p_8LZWtv.tif", 
        "rm /tmp/s2p_hjEo2N.txt", 
        "rm /tmp/s2p_6QLeyd.tif"
       ]
      }, 
      {
       "output_type": "stream", 
       "stream": "stdout", 
       "text": [
        "", 
        "rm /tmp/s2p_OZxqrf.tif", 
        "rm /tmp/s2p_Lobd3t.png", 
        "rm /tmp/s2p_IVjkK5.txt", 
        "rm /tmp/s2p_0l7dwd.tif", 
        "rm /tmp/s2p_jbzvgd.tif", 
        "rm /tmp/s2p_GeFyHE.txt", 
        "rm /tmp/s2p_mRbPsN.tif", 
        "rm /tmp/s2p_rmb1e5.tif", 
        "rm /tmp/s2p_9XMEuz.txt", 
        "rm /tmp/s2p_WkEdso.txt", 
        "rm /tmp/s2p_wyK4Zz.png"
       ]
      }, 
      {
       "output_type": "stream", 
       "stream": "stdout", 
       "text": [
        "", 
        "rm /tmp/s2p_4Ediql.txt", 
        "rm /tmp/s2p_kY1GqG.txt", 
        "rm /tmp/s2p_O7yJCu.png", 
        "rm /tmp/s2p_ER7i6l.txt", 
        "rm /tmp/s2p_Jj31Ca.tif", 
        "rm /tmp/s2p_ehsFqm.tif", 
        "rm /tmp/s2p_Ttz9W5.tif", 
        "rm /tmp/s2p_wsPN2m.tif", 
        "rm /tmp/s2p_fJyWFh.txt", 
        "rm /tmp/s2p_mp30pj.txt", 
        "rm /tmp/s2p_o7NkjK.txt", 
        "rm /tmp/s2p_0BgMFH.txt"
       ]
      }, 
      {
       "output_type": "stream", 
       "stream": "stdout", 
       "text": [
        "", 
        "rm /tmp/s2p_Wptofe.txt", 
        "rm /tmp/s2p_6yL7XY.txt", 
        "rm /tmp/s2p_z1EaQ3.txt", 
        "rm /tmp/s2p_b0ZF7A.txt", 
        "rm /tmp/s2p_L8zJ02.txt", 
        "rm /tmp/s2p_bsuGC_.txt", 
        "rm /tmp/s2p_bhtTOs.txt", 
        "rm /tmp/s2p_MwZ7hp.png", 
        "rm /tmp/s2p_1wrYfz.txt", 
        "rm /tmp/s2p_umdQXX.txt", 
        "rm /tmp/s2p__UncoJ.png"
       ]
      }, 
      {
       "output_type": "stream", 
       "stream": "stdout", 
       "text": [
        "", 
        "rm /tmp/s2p_GMe2qo.txt", 
        "rm /tmp/s2p_9E3Ore.tif", 
        "rm /tmp/s2p_kjaCsw.tif", 
        "rm /tmp/s2p_YQ_KgO.tif", 
        "rm /tmp/s2p_PmXotr.tif", 
        "rm /tmp/s2p_2qSaMW.txt", 
        "rm /tmp/s2p_VNRn3c.txt", 
        "rm /tmp/s2p_3cFN9e.tif", 
        "rm /tmp/s2p_7mpaup.tif", 
        "rm /tmp/s2p_dDhQ0r.txt", 
        "rm /tmp/s2p_eUHjgN.txt"
       ]
      }, 
      {
       "output_type": "stream", 
       "stream": "stdout", 
       "text": [
        "", 
        "rm /tmp/s2p_BeC2lD.png", 
        "rm /tmp/s2p_BRqb7V.txt", 
        "rm /tmp/s2p_mgMIOC.tif", 
        "rm /tmp/s2p_T0xQTB.tif", 
        "rm /tmp/s2p_zpMEmU.txt", 
        "rm /tmp/s2p_2LRWwz.tif", 
        "rm /tmp/s2p_ozzxdo.tif", 
        "rm /tmp/s2p_Hp9CIe.png", 
        "rm /tmp/s2p_7GsxN2.txt", 
        "rm /tmp/s2p_UwZu1X.tif", 
        "rm /tmp/s2p_qw410g.tif"
       ]
      }, 
      {
       "output_type": "stream", 
       "stream": "stdout", 
       "text": [
        "", 
        "rm /tmp/s2p_gB7klU.txt", 
        "rm /tmp/s2p_l88hOW.tif", 
        "rm /tmp/s2p_sAvSZR.tif", 
        "rm /tmp/s2p_IW5TQE.txt", 
        "rm /tmp/s2p__p4cT5.txt", 
        "rm /tmp/s2p_o9EYSk.png", 
        "rm /tmp/s2p_EF8vHB.txt", 
        "rm /tmp/s2p_leKpjk.txt", 
        "rm /tmp/s2p_0V7oXi.png", 
        "rm /tmp/s2p_2T7jqh.txt", 
        "rm /tmp/s2p_Q1yD1F.tif"
       ]
      }, 
      {
       "output_type": "stream", 
       "stream": "stdout", 
       "text": [
        "", 
        "rm /tmp/s2p_TN33sQ.tif", 
        "rm /tmp/s2p_EBP5hI.tif", 
        "rm /tmp/s2p_aao93p.tif", 
        "rm /tmp/s2p_sr8yWp.txt", 
        "rm /tmp/s2p_CRoIHq.txt", 
        "rm /tmp/s2p_4_iQGf.txt", 
        "rm /tmp/s2p_pZb2DH.txt", 
        "rm /tmp/s2p_pZe3hI.txt", 
        "rm /tmp/s2p_l_hKMd.txt", 
        "rm /tmp/s2p_4XVQgi.txt", 
        "rm /tmp/s2p_FPncQZ.txt"
       ]
      }, 
      {
       "output_type": "stream", 
       "stream": "stdout", 
       "text": [
        "", 
        "rm /tmp/s2p_P5kv6j.txt", 
        "rm /tmp/s2p_yzXzq9.txt", 
        "rm /tmp/s2p_pyxkdU.txt", 
        "rm /tmp/s2p_ENLUDn.png", 
        "rm /tmp/s2p_EEUc3T.txt", 
        "rm /tmp/s2p_9j3DX4.txt", 
        "rm /tmp/s2p_45MUyn.png", 
        "rm /tmp/s2p_sxUheB.txt", 
        "rm /tmp/s2p_bavOsk.tif", 
        "rm /tmp/s2p_jIolnx.tif", 
        "rm /tmp/s2p_iNaoO7.tif"
       ]
      }, 
      {
       "output_type": "stream", 
       "stream": "stdout", 
       "text": [
        "", 
        "rm /tmp/s2p_NQO4Ch.tif", 
        "rm /tmp/s2p_rqAqzB.txt", 
        "rm /tmp/s2p_sAGHUP.txt", 
        "rm /tmp/s2p_hkj7dj.png", 
        "rm /tmp/s2p_Ltsyj5.png", 
        "rm /tmp/s2p_7jthhE.tif", 
        "rm /tmp/s2p_s0EgRj.txt", 
        "rm /tmp/s2p_tngCFd.txt", 
        "rm /tmp/s2p_Te5plH.tif", 
        "rm /tmp/s2p_wrj54D.txt", 
        "rm /tmp/s2p_UjQTvT.tif"
       ]
      }, 
      {
       "output_type": "stream", 
       "stream": "stdout", 
       "text": [
        "", 
        "rm /tmp/s2p_jzz0cy.tif", 
        "rm /tmp/s2p_LFSVhL.tif", 
        "rm /tmp/s2p_NNWwzH.txt", 
        "rm /tmp/s2p_REkFzq.tif", 
        "rm /tmp/s2p_IIYjAn.tif", 
        "rm /tmp/s2p_qq6MK0.txt", 
        "ROI x, y, w, h = 20380, 18600, 320, 300", 
        "ROI x, y, w, h = 20380, 18600, 320, 300", 
        "gdal_translate -srcwin 20380 18600 320 300 'pleiades_data/images/toulouse/im02.tif' '/tmp/s2p_1pbbDG.tif'"
       ]
      }, 
      {
       "output_type": "stream", 
       "stream": "stdout", 
       "text": [
        "", 
        "tiffcp /tmp/s2p_1pbbDG.tif /tmp/s2p_tokM1d.tif 2> /dev/null", 
        "gdal_translate -srcwin 20378 17865 324 354 'pleiades_data/images/toulouse/im01.tif' '/tmp/s2p_h6glvq.tif'", 
        "tiffcp /tmp/s2p_h6glvq.tif /tmp/s2p_RYZTKq.tif 2> /dev/null"
       ]
      }, 
      {
       "output_type": "stream", 
       "stream": "stdout", 
       "text": [
        "", 
        "qauto /tmp/s2p_tokM1d.tif /tmp/s2p_EpCCHn.png 2> /dev/null", 
        "sift_keypoints /tmp/s2p_EpCCHn.png /tmp/s2p__YnezJ.txt", 
        "awk '{if (NR!=1) {print}}' /tmp/s2p__YnezJ.txt > /tmp/s2p_2z0yJC.txt"
       ]
      }, 
      {
       "output_type": "stream", 
       "stream": "stdout", 
       "text": [
        "", 
        "cp /tmp/s2p_2z0yJC.txt /tmp/s2p__YnezJ.txt", 
        "qauto /tmp/s2p_RYZTKq.tif /tmp/s2p_G8Ap6Y.png 2> /dev/null", 
        "sift_keypoints /tmp/s2p_G8Ap6Y.png /tmp/s2p_349MDq.txt", 
        "awk '{if (NR!=1) {print}}' /tmp/s2p_349MDq.txt > /tmp/s2p_AZ4vn9.txt"
       ]
      }, 
      {
       "output_type": "stream", 
       "stream": "stdout", 
       "text": [
        "", 
        "cp /tmp/s2p_AZ4vn9.txt /tmp/s2p_349MDq.txt", 
        "matching /tmp/s2p__YnezJ.txt /tmp/s2p_349MDq.txt 1 0.400000 4 8 36 > /tmp/s2p_AT46m_.txt", 
        "ransac fmn 1000 .3 7 /tmp/s2p_qHgoRs.txt < /tmp/s2p_i6N_jk.txt"
       ]
      }, 
      {
       "output_type": "stream", 
       "stream": "stdout", 
       "text": [
        "", 
        "running optimization using 66 matches", 
        "[ -6.44746504e-27   8.72142263e-01   1.68837564e-01  -3.32392490e-27]"
       ]
      }, 
      {
       "output_type": "stream", 
       "stream": "stdout", 
       "text": [
        " 8.94604026859 {'warnflag': 0, 'task': 'CONVERGENCE: REL_REDUCTION_OF_F <= FACTR*EPSMCH', 'grad': array([ 0.01942126,  1.63125957, -0.08484715,  0.01001244]), 'funcalls': 90}", 
        "step 1: find matches, and center them ------------------------------", 
        "applying pointing error correction"
       ]
      }, 
      {
       "output_type": "stream", 
       "stream": "stdout", 
       "text": [
        "", 
        "step 2: estimate F (8-points algorithm) ----------------------------", 
        "step 3: compute rectifying homographies (loop-zhang algorithm) -----", 
        "rectify_mindistortion /tmp/s2p_NARtuo.txt 320 300 /tmp/s2p_lXxp_l.txt /tmp/s2p_vu0OCT.txt > /dev/null", 
        "max, min, mean rectification error on rpc matches ------------------"
       ]
      }, 
      {
       "output_type": "stream", 
       "stream": "stdout", 
       "text": [
        "", 
        "0.00368187445065 7.51064794713e-06 0.00154306721523", 
        "step 4: pull back top-left corner of the ROI in the origin ---------", 
        "step 5: horizontal registration ------------------------------------", 
        "gdal_translate -srcwin 20380 18600 320 300 'pleiades_data/images/toulouse/im02.tif' '/tmp/s2p_Cjnzaz.tif'"
       ]
      }, 
      {
       "output_type": "stream", 
       "stream": "stdout", 
       "text": [
        "", 
        "tiffcp /tmp/s2p_Cjnzaz.tif /tmp/s2p_RZrxXh.tif 2> /dev/null", 
        "gdal_translate -srcwin 20378 17865 324 354 'pleiades_data/images/toulouse/im01.tif' '/tmp/s2p_TKCCX0.tif'", 
        "tiffcp /tmp/s2p_TKCCX0.tif /tmp/s2p_TETcoZ.tif 2> /dev/null"
       ]
      }, 
      {
       "output_type": "stream", 
       "stream": "stdout", 
       "text": [
        "", 
        "qauto /tmp/s2p_RZrxXh.tif /tmp/s2p_fMvlqf.png 2> /dev/null", 
        "sift_keypoints /tmp/s2p_fMvlqf.png /tmp/s2p_fP5s57.txt", 
        "awk '{if (NR!=1) {print}}' /tmp/s2p_fP5s57.txt > /tmp/s2p_btlrbq.txt"
       ]
      }, 
      {
       "output_type": "stream", 
       "stream": "stdout", 
       "text": [
        "", 
        "cp /tmp/s2p_btlrbq.txt /tmp/s2p_fP5s57.txt", 
        "qauto /tmp/s2p_TETcoZ.tif /tmp/s2p_zHftv1.png 2> /dev/null", 
        "sift_keypoints /tmp/s2p_zHftv1.png /tmp/s2p_4MpGaF.txt", 
        "awk '{if (NR!=1) {print}}' /tmp/s2p_4MpGaF.txt > /tmp/s2p_OJU08f.txt"
       ]
      }, 
      {
       "output_type": "stream", 
       "stream": "stdout", 
       "text": [
        "", 
        "cp /tmp/s2p_OJU08f.txt /tmp/s2p_4MpGaF.txt", 
        "matching /tmp/s2p_fP5s57.txt /tmp/s2p_4MpGaF.txt 1 0.400000 4 8 36 > /tmp/s2p_1aeByV.txt", 
        "remaining sift matches"
       ]
      }, 
      {
       "output_type": "stream", 
       "stream": "stdout", 
       "text": [
        " 77", 
        "Residual vertical disparities: max, min, mean. Should be zero ------", 
        "0.494962733938 -0.366060256504 0.0459014789194", 
        "gdal_translate -srcwin 20323 18539 434 421 'pleiades_data/images/toulouse/im02.tif' '/tmp/s2p_jZG7yn.tif'", 
        "tiffcp /tmp/s2p_jZG7yn.tif /tmp/s2p_5F02Le.tif 2> /dev/null", 
        "imprintf \"%c\" '/tmp/s2p_5F02Le.tif' > /tmp/s2p_emW_En.txt", 
        "zoom_zeropadding /tmp/s2p_5F02Le.tif /home/carlo/code/s2p/python/../pleiades_data/idata_0009_MTF_89x89.tif /tmp/s2p_FD1HM7.tif", 
        "fftconvolve /tmp/s2p_FD1HM7.tif /tmp/s2p_5F02Le.tif /tmp/s2p_NkVl0S.tif"
       ]
      }, 
      {
       "output_type": "stream", 
       "stream": "stdout", 
       "text": [
        "", 
        "homography /tmp/s2p_NkVl0S.tif /tmp/s2p_nuwp9N.txt /tmp/s2p_Fitqhk.png /tmp/prison_2_left2.tif 0 355 370"
       ]
      }, 
      {
       "output_type": "stream", 
       "stream": "stdout", 
       "text": [
        "", 
        "gdal_translate -srcwin 20322 17838 428 435 'pleiades_data/images/toulouse/im01.tif' '/tmp/s2p_sV5_Z4.tif'"
       ]
      }, 
      {
       "output_type": "stream", 
       "stream": "stdout", 
       "text": [
        "", 
        "tiffcp /tmp/s2p_sV5_Z4.tif /tmp/s2p_iOlvx1.tif 2> /dev/null", 
        "imprintf \"%c\" '/tmp/s2p_iOlvx1.tif' > /tmp/s2p__16fPg.txt", 
        "zoom_zeropadding /tmp/s2p_iOlvx1.tif /home/carlo/code/s2p/python/../pleiades_data/idata_0009_MTF_89x89.tif /tmp/s2p_3TulX_.tif", 
        "fftconvolve /tmp/s2p_3TulX_.tif /tmp/s2p_iOlvx1.tif /tmp/s2p_Rp8CJM.tif"
       ]
      }, 
      {
       "output_type": "stream", 
       "stream": "stdout", 
       "text": [
        "", 
        "homography /tmp/s2p_Rp8CJM.tif /tmp/s2p_Su1qR5.txt /tmp/s2p_5HyDW0.png /tmp/prison_2_left1.tif 0 355 370"
       ]
      }, 
      {
       "output_type": "stream", 
       "stream": "stdout", 
       "text": [
        "", 
        "/home/carlo/code/s2p/python/../3rdparty/stereo_hirschmuller_2008/callSGBM.sh /tmp/prison_2_left2.tif /tmp/prison_2_left1.tif /tmp/prison_2_left_disp.pgm /tmp/prison_2_left_mask.png -3 3 "
       ]
      }, 
      {
       "output_type": "stream", 
       "stream": "stdout", 
       "text": [
        "", 
        "disp_to_h pleiades_data/rpc/toulouse/rpc02.xml pleiades_data/rpc/toulouse/rpc01.xml /tmp/s2p_kR8bEn.txt /tmp/s2p_l6OwJS.txt /tmp/prison_2_left_disp.pgm /tmp/prison_2_left_mask.png /tmp/prison_2_left_height.tif /tmp/prison_2_left_rpc_err.tif"
       ]
      }, 
      {
       "output_type": "stream", 
       "stream": "stdout", 
       "text": [
        "", 
        "gdal_translate -srcwin 20380 18600 320 300 'pleiades_data/images/toulouse/im02.tif' '/tmp/s2p_xlNbqy.tif'"
       ]
      }, 
      {
       "output_type": "stream", 
       "stream": "stdout", 
       "text": [
        "", 
        "tiffcp /tmp/s2p_xlNbqy.tif /tmp/s2p_rQUPOD.tif 2> /dev/null", 
        "synflow hom \"-0.19159499999999999 0.97901300000000002 61.3104000000003 -0.97901300000000002 -0.19159499999999999 370.76265999999669 0.0 0.0 1.0\" /tmp/s2p_rQUPOD.tif /dev/null - | BILINEAR=1 backflow - /tmp/prison_2_left_height.tif /tmp/prison_2_left_height_unrect.tif", 
        "synflow hom \"-0.19159499999999999 0.97901300000000002 61.3104000000003 -0.97901300000000002 -0.19159499999999999 370.76265999999669 0.0 0.0 1.0\" /tmp/s2p_rQUPOD.tif /dev/null - | BILINEAR=1 backflow - /tmp/prison_2_left_mask.png /tmp/prison_2_left_mask_unrect.png"
       ]
      }, 
      {
       "output_type": "stream", 
       "stream": "stdout", 
       "text": [
        "", 
        "v /tmp/prison_2_left2.tif /tmp/prison_2_left1.tif /tmp/prison_2_left_disp.pgm /tmp/prison_2_left_mask.png"
       ]
      }, 
      {
       "output_type": "stream", 
       "stream": "stdout", 
       "text": [
        "", 
        "ROI x, y, w, h = 20380, 18600, 320, 300", 
        "gdal_translate -srcwin 20380 18600 320 300 'pleiades_data/images/toulouse/im02.tif' '/tmp/s2p_xfJduK.tif'"
       ]
      }, 
      {
       "output_type": "stream", 
       "stream": "stdout", 
       "text": [
        "", 
        "tiffcp /tmp/s2p_xfJduK.tif /tmp/s2p_hMsNxu.tif 2> /dev/null", 
        "gdal_translate -srcwin 20372 18638 330 350 'pleiades_data/images/toulouse/im03.tif' '/tmp/s2p_jOIFBt.tif'", 
        "tiffcp /tmp/s2p_jOIFBt.tif /tmp/s2p_rzzHc4.tif 2> /dev/null"
       ]
      }, 
      {
       "output_type": "stream", 
       "stream": "stdout", 
       "text": [
        "", 
        "qauto /tmp/s2p_hMsNxu.tif /tmp/s2p_coUCSL.png 2> /dev/null", 
        "sift_keypoints /tmp/s2p_coUCSL.png /tmp/s2p_KH6o4B.txt", 
        "awk '{if (NR!=1) {print}}' /tmp/s2p_KH6o4B.txt > /tmp/s2p_0JoEwY.txt"
       ]
      }, 
      {
       "output_type": "stream", 
       "stream": "stdout", 
       "text": [
        "", 
        "cp /tmp/s2p_0JoEwY.txt /tmp/s2p_KH6o4B.txt", 
        "qauto /tmp/s2p_rzzHc4.tif /tmp/s2p_fE2y5i.png 2> /dev/null", 
        "sift_keypoints /tmp/s2p_fE2y5i.png /tmp/s2p_mav3if.txt", 
        "awk '{if (NR!=1) {print}}' /tmp/s2p_mav3if.txt > /tmp/s2p_UAAElQ.txt"
       ]
      }, 
      {
       "output_type": "stream", 
       "stream": "stdout", 
       "text": [
        "", 
        "cp /tmp/s2p_UAAElQ.txt /tmp/s2p_mav3if.txt", 
        "matching /tmp/s2p_KH6o4B.txt /tmp/s2p_mav3if.txt 1 0.400000 4 8 36 > /tmp/s2p_zF839C.txt", 
        "ransac fmn 1000 .3 7 /tmp/s2p_vplFHe.txt < /tmp/s2p_3wboOm.txt", 
        "running optimization using 63 matches"
       ]
      }, 
      {
       "output_type": "stream", 
       "stream": "stdout", 
       "text": [
        "", 
        "[  6.98588245e-24  -2.25374971e-01  -4.39792208e-02  -3.28160048e-25]"
       ]
      }, 
      {
       "output_type": "stream", 
       "stream": "stdout", 
       "text": [
        " 8.90237606663 {'warnflag': 2, 'task': 'ABNORMAL_TERMINATION_IN_LNSRCH', 'grad': array([  2.85460544e-04,   5.11171017e-01,  -2.16610729e-02,", 
        "         2.78209455e-02]), 'funcalls': 89}", 
        "step 1: find matches, and center them ------------------------------", 
        "applying pointing error correction"
       ]
      }, 
      {
       "output_type": "stream", 
       "stream": "stdout", 
       "text": [
        "", 
        "step 2: estimate F (8-points algorithm) ----------------------------", 
        "step 3: compute rectifying homographies (loop-zhang algorithm) -----", 
        "rectify_mindistortion /tmp/s2p_nrr3Y7.txt 320 300 /tmp/s2p_m98TQJ.txt /tmp/s2p_ogEmFy.txt > /dev/null", 
        "max, min, mean rectification error on rpc matches ------------------"
       ]
      }, 
      {
       "output_type": "stream", 
       "stream": "stdout", 
       "text": [
        "", 
        "0.00191976611177 3.547609424e-06 0.00042748563634", 
        "step 4: pull back top-left corner of the ROI in the origin ---------", 
        "step 5: horizontal registration ------------------------------------", 
        "gdal_translate -srcwin 20380 18600 320 300 'pleiades_data/images/toulouse/im02.tif' '/tmp/s2p_iIuK4u.tif'"
       ]
      }, 
      {
       "output_type": "stream", 
       "stream": "stdout", 
       "text": [
        "", 
        "tiffcp /tmp/s2p_iIuK4u.tif /tmp/s2p_b_uT5O.tif 2> /dev/null", 
        "gdal_translate -srcwin 20372 18638 330 350 'pleiades_data/images/toulouse/im03.tif' '/tmp/s2p_Ybpr7H.tif'", 
        "tiffcp /tmp/s2p_Ybpr7H.tif /tmp/s2p_lryZgD.tif 2> /dev/null"
       ]
      }, 
      {
       "output_type": "stream", 
       "stream": "stdout", 
       "text": [
        "", 
        "qauto /tmp/s2p_b_uT5O.tif /tmp/s2p_AcSVyX.png 2> /dev/null", 
        "sift_keypoints /tmp/s2p_AcSVyX.png /tmp/s2p_6IijyC.txt", 
        "awk '{if (NR!=1) {print}}' /tmp/s2p_6IijyC.txt > /tmp/s2p_siogSm.txt"
       ]
      }, 
      {
       "output_type": "stream", 
       "stream": "stdout", 
       "text": [
        "", 
        "cp /tmp/s2p_siogSm.txt /tmp/s2p_6IijyC.txt", 
        "qauto /tmp/s2p_lryZgD.tif /tmp/s2p_H_tW28.png 2> /dev/null", 
        "sift_keypoints /tmp/s2p_H_tW28.png /tmp/s2p_ciUeEu.txt", 
        "awk '{if (NR!=1) {print}}' /tmp/s2p_ciUeEu.txt > /tmp/s2p_s1xYu6.txt"
       ]
      }, 
      {
       "output_type": "stream", 
       "stream": "stdout", 
       "text": [
        "", 
        "cp /tmp/s2p_s1xYu6.txt /tmp/s2p_ciUeEu.txt", 
        "matching /tmp/s2p_6IijyC.txt /tmp/s2p_ciUeEu.txt 1 0.400000 4 8 36 > /tmp/s2p_kCjykP.txt", 
        "remaining sift matches"
       ]
      }, 
      {
       "output_type": "stream", 
       "stream": "stdout", 
       "text": [
        " 76", 
        "Residual vertical disparities: max, min, mean. Should be zero ------", 
        "0.477172039497 -0.464895518964 -0.00236301470199", 
        "gdal_translate -srcwin 20324 18540 431 419 'pleiades_data/images/toulouse/im02.tif' '/tmp/s2p_wPmVRU.tif'", 
        "tiffcp /tmp/s2p_wPmVRU.tif /tmp/s2p_rP5UVx.tif 2> /dev/null", 
        "imprintf \"%c\" '/tmp/s2p_rP5UVx.tif' > /tmp/s2p_ojzrFF.txt", 
        "zoom_zeropadding /tmp/s2p_rP5UVx.tif /home/carlo/code/s2p/python/../pleiades_data/idata_0009_MTF_89x89.tif /tmp/s2p_PY4dPx.tif", 
        "fftconvolve /tmp/s2p_PY4dPx.tif /tmp/s2p_rP5UVx.tif /tmp/s2p_b87Xc3.tif"
       ]
      }, 
      {
       "output_type": "stream", 
       "stream": "stdout", 
       "text": [
        "", 
        "homography /tmp/s2p_b87Xc3.tif /tmp/s2p_884Z54.txt /tmp/s2p_4daBz3.png /tmp/prison_2_right2.tif 0 354 370"
       ]
      }, 
      {
       "output_type": "stream", 
       "stream": "stdout", 
       "text": [
        "", 
        "gdal_translate -srcwin 20323 18598 433 402 'pleiades_data/images/toulouse/im03.tif' '/tmp/s2p_CLkDEF.tif'"
       ]
      }, 
      {
       "output_type": "stream", 
       "stream": "stdout", 
       "text": [
        "", 
        "tiffcp /tmp/s2p_CLkDEF.tif /tmp/s2p_4TOb7U.tif 2> /dev/null", 
        "imprintf \"%c\" '/tmp/s2p_4TOb7U.tif' > /tmp/s2p_0_j__9.txt", 
        "zoom_zeropadding /tmp/s2p_4TOb7U.tif /home/carlo/code/s2p/python/../pleiades_data/idata_0009_MTF_89x89.tif /tmp/s2p_7Mxqkc.tif", 
        "fftconvolve /tmp/s2p_7Mxqkc.tif /tmp/s2p_4TOb7U.tif /tmp/s2p_2C9Srb.tif"
       ]
      }, 
      {
       "output_type": "stream", 
       "stream": "stdout", 
       "text": [
        "", 
        "homography /tmp/s2p_2C9Srb.tif /tmp/s2p_W0ugSU.txt /tmp/s2p_G571ma.png /tmp/prison_2_right3.tif 0 354 370"
       ]
      }, 
      {
       "output_type": "stream", 
       "stream": "stdout", 
       "text": [
        "", 
        "/home/carlo/code/s2p/python/../3rdparty/stereo_hirschmuller_2008/callSGBM.sh /tmp/prison_2_right2.tif /tmp/prison_2_right3.tif /tmp/prison_2_right_disp.pgm /tmp/prison_2_right_mask.png -4 4 "
       ]
      }, 
      {
       "output_type": "stream", 
       "stream": "stdout", 
       "text": [
        "", 
        "disp_to_h pleiades_data/rpc/toulouse/rpc02.xml pleiades_data/rpc/toulouse/rpc03.xml /tmp/s2p_c9xgNm.txt /tmp/s2p_phBQMf.txt /tmp/prison_2_right_disp.pgm /tmp/prison_2_right_mask.png /tmp/prison_2_right_height.tif /tmp/prison_2_right_rpc_err.tif"
       ]
      }, 
      {
       "output_type": "stream", 
       "stream": "stdout", 
       "text": [
        "", 
        "gdal_translate -srcwin 20380 18600 320 300 'pleiades_data/images/toulouse/im02.tif' '/tmp/s2p_z1s4UN.tif'"
       ]
      }, 
      {
       "output_type": "stream", 
       "stream": "stdout", 
       "text": [
        "", 
        "tiffcp /tmp/s2p_z1s4UN.tif /tmp/s2p_Z_Fd1q.tif 2> /dev/null", 
        "synflow hom \"-0.18795799999999999 0.98019000000000001 60.146559999999226 -0.98019000000000001 -0.18795799999999999 370.04820000000473 0.0 0.0 1.0\" /tmp/s2p_Z_Fd1q.tif /dev/null - | BILINEAR=1 backflow - /tmp/prison_2_right_height.tif /tmp/prison_2_right_height_unrect.tif", 
        "synflow hom \"-0.18795799999999999 0.98019000000000001 60.146559999999226 -0.98019000000000001 -0.18795799999999999 370.04820000000473 0.0 0.0 1.0\" /tmp/s2p_Z_Fd1q.tif /dev/null - | BILINEAR=1 backflow - /tmp/prison_2_right_mask.png /tmp/prison_2_right_mask_unrect.png"
       ]
      }, 
      {
       "output_type": "stream", 
       "stream": "stdout", 
       "text": [
        "", 
        "v /tmp/prison_2_right2.tif /tmp/prison_2_right3.tif /tmp/prison_2_right_disp.pgm /tmp/prison_2_right_mask.png"
       ]
      }, 
      {
       "output_type": "stream", 
       "stream": "stdout", 
       "text": [
        "", 
        "downsa e 4 /tmp/prison_2_left_height_unrect.tif /tmp/s2p_YOeeNi.tif", 
        "downsa e 4 /tmp/prison_2_right_height_unrect.tif /tmp/s2p_ZjOUxZ.tif", 
        "(6000,)", 
        "(5896,)", 
        "plambda /tmp/prison_2_right_height_unrect.tif \"x -1.252617 +\" > /tmp/s2p_62R1aR.tif", 
        "", 
        "        plambda /tmp/prison_2_left_height_unrect.tif /tmp/s2p_62R1aR.tif \"x isfinite y isfinite x y - fabs 3.000000 < x y + 2 / nan if x", 
        "        if y if\" > /tmp/prison_2_height_merged.tif", 
        "        "
       ]
      }, 
      {
       "output_type": "stream", 
       "stream": "stdout", 
       "text": [
        "", 
        "rm /tmp/s2p_62R1aR.tif"
       ]
      }, 
      {
       "output_type": "stream", 
       "stream": "stdout", 
       "text": [
        "", 
        "rm /tmp/s2p_ZjOUxZ.tif", 
        "rm /tmp/s2p_YOeeNi.tif", 
        "rm /tmp/s2p_Z_Fd1q.tif", 
        "rm /tmp/s2p_z1s4UN.tif", 
        "rm /tmp/s2p_phBQMf.txt", 
        "rm /tmp/s2p_c9xgNm.txt", 
        "rm /tmp/s2p_G571ma.png", 
        "rm /tmp/s2p_W0ugSU.txt", 
        "rm /tmp/s2p_2C9Srb.tif", 
        "rm /tmp/s2p_7Mxqkc.tif", 
        "rm /tmp/s2p_0_j__9.txt"
       ]
      }, 
      {
       "output_type": "stream", 
       "stream": "stdout", 
       "text": [
        "", 
        "rm /tmp/s2p_4TOb7U.tif", 
        "rm /tmp/s2p_CLkDEF.tif", 
        "rm /tmp/s2p_4daBz3.png", 
        "rm /tmp/s2p_884Z54.txt", 
        "rm /tmp/s2p_b87Xc3.tif", 
        "rm /tmp/s2p_PY4dPx.tif", 
        "rm /tmp/s2p_ojzrFF.txt", 
        "rm /tmp/s2p_rP5UVx.tif", 
        "rm /tmp/s2p_wPmVRU.tif", 
        "rm /tmp/s2p_kCjykP.txt", 
        "rm /tmp/s2p_s1xYu6.txt"
       ]
      }, 
      {
       "output_type": "stream", 
       "stream": "stdout", 
       "text": [
        "", 
        "rm /tmp/s2p_H_tW28.png", 
        "rm /tmp/s2p_ciUeEu.txt", 
        "rm /tmp/s2p_siogSm.txt", 
        "rm /tmp/s2p_AcSVyX.png", 
        "rm /tmp/s2p_6IijyC.txt", 
        "rm /tmp/s2p_lryZgD.tif", 
        "rm /tmp/s2p_Ybpr7H.tif", 
        "rm /tmp/s2p_b_uT5O.tif", 
        "rm /tmp/s2p_iIuK4u.tif", 
        "rm /tmp/s2p_RTVYhD.txt", 
        "rm /tmp/s2p_A8YW23.txt"
       ]
      }, 
      {
       "output_type": "stream", 
       "stream": "stdout", 
       "text": [
        "", 
        "rm /tmp/s2p_ogEmFy.txt", 
        "rm /tmp/s2p_m98TQJ.txt", 
        "rm /tmp/s2p_nrr3Y7.txt", 
        "rm /tmp/s2p_5wjf9I.txt", 
        "rm /tmp/s2p_W1AiHN.txt", 
        "rm /tmp/s2p_vplFHe.txt", 
        "rm /tmp/s2p_3wboOm.txt", 
        "rm /tmp/s2p_zF839C.txt", 
        "rm /tmp/s2p_UAAElQ.txt", 
        "rm /tmp/s2p_fE2y5i.png", 
        "rm /tmp/s2p_mav3if.txt", 
        "rm /tmp/s2p_0JoEwY.txt"
       ]
      }, 
      {
       "output_type": "stream", 
       "stream": "stdout", 
       "text": [
        "", 
        "rm /tmp/s2p_coUCSL.png", 
        "rm /tmp/s2p_KH6o4B.txt", 
        "rm /tmp/s2p_rzzHc4.tif", 
        "rm /tmp/s2p_jOIFBt.tif", 
        "rm /tmp/s2p_hMsNxu.tif", 
        "rm /tmp/s2p_xfJduK.tif", 
        "rm /tmp/s2p_hgFr8z.txt", 
        "rm /tmp/s2p_oFK_s4.txt", 
        "rm /tmp/s2p_rQUPOD.tif", 
        "rm /tmp/s2p_xlNbqy.tif", 
        "rm /tmp/s2p_l6OwJS.txt"
       ]
      }, 
      {
       "output_type": "stream", 
       "stream": "stdout", 
       "text": [
        "", 
        "rm /tmp/s2p_kR8bEn.txt", 
        "rm /tmp/s2p_5HyDW0.png", 
        "rm /tmp/s2p_Su1qR5.txt", 
        "rm /tmp/s2p_Rp8CJM.tif", 
        "rm /tmp/s2p_3TulX_.tif", 
        "rm /tmp/s2p__16fPg.txt", 
        "rm /tmp/s2p_iOlvx1.tif", 
        "rm /tmp/s2p_sV5_Z4.tif", 
        "rm /tmp/s2p_Fitqhk.png", 
        "rm /tmp/s2p_nuwp9N.txt", 
        "rm /tmp/s2p_NkVl0S.tif", 
        "rm /tmp/s2p_FD1HM7.tif"
       ]
      }, 
      {
       "output_type": "stream", 
       "stream": "stdout", 
       "text": [
        "", 
        "rm /tmp/s2p_emW_En.txt", 
        "rm /tmp/s2p_5F02Le.tif", 
        "rm /tmp/s2p_jZG7yn.tif", 
        "rm /tmp/s2p_1aeByV.txt", 
        "rm /tmp/s2p_OJU08f.txt", 
        "rm /tmp/s2p_zHftv1.png", 
        "rm /tmp/s2p_4MpGaF.txt", 
        "rm /tmp/s2p_btlrbq.txt", 
        "rm /tmp/s2p_fMvlqf.png", 
        "rm /tmp/s2p_fP5s57.txt", 
        "rm /tmp/s2p_TETcoZ.tif"
       ]
      }, 
      {
       "output_type": "stream", 
       "stream": "stdout", 
       "text": [
        "", 
        "rm /tmp/s2p_TKCCX0.tif", 
        "rm /tmp/s2p_RZrxXh.tif", 
        "rm /tmp/s2p_Cjnzaz.tif", 
        "rm /tmp/s2p_p4mx7o.txt", 
        "rm /tmp/s2p_JoOeSK.txt", 
        "rm /tmp/s2p_vu0OCT.txt", 
        "rm /tmp/s2p_lXxp_l.txt", 
        "rm /tmp/s2p_NARtuo.txt", 
        "rm /tmp/s2p_esQ0ZO.txt", 
        "rm /tmp/s2p_PPpj2r.txt", 
        "rm /tmp/s2p_qHgoRs.txt"
       ]
      }, 
      {
       "output_type": "stream", 
       "stream": "stdout", 
       "text": [
        "", 
        "rm /tmp/s2p_i6N_jk.txt", 
        "rm /tmp/s2p_AT46m_.txt", 
        "rm /tmp/s2p_AZ4vn9.txt", 
        "rm /tmp/s2p_G8Ap6Y.png", 
        "rm /tmp/s2p_349MDq.txt", 
        "rm /tmp/s2p_2z0yJC.txt", 
        "rm /tmp/s2p_EpCCHn.png", 
        "rm /tmp/s2p__YnezJ.txt", 
        "rm /tmp/s2p_RYZTKq.tif", 
        "rm /tmp/s2p_h6glvq.tif", 
        "rm /tmp/s2p_tokM1d.tif", 
        "rm /tmp/s2p_1pbbDG.tif"
       ]
      }, 
      {
       "output_type": "stream", 
       "stream": "stdout", 
       "text": [
        "", 
        "rm /tmp/s2p_IeSR1X.txt", 
        "rm /tmp/s2p_Ro9nfz.txt", 
        "ROI x, y, w, h = 20373, 18639, 329, 349", 
        "ROI x, y, w, h = 20373, 18639, 329, 349", 
        "gdal_translate -srcwin 20373 18639 329 349 'pleiades_data/images/toulouse/im03.tif' '/tmp/s2p_jWUVGZ.tif'"
       ]
      }, 
      {
       "output_type": "stream", 
       "stream": "stdout", 
       "text": [
        "", 
        "tiffcp /tmp/s2p_jWUVGZ.tif /tmp/s2p_ni2f3B.tif 2> /dev/null", 
        "gdal_translate -srcwin 20370 17811 340 464 'pleiades_data/images/toulouse/im01.tif' '/tmp/s2p_BvoTkb.tif'", 
        "tiffcp /tmp/s2p_BvoTkb.tif /tmp/s2p_PCvL7X.tif 2> /dev/null"
       ]
      }, 
      {
       "output_type": "stream", 
       "stream": "stdout", 
       "text": [
        "", 
        "qauto /tmp/s2p_ni2f3B.tif /tmp/s2p_BQ6S9b.png 2> /dev/null", 
        "sift_keypoints /tmp/s2p_BQ6S9b.png /tmp/s2p_ysQL7W.txt", 
        "awk '{if (NR!=1) {print}}' /tmp/s2p_ysQL7W.txt > /tmp/s2p_xK4xid.txt"
       ]
      }, 
      {
       "output_type": "stream", 
       "stream": "stdout", 
       "text": [
        "", 
        "cp /tmp/s2p_xK4xid.txt /tmp/s2p_ysQL7W.txt", 
        "qauto /tmp/s2p_PCvL7X.tif /tmp/s2p_Wwgc2E.png 2> /dev/null", 
        "sift_keypoints /tmp/s2p_Wwgc2E.png /tmp/s2p_7PDMxx.txt", 
        "awk '{if (NR!=1) {print}}' /tmp/s2p_7PDMxx.txt > /tmp/s2p_kEsTCB.txt"
       ]
      }, 
      {
       "output_type": "stream", 
       "stream": "stdout", 
       "text": [
        "", 
        "cp /tmp/s2p_kEsTCB.txt /tmp/s2p_7PDMxx.txt", 
        "matching /tmp/s2p_ysQL7W.txt /tmp/s2p_7PDMxx.txt 1 0.400000 4 8 36 > /tmp/s2p_zquTgy.txt", 
        "ransac fmn 1000 .3 7 /tmp/s2p_bRYEnW.txt < /tmp/s2p_aWTbJe.txt"
       ]
      }, 
      {
       "output_type": "stream", 
       "stream": "stdout", 
       "text": [
        "", 
        "running optimization using 20 matches", 
        "[  5.00687153e-29   9.37863809e-01   1.81575503e-01  -5.28334518e-29]"
       ]
      }, 
      {
       "output_type": "stream", 
       "stream": "stdout", 
       "text": [
        " 4.14770502635 {'warnflag': 0, 'task': 'CONVERGENCE: REL_REDUCTION_OF_F <= FACTR*EPSMCH', 'grad': array([-0.00380673, -0.01093081, -0.01485159,  0.00516795]), 'funcalls': 18}", 
        "step 1: find matches, and center them ------------------------------", 
        "applying pointing error correction"
       ]
      }, 
      {
       "output_type": "stream", 
       "stream": "stdout", 
       "text": [
        "", 
        "step 2: estimate F (8-points algorithm) ----------------------------", 
        "step 3: compute rectifying homographies (loop-zhang algorithm) -----", 
        "rectify_mindistortion /tmp/s2p_jKli_p.txt 329 349 /tmp/s2p_oekDJA.txt /tmp/s2p_Qw3hYy.txt > /dev/null", 
        "max, min, mean rectification error on rpc matches ------------------"
       ]
      }, 
      {
       "output_type": "stream", 
       "stream": "stdout", 
       "text": [
        "", 
        "0.00370198931881 9.53625647071e-06 0.00132301482207", 
        "step 4: pull back top-left corner of the ROI in the origin ---------", 
        "step 5: horizontal registration ------------------------------------", 
        "gdal_translate -srcwin 20373 18639 329 349 'pleiades_data/images/toulouse/im03.tif' '/tmp/s2p_qEZC0J.tif'"
       ]
      }, 
      {
       "output_type": "stream", 
       "stream": "stdout", 
       "text": [
        "", 
        "tiffcp /tmp/s2p_qEZC0J.tif /tmp/s2p__yXjUl.tif 2> /dev/null", 
        "gdal_translate -srcwin 20370 17811 340 464 'pleiades_data/images/toulouse/im01.tif' '/tmp/s2p_pbOhJO.tif'", 
        "tiffcp /tmp/s2p_pbOhJO.tif /tmp/s2p_GWtObz.tif 2> /dev/null"
       ]
      }, 
      {
       "output_type": "stream", 
       "stream": "stdout", 
       "text": [
        "", 
        "qauto /tmp/s2p__yXjUl.tif /tmp/s2p_AlJfhl.png 2> /dev/null", 
        "sift_keypoints /tmp/s2p_AlJfhl.png /tmp/s2p_OfGnRu.txt", 
        "awk '{if (NR!=1) {print}}' /tmp/s2p_OfGnRu.txt > /tmp/s2p_PmrX9n.txt"
       ]
      }, 
      {
       "output_type": "stream", 
       "stream": "stdout", 
       "text": [
        "", 
        "cp /tmp/s2p_PmrX9n.txt /tmp/s2p_OfGnRu.txt", 
        "qauto /tmp/s2p_GWtObz.tif /tmp/s2p_Aw0SXf.png 2> /dev/null", 
        "sift_keypoints /tmp/s2p_Aw0SXf.png /tmp/s2p_1gmhc_.txt"
       ]
      }, 
      {
       "output_type": "stream", 
       "stream": "stdout", 
       "text": [
        "", 
        "awk '{if (NR!=1) {print}}' /tmp/s2p_1gmhc_.txt > /tmp/s2p_JEJru8.txt"
       ]
      }, 
      {
       "output_type": "stream", 
       "stream": "stdout", 
       "text": [
        "", 
        "cp /tmp/s2p_JEJru8.txt /tmp/s2p_1gmhc_.txt", 
        "matching /tmp/s2p_OfGnRu.txt /tmp/s2p_1gmhc_.txt 1 0.400000 4 8 36 > /tmp/s2p_gLAf2J.txt", 
        "remaining sift matches"
       ]
      }, 
      {
       "output_type": "stream", 
       "stream": "stdout", 
       "text": [
        " 18", 
        "Residual vertical disparities: max, min, mean. Should be zero ------", 
        "0.367033050331 -0.37822859243 -0.0152735743735", 
        "gdal_translate -srcwin 20307 18576 461 474 'pleiades_data/images/toulouse/im03.tif' '/tmp/s2p_OpfF8q.tif'", 
        "tiffcp /tmp/s2p_OpfF8q.tif /tmp/s2p_5B1VzS.tif 2> /dev/null", 
        "imprintf \"%c\" '/tmp/s2p_5B1VzS.tif' > /tmp/s2p_YCVIem.txt", 
        "zoom_zeropadding /tmp/s2p_5B1VzS.tif /home/carlo/code/s2p/python/../pleiades_data/idata_0009_MTF_89x89.tif /tmp/s2p_TX_znO.tif"
       ]
      }, 
      {
       "output_type": "stream", 
       "stream": "stdout", 
       "text": [
        "", 
        "fftconvolve /tmp/s2p_TX_znO.tif /tmp/s2p_5B1VzS.tif /tmp/s2p_TkMAQD.tif"
       ]
      }, 
      {
       "output_type": "stream", 
       "stream": "stdout", 
       "text": [
        "", 
        "homography /tmp/s2p_TkMAQD.tif /tmp/s2p_wHwYAK.txt /tmp/s2p_pyOweT.png /tmp/prison_3_left3.tif 0 405 389"
       ]
      }, 
      {
       "output_type": "stream", 
       "stream": "stdout", 
       "text": [
        "", 
        "gdal_translate -srcwin 20307 17816 453 505 'pleiades_data/images/toulouse/im01.tif' '/tmp/s2p_aljVK3.tif'"
       ]
      }, 
      {
       "output_type": "stream", 
       "stream": "stdout", 
       "text": [
        "", 
        "tiffcp /tmp/s2p_aljVK3.tif /tmp/s2p_KwWdeC.tif 2> /dev/null", 
        "imprintf \"%c\" '/tmp/s2p_KwWdeC.tif' > /tmp/s2p_pBSHAV.txt", 
        "zoom_zeropadding /tmp/s2p_KwWdeC.tif /home/carlo/code/s2p/python/../pleiades_data/idata_0009_MTF_89x89.tif /tmp/s2p_PVMUp2.tif", 
        "fftconvolve /tmp/s2p_PVMUp2.tif /tmp/s2p_KwWdeC.tif /tmp/s2p_zYc8r7.tif"
       ]
      }, 
      {
       "output_type": "stream", 
       "stream": "stdout", 
       "text": [
        "", 
        "homography /tmp/s2p_zYc8r7.tif /tmp/s2p_KrTbIi.txt /tmp/s2p_frdoPQ.png /tmp/prison_3_left1.tif 0 405 389"
       ]
      }, 
      {
       "output_type": "stream", 
       "stream": "stdout", 
       "text": [
        "", 
        "/home/carlo/code/s2p/python/../3rdparty/stereo_hirschmuller_2008/callSGBM.sh /tmp/prison_3_left3.tif /tmp/prison_3_left1.tif /tmp/prison_3_left_disp.pgm /tmp/prison_3_left_mask.png -4 4 "
       ]
      }, 
      {
       "output_type": "stream", 
       "stream": "stdout", 
       "text": [
        "", 
        "disp_to_h pleiades_data/rpc/toulouse/rpc03.xml pleiades_data/rpc/toulouse/rpc01.xml /tmp/s2p_nAGLuH.txt /tmp/s2p_jocF80.txt /tmp/prison_3_left_disp.pgm /tmp/prison_3_left_mask.png /tmp/prison_3_left_height.tif /tmp/prison_3_left_rpc_err.tif"
       ]
      }, 
      {
       "output_type": "stream", 
       "stream": "stdout", 
       "text": [
        "", 
        "gdal_translate -srcwin 20373 18639 329 349 'pleiades_data/images/toulouse/im03.tif' '/tmp/s2p_qpZ40s.tif'"
       ]
      }, 
      {
       "output_type": "stream", 
       "stream": "stdout", 
       "text": [
        "", 
        "tiffcp /tmp/s2p_qpZ40s.tif /tmp/s2p_wwrSwt.tif 2> /dev/null", 
        "synflow hom \"-0.19245599999999999 0.98083200000000004 63.31802400000015 -0.98083200000000004 -0.19245599999999999 389.86087199999747 0.0 0.0 1.0\" /tmp/s2p_wwrSwt.tif /dev/null - | BILINEAR=1 backflow - /tmp/prison_3_left_height.tif /tmp/prison_3_left_height_unrect.tif", 
        "synflow hom \"-0.19245599999999999 0.98083200000000004 63.31802400000015 -0.98083200000000004 -0.19245599999999999 389.86087199999747 0.0 0.0 1.0\" /tmp/s2p_wwrSwt.tif /dev/null - | BILINEAR=1 backflow - /tmp/prison_3_left_mask.png /tmp/prison_3_left_mask_unrect.png"
       ]
      }, 
      {
       "output_type": "stream", 
       "stream": "stdout", 
       "text": [
        "", 
        "v /tmp/prison_3_left3.tif /tmp/prison_3_left1.tif /tmp/prison_3_left_disp.pgm /tmp/prison_3_left_mask.png"
       ]
      }, 
      {
       "output_type": "stream", 
       "stream": "stdout", 
       "text": [
        "", 
        "ROI x, y, w, h = 20373, 18639, 329, 349", 
        "gdal_translate -srcwin 20373 18639 329 349 'pleiades_data/images/toulouse/im03.tif' '/tmp/s2p_najXbN.tif'"
       ]
      }, 
      {
       "output_type": "stream", 
       "stream": "stdout", 
       "text": [
        "", 
        "tiffcp /tmp/s2p_najXbN.tif /tmp/s2p_EBe7Ot.tif 2> /dev/null", 
        "gdal_translate -srcwin 20372 18545 336 411 'pleiades_data/images/toulouse/im02.tif' '/tmp/s2p_lS2uJg.tif'", 
        "tiffcp /tmp/s2p_lS2uJg.tif /tmp/s2p_gnO22p.tif 2> /dev/null"
       ]
      }, 
      {
       "output_type": "stream", 
       "stream": "stdout", 
       "text": [
        "", 
        "qauto /tmp/s2p_EBe7Ot.tif /tmp/s2p_RpBuJV.png 2> /dev/null", 
        "sift_keypoints /tmp/s2p_RpBuJV.png /tmp/s2p_rMMBMV.txt", 
        "awk '{if (NR!=1) {print}}' /tmp/s2p_rMMBMV.txt > /tmp/s2p_PllfZn.txt"
       ]
      }, 
      {
       "output_type": "stream", 
       "stream": "stdout", 
       "text": [
        "", 
        "cp /tmp/s2p_PllfZn.txt /tmp/s2p_rMMBMV.txt", 
        "qauto /tmp/s2p_gnO22p.tif /tmp/s2p_BLNFT3.png 2> /dev/null", 
        "sift_keypoints /tmp/s2p_BLNFT3.png /tmp/s2p_u7s9Sa.txt"
       ]
      }, 
      {
       "output_type": "stream", 
       "stream": "stdout", 
       "text": [
        "", 
        "awk '{if (NR!=1) {print}}' /tmp/s2p_u7s9Sa.txt > /tmp/s2p_6UDCGw.txt"
       ]
      }, 
      {
       "output_type": "stream", 
       "stream": "stdout", 
       "text": [
        "", 
        "cp /tmp/s2p_6UDCGw.txt /tmp/s2p_u7s9Sa.txt", 
        "matching /tmp/s2p_rMMBMV.txt /tmp/s2p_u7s9Sa.txt 1 0.400000 4 8 36 > /tmp/s2p_iPiRUi.txt", 
        "ransac fmn 1000 .3 7 /tmp/s2p_2aRA1C.txt < /tmp/s2p_viY76h.txt"
       ]
      }, 
      {
       "output_type": "stream", 
       "stream": "stdout", 
       "text": [
        "", 
        "running optimization using 80 matches", 
        "[ -4.69521183e-28   3.01720588e-01   5.78657444e-02  -2.95551968e-28]"
       ]
      }, 
      {
       "output_type": "stream", 
       "stream": "stdout", 
       "text": [
        " 10.3909842047 {'warnflag': 0, 'task': 'CONVERGENCE: REL_REDUCTION_OF_F <= FACTR*EPSMCH', 'grad': array([-0.00710649,  0.17615474,  0.13938291,  0.03931113]), 'funcalls': 16}", 
        "step 1: find matches, and center them ------------------------------", 
        "applying pointing error correction"
       ]
      }, 
      {
       "output_type": "stream", 
       "stream": "stdout", 
       "text": [
        "", 
        "step 2: estimate F (8-points algorithm) ----------------------------", 
        "step 3: compute rectifying homographies (loop-zhang algorithm) -----", 
        "rectify_mindistortion /tmp/s2p_YLhUsz.txt 329 349 /tmp/s2p_7RzHJe.txt /tmp/s2p_oN83bX.txt > /dev/null", 
        "max, min, mean rectification error on rpc matches ------------------"
       ]
      }, 
      {
       "output_type": "stream", 
       "stream": "stdout", 
       "text": [
        "", 
        "0.00178332863186 6.65840241254e-06 0.000475586115148", 
        "step 4: pull back top-left corner of the ROI in the origin ---------", 
        "step 5: horizontal registration ------------------------------------", 
        "gdal_translate -srcwin 20373 18639 329 349 'pleiades_data/images/toulouse/im03.tif' '/tmp/s2p_24UuXf.tif'"
       ]
      }, 
      {
       "output_type": "stream", 
       "stream": "stdout", 
       "text": [
        "", 
        "tiffcp /tmp/s2p_24UuXf.tif /tmp/s2p_94vTBJ.tif 2> /dev/null", 
        "gdal_translate -srcwin 20372 18545 336 411 'pleiades_data/images/toulouse/im02.tif' '/tmp/s2p_1LigZ8.tif'", 
        "tiffcp /tmp/s2p_1LigZ8.tif /tmp/s2p_lbWucc.tif 2> /dev/null"
       ]
      }, 
      {
       "output_type": "stream", 
       "stream": "stdout", 
       "text": [
        "", 
        "qauto /tmp/s2p_94vTBJ.tif /tmp/s2p_a4AcUc.png 2> /dev/null", 
        "sift_keypoints /tmp/s2p_a4AcUc.png /tmp/s2p_ZhtfT2.txt", 
        "awk '{if (NR!=1) {print}}' /tmp/s2p_ZhtfT2.txt > /tmp/s2p_rb_V0W.txt"
       ]
      }, 
      {
       "output_type": "stream", 
       "stream": "stdout", 
       "text": [
        "", 
        "cp /tmp/s2p_rb_V0W.txt /tmp/s2p_ZhtfT2.txt", 
        "qauto /tmp/s2p_lbWucc.tif /tmp/s2p_zas6gK.png 2> /dev/null", 
        "sift_keypoints /tmp/s2p_zas6gK.png /tmp/s2p_uAmqal.txt"
       ]
      }, 
      {
       "output_type": "stream", 
       "stream": "stdout", 
       "text": [
        "", 
        "awk '{if (NR!=1) {print}}' /tmp/s2p_uAmqal.txt > /tmp/s2p_uV4kDH.txt"
       ]
      }, 
      {
       "output_type": "stream", 
       "stream": "stdout", 
       "text": [
        "", 
        "cp /tmp/s2p_uV4kDH.txt /tmp/s2p_uAmqal.txt", 
        "matching /tmp/s2p_ZhtfT2.txt /tmp/s2p_uAmqal.txt 1 0.400000 4 8 36 > /tmp/s2p_FfEDYd.txt", 
        "remaining sift matches"
       ]
      }, 
      {
       "output_type": "stream", 
       "stream": "stdout", 
       "text": [
        " 97", 
        "Residual vertical disparities: max, min, mean. Should be zero ------", 
        "0.48848074549 -0.446193747571 -0.0612213124843", 
        "gdal_translate -srcwin 20307 18577 460 473 'pleiades_data/images/toulouse/im03.tif' '/tmp/s2p_xWnjHh.tif'", 
        "tiffcp /tmp/s2p_xWnjHh.tif /tmp/s2p_V2I9eH.tif 2> /dev/null", 
        "imprintf \"%c\" '/tmp/s2p_V2I9eH.tif' > /tmp/s2p_NhB09Q.txt", 
        "zoom_zeropadding /tmp/s2p_V2I9eH.tif /home/carlo/code/s2p/python/../pleiades_data/idata_0009_MTF_89x89.tif /tmp/s2p_6XMDGu.tif", 
        "fftconvolve /tmp/s2p_6XMDGu.tif /tmp/s2p_V2I9eH.tif /tmp/s2p_8yT_re.tif"
       ]
      }, 
      {
       "output_type": "stream", 
       "stream": "stdout", 
       "text": [
        "", 
        "homography /tmp/s2p_8yT_re.tif /tmp/s2p_AyRgUg.txt /tmp/s2p_51PN9v.png /tmp/prison_3_right3.tif 0 406 390"
       ]
      }, 
      {
       "output_type": "stream", 
       "stream": "stdout", 
       "text": [
        "", 
        "gdal_translate -srcwin 20308 18518 458 491 'pleiades_data/images/toulouse/im02.tif' '/tmp/s2p_eSvDx9.tif'"
       ]
      }, 
      {
       "output_type": "stream", 
       "stream": "stdout", 
       "text": [
        "", 
        "tiffcp /tmp/s2p_eSvDx9.tif /tmp/s2p_PW8HpI.tif 2> /dev/null", 
        "imprintf \"%c\" '/tmp/s2p_PW8HpI.tif' > /tmp/s2p_CJNTQn.txt", 
        "zoom_zeropadding /tmp/s2p_PW8HpI.tif /home/carlo/code/s2p/python/../pleiades_data/idata_0009_MTF_89x89.tif /tmp/s2p_1ZwoD5.tif", 
        "fftconvolve /tmp/s2p_1ZwoD5.tif /tmp/s2p_PW8HpI.tif /tmp/s2p_uYvxRV.tif"
       ]
      }, 
      {
       "output_type": "stream", 
       "stream": "stdout", 
       "text": [
        "", 
        "homography /tmp/s2p_uYvxRV.tif /tmp/s2p_4zUlsr.txt /tmp/s2p_OQckGT.png /tmp/prison_3_right2.tif 0 406 390"
       ]
      }, 
      {
       "output_type": "stream", 
       "stream": "stdout", 
       "text": [
        "", 
        "/home/carlo/code/s2p/python/../3rdparty/stereo_hirschmuller_2008/callSGBM.sh /tmp/prison_3_right3.tif /tmp/prison_3_right2.tif /tmp/prison_3_right_disp.pgm /tmp/prison_3_right_mask.png -4 6 "
       ]
      }, 
      {
       "output_type": "stream", 
       "stream": "stdout", 
       "text": [
        "", 
        "disp_to_h pleiades_data/rpc/toulouse/rpc03.xml pleiades_data/rpc/toulouse/rpc02.xml /tmp/s2p_6ILYvM.txt /tmp/s2p_TY7MO8.txt /tmp/prison_3_right_disp.pgm /tmp/prison_3_right_mask.png /tmp/prison_3_right_height.tif /tmp/prison_3_right_rpc_err.tif"
       ]
      }, 
      {
       "output_type": "stream", 
       "stream": "stdout", 
       "text": [
        "", 
        "gdal_translate -srcwin 20373 18639 329 349 'pleiades_data/images/toulouse/im03.tif' '/tmp/s2p_o9CLPY.tif'"
       ]
      }, 
      {
       "output_type": "stream", 
       "stream": "stdout", 
       "text": [
        "", 
        "tiffcp /tmp/s2p_o9CLPY.tif /tmp/s2p_Fg1RXZ.tif 2> /dev/null", 
        "synflow hom \"-0.19106000000000001 0.98355499999999996 62.85874000000149 -0.98355499999999996 -0.19106000000000001 390.26953499999945 0.0 0.0 1.0\" /tmp/s2p_Fg1RXZ.tif /dev/null - | BILINEAR=1 backflow - /tmp/prison_3_right_height.tif /tmp/prison_3_right_height_unrect.tif", 
        "synflow hom \"-0.19106000000000001 0.98355499999999996 62.85874000000149 -0.98355499999999996 -0.19106000000000001 390.26953499999945 0.0 0.0 1.0\" /tmp/s2p_Fg1RXZ.tif /dev/null - | BILINEAR=1 backflow - /tmp/prison_3_right_mask.png /tmp/prison_3_right_mask_unrect.png"
       ]
      }, 
      {
       "output_type": "stream", 
       "stream": "stdout", 
       "text": [
        "", 
        "v /tmp/prison_3_right3.tif /tmp/prison_3_right2.tif /tmp/prison_3_right_disp.pgm /tmp/prison_3_right_mask.png"
       ]
      }, 
      {
       "output_type": "stream", 
       "stream": "stdout", 
       "text": [
        "", 
        "downsa e 4 /tmp/prison_3_left_height_unrect.tif /tmp/s2p_3DWi3p.tif", 
        "downsa e 4 /tmp/prison_3_right_height_unrect.tif /tmp/s2p_s2g2sR.tif", 
        "(7134,)", 
        "(6564,)", 
        "plambda /tmp/prison_3_right_height_unrect.tif \"x -0.502875 +\" > /tmp/s2p_MPoKCj.tif", 
        "", 
        "        plambda /tmp/prison_3_left_height_unrect.tif /tmp/s2p_MPoKCj.tif \"x isfinite y isfinite x y - fabs 3.000000 < x y + 2 / nan if x", 
        "        if y if\" > /tmp/prison_3_height_merged.tif", 
        "        "
       ]
      }, 
      {
       "output_type": "stream", 
       "stream": "stdout", 
       "text": [
        "", 
        "rm /tmp/s2p_MPoKCj.tif"
       ]
      }, 
      {
       "output_type": "stream", 
       "stream": "stdout", 
       "text": [
        "", 
        "rm /tmp/s2p_s2g2sR.tif", 
        "rm /tmp/s2p_3DWi3p.tif", 
        "rm /tmp/s2p_Fg1RXZ.tif", 
        "rm /tmp/s2p_o9CLPY.tif", 
        "rm /tmp/s2p_TY7MO8.txt", 
        "rm /tmp/s2p_6ILYvM.txt", 
        "rm /tmp/s2p_OQckGT.png", 
        "rm /tmp/s2p_4zUlsr.txt", 
        "rm /tmp/s2p_uYvxRV.tif", 
        "rm /tmp/s2p_1ZwoD5.tif", 
        "rm /tmp/s2p_CJNTQn.txt"
       ]
      }, 
      {
       "output_type": "stream", 
       "stream": "stdout", 
       "text": [
        "", 
        "rm /tmp/s2p_PW8HpI.tif", 
        "rm /tmp/s2p_eSvDx9.tif", 
        "rm /tmp/s2p_51PN9v.png", 
        "rm /tmp/s2p_AyRgUg.txt", 
        "rm /tmp/s2p_8yT_re.tif", 
        "rm /tmp/s2p_6XMDGu.tif", 
        "rm /tmp/s2p_NhB09Q.txt", 
        "rm /tmp/s2p_V2I9eH.tif", 
        "rm /tmp/s2p_xWnjHh.tif", 
        "rm /tmp/s2p_FfEDYd.txt", 
        "rm /tmp/s2p_uV4kDH.txt"
       ]
      }, 
      {
       "output_type": "stream", 
       "stream": "stdout", 
       "text": [
        "", 
        "rm /tmp/s2p_zas6gK.png", 
        "rm /tmp/s2p_uAmqal.txt", 
        "rm /tmp/s2p_rb_V0W.txt", 
        "rm /tmp/s2p_a4AcUc.png", 
        "rm /tmp/s2p_ZhtfT2.txt", 
        "rm /tmp/s2p_lbWucc.tif", 
        "rm /tmp/s2p_1LigZ8.tif", 
        "rm /tmp/s2p_94vTBJ.tif", 
        "rm /tmp/s2p_24UuXf.tif", 
        "rm /tmp/s2p_8seYbs.txt", 
        "rm /tmp/s2p_EcGJh3.txt"
       ]
      }, 
      {
       "output_type": "stream", 
       "stream": "stdout", 
       "text": [
        "", 
        "rm /tmp/s2p_oN83bX.txt", 
        "rm /tmp/s2p_7RzHJe.txt", 
        "rm /tmp/s2p_YLhUsz.txt", 
        "rm /tmp/s2p_y5Q2GE.txt", 
        "rm /tmp/s2p_6SBanC.txt", 
        "rm /tmp/s2p_2aRA1C.txt", 
        "rm /tmp/s2p_viY76h.txt", 
        "rm /tmp/s2p_iPiRUi.txt", 
        "rm /tmp/s2p_6UDCGw.txt", 
        "rm /tmp/s2p_BLNFT3.png", 
        "rm /tmp/s2p_u7s9Sa.txt"
       ]
      }, 
      {
       "output_type": "stream", 
       "stream": "stdout", 
       "text": [
        "", 
        "rm /tmp/s2p_PllfZn.txt", 
        "rm /tmp/s2p_RpBuJV.png", 
        "rm /tmp/s2p_rMMBMV.txt", 
        "rm /tmp/s2p_gnO22p.tif", 
        "rm /tmp/s2p_lS2uJg.tif", 
        "rm /tmp/s2p_EBe7Ot.tif", 
        "rm /tmp/s2p_najXbN.tif", 
        "rm /tmp/s2p_kzEHR0.txt", 
        "rm /tmp/s2p_XM3K63.txt", 
        "rm /tmp/s2p_wwrSwt.tif", 
        "rm /tmp/s2p_qpZ40s.tif"
       ]
      }, 
      {
       "output_type": "stream", 
       "stream": "stdout", 
       "text": [
        "", 
        "rm /tmp/s2p_jocF80.txt", 
        "rm /tmp/s2p_nAGLuH.txt", 
        "rm /tmp/s2p_frdoPQ.png", 
        "rm /tmp/s2p_KrTbIi.txt", 
        "rm /tmp/s2p_zYc8r7.tif", 
        "rm /tmp/s2p_PVMUp2.tif", 
        "rm /tmp/s2p_pBSHAV.txt", 
        "rm /tmp/s2p_KwWdeC.tif", 
        "rm /tmp/s2p_aljVK3.tif", 
        "rm /tmp/s2p_pyOweT.png", 
        "rm /tmp/s2p_wHwYAK.txt", 
        "rm /tmp/s2p_TkMAQD.tif"
       ]
      }, 
      {
       "output_type": "stream", 
       "stream": "stdout", 
       "text": [
        "", 
        "rm /tmp/s2p_TX_znO.tif", 
        "rm /tmp/s2p_YCVIem.txt", 
        "rm /tmp/s2p_5B1VzS.tif", 
        "rm /tmp/s2p_OpfF8q.tif", 
        "rm /tmp/s2p_gLAf2J.txt", 
        "rm /tmp/s2p_JEJru8.txt", 
        "rm /tmp/s2p_Aw0SXf.png", 
        "rm /tmp/s2p_1gmhc_.txt", 
        "rm /tmp/s2p_PmrX9n.txt", 
        "rm /tmp/s2p_AlJfhl.png", 
        "rm /tmp/s2p_OfGnRu.txt"
       ]
      }, 
      {
       "output_type": "stream", 
       "stream": "stdout", 
       "text": [
        "", 
        "rm /tmp/s2p_GWtObz.tif", 
        "rm /tmp/s2p_pbOhJO.tif", 
        "rm /tmp/s2p__yXjUl.tif", 
        "rm /tmp/s2p_qEZC0J.tif", 
        "rm /tmp/s2p_6RmjQd.txt", 
        "rm /tmp/s2p_RHW6E0.txt", 
        "rm /tmp/s2p_Qw3hYy.txt", 
        "rm /tmp/s2p_oekDJA.txt", 
        "rm /tmp/s2p_jKli_p.txt", 
        "rm /tmp/s2p_k211uQ.txt", 
        "rm /tmp/s2p_Q7KoFu.txt"
       ]
      }, 
      {
       "output_type": "stream", 
       "stream": "stdout", 
       "text": [
        "", 
        "rm /tmp/s2p_bRYEnW.txt", 
        "rm /tmp/s2p_aWTbJe.txt", 
        "rm /tmp/s2p_zquTgy.txt", 
        "rm /tmp/s2p_kEsTCB.txt", 
        "rm /tmp/s2p_Wwgc2E.png", 
        "rm /tmp/s2p_7PDMxx.txt", 
        "rm /tmp/s2p_xK4xid.txt", 
        "rm /tmp/s2p_BQ6S9b.png", 
        "rm /tmp/s2p_ysQL7W.txt", 
        "rm /tmp/s2p_PCvL7X.tif", 
        "rm /tmp/s2p_BvoTkb.tif"
       ]
      }, 
      {
       "output_type": "stream", 
       "stream": "stdout", 
       "text": [
        "", 
        "rm /tmp/s2p_ni2f3B.tif", 
        "rm /tmp/s2p_jWUVGZ.tif", 
        "rm /tmp/s2p_83XQyT.txt", 
        "rm /tmp/s2p_km0Tyr.txt"
       ]
      }
     ], 
     "prompt_number": 22
    }, 
    {
     "cell_type": "markdown", 
     "source": [
      "Generate the clouds"
     ]
    }, 
    {
     "cell_type": "code", 
     "collapsed": false, 
     "input": [
      "reload(main_script)"
     ], 
     "language": "python", 
     "outputs": [
      {
       "output_type": "pyout", 
       "prompt_number": 20, 
       "text": [
        "<module 'main_script' from 'main_script.py'>"
       ]
      }
     ], 
     "prompt_number": 20
    }, 
    {
     "cell_type": "code", 
     "collapsed": true, 
     "input": [
      "main_script.generate_cloud('toulouse', 'prison_1', x1, y1, w1, h1, dem1, 1)", 
      "main_script.generate_cloud('toulouse', 'prison_2', x2, y2, w2, h2, dem2, 2)", 
      "main_script.generate_cloud('toulouse', 'prison_3', x3, y3, w3, h3, dem3, 3)"
     ], 
     "language": "python", 
     "outputs": [
      {
       "output_type": "stream", 
       "stream": "stdout", 
       "text": [
        "gdal_translate -srcwin 20378 17866 324 354 'pleiades_data/images/toulouse/im01.tif' '/tmp/s2p_9inAbQ.tif'", 
        "tiffcp /tmp/s2p_9inAbQ.tif /tmp/s2p_RzlsnT.tif 2> /dev/null", 
        "cp /tmp/s2p_RzlsnT.tif /tmp/prison_1_roi_ref01.tif"
       ]
      }, 
      {
       "output_type": "stream", 
       "stream": "stdout", 
       "text": [
        "", 
        "imprintf \"%w %h\" '/tmp/prison_1_roi_ref01.tif' > /tmp/s2p_5GfqZW.txt", 
        "gdal_translate -srcwin 5095 4466 82 89 'pleiades_data/images/toulouse/im01_color.tif' '/tmp/s2p_lqhpht.tif'", 
        "tiffcp /tmp/s2p_lqhpht.tif /tmp/s2p_DWZlb4.tif 2> /dev/null"
       ]
      }, 
      {
       "output_type": "stream", 
       "stream": "stdout", 
       "text": [
        "", 
        "imprintf \"%w %h\" '/tmp/s2p_DWZlb4.tif' > /tmp/s2p_Kv3c9_.txt", 
        "zoom_2d /tmp/s2p_DWZlb4.tif /tmp/s2p_UxjNRq.tif 328 356", 
        "crop /tmp/s2p_UxjNRq.tif /tmp/s2p_6C8sAY.tif -2 2 324 354"
       ]
      }, 
      {
       "output_type": "stream", 
       "stream": "stdout", 
       "text": [
        "", 
        "imprintf \"%w %h\" '/tmp/prison_1_roi_ref01.tif' > /tmp/s2p_QgCJwM.txt"
       ]
      }, 
      {
       "output_type": "stream", 
       "stream": "stdout", 
       "text": [
        "", 
        "imprintf \"%w %h\" '/tmp/s2p_6C8sAY.tif' > /tmp/s2p_bpAZd6.txt", 
        "plambda /tmp/s2p_6C8sAY.tif \"x[0] x[1] 0.9 * x[3] 0.1 * + x[2] join3\" | iion - /tmp/s2p_W0Ofs9.tif", 
        "qauto /tmp/s2p_W0Ofs9.tif /tmp/s2p_Q6XKAV.png 2> /dev/null"
       ]
      }, 
      {
       "output_type": "stream", 
       "stream": "stdout", 
       "text": [
        "", 
        "qauto /tmp/prison_1_roi_ref01.tif /tmp/s2p_pPGJHM.png 2> /dev/null"
       ]
      }, 
      {
       "output_type": "stream", 
       "stream": "stdout", 
       "text": [
        "", 
        "plambda /tmp/s2p_pPGJHM.png /tmp/s2p_Q6XKAV.png \"dup split + + / *\" | qeasy 0 85 - /tmp/prison_1_roi_color_ref01.tif", 
        "colormesh /tmp/prison_1_roi_color_ref01.tif /tmp/prison_1_height_merged.tif pleiades_data/rpc/toulouse/rpc01.xml /tmp/s2p_D2PrFO.txt /tmp/prison_1_cloud.ply"
       ]
      }, 
      {
       "output_type": "stream", 
       "stream": "stdout", 
       "text": [
        "", 
        "v /tmp/prison_1_roi_ref01.tif /tmp/prison_1_roi_color_ref01.tif /tmp/prison_1_height_merged.tif"
       ]
      }, 
      {
       "output_type": "stream", 
       "stream": "stdout", 
       "text": [
        "", 
        "open /tmp/prison_1_cloud.ply", 
        "gdal_translate -srcwin 20380 18600 320 300 'pleiades_data/images/toulouse/im02.tif' '/tmp/s2p_S3hVMS.tif'", 
        "tiffcp /tmp/s2p_S3hVMS.tif /tmp/s2p_ZdxQ0C.tif 2> /dev/null", 
        "cp /tmp/s2p_ZdxQ0C.tif /tmp/prison_2_roi_ref02.tif", 
        "imprintf \"%w %h\" '/tmp/prison_2_roi_ref02.tif' > /tmp/s2p_s3cgEi.txt", 
        "gdal_translate -srcwin 5096 4650 80 75 'pleiades_data/images/toulouse/im02_color.tif' '/tmp/s2p_2gUUVM.tif'", 
        "tiffcp /tmp/s2p_2gUUVM.tif /tmp/s2p_W49J8W.tif 2> /dev/null"
       ]
      }, 
      {
       "output_type": "stream", 
       "stream": "stdout", 
       "text": [
        "", 
        "imprintf \"%w %h\" '/tmp/s2p_W49J8W.tif' > /tmp/s2p_iGw99A.txt", 
        "zoom_2d /tmp/s2p_W49J8W.tif /tmp/s2p_3JTSP_.tif 320 300", 
        "crop /tmp/s2p_3JTSP_.tif /tmp/s2p_ICUrw1.tif -4 0 320 300"
       ]
      }, 
      {
       "output_type": "stream", 
       "stream": "stdout", 
       "text": [
        "", 
        "imprintf \"%w %h\" '/tmp/prison_2_roi_ref02.tif' > /tmp/s2p_qenbdX.txt", 
        "imprintf \"%w %h\" '/tmp/s2p_ICUrw1.tif' > /tmp/s2p_UyTI2m.txt"
       ]
      }, 
      {
       "output_type": "stream", 
       "stream": "stdout", 
       "text": [
        "", 
        "plambda /tmp/s2p_ICUrw1.tif \"x[0] x[1] 0.9 * x[3] 0.1 * + x[2] join3\" | iion - /tmp/s2p_9cFLbA.tif", 
        "qauto /tmp/s2p_9cFLbA.tif /tmp/s2p_mDwKKH.png 2> /dev/null"
       ]
      }, 
      {
       "output_type": "stream", 
       "stream": "stdout", 
       "text": [
        "", 
        "qauto /tmp/prison_2_roi_ref02.tif /tmp/s2p_GUs3Yj.png 2> /dev/null"
       ]
      }, 
      {
       "output_type": "stream", 
       "stream": "stdout", 
       "text": [
        "", 
        "plambda /tmp/s2p_GUs3Yj.png /tmp/s2p_mDwKKH.png \"dup split + + / *\" | qeasy 0 85 - /tmp/prison_2_roi_color_ref02.tif", 
        "colormesh /tmp/prison_2_roi_color_ref02.tif /tmp/prison_2_height_merged.tif pleiades_data/rpc/toulouse/rpc02.xml /tmp/s2p_JsQ_5R.txt /tmp/prison_2_cloud.ply"
       ]
      }, 
      {
       "output_type": "stream", 
       "stream": "stdout", 
       "text": [
        "", 
        "v /tmp/prison_2_roi_ref02.tif /tmp/prison_2_roi_color_ref02.tif /tmp/prison_2_height_merged.tif"
       ]
      }, 
      {
       "output_type": "stream", 
       "stream": "stdout", 
       "text": [
        "", 
        "open /tmp/prison_2_cloud.ply", 
        "gdal_translate -srcwin 20373 18639 329 349 'pleiades_data/images/toulouse/im03.tif' '/tmp/s2p_xZUcKv.tif'", 
        "tiffcp /tmp/s2p_xZUcKv.tif /tmp/s2p_wyvaJV.tif 2> /dev/null", 
        "cp /tmp/s2p_wyvaJV.tif /tmp/prison_3_roi_ref03.tif", 
        "imprintf \"%w %h\" '/tmp/prison_3_roi_ref03.tif' > /tmp/s2p_EckKXW.txt", 
        "gdal_translate -srcwin 5094 4659 83 88 'pleiades_data/images/toulouse/im03_color.tif' '/tmp/s2p_ZnKsHV.tif'", 
        "tiffcp /tmp/s2p_ZnKsHV.tif /tmp/s2p_jVep7U.tif 2> /dev/null"
       ]
      }, 
      {
       "output_type": "stream", 
       "stream": "stdout", 
       "text": [
        "", 
        "imprintf \"%w %h\" '/tmp/s2p_jVep7U.tif' > /tmp/s2p_zhYGps.txt", 
        "zoom_2d /tmp/s2p_jVep7U.tif /tmp/s2p_5_wDRY.tif 332 352", 
        "crop /tmp/s2p_5_wDRY.tif /tmp/s2p_d_AtU3.tif -3 3 329 349"
       ]
      }, 
      {
       "output_type": "stream", 
       "stream": "stdout", 
       "text": [
        "", 
        "imprintf \"%w %h\" '/tmp/prison_3_roi_ref03.tif' > /tmp/s2p_aGcyqr.txt"
       ]
      }, 
      {
       "output_type": "stream", 
       "stream": "stdout", 
       "text": [
        "", 
        "imprintf \"%w %h\" '/tmp/s2p_d_AtU3.tif' > /tmp/s2p_THvq7g.txt", 
        "plambda /tmp/s2p_d_AtU3.tif \"x[0] x[1] 0.9 * x[3] 0.1 * + x[2] join3\" | iion - /tmp/s2p_ElZCsl.tif", 
        "qauto /tmp/s2p_ElZCsl.tif /tmp/s2p_2FOxcu.png 2> /dev/null"
       ]
      }, 
      {
       "output_type": "stream", 
       "stream": "stdout", 
       "text": [
        "", 
        "qauto /tmp/prison_3_roi_ref03.tif /tmp/s2p_dzNDrt.png 2> /dev/null"
       ]
      }, 
      {
       "output_type": "stream", 
       "stream": "stdout", 
       "text": [
        "", 
        "plambda /tmp/s2p_dzNDrt.png /tmp/s2p_2FOxcu.png \"dup split + + / *\" | qeasy 0 85 - /tmp/prison_3_roi_color_ref03.tif", 
        "colormesh /tmp/prison_3_roi_color_ref03.tif /tmp/prison_3_height_merged.tif pleiades_data/rpc/toulouse/rpc03.xml /tmp/s2p_g1kobX.txt /tmp/prison_3_cloud.ply"
       ]
      }, 
      {
       "output_type": "stream", 
       "stream": "stdout", 
       "text": [
        "", 
        "v /tmp/prison_3_roi_ref03.tif /tmp/prison_3_roi_color_ref03.tif /tmp/prison_3_height_merged.tif"
       ]
      }, 
      {
       "output_type": "stream", 
       "stream": "stdout", 
       "text": [
        "", 
        "open /tmp/prison_3_cloud.ply"
       ]
      }
     ], 
     "prompt_number": 23
    }, 
    {
     "cell_type": "code", 
     "collapsed": true, 
     "input": [], 
     "language": "python", 
     "outputs": []
    }
   ]
  }
 ]
}